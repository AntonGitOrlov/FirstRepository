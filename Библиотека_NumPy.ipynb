{
  "nbformat": 4,
  "nbformat_minor": 0,
  "metadata": {
    "colab": {
      "provenance": []
    },
    "kernelspec": {
      "name": "python3",
      "display_name": "Python 3"
    },
    "language_info": {
      "name": "python"
    }
  },
  "cells": [
    {
      "cell_type": "markdown",
      "source": [
        "# Цель Блокнота"
      ],
      "metadata": {
        "id": "jgqp-YmxmXMl"
      }
    },
    {
      "cell_type": "markdown",
      "source": [
        "Знакомство с библиотекой NumPy\n",
        "* Массивы NumPy\n",
        "* Массивы и функции\n",
        "* Сохранение массивов"
      ],
      "metadata": {
        "id": "cDKN7fkxmaKa"
      }
    },
    {
      "cell_type": "markdown",
      "metadata": {
        "id": "rzKFmzKdb2pT"
      },
      "source": [
        "# Библиотека NumPy"
      ]
    },
    {
      "cell_type": "markdown",
      "source": [
        "Библиотека NumPy (сокращение от Numerical Python - числовой Python) обеспечивает эффективный интерфейс для хранения и работы с многомерными массивами\n",
        "\n",
        "Библиотека также содержит большое количество функций для обработки массивов данных."
      ],
      "metadata": {
        "id": "yo0O7jj7rIPl"
      }
    },
    {
      "cell_type": "code",
      "execution_count": null,
      "metadata": {
        "id": "W1M6Kfo6vrTM"
      },
      "outputs": [],
      "source": [
        "#↓ ключевое слово \"импортируй\"\n",
        "#↓     ↓ название библиотеки\n",
        "#↓     ↓         ↓ сокращенное название чтобы использовать в коде\n",
        "import numpy as np"
      ]
    },
    {
      "cell_type": "markdown",
      "metadata": {
        "id": "yd7w5IPSa6Gp"
      },
      "source": [
        "Каждая уважающая себя Библиотека имеет подробную документацию\n",
        "\n",
        "[NumPy не исключение](https://numpy.org/)\n",
        "\n"
      ]
    },
    {
      "cell_type": "markdown",
      "source": [
        "## Способы создания массивов"
      ],
      "metadata": {
        "id": "JUhkE1jmrWBU"
      }
    },
    {
      "cell_type": "markdown",
      "source": [
        "\n",
        "\n",
        "* `np.zeros(shape)` - создает массив нулей\n",
        "\n",
        "\n",
        "\n",
        "\n",
        "\n",
        "\n"
      ],
      "metadata": {
        "id": "EKQ_TgxJrkPN"
      }
    },
    {
      "cell_type": "code",
      "source": [
        "np.zeros(5)"
      ],
      "metadata": {
        "colab": {
          "base_uri": "https://localhost:8080/"
        },
        "id": "wmonN1y5rfVU",
        "outputId": "11ee353a-3c0b-46fe-d4f0-5712242de8af"
      },
      "execution_count": null,
      "outputs": [
        {
          "output_type": "execute_result",
          "data": {
            "text/plain": [
              "array([0., 0., 0., 0., 0.])"
            ]
          },
          "metadata": {},
          "execution_count": 3
        }
      ]
    },
    {
      "cell_type": "markdown",
      "source": [
        "* `np.ones(shape)` - создает массив единиц"
      ],
      "metadata": {
        "id": "Nc3HrZuSsxBx"
      }
    },
    {
      "cell_type": "code",
      "source": [
        "np.ones((2,3))"
      ],
      "metadata": {
        "colab": {
          "base_uri": "https://localhost:8080/"
        },
        "id": "7dRUFQPmszUT",
        "outputId": "3abeead6-c221-47ee-e1c3-975256680f27"
      },
      "execution_count": null,
      "outputs": [
        {
          "output_type": "execute_result",
          "data": {
            "text/plain": [
              "array([[1., 1., 1.],\n",
              "       [1., 1., 1.]])"
            ]
          },
          "metadata": {},
          "execution_count": 4
        }
      ]
    },
    {
      "cell_type": "markdown",
      "source": [
        "\n",
        "* `np.full(shape, num)` - создает массив значений `num`"
      ],
      "metadata": {
        "id": "SNwh2bFhszmx"
      }
    },
    {
      "cell_type": "code",
      "source": [
        "np.full((5,5),np.pi)"
      ],
      "metadata": {
        "colab": {
          "base_uri": "https://localhost:8080/"
        },
        "id": "oj1wx_q3s0Sp",
        "outputId": "05a38181-3705-49a3-b41c-4079c12dee3f"
      },
      "execution_count": null,
      "outputs": [
        {
          "output_type": "execute_result",
          "data": {
            "text/plain": [
              "array([[3.14159265, 3.14159265, 3.14159265, 3.14159265, 3.14159265],\n",
              "       [3.14159265, 3.14159265, 3.14159265, 3.14159265, 3.14159265],\n",
              "       [3.14159265, 3.14159265, 3.14159265, 3.14159265, 3.14159265],\n",
              "       [3.14159265, 3.14159265, 3.14159265, 3.14159265, 3.14159265],\n",
              "       [3.14159265, 3.14159265, 3.14159265, 3.14159265, 3.14159265]])"
            ]
          },
          "metadata": {},
          "execution_count": 5
        }
      ]
    },
    {
      "cell_type": "markdown",
      "source": [
        "* `np.arange(start, stop, step)` - создает линейную последовательность от `start` до `stop` (не включительно) с шагом `step`"
      ],
      "metadata": {
        "id": "MJ5iaP6Ws0jp"
      }
    },
    {
      "cell_type": "code",
      "source": [
        "np.arange(1, 6, 0.5)"
      ],
      "metadata": {
        "colab": {
          "base_uri": "https://localhost:8080/"
        },
        "id": "Qkb9G3NCs3Dp",
        "outputId": "040de24e-5e57-4bea-e2c2-ee20501f094d"
      },
      "execution_count": null,
      "outputs": [
        {
          "output_type": "execute_result",
          "data": {
            "text/plain": [
              "array([1. , 1.5, 2. , 2.5, 3. , 3.5, 4. , 4.5, 5. , 5.5])"
            ]
          },
          "metadata": {},
          "execution_count": 6
        }
      ]
    },
    {
      "cell_type": "markdown",
      "source": [
        "* `np.linspace(start, stop, num)` - создает равномерно распределенную последовательность из `num` элементов от `start` до `stop` (включительно)  "
      ],
      "metadata": {
        "id": "2q4q8NkXs2Xp"
      }
    },
    {
      "cell_type": "code",
      "source": [
        "np.linspace(1, 6, 11)"
      ],
      "metadata": {
        "colab": {
          "base_uri": "https://localhost:8080/"
        },
        "id": "udi_49ajtLj4",
        "outputId": "cf1acd06-3a8a-4c2a-f392-5ead340a47f8"
      },
      "execution_count": null,
      "outputs": [
        {
          "output_type": "execute_result",
          "data": {
            "text/plain": [
              "array([1. , 1.5, 2. , 2.5, 3. , 3.5, 4. , 4.5, 5. , 5.5, 6. ])"
            ]
          },
          "metadata": {},
          "execution_count": 7
        }
      ]
    },
    {
      "cell_type": "markdown",
      "source": [
        "* `np.random.random(shape)` - последовательность равномерно распределенных случайных чисел"
      ],
      "metadata": {
        "id": "1-Of3VKWvpuW"
      }
    },
    {
      "cell_type": "code",
      "source": [
        "np.random.random((2,2))"
      ],
      "metadata": {
        "colab": {
          "base_uri": "https://localhost:8080/"
        },
        "id": "UsY0Ot91v08p",
        "outputId": "7d34b4b1-4cbc-415c-9b7e-83a3a2bc381b"
      },
      "execution_count": null,
      "outputs": [
        {
          "output_type": "execute_result",
          "data": {
            "text/plain": [
              "array([[0.17397517, 0.51709368],\n",
              "       [0.2157319 , 0.53691475]])"
            ]
          },
          "metadata": {},
          "execution_count": 8
        }
      ]
    },
    {
      "cell_type": "markdown",
      "source": [
        "* `np.random.normal(loc, scale, shape)` - последовательность нормально распределенных случайных чисел с средним `loc`и  разбросом `scale`"
      ],
      "metadata": {
        "id": "b9mkyi3dv4Kd"
      }
    },
    {
      "cell_type": "code",
      "source": [
        "np.random.normal(1, 2, 10)"
      ],
      "metadata": {
        "colab": {
          "base_uri": "https://localhost:8080/"
        },
        "id": "J_elUjf6wJ_d",
        "outputId": "770521b0-fc97-47b7-e5b0-619e66b2a058"
      },
      "execution_count": null,
      "outputs": [
        {
          "output_type": "execute_result",
          "data": {
            "text/plain": [
              "array([ 2.81640799,  3.75219201, -1.31559951,  3.91939288,  0.36174067,\n",
              "       -4.9401936 ,  3.07283813,  0.58393881,  1.48932456,  1.90333713])"
            ]
          },
          "metadata": {},
          "execution_count": 9
        }
      ]
    },
    {
      "cell_type": "markdown",
      "source": [
        "## Аттрибуты массивов numpy"
      ],
      "metadata": {
        "id": "hV-GHwFGyMUP"
      }
    },
    {
      "cell_type": "code",
      "source": [
        "arr = np.ones((2,3))"
      ],
      "metadata": {
        "id": "s9YRNUA0yM8s"
      },
      "execution_count": null,
      "outputs": []
    },
    {
      "cell_type": "markdown",
      "source": [
        "* `ndim` - количество измерений массива"
      ],
      "metadata": {
        "id": "5sS2rP5WyW58"
      }
    },
    {
      "cell_type": "code",
      "source": [
        "arr.ndim"
      ],
      "metadata": {
        "colab": {
          "base_uri": "https://localhost:8080/"
        },
        "id": "Kb4ZMQeayVrM",
        "outputId": "3237c62b-2060-4dfe-8cea-6f0bb0c3c21b"
      },
      "execution_count": null,
      "outputs": [
        {
          "output_type": "execute_result",
          "data": {
            "text/plain": [
              "2"
            ]
          },
          "metadata": {},
          "execution_count": 11
        }
      ]
    },
    {
      "cell_type": "markdown",
      "source": [
        "* `shape` - форма массива (размеры по измерениям)"
      ],
      "metadata": {
        "id": "KUSapfIVyeas"
      }
    },
    {
      "cell_type": "code",
      "source": [
        "arr.shape"
      ],
      "metadata": {
        "colab": {
          "base_uri": "https://localhost:8080/"
        },
        "id": "DaCDepiKya2s",
        "outputId": "bcadd250-8d49-471b-d7b3-4226149b6f0d"
      },
      "execution_count": null,
      "outputs": [
        {
          "output_type": "execute_result",
          "data": {
            "text/plain": [
              "(2, 3)"
            ]
          },
          "metadata": {},
          "execution_count": 12
        }
      ]
    },
    {
      "cell_type": "markdown",
      "source": [
        "* `size` - общий размер массива"
      ],
      "metadata": {
        "id": "W0Lg5Xu2yj9k"
      }
    },
    {
      "cell_type": "code",
      "source": [
        "arr.size"
      ],
      "metadata": {
        "colab": {
          "base_uri": "https://localhost:8080/"
        },
        "id": "3wY2ZknLynUk",
        "outputId": "7ede14be-4131-4f15-d8b9-cb8ca49afc56"
      },
      "execution_count": null,
      "outputs": [
        {
          "output_type": "execute_result",
          "data": {
            "text/plain": [
              "6"
            ]
          },
          "metadata": {},
          "execution_count": 13
        }
      ]
    },
    {
      "cell_type": "markdown",
      "source": [
        "## Метод reshape"
      ],
      "metadata": {
        "id": "ofqK2mgfywcc"
      }
    },
    {
      "cell_type": "markdown",
      "source": [
        "изменяет форму массива"
      ],
      "metadata": {
        "id": "UkAts2YJy1Z8"
      }
    },
    {
      "cell_type": "code",
      "source": [
        "arr = np.arange(12)\n",
        "arr"
      ],
      "metadata": {
        "colab": {
          "base_uri": "https://localhost:8080/"
        },
        "id": "WNeq0kz2yzIU",
        "outputId": "c82a0d07-3153-41c7-ef72-235b41951198"
      },
      "execution_count": null,
      "outputs": [
        {
          "output_type": "execute_result",
          "data": {
            "text/plain": [
              "array([ 0,  1,  2,  3,  4,  5,  6,  7,  8,  9, 10, 11])"
            ]
          },
          "metadata": {},
          "execution_count": 14
        }
      ]
    },
    {
      "cell_type": "code",
      "source": [
        "arr.reshape((2, 6))"
      ],
      "metadata": {
        "colab": {
          "base_uri": "https://localhost:8080/"
        },
        "id": "B2AEsTUuy8bc",
        "outputId": "3fc55a1c-90d9-4083-bcf3-fb8e625088e7"
      },
      "execution_count": null,
      "outputs": [
        {
          "output_type": "execute_result",
          "data": {
            "text/plain": [
              "array([[ 0,  1,  2,  3,  4,  5],\n",
              "       [ 6,  7,  8,  9, 10, 11]])"
            ]
          },
          "metadata": {},
          "execution_count": 15
        }
      ]
    },
    {
      "cell_type": "code",
      "source": [
        "arr.reshape((6, 2))"
      ],
      "metadata": {
        "colab": {
          "base_uri": "https://localhost:8080/"
        },
        "id": "n-yxrbSby_NT",
        "outputId": "f5876359-28e8-457b-82d7-82e62ac6f0e1"
      },
      "execution_count": null,
      "outputs": [
        {
          "output_type": "execute_result",
          "data": {
            "text/plain": [
              "array([[ 0,  1],\n",
              "       [ 2,  3],\n",
              "       [ 4,  5],\n",
              "       [ 6,  7],\n",
              "       [ 8,  9],\n",
              "       [10, 11]])"
            ]
          },
          "metadata": {},
          "execution_count": 16
        }
      ]
    },
    {
      "cell_type": "code",
      "source": [
        "arr.reshape((3, 4))"
      ],
      "metadata": {
        "colab": {
          "base_uri": "https://localhost:8080/"
        },
        "id": "88XLvOO7zBYU",
        "outputId": "764c372c-963b-4631-d8d1-8d5b2bf2ce6a"
      },
      "execution_count": null,
      "outputs": [
        {
          "output_type": "execute_result",
          "data": {
            "text/plain": [
              "array([[ 0,  1,  2,  3],\n",
              "       [ 4,  5,  6,  7],\n",
              "       [ 8,  9, 10, 11]])"
            ]
          },
          "metadata": {},
          "execution_count": 17
        }
      ]
    },
    {
      "cell_type": "markdown",
      "source": [
        "## Индексация массива"
      ],
      "metadata": {
        "id": "PDM-__f1waEm"
      }
    },
    {
      "cell_type": "markdown",
      "source": [
        "![image.png](data:image/png;base64,iVBORw0KGgoAAAANSUhEUgAAAh0AAADpCAYAAACA/IXBAAAbm0lEQVR4nO3de1zUVf7H8feYGtrYD0mt8dJ6CTSzDJXNC26iZra6YrmWXX6WSa1tltvF1MqsNTO1n5ZUttti4i/XzNhSs5TUUlHr54XKC4GJJgre8JIjkFzO7w+1TJlhIDnDwOv5eMzjAcN3mMOH75x5f8853+84jDFGAAAA5ayavxsAAACqBkIHAACwgtABAACsIHQAAAArCB0AAMAKQgcAALCC0AEAAKwgdAAAACsIHQAAwApCBwAAsILQAQAArCB0AAAAKwgdAADACkIHAACwgtABAACsIHQAAAArCB0AAMAKQgcAALCC0AEAAKwgdAAAACuq+7sBgcbk7dZXCz/SR8u+VPqPF6nWxdWkWo3UPqq3et/cSWHBNfzdxKrBHNO29ydo+ML2mvXuHbrS4e8GVWb5Opq2TkuXLNHyxETNXbxR7hbdNLBnJ0Wy36Oqoy8qFUY6fFYo97Z5evyWm/X0pgYa+MK/NO+9/1V8fLxmvTpM4Qdmqe/vh+iVVXtV4O+mVmYFP2r3xkWa/lBf3TBoij4/dEJ5xt+NqsQK9mvDzCd028hPdKLlbXpyxiKlZe5ResKz+lODVE0fdKNadhikcR99Jzf/B1Ql9EVlwkiHT4zy0z/Qo/0f0ro+s7X8xT5qWP2XOOsIulJdh0/VfD2oyD4PyL14psb94QoReC+EfGWtnqM5X6Zrz5ZNSlqXrw6DO0qbtsrt76ZVduawNrz6iJ4+/oDmJPSU66x9Xq5GanZdB7VrepluHfq2/n7rTu2Om6XYIdfJyY6PSom+6IIwKNnJrSYuuqmR8y4Tl3rC42ZF2cvMqFZOo9DHzKLMkxYbWJkVmOO7N5sNGzaZren7zfH8ImMKU0xcL5eRZNQrzqQW+ruNlVG+2b9klGkTHWdSTxZ53qxot1n0UPtT/wtnHzNh7UHjZWsggNEXXQhMr5SoUIdXz9WUBbvk7Nlb3a6q7XFLR8gNuvOhG6XtHyh2QYpOWmxl5XWRnE3aqH37cLVu1kDO6hxGW5Gfpo9nfKtBo29TWA0vNXc0Vvehd6qTJLkXa+KkhdqezxgzKiP6oguB0FESk62vE1foO0l1whqpnteKBcnV/CrVVYYS31isTTl0vghMJmuzli1P04dj7tWQV1Yoq8DTvuxQ7as7q08bpyTJvXyNkrPy7TUUQEAhdJQkd4fWLf5WkkvXtmwop9eNL1Jwkxa6WpK2rNH/bT9ho4XABWfyTijbvUMbv1ioWSPHa+aGY543DqorV8M6p752f6NN3/9op5EAAg6howRFe1K0aouvy4Qcql7rktPB5AelZBwTYx0IRI56v1N4q9MR29lQrpCa/m0QgEqBs1e8KpJ7z/faLElqqOub1itFSstW+oHjMhJnsSDgOEKi9PyKVer+VZZqte6oTmGe1zLJnanUzVmnvna2VburLrXTSAABh9DhVZHycnKUV6bHZmlzaqbcaiW6YASeagpyhatX//AStjM6uXOrks5kjh5dFO7iQmEAisf0ilcFOnogU0f83QygojIHlTT3Pa2VJHXWw4/2Vai3s10AVGmEDgBlZJS//WNNf2OtpCaKGjdBT0Q1YDoRgEeEDgBlU7BLi6a9qQVup0LvG6/YJ7uqPokDgBeEDgBl4Fba3Eka/VaqQu97XR/G3qNrnBf5u1EAKjhCh1fVFdygoeqW6bFOXXZpLVbqohIq0MFV0zXsr5+o0d/+pY8IHAB8ROjwqpqCatdWkCQpU1/vOqQinx9bRw1ddU8/FqgsCuXeOkdPxbwtPR6nf0+5Xa0JHAgYh7RiVAc5HI4SbrdrZlrZzluEdxyIe1VNzsZX6VpJWT5tb1SQe+L0Jw5epuYN6rCoDpWIUUHmpxr751hpdIISBoerLp8/AaAUCB0lqHbFVbqhlVOJ3/ly3Q2jvOws7ZQk5/Xq3LoeoQOVhFFB1jKNv2eijo6c6eEj7I0K3Efkrh6s4CAGUVERhajzmE+U+bfCErarqTr1L7bSoqqG0FGSOi30+25Npe+26HjGQR010qUek8RJ7dv1vbIkOXtE6YYmXDoalYNxb9bsZ+KlUXM0o1dTBRX7GsjWqvFPaMtdb+jRtt4/pQjwj2oKCm4gV7C/21F1cThSEsfluqH/HxUqyZ38nX447mVVh8lW2voUSU3Vo19HNeMiSagEjPtbvfPoZP1w98sae7OnwCGp6JB2ba6n5i5WMgEoHqGjRNVVv+sdGn5TE+m7RC3ecMjjh7iZrK/0n3lb5Iz6q0bd2lJcDBoBr2C3Fj837VTg6NHY69Co2bdNSSeaqkkwC0sBFI/pFV/UDteDr09Uct9H9J93P9eDXW9X83NHMcxhbfz3bM3Pj9a4yUPVsS4dLwJcwR4tHz9Mg5Pq62HXe3o12cu25pi+/3SePmo9VS8zwgfAA0KHTxwKChuk2I+qa+zDzytmrNGUEf3UzlVbDkkmb6++in9eg/8ZopcSX9RDHUJYQFpeCn7U7rWfasHa0+cTrf1EC9f00vDIxp6H/VF65qi+mfG4+v/9U7klvbjelwfVVef+jRXM/wFVAX1RmTiMMZ5mC1AMk7dXm5Ys0sIVSUo54FCtGvnKLbxCbXtHa2C/SIUFM6lyYRXpxxXPqlWPiT6ettxeTy1foknd65Vzuyq3orSZuqXlUCWW6lFtNGzREr3ZtxGhG5UQfdGFQOgAAABWsJAUAABYQegAAABWEDoAAIAVhA4AAGAFoQMAAFhB6AAAAFYQOgAAgBWEDgAAYAWXQS8Dh+P86y1yjTV7qL//UHtURez3Fw4jHQAAwApCBwAAsILQAQAArCB0AAAAKwgdAADACkIHAACwgtABAACsIHQAAAArCB0AAMAKQgcAALCC0AEAAKwgdAAAACsIHQAAwApCBwAAsILQAQAArCB0AAAAKwgdAADACkIHAACwgtABAACsIHQAAAArCB0AAMAKQgcAALCC0AEAAKwgdAAAACsIHQAAwApCBwAAsILQAQAArCB0AAAAKwgdAADACkIHAACwgtABAACsIHQAAAArqvu7ARVBbm6uVq9eLUlq3bq1GjduXC7Pk5aWpi1btujyyy9Xly5dyuU5AtGaNWu0f/9+tWnTRmFhYeXyHHv27NG2bdt0ySWXqF27dqpVq1a5PE+gsVl7SeratSu1h9+d6YubN2+uli1blss+efjwYaWkpGj//v3q1q2bQkJCLvhzBCQDM3LkSCPp51tERISJjY01GRkZxW5/9rZnbp6kpqaa2NhYExER8avt4+Pjy+vPCSjx8fHF1j41NdXjY3ytf0ZGRrG1HzlyZHn9OQElISGh2NonJyd7fExpah8fH2+io6N/tW1MTEx5/TmAT5KTk8/bhydMmGCSkpJMTk5OsY/xdb/Pzs42S5cuNTExMee9tjz97qqG0GGK36HOfoM69w3Qlx0wKSnpvA733J0Q3msfHR1tkpKSfHrM2ZKTk88Lkr6GxKrEW43KWvvU1FRqjwptwoQJXvvlhISE8wJCSftxdna2iY2N9brfezuQqkroAYzxGg7ODh/Z2dnGGO87YEZGxnkp19Pvg/c3vrOPjs8edfJU/4yMDJ9+X3R0tL/+3ArFW+d7dq3O7iw91T47O9un2hO24W9Lly71aT89O3R72u9zcnLOG631dPM0cl7VEDrMqTcrXzrgMzuipx3w3OFqT79jwoQJ7ICnnan9uVMgxd0SEhKMMcV3AElJST79Dmr/i5ycHJ9rf2Y6sLifJScn+/Q7Ro4cSe1RIRQ39eepv8jJyfEYInz5HTExMcWOGlZVhI5zJCcn+xRAzr15G1rzZa4cp2pf0hBlST/39Bhq752ntUfnhobS1r6kuXLAnzytPTo3NHjq10sKGmdGx/ELQocHvszRlXTzND8I73JyckxCQoJPR8/ebgkJCbzoS+lC1T42NpbaI6CUtA7Pl1txawDxa4SOEmRnZ/u0RqO4Izw63d/G13UCxb3wqf1vc2bqpbS1P3f9DRBofJkmL+4Ak9FU3xA6fFSaUY8zaw9wYZSmE4iNjfV3cysVT2uYPNWeUT1UBqmpqT6P9sXExLDflwKhoxR8CR4sGCofvqw4J3CUD1+CB7VHZZORkVFi8CBwlB6ho5S8DffT8ZYvb8P9nIJcvrydFsgFv1BZeQvcERERTOOWgcMYYwSfHT58WL1799b69et/dX9ERIRWrlzJJZ7LUW5urm688cZia79kyRIuM1zO+vfvrwULFpx3f0ZGRrl9dADgby+99JKeeeaZ8+5PSkri4yzKgA98K6WQkBANHz78vPunTZtG4ChntWrV0ujRo8+7f/To0QQOC0aOHHnefbGxsQQOVGrDhg07777o6GgCRxkROsqgb9++ioiI+Pn76OhotWvXzo8tqjpuueUWRUdH//x9RESEunXr5scWVR1dunRRTEzMz99HRESof//+fmwRUP5CQkIUGxv7q/uef/55P7Um8DG9Uka5ubkaN26cgoOD9dhjjzHKYVFubq6mTZumo0eP6oUXXqD2FuXm5mr+/PlavXq1Jk2axAgTqozExES9+eabmjx5crl9InNVQOgAAABWML0CAACsIHQAAAArCB0AAMAKQgcAALCC0AEAAKwgdAAAACsIHQAAwApCBwAAsILQAQAArCB0AAAAKwgdAADACkIHAACwgtABAACsIHQAAAArCB0AAMCK6v54UofD4Y+nBQAAkowxfnleRjoAAIAVhA4AAGAFoQMAAFhB6AAAAFYQOgAAgBV+OXvFG3+tqK0qvJ05RO3LF7X3L0/1p/blj9r7T0U7W5SRDgAAYAWhAwAAWEHoAAAAVhA6AACAFYQOAABgBaEDAABYQegAAABWEDoAAIAVhA4AAGAFoQMAAFhB6AAAAFYQOgAAgBWEDgAAYAWhAwAAWEHoAAAAVhA6AACAFYQOAABgBaEDAABYQegAAABWEDoAAIAVhA4AAGAFoQMAAFhB6AAAAFYQOgAAgBWEDgAAYAWhAwAAWEHoAAAAVhA6AACAFYQOAABgBaEDAABYQegAgEBUsEcrXvpv3T9vp4y/2wL4qLq/GxDQzDFte3+Chi9sr1nv3qErHf5uUGWWr6Np67R0yRItT0zU3MUb5W7RTQN7dlJkVG/1vrmTwoJr+LuRlVS+jqZvUtIXq7X6/7ZqX26+cnOLVCvkSl37+0hFduuiDs3r0plYlaP0hJc07Jnlahb3jIwkup8LxSjny1d069RD6jOgp2649ipd2dClK4KD5JBk8o5q/8ED2rt9i75e97kW7YjQ5H/8t8Jq8B/wifEDSR5vASH/mPlhw0Lz2l8ijVMy6hVnUgv93SjfBGTt8/eZ9XGPmKh+o0zckvUmdXemyczcY9K/XmZmj73NtJCMWtxmnvswxRwv8ndjPQvE2hcdTzEfPjfE3DdhvlmbesDk/lzfk+ZI6idmyh1tjdTK9HtxsdlxvMCfTS1RoNXem6LMheahUKeRXKZXXIqp6N1PYNW+0BxbPsa4vLxeT92cJvS+f5r1B/L83WCvKlrtOTjxSb6yVs/RnC/TtWfLJiWty1eHwR2lTVvl9nfTKjtzWBtefURPH39AcxJ6ylX9rKMJVyM1u66D2jW9TLcOfVt/v3WndsfNUuyQ6+TkoOO3y9+u90e8qG13vay3ezQ+ZySjhoLDbtET0wqUvukuzXj2DqV8/5Y+nnGXwoIofrkyB/T5ay9rxna3pDr+bk3V5IzUX6ZM0DP3RapJEKsUSoPQ4ZNqqtO0g6Jqt1WtPw/Xi03qy1ktVTNXv61/+LtplVqBDiRO1pCk3kqYf07gOMPxX7pmyFhN3bBJf5qxUbNGPK3Qq2dpTKd6DDf/JkY5Gz/Qiyv36uoa/9LsSx7U4I4Nz+swHK7OunPQ9ZoxPknbZ72mGYO6a+rNLmpfbgr148Z5mlNwg+5xrdW7Wf5uT+V18T1TNL+3U7t27dT3afuUW62ufndNK7VsE65OHdupOdO5ZULo8MlFcjZpo/ZNzrqryG+NqTry0/TxjG81aPRo7/OljsbqPvROdZqxUevcizVx0kL9ef4Q5lh/k5+0Z1uytuz4Qlt2fKH5ay5W669Gq2Ptc2t6iS5v6jr9dYqWbdil3Jtdqm27uVVFzjeaNfGw7v6f3lr672n+bk2ldlHDdup1d3dd6u+GVDKMC6HCMlmbtWx5mj4cc6+GvLJCWQWe1ug7VPvqzurTxilJci9fo+SsfHsNrZQuVrNuAzQk1CnJqVY3hat5LUKcf+Uo7b1Z+uHBBxQVwvEiAhOhAxWWyTuhbPcObfxioWaNHK+ZG4553jiorlwNT89vu7/Rpu9/tNPISsuhGs0H6s2V67Xh681aN/lmNSg2c7i1JzX99NfXqU+nFqplsZVVh1F++seavrWXnuzVkOkrBCxCByosR73fKbzVqdELORvKFVLTvw2qcqopyNVK7ds2VXBx62kkKWe71n2SKkly3jRId3aszxtieSjYpUWvb1H3ET3losAIYIzRocJyhETp+RWr1P2rLNVq3VGdwrysFHBnKnXz6VV1zrZqdxUzseUvT7uXzFP8FrcU+oBemzZY15235gO/XZ52L3xHSZFDNPnKIH83BvhNCB2owKopyBWuXv3DS9jO6OTOrUo6kzl6dFG4i5Xl5atQ7q3zNG50nLK6jdR7bzyj21v/F6Mc5cAcWKm3Pm+j4VOb0mHbZnKUtekLfbrkM61OO6wi5Ss316nmkT31x9491TkshP9JKVEvBD5zUElz39NaSVJnPfxoX4Vy5sqFZXKUlZKqzB+PKCvzsA7vWKpZn12kHs8u1MZ+kVwNtryYTCVOWqyrHnlZzdmn7TqSrP+8kKis6wbo7hFTdL/z1Nulydurr+Kf1+D2serxxnS9dNf1qutp+hHnIXQgwBnlb/9Y099YK6mJosZN0BNRDTjivtAKT+jI/kz9cCRfNWvW1CVXXK9I1wdakLBAF9esoQF9O6mZ8yJ/t7KSKdCBxLc0OzRGcd6mFlEuclZnKXjpC7r3ykt+1Z84ghqp44MT9NbOW9Xj3qHKK+CChKVB6EBgK9ilRdPe1AK3U6H3jVfsk11Vnxf/hVe9vlpH9VHrs+4acOcgDZg9RgPv7KoXop5W/FtP6dYwplguFHNgmSbNbqKn464VKzlscqj2tYP18acNFX5O4Phlk/rqev9QRb8xVLNGjFN4+3g92pZ1ZL7g7BUEMLfS5k7S6LdSFXrf6/ow9h5dw9G2PdUvU9shYzX1ofZyf/6SBvQdo/fTc/zdqsrBHNDn0/4j12MD1JrLylvmUPX6rdSu6aVeArRDNZq2U/fr6kruZXp91lod5KN+fULoQIAq0MFV0zXsr5+o0d/+pY8IHP7haKxef7lXnSVp+wzFPPautubR+/42hTry5RzNqTdUD7YPYeSooqpRX82vayTJre3xS/TVwQJ/tyggEDoQgArl3jpHT8W8LT0ep39PuV2tCRx+4lDN0A7645mrwS6M1/+uPShiR9mZI+v01ttSzP0ddCmJo+JyXKzal1586usj3ys9K8+/7QkQrOlAgDEqyPxUY/8cK41OUMLgcFaOl4ufdPCb1VqzU2rWpava1r/Y86Znrga7xS0pRau3ZCq/ewNxKbcyMIf05Yx/aHvkcN2dd0BZnj7QLeeofjrzEHe29mVlnR4Rqak69UPk5DVRNuaYts2P1fTF+3XlwBF6vO9VPq6n2ae92XmSnOXbvkqA0IEAYlSQtUzj75mooyNnelgxblTgPiJ39WAF85HTZWSU880/dXfko/rMLTlvmq6kj4arrU8X/jqinXsPK08idJSFOaSUlcv1TuK7esenB2TpsxGRajTizPcDFZc6W/eHsfS0LIq2J+ixO8YqUZI+q6OO372o7pf60o9coUaXUXNf0CsjYBj3Zs1+Jl4aNUczPJ6ilq1V4x/T7FQWNJbdT9qzcbU+c5/6zr3ua313yMsH6BXkye0+M7TcVDe0acLxXllVa6X7l2bKGOP1Vpgap16SJJd6xaWo8OefvU/guCCaKOqBKF3tLWib4zqYcfTU160iFN6M05p9QehAQDDub/XOo5P1w90va+zNTeVxQX/RIe3aXE/NXXS8ZVdTV4Reo1aS1KK3/vbWCPVp4nncwuxL1ZffHjn1jbOz/nRDIzoWBKRqja/WH8L/otlbkvXJ8zfJ5WWayhzcqi+W7JDkVJt7eqm9TyMioEqo+Ap2a/Fz004Fjh6Nvc4Jmn3blHSiqZoEs7C07KqpzjWRim7TX1Pem6Opd3u78FGOti9bqEVuSWqiqDEP6dZQjvgQoGq31cDhJ5Wweq+8nzaUo+0fz9W7RyS1elivPBAh9nrfsKYDFVvBHi0fP0yDk+rrYdd7ejXZy7bmmL7/dJ4+aj1VL3PJ6N/EEdJNT8/6ToMfGq06b47X0A6XF9NZGBVkrtCMKQvl1umLsz3aSXUpPQJWbYXd9aQG/PUlTWz2osb0Km5UtVDurfM18eWFcoc+oLgPxqhXA95KfWb8QJLHW0DIP2Z+WDnV9HOebrdzgJmyKsPkFvm7YSULqNoXHTFfTx9onF7afP6trun8WrL5yd9tL0ZA1d4YY0yBOZ76oXmuXzczcOwss/TrdHPgeL4xxpii3GyTvn6uGRXVxMjZ2dz32nLzQ26hn9vrXWDV3pMik388w6x97ZfXhbPfdLP+8El/N8yrQKt90fEUkzBqoIkeO9us3JppjucXGWMKTe7hdLN+3jjTr0Vd06LfBPPxjmOmonf7Fa32jtONssrh8DJPZr85PijSjyueVaseE+XpDLZfa6+nli/RpO71yrldpRdItS9Km6lbWg49tZLcZ200bNESvdm3UYW7qFIg1f5XCo4ofcMafZGUpC+/WKa5izfK7WyvPnf2VLeOf1DULd3UzlW7wtX7XJ7qX6Fr/7NDWjGqt3pM3uh9M9cYLff5jAt7ArL2JkdZmxL1wfzFWrpssRZvPK4W3f6kvn+IVKcePXVz51AFB8CpyRWt9oSOKoba+w+196+K1vlWJdTefypa7StWHAYAAJUWoQMAAFhB6AAAAFYQOgAAgBWEDgAAYAWhAwAAWEHoAAAAVhA6AACAFYQOAABgBaEDAABYQegAAABWEDoAAIAVhA4AAGAFoQMAAFhB6AAAAFYQOgAAgBWEDgAAYAWhAwAAWEHoAAAAVhA6AACAFYQOAABgBaEDAABYQegAAABWEDoAAIAVhA4AAGAFoQMAAFhB6AAAAFYQOgAAgBWEDgAAYAWhAwAAWEHoAAAAVhA6AACAFQ5jjLH+pA6H7acEAACn+eGtXxIjHQAAwBJCBwAAsILQAQAArCB0AAAAKwgdAADAiur+eFJ/rZoFAAD+w0gHAACwgtABAACsIHQAAAArCB0AAMAKQgcAALCC0AEAAKwgdAAAACsIHQAAwApCBwAAsILQAQAArCB0AAAAKwgdAADACkIHAACw4v8BCvD2F72rzUoAAAAASUVORK5CYII=)"
      ],
      "metadata": {
        "id": "sJJVjrm6wh_O"
      }
    },
    {
      "cell_type": "code",
      "source": [
        "arr = np.arange(1, 6)\n",
        "arr"
      ],
      "metadata": {
        "colab": {
          "base_uri": "https://localhost:8080/"
        },
        "id": "DnZSkve6wjMl",
        "outputId": "f6d11e53-1af7-43a3-c93e-7d7a08703e6c"
      },
      "execution_count": null,
      "outputs": [
        {
          "output_type": "execute_result",
          "data": {
            "text/plain": [
              "array([1, 2, 3, 4, 5])"
            ]
          },
          "metadata": {},
          "execution_count": 18
        }
      ]
    },
    {
      "cell_type": "code",
      "source": [
        "arr[0]"
      ],
      "metadata": {
        "colab": {
          "base_uri": "https://localhost:8080/"
        },
        "id": "Wkh5gEnewo-l",
        "outputId": "f49c4f17-ba80-4d6f-d084-5327db3182e9"
      },
      "execution_count": null,
      "outputs": [
        {
          "output_type": "execute_result",
          "data": {
            "text/plain": [
              "1"
            ]
          },
          "metadata": {},
          "execution_count": 19
        }
      ]
    },
    {
      "cell_type": "code",
      "source": [
        "arr[-1]"
      ],
      "metadata": {
        "colab": {
          "base_uri": "https://localhost:8080/"
        },
        "id": "eVXsYuInwrX1",
        "outputId": "4f06ea6e-6599-4a3c-8c60-eaac1a6fecc2"
      },
      "execution_count": null,
      "outputs": [
        {
          "output_type": "execute_result",
          "data": {
            "text/plain": [
              "5"
            ]
          },
          "metadata": {},
          "execution_count": 20
        }
      ]
    },
    {
      "cell_type": "markdown",
      "source": [
        "многомерные массивы"
      ],
      "metadata": {
        "id": "B9ZCrg19w4PO"
      }
    },
    {
      "cell_type": "code",
      "source": [
        "arr = np.arange(1, 7).reshape((2,3))\n",
        "arr"
      ],
      "metadata": {
        "colab": {
          "base_uri": "https://localhost:8080/"
        },
        "id": "adSH6QhKw7Ot",
        "outputId": "ed695c00-4be3-461e-a6a7-3cf99a47c38b"
      },
      "execution_count": null,
      "outputs": [
        {
          "output_type": "execute_result",
          "data": {
            "text/plain": [
              "array([[1, 2, 3],\n",
              "       [4, 5, 6]])"
            ]
          },
          "metadata": {},
          "execution_count": 21
        }
      ]
    },
    {
      "cell_type": "code",
      "source": [
        "arr[1,2]"
      ],
      "metadata": {
        "colab": {
          "base_uri": "https://localhost:8080/"
        },
        "id": "1JiY1BSrxF99",
        "outputId": "8167f003-e3e1-4acb-f7c2-f65c64199e2a"
      },
      "execution_count": null,
      "outputs": [
        {
          "output_type": "execute_result",
          "data": {
            "text/plain": [
              "6"
            ]
          },
          "metadata": {},
          "execution_count": 22
        }
      ]
    },
    {
      "cell_type": "markdown",
      "source": [
        "## Срезы массивов"
      ],
      "metadata": {
        "id": "tZMWjzE1xMoE"
      }
    },
    {
      "cell_type": "markdown",
      "source": [
        "\n",
        "\n",
        "```\n",
        "arr_name [ start : stop : step ]\n",
        "```\n",
        "\n"
      ],
      "metadata": {
        "id": "FDTyUGSYxRC0"
      }
    },
    {
      "cell_type": "code",
      "source": [
        "x = np.arange(9)\n",
        "x"
      ],
      "metadata": {
        "colab": {
          "base_uri": "https://localhost:8080/"
        },
        "id": "IK0lDiH4xaNX",
        "outputId": "dd66eb81-d890-4586-b6d1-2990290515bd"
      },
      "execution_count": null,
      "outputs": [
        {
          "output_type": "execute_result",
          "data": {
            "text/plain": [
              "array([0, 1, 2, 3, 4, 5, 6, 7, 8])"
            ]
          },
          "metadata": {},
          "execution_count": 23
        }
      ]
    },
    {
      "cell_type": "markdown",
      "source": [
        "От и до (не включительно)"
      ],
      "metadata": {
        "id": "2tK2nHzwxoZP"
      }
    },
    {
      "cell_type": "code",
      "source": [
        "x[1:4]"
      ],
      "metadata": {
        "colab": {
          "base_uri": "https://localhost:8080/"
        },
        "id": "iTHjTj7_xilN",
        "outputId": "5bf460cc-2a1a-47b9-9590-4adbc8fa92d3"
      },
      "execution_count": null,
      "outputs": [
        {
          "output_type": "execute_result",
          "data": {
            "text/plain": [
              "array([1, 2, 3])"
            ]
          },
          "metadata": {},
          "execution_count": 24
        }
      ]
    },
    {
      "cell_type": "markdown",
      "source": [
        "Каждый четный элемент"
      ],
      "metadata": {
        "id": "-RXHsfFyxrhe"
      }
    },
    {
      "cell_type": "code",
      "source": [
        "x[::2]"
      ],
      "metadata": {
        "colab": {
          "base_uri": "https://localhost:8080/"
        },
        "id": "xNwmlwsrxeqF",
        "outputId": "ca71810e-da9b-45a2-feaa-e52d90684eb9"
      },
      "execution_count": null,
      "outputs": [
        {
          "output_type": "execute_result",
          "data": {
            "text/plain": [
              "array([0, 2, 4, 6, 8])"
            ]
          },
          "metadata": {},
          "execution_count": 25
        }
      ]
    },
    {
      "cell_type": "markdown",
      "source": [
        "Развернуть массив"
      ],
      "metadata": {
        "id": "k3ZjeRx7xuJl"
      }
    },
    {
      "cell_type": "code",
      "source": [
        "x[::-1]"
      ],
      "metadata": {
        "colab": {
          "base_uri": "https://localhost:8080/"
        },
        "id": "25GiqyuYxlgV",
        "outputId": "e790cbec-08e1-4d4a-edd3-562a3764bcca"
      },
      "execution_count": null,
      "outputs": [
        {
          "output_type": "execute_result",
          "data": {
            "text/plain": [
              "array([8, 7, 6, 5, 4, 3, 2, 1, 0])"
            ]
          },
          "metadata": {},
          "execution_count": 26
        }
      ]
    },
    {
      "cell_type": "markdown",
      "source": [
        "## Объединение массивов"
      ],
      "metadata": {
        "id": "rC7TSXc0zlbH"
      }
    },
    {
      "cell_type": "code",
      "source": [
        "a = np.arange(4)\n",
        "b = np.arange(4, 8)\n",
        "a, b"
      ],
      "metadata": {
        "colab": {
          "base_uri": "https://localhost:8080/"
        },
        "id": "fpY6JXB70ZdU",
        "outputId": "cd22fc88-8263-4c08-f096-24af7587894c"
      },
      "execution_count": null,
      "outputs": [
        {
          "output_type": "execute_result",
          "data": {
            "text/plain": [
              "(array([0, 1, 2, 3]), array([4, 5, 6, 7]))"
            ]
          },
          "metadata": {},
          "execution_count": 27
        }
      ]
    },
    {
      "cell_type": "markdown",
      "source": [
        "* `concatenate(tup, axis)` - объединение по производной оси"
      ],
      "metadata": {
        "id": "Vy5REWjaz0eF"
      }
    },
    {
      "cell_type": "code",
      "source": [
        "np.concatenate((a, b))"
      ],
      "metadata": {
        "colab": {
          "base_uri": "https://localhost:8080/"
        },
        "id": "EZUEn87Bzop1",
        "outputId": "794ae282-277c-4552-92e2-72f1d1a738b7"
      },
      "execution_count": null,
      "outputs": [
        {
          "output_type": "execute_result",
          "data": {
            "text/plain": [
              "array([0, 1, 2, 3, 4, 5, 6, 7])"
            ]
          },
          "metadata": {},
          "execution_count": 28
        }
      ]
    },
    {
      "cell_type": "markdown",
      "source": [
        "* `hstack(tup)` - объединение по горизонтали (ось 0)"
      ],
      "metadata": {
        "id": "OXyhpQe30nbz"
      }
    },
    {
      "cell_type": "code",
      "source": [
        "np.hstack((a, b))"
      ],
      "metadata": {
        "colab": {
          "base_uri": "https://localhost:8080/"
        },
        "id": "ZO6ZGKcX0nzb",
        "outputId": "e529f683-0fdd-466d-a7b2-67b744ca7309"
      },
      "execution_count": null,
      "outputs": [
        {
          "output_type": "execute_result",
          "data": {
            "text/plain": [
              "array([0, 1, 2, 3, 4, 5, 6, 7])"
            ]
          },
          "metadata": {},
          "execution_count": 29
        }
      ]
    },
    {
      "cell_type": "markdown",
      "source": [
        "* `vstack(tup)` - объединение по вертикали (ось 1)"
      ],
      "metadata": {
        "id": "LhsEt5k30oGj"
      }
    },
    {
      "cell_type": "code",
      "source": [
        "np.vstack((a, b))"
      ],
      "metadata": {
        "colab": {
          "base_uri": "https://localhost:8080/"
        },
        "id": "XvoEVxc-0oZj",
        "outputId": "975af440-5dd8-4b57-b6ba-410217b89897"
      },
      "execution_count": null,
      "outputs": [
        {
          "output_type": "execute_result",
          "data": {
            "text/plain": [
              "array([[0, 1, 2, 3],\n",
              "       [4, 5, 6, 7]])"
            ]
          },
          "metadata": {},
          "execution_count": 30
        }
      ]
    },
    {
      "cell_type": "markdown",
      "source": [
        "# Векторизованные функции"
      ],
      "metadata": {
        "id": "f25s8w6607N8"
      }
    },
    {
      "cell_type": "code",
      "source": [
        "a = np.arange(4)\n",
        "a"
      ],
      "metadata": {
        "colab": {
          "base_uri": "https://localhost:8080/"
        },
        "id": "4fzB5fy61U2D",
        "outputId": "bb55d9d8-ffb7-4b94-e2fd-6d3b1c42c2ea"
      },
      "execution_count": null,
      "outputs": [
        {
          "output_type": "execute_result",
          "data": {
            "text/plain": [
              "array([0, 1, 2, 3])"
            ]
          },
          "metadata": {},
          "execution_count": 31
        }
      ]
    },
    {
      "cell_type": "markdown",
      "source": [
        "## Универсальные функции"
      ],
      "metadata": {
        "id": "p2wCSRaV1pTD"
      }
    },
    {
      "cell_type": "markdown",
      "source": [
        "* `+ np.add` Сложение\n",
        "* `- np.subtract` Вычитание\n",
        "* `- np.negative` Отрицание\n",
        "* `* np.multiply` Умножение\n",
        "* `/ np.divide` Деление с плавающей точкой\n",
        "* `// np.floor_divide` Целочисленное деление\n",
        "* `% np.power` Возведение в степень\n",
        "* `** np.mod` Остаток от числа"
      ],
      "metadata": {
        "id": "-Q8k9Krh1ECc"
      }
    },
    {
      "cell_type": "code",
      "source": [
        "a+5"
      ],
      "metadata": {
        "colab": {
          "base_uri": "https://localhost:8080/"
        },
        "id": "PAiMdTFq1Z27",
        "outputId": "657cfff4-8734-46fe-da9a-224fc9bcf1d9"
      },
      "execution_count": null,
      "outputs": [
        {
          "output_type": "execute_result",
          "data": {
            "text/plain": [
              "array([5, 6, 7, 8])"
            ]
          },
          "metadata": {},
          "execution_count": 32
        }
      ]
    },
    {
      "cell_type": "code",
      "source": [
        "a+a*2"
      ],
      "metadata": {
        "colab": {
          "base_uri": "https://localhost:8080/"
        },
        "id": "jDM7SodH1ekD",
        "outputId": "1ee5c84f-4893-43cf-a478-fe9de494dd32"
      },
      "execution_count": null,
      "outputs": [
        {
          "output_type": "execute_result",
          "data": {
            "text/plain": [
              "array([0, 3, 6, 9])"
            ]
          },
          "metadata": {},
          "execution_count": 33
        }
      ]
    },
    {
      "cell_type": "code",
      "source": [
        "a/2"
      ],
      "metadata": {
        "colab": {
          "base_uri": "https://localhost:8080/"
        },
        "id": "SigTsNqE1hm8",
        "outputId": "94dd1ffe-bf91-4cd8-9e65-90f49a8c42df"
      },
      "execution_count": null,
      "outputs": [
        {
          "output_type": "execute_result",
          "data": {
            "text/plain": [
              "array([0. , 0.5, 1. , 1.5])"
            ]
          },
          "metadata": {},
          "execution_count": 34
        }
      ]
    },
    {
      "cell_type": "code",
      "source": [
        "a//3"
      ],
      "metadata": {
        "colab": {
          "base_uri": "https://localhost:8080/"
        },
        "id": "deuR1w9t1jYj",
        "outputId": "0a21a060-606e-4abf-c1b0-6cac13b73be9"
      },
      "execution_count": null,
      "outputs": [
        {
          "output_type": "execute_result",
          "data": {
            "text/plain": [
              "array([0, 0, 0, 1])"
            ]
          },
          "metadata": {},
          "execution_count": 35
        }
      ]
    },
    {
      "cell_type": "markdown",
      "source": [
        "## Простые функции"
      ],
      "metadata": {
        "id": "m1lDxMw61oKm"
      }
    },
    {
      "cell_type": "markdown",
      "source": [
        "* `np.abs()` - модуль\n",
        "* `np.sin()`, `np.cos()`, `np.tan()` - тригонометрические функции\n",
        "* `np.exp()`, `np.exp2()`, `np.power()` - показательные функции\n",
        "* `np.log()`, `np.log2()`, `np.log10()` - функции, обратные показательным"
      ],
      "metadata": {
        "id": "g3rpBqLa1uaL"
      }
    },
    {
      "cell_type": "code",
      "source": [
        "np.exp2(a)"
      ],
      "metadata": {
        "colab": {
          "base_uri": "https://localhost:8080/"
        },
        "id": "0n5aHpBk14Sj",
        "outputId": "c15a5f80-8299-4653-c020-5f9b79338b90"
      },
      "execution_count": null,
      "outputs": [
        {
          "output_type": "execute_result",
          "data": {
            "text/plain": [
              "array([1., 2., 4., 8.])"
            ]
          },
          "metadata": {},
          "execution_count": 36
        }
      ]
    },
    {
      "cell_type": "code",
      "source": [
        "np.log(1+a)"
      ],
      "metadata": {
        "colab": {
          "base_uri": "https://localhost:8080/"
        },
        "id": "YQm6NPSz18hb",
        "outputId": "807f6dbb-c5ce-40cd-ccbb-56db7a862166"
      },
      "execution_count": null,
      "outputs": [
        {
          "output_type": "execute_result",
          "data": {
            "text/plain": [
              "array([0.        , 0.69314718, 1.09861229, 1.38629436])"
            ]
          },
          "metadata": {},
          "execution_count": 37
        }
      ]
    },
    {
      "cell_type": "markdown",
      "source": [
        "## Функции для агрегирования"
      ],
      "metadata": {
        "id": "xH2_khn_2CGD"
      }
    },
    {
      "cell_type": "markdown",
      "source": [
        "* `np.sum()` - сумма элементов\n",
        "* `np.prod()` - произведение элементов\n",
        "* `np.min()`, `np.max()` - минимум и максимум\n",
        "* `np.argmin()`, `np.argmax()` - индекс минимума и максимума\n",
        "* `np.mean()` - среднее\n",
        "* `np.std()` - среднеквадратическое отклонение"
      ],
      "metadata": {
        "id": "ml7_icpw2Lf8"
      }
    },
    {
      "cell_type": "code",
      "source": [
        "arr = np.random.random(10).reshape((2,5))\n",
        "arr"
      ],
      "metadata": {
        "colab": {
          "base_uri": "https://localhost:8080/"
        },
        "id": "iVqerKEu2J1j",
        "outputId": "050ff717-1ae6-433f-df55-b4a64bd3d25a"
      },
      "execution_count": null,
      "outputs": [
        {
          "output_type": "execute_result",
          "data": {
            "text/plain": [
              "array([[0.76914761, 0.84571707, 0.23559343, 0.12495505, 0.47041932],\n",
              "       [0.29745106, 0.38383923, 0.44292082, 0.1544734 , 0.29457745]])"
            ]
          },
          "metadata": {},
          "execution_count": 38
        }
      ]
    },
    {
      "cell_type": "code",
      "source": [
        "np.sum(arr)"
      ],
      "metadata": {
        "colab": {
          "base_uri": "https://localhost:8080/"
        },
        "id": "KtQXCQyj2Xhz",
        "outputId": "4db38712-24c3-473a-9472-1a7a5a97d687"
      },
      "execution_count": null,
      "outputs": [
        {
          "output_type": "execute_result",
          "data": {
            "text/plain": [
              "4.019094439229834"
            ]
          },
          "metadata": {},
          "execution_count": 39
        }
      ]
    },
    {
      "cell_type": "code",
      "source": [
        "np.sum(arr, axis = 0)"
      ],
      "metadata": {
        "colab": {
          "base_uri": "https://localhost:8080/"
        },
        "id": "0EU1PUsd2hTb",
        "outputId": "5624f14c-60f6-4242-9f60-309f37a12be9"
      },
      "execution_count": null,
      "outputs": [
        {
          "output_type": "execute_result",
          "data": {
            "text/plain": [
              "array([1.06659866, 1.2295563 , 0.67851426, 0.27942845, 0.76499677])"
            ]
          },
          "metadata": {},
          "execution_count": 40
        }
      ]
    },
    {
      "cell_type": "code",
      "source": [
        "np.sum(arr, axis = 1)"
      ],
      "metadata": {
        "colab": {
          "base_uri": "https://localhost:8080/"
        },
        "id": "NZQ5wrhQ2d-L",
        "outputId": "9dbbc532-bfbe-4185-e929-028933d6453f"
      },
      "execution_count": null,
      "outputs": [
        {
          "output_type": "execute_result",
          "data": {
            "text/plain": [
              "array([2.44583247, 1.57326197])"
            ]
          },
          "metadata": {},
          "execution_count": 41
        }
      ]
    },
    {
      "cell_type": "markdown",
      "source": [
        "# Маскирование"
      ],
      "metadata": {
        "id": "6fQ1225O2vvz"
      }
    },
    {
      "cell_type": "markdown",
      "source": [
        "* `< np.less` Меньше\n",
        "* `> np.greater` Больше\n",
        "* `<= np.less_equal` Меньше или равно\n",
        "* `>= np.greater_equal` Больше или равно\n",
        "* `!= np.not_equal` Не равно\n",
        "* `== np.equal` Равно"
      ],
      "metadata": {
        "id": "t-eltPpz204t"
      }
    },
    {
      "cell_type": "code",
      "source": [
        "arr = np.arange(5)\n",
        "arr"
      ],
      "metadata": {
        "colab": {
          "base_uri": "https://localhost:8080/"
        },
        "id": "GcunKO-M2yhz",
        "outputId": "4939966f-1bbf-49f5-bb71-f6af4c926d44"
      },
      "execution_count": null,
      "outputs": [
        {
          "output_type": "execute_result",
          "data": {
            "text/plain": [
              "array([0, 1, 2, 3, 4])"
            ]
          },
          "metadata": {},
          "execution_count": 42
        }
      ]
    },
    {
      "cell_type": "code",
      "source": [
        "arr > 2"
      ],
      "metadata": {
        "colab": {
          "base_uri": "https://localhost:8080/"
        },
        "id": "R91v9PtJ2-ky",
        "outputId": "afab9cbb-c360-48ff-da90-dd63c596986a"
      },
      "execution_count": null,
      "outputs": [
        {
          "output_type": "execute_result",
          "data": {
            "text/plain": [
              "array([False, False, False,  True,  True])"
            ]
          },
          "metadata": {},
          "execution_count": 43
        }
      ]
    },
    {
      "cell_type": "code",
      "source": [
        "(arr * 2) == (arr ** 2)"
      ],
      "metadata": {
        "colab": {
          "base_uri": "https://localhost:8080/"
        },
        "id": "7O5alSBp3C-M",
        "outputId": "b01e0329-76af-4063-b59c-a13b33f9962f"
      },
      "execution_count": null,
      "outputs": [
        {
          "output_type": "execute_result",
          "data": {
            "text/plain": [
              "array([ True, False,  True, False, False])"
            ]
          },
          "metadata": {},
          "execution_count": 44
        }
      ]
    },
    {
      "cell_type": "markdown",
      "source": [
        "## Наложение маски"
      ],
      "metadata": {
        "id": "OyjYwAFn3l-L"
      }
    },
    {
      "cell_type": "code",
      "source": [
        "arr[arr > 2]"
      ],
      "metadata": {
        "colab": {
          "base_uri": "https://localhost:8080/"
        },
        "id": "EEtteANw3pwi",
        "outputId": "8d7dd379-3a94-41d5-f1e3-004c8ee6bad6"
      },
      "execution_count": null,
      "outputs": [
        {
          "output_type": "execute_result",
          "data": {
            "text/plain": [
              "array([3, 4])"
            ]
          },
          "metadata": {},
          "execution_count": 45
        }
      ]
    },
    {
      "cell_type": "markdown",
      "source": [
        "# Сортировка массивов"
      ],
      "metadata": {
        "id": "e_02A76n4MOS"
      }
    },
    {
      "cell_type": "code",
      "source": [
        "arr = np.random.random(10)\n",
        "arr"
      ],
      "metadata": {
        "colab": {
          "base_uri": "https://localhost:8080/"
        },
        "id": "QqthCT364S1r",
        "outputId": "442f8169-03b2-4ad2-a2db-62c1e01c9b06"
      },
      "execution_count": null,
      "outputs": [
        {
          "output_type": "execute_result",
          "data": {
            "text/plain": [
              "array([0.01090617, 0.82543039, 0.97332201, 0.84347725, 0.90538344,\n",
              "       0.21353937, 0.92532684, 0.8355777 , 0.41113161, 0.66048403])"
            ]
          },
          "metadata": {},
          "execution_count": 46
        }
      ]
    },
    {
      "cell_type": "markdown",
      "source": [
        "* `np.sort()` - сортирует массив"
      ],
      "metadata": {
        "id": "H2jjWGKk4Qkd"
      }
    },
    {
      "cell_type": "code",
      "source": [
        "np.sort(arr)"
      ],
      "metadata": {
        "colab": {
          "base_uri": "https://localhost:8080/"
        },
        "id": "M9AeaMjH4ObD",
        "outputId": "40a7fd5a-2a3c-4499-fac1-ff33038bf670"
      },
      "execution_count": null,
      "outputs": [
        {
          "output_type": "execute_result",
          "data": {
            "text/plain": [
              "array([0.01090617, 0.21353937, 0.41113161, 0.66048403, 0.82543039,\n",
              "       0.8355777 , 0.84347725, 0.90538344, 0.92532684, 0.97332201])"
            ]
          },
          "metadata": {},
          "execution_count": 47
        }
      ]
    },
    {
      "cell_type": "markdown",
      "source": [
        "* `np.argsort()` - возвращает индексы отсортированных элементов (сам массив не трогает)"
      ],
      "metadata": {
        "id": "RPiyfj2B4eDy"
      }
    },
    {
      "cell_type": "code",
      "source": [
        "np.argsort(arr)"
      ],
      "metadata": {
        "colab": {
          "base_uri": "https://localhost:8080/"
        },
        "id": "Qw2K9-CS4gdl",
        "outputId": "eba6eccc-7bad-4c9d-b468-943ed1429b4d"
      },
      "execution_count": null,
      "outputs": [
        {
          "output_type": "execute_result",
          "data": {
            "text/plain": [
              "array([0, 5, 8, 9, 1, 7, 3, 4, 6, 2])"
            ]
          },
          "metadata": {},
          "execution_count": 48
        }
      ]
    },
    {
      "cell_type": "markdown",
      "source": [
        "# Загрузка и сохранение массивов"
      ],
      "metadata": {
        "id": "pExyiFAE4uGr"
      }
    },
    {
      "cell_type": "markdown",
      "source": [
        "Форматы файлов:\n",
        "* `.npy` - бинарный формат одного массива\n",
        "* `.npz` - Zip архив с множеством `.npy` - файлов. Позволяет хранить множество массивов в одном файле.\n",
        "* `.txt` - текстовый формат\n",
        "\n",
        "Функции для загрузки и сохранения:\n",
        "* `save()` - сохранение массива в файл .npy\n",
        "* `savez()` - сохранение массива в файл .npz\n",
        "* `load()` - загрузка файла .npy или .npz\n",
        "* `savetxt()` - сохранение массива в файл .txt\n",
        "* `loadtxt()` - загрузка файла .txt"
      ],
      "metadata": {
        "id": "QHbXkvKX41ca"
      }
    },
    {
      "cell_type": "code",
      "source": [
        "arr1 = np.arange(5)\n",
        "arr2 = arr1 + 10"
      ],
      "metadata": {
        "id": "IEeId-Aj406S"
      },
      "execution_count": null,
      "outputs": []
    },
    {
      "cell_type": "code",
      "source": [
        "np.save('arr1.npy', arr1)"
      ],
      "metadata": {
        "id": "Vf3AnZjO5RCS"
      },
      "execution_count": null,
      "outputs": []
    },
    {
      "cell_type": "code",
      "source": [
        "load1 = np.load('arr1.npy')\n",
        "load1"
      ],
      "metadata": {
        "colab": {
          "base_uri": "https://localhost:8080/"
        },
        "id": "xMplyuyx5UaZ",
        "outputId": "5d91e291-fe82-4688-ef1e-1ae38b3f0fb7"
      },
      "execution_count": null,
      "outputs": [
        {
          "output_type": "execute_result",
          "data": {
            "text/plain": [
              "array([0, 1, 2, 3, 4])"
            ]
          },
          "metadata": {},
          "execution_count": 51
        }
      ]
    },
    {
      "cell_type": "code",
      "source": [
        "np.savez('arr12.npz', a=arr1, b=arr2)"
      ],
      "metadata": {
        "id": "bu-8PKmG5XzP"
      },
      "execution_count": null,
      "outputs": []
    },
    {
      "cell_type": "code",
      "source": [
        "load12 = np.load('arr12.npz')\n",
        "load12"
      ],
      "metadata": {
        "colab": {
          "base_uri": "https://localhost:8080/"
        },
        "id": "lzRkY3Yd5Y-E",
        "outputId": "3c4a03c7-1bd9-45b2-e3e6-64b9090a952b"
      },
      "execution_count": null,
      "outputs": [
        {
          "output_type": "execute_result",
          "data": {
            "text/plain": [
              "NpzFile 'arr12.npz' with keys: a, b"
            ]
          },
          "metadata": {},
          "execution_count": 53
        }
      ]
    },
    {
      "cell_type": "code",
      "source": [
        "load12.files"
      ],
      "metadata": {
        "colab": {
          "base_uri": "https://localhost:8080/"
        },
        "id": "7zEgLPAb5yIw",
        "outputId": "96547dd0-3907-453f-e3d2-bba6308e308d"
      },
      "execution_count": null,
      "outputs": [
        {
          "output_type": "execute_result",
          "data": {
            "text/plain": [
              "['a', 'b']"
            ]
          },
          "metadata": {},
          "execution_count": 54
        }
      ]
    },
    {
      "cell_type": "code",
      "source": [
        "load12['a']"
      ],
      "metadata": {
        "colab": {
          "base_uri": "https://localhost:8080/"
        },
        "id": "FGQJvPA-5eLC",
        "outputId": "7eca2b00-e477-4008-bf6c-c6c47da0faa0"
      },
      "execution_count": null,
      "outputs": [
        {
          "output_type": "execute_result",
          "data": {
            "text/plain": [
              "array([0, 1, 2, 3, 4])"
            ]
          },
          "metadata": {},
          "execution_count": 55
        }
      ]
    },
    {
      "cell_type": "code",
      "source": [
        "load12['b']"
      ],
      "metadata": {
        "colab": {
          "base_uri": "https://localhost:8080/"
        },
        "id": "XG9HTcbc5gSB",
        "outputId": "c0ce5c13-5193-4b96-9711-d4bd6c431974"
      },
      "execution_count": null,
      "outputs": [
        {
          "output_type": "execute_result",
          "data": {
            "text/plain": [
              "array([10, 11, 12, 13, 14])"
            ]
          },
          "metadata": {},
          "execution_count": 56
        }
      ]
    },
    {
      "cell_type": "markdown",
      "source": [
        "# Модули в составе numpy"
      ],
      "metadata": {
        "id": "sVc8ALXL6wPV"
      }
    },
    {
      "cell_type": "markdown",
      "source": [
        "* `numpy.random` - случайные числа\n",
        "* `numpy.linalg` - линейная алгебра\n",
        "* `numpy.fft` - дискретное преобразование Фурье\n",
        "* `numpy.polinomial` - полиномы"
      ],
      "metadata": {
        "id": "BNl8cASk6yla"
      }
    }
  ]
}