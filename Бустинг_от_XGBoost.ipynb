{
  "nbformat": 4,
  "nbformat_minor": 0,
  "metadata": {
    "kernelspec": {
      "display_name": "Python 3",
      "language": "python",
      "name": "python3"
    },
    "language_info": {
      "codemirror_mode": {
        "name": "ipython",
        "version": 3
      },
      "file_extension": ".py",
      "mimetype": "text/x-python",
      "name": "python",
      "nbconvert_exporter": "python",
      "pygments_lexer": "ipython3",
      "version": "3.7.4"
    },
    "toc": {
      "base_numbering": 1,
      "nav_menu": {},
      "number_sections": true,
      "sideBar": true,
      "skip_h1_title": false,
      "title_cell": "Table of Contents",
      "title_sidebar": "Contents",
      "toc_cell": false,
      "toc_position": {
        "height": "calc(100% - 180px)",
        "left": "10px",
        "top": "150px",
        "width": "165px"
      },
      "toc_section_display": true,
      "toc_window_display": true
    },
    "colab": {
      "provenance": []
    }
  },
  "cells": [
    {
      "cell_type": "markdown",
      "source": [
        "# Цель Блокнота"
      ],
      "metadata": {
        "id": "jgqp-YmxmXMl"
      }
    },
    {
      "cell_type": "markdown",
      "source": [
        "Смотрим на Бустинг XGBoost"
      ],
      "metadata": {
        "id": "cDKN7fkxmaKa"
      }
    },
    {
      "cell_type": "markdown",
      "metadata": {
        "id": "czKick3H1Aqp"
      },
      "source": [
        "# Import библиотек"
      ]
    },
    {
      "cell_type": "code",
      "metadata": {
        "id": "Eu6aerLw1Aqq"
      },
      "source": [
        "import pandas as pd # Библиотека Pandas для работы с табличными данными\n",
        "import numpy as np # библиотека Numpy для операций линейной алгебры и прочего\n",
        "import matplotlib.pyplot as plt # библиотека Matplotlib для визуализации\n",
        "import seaborn as sns # библиотека seaborn для визуализации\n",
        "import numpy as np # библиотека Numpy для операций линейной алгебры и прочего\n"
      ],
      "execution_count": null,
      "outputs": []
    },
    {
      "cell_type": "code",
      "source": [
        "plt.style.use('dark_background') # для модных черных рисунков"
      ],
      "metadata": {
        "id": "lzOU4Ux8usHc"
      },
      "execution_count": null,
      "outputs": []
    },
    {
      "cell_type": "code",
      "source": [
        "import warnings\n",
        "warnings.filterwarnings('ignore')"
      ],
      "metadata": {
        "id": "kG_F8idxU__n"
      },
      "execution_count": null,
      "outputs": []
    },
    {
      "cell_type": "markdown",
      "metadata": {
        "id": "hSA1kgiKvrTG"
      },
      "source": [
        "# Набор данных\n",
        "\n"
      ]
    },
    {
      "cell_type": "markdown",
      "metadata": {
        "id": "9WAiW__nvrTK"
      },
      "source": [
        "Набор данных представляет собой статистику признаков автомобилей на вторичном рынке в Молдавии.\n",
        "\n",
        "Набор включает ряд категориальных и численных значений, составляющих одну запись (строку). Число записей можно найти как число строк.\n",
        "\n",
        "Каждый столбец в записи — это отдельный признак.\n",
        "\n",
        "Среди указанных признаков приведен целевой для задачи предсказания (регрессии) - цена автомобиля.\n",
        "\n",
        " Также среди признак есть целевой для задачи классификации - тип трансмиссии.\n",
        "\n",
        " Последняя задача может быть рассмотрена, например, как пример задачи на заполнение пропусков (если продавец не указал соответствующий признак)."
      ]
    },
    {
      "cell_type": "markdown",
      "source": [
        "# Загрузка данных"
      ],
      "metadata": {
        "id": "BWSBYJ2dZ8LJ"
      }
    },
    {
      "cell_type": "markdown",
      "source": [
        "Загружаем наши данные из файла по прямой ссылке на GitHub"
      ],
      "metadata": {
        "id": "Ea3-kYWG7fWJ"
      }
    },
    {
      "cell_type": "code",
      "source": [
        "DF = pd.read_csv('https://raw.githubusercontent.com/dayekb/mpti_ml/main/data/cars_moldova_no_dup_no_outliers.csv', delimiter = ',')\n",
        "DF"
      ],
      "metadata": {
        "colab": {
          "base_uri": "https://localhost:8080/",
          "height": 423
        },
        "id": "k10GNV_lFpP6",
        "outputId": "d1987762-5947-4436-eb1a-611fcdfc59d1"
      },
      "execution_count": null,
      "outputs": [
        {
          "output_type": "execute_result",
          "data": {
            "text/plain": [
              "             Make         Model  Year      Style  Distance  \\\n",
              "0          Toyota         Prius  2011  Hatchback  195000.0   \n",
              "1         Renault  Grand Scenic  2014  Universal  135000.0   \n",
              "2         Renault        Laguna  2012  Universal  110000.0   \n",
              "3            Opel         Astra  2006  Universal  200000.0   \n",
              "4        Mercedes          Vito  2000   Microvan  300000.0   \n",
              "...           ...           ...   ...        ...       ...   \n",
              "32480  Volkswagen        Passat  2016      Sedan   88000.0   \n",
              "32481  Land Rover    Freelander  2002  Crossover  225000.0   \n",
              "32482       Dacia     Logan Mcv  2015  Universal   89000.0   \n",
              "32483       Mazda             6  2006      Combi  370000.0   \n",
              "32484     Renault  Grand Scenic  2006    Minivan  300000.0   \n",
              "\n",
              "       Engine_capacity(cm3)     Fuel_type Transmission  Price(euro)  \n",
              "0                    1800.0        Hybrid    Automatic       7750.0  \n",
              "1                    1500.0        Diesel       Manual       8550.0  \n",
              "2                    1500.0        Diesel       Manual       6550.0  \n",
              "3                    1600.0  Metan/Propan       Manual       4100.0  \n",
              "4                    2200.0        Diesel       Manual       3490.0  \n",
              "...                     ...           ...          ...          ...  \n",
              "32480                1800.0        Petrol    Automatic      11500.0  \n",
              "32481                1800.0  Metan/Propan       Manual       4400.0  \n",
              "32482                1500.0        Diesel       Manual       7000.0  \n",
              "32483                2000.0        Diesel       Manual       4000.0  \n",
              "32484                1500.0        Diesel       Manual       4000.0  \n",
              "\n",
              "[32485 rows x 9 columns]"
            ],
            "text/html": [
              "\n",
              "  <div id=\"df-bbc1ebcd-30ff-4e57-82aa-8f6aeaf48672\" class=\"colab-df-container\">\n",
              "    <div>\n",
              "<style scoped>\n",
              "    .dataframe tbody tr th:only-of-type {\n",
              "        vertical-align: middle;\n",
              "    }\n",
              "\n",
              "    .dataframe tbody tr th {\n",
              "        vertical-align: top;\n",
              "    }\n",
              "\n",
              "    .dataframe thead th {\n",
              "        text-align: right;\n",
              "    }\n",
              "</style>\n",
              "<table border=\"1\" class=\"dataframe\">\n",
              "  <thead>\n",
              "    <tr style=\"text-align: right;\">\n",
              "      <th></th>\n",
              "      <th>Make</th>\n",
              "      <th>Model</th>\n",
              "      <th>Year</th>\n",
              "      <th>Style</th>\n",
              "      <th>Distance</th>\n",
              "      <th>Engine_capacity(cm3)</th>\n",
              "      <th>Fuel_type</th>\n",
              "      <th>Transmission</th>\n",
              "      <th>Price(euro)</th>\n",
              "    </tr>\n",
              "  </thead>\n",
              "  <tbody>\n",
              "    <tr>\n",
              "      <th>0</th>\n",
              "      <td>Toyota</td>\n",
              "      <td>Prius</td>\n",
              "      <td>2011</td>\n",
              "      <td>Hatchback</td>\n",
              "      <td>195000.0</td>\n",
              "      <td>1800.0</td>\n",
              "      <td>Hybrid</td>\n",
              "      <td>Automatic</td>\n",
              "      <td>7750.0</td>\n",
              "    </tr>\n",
              "    <tr>\n",
              "      <th>1</th>\n",
              "      <td>Renault</td>\n",
              "      <td>Grand Scenic</td>\n",
              "      <td>2014</td>\n",
              "      <td>Universal</td>\n",
              "      <td>135000.0</td>\n",
              "      <td>1500.0</td>\n",
              "      <td>Diesel</td>\n",
              "      <td>Manual</td>\n",
              "      <td>8550.0</td>\n",
              "    </tr>\n",
              "    <tr>\n",
              "      <th>2</th>\n",
              "      <td>Renault</td>\n",
              "      <td>Laguna</td>\n",
              "      <td>2012</td>\n",
              "      <td>Universal</td>\n",
              "      <td>110000.0</td>\n",
              "      <td>1500.0</td>\n",
              "      <td>Diesel</td>\n",
              "      <td>Manual</td>\n",
              "      <td>6550.0</td>\n",
              "    </tr>\n",
              "    <tr>\n",
              "      <th>3</th>\n",
              "      <td>Opel</td>\n",
              "      <td>Astra</td>\n",
              "      <td>2006</td>\n",
              "      <td>Universal</td>\n",
              "      <td>200000.0</td>\n",
              "      <td>1600.0</td>\n",
              "      <td>Metan/Propan</td>\n",
              "      <td>Manual</td>\n",
              "      <td>4100.0</td>\n",
              "    </tr>\n",
              "    <tr>\n",
              "      <th>4</th>\n",
              "      <td>Mercedes</td>\n",
              "      <td>Vito</td>\n",
              "      <td>2000</td>\n",
              "      <td>Microvan</td>\n",
              "      <td>300000.0</td>\n",
              "      <td>2200.0</td>\n",
              "      <td>Diesel</td>\n",
              "      <td>Manual</td>\n",
              "      <td>3490.0</td>\n",
              "    </tr>\n",
              "    <tr>\n",
              "      <th>...</th>\n",
              "      <td>...</td>\n",
              "      <td>...</td>\n",
              "      <td>...</td>\n",
              "      <td>...</td>\n",
              "      <td>...</td>\n",
              "      <td>...</td>\n",
              "      <td>...</td>\n",
              "      <td>...</td>\n",
              "      <td>...</td>\n",
              "    </tr>\n",
              "    <tr>\n",
              "      <th>32480</th>\n",
              "      <td>Volkswagen</td>\n",
              "      <td>Passat</td>\n",
              "      <td>2016</td>\n",
              "      <td>Sedan</td>\n",
              "      <td>88000.0</td>\n",
              "      <td>1800.0</td>\n",
              "      <td>Petrol</td>\n",
              "      <td>Automatic</td>\n",
              "      <td>11500.0</td>\n",
              "    </tr>\n",
              "    <tr>\n",
              "      <th>32481</th>\n",
              "      <td>Land Rover</td>\n",
              "      <td>Freelander</td>\n",
              "      <td>2002</td>\n",
              "      <td>Crossover</td>\n",
              "      <td>225000.0</td>\n",
              "      <td>1800.0</td>\n",
              "      <td>Metan/Propan</td>\n",
              "      <td>Manual</td>\n",
              "      <td>4400.0</td>\n",
              "    </tr>\n",
              "    <tr>\n",
              "      <th>32482</th>\n",
              "      <td>Dacia</td>\n",
              "      <td>Logan Mcv</td>\n",
              "      <td>2015</td>\n",
              "      <td>Universal</td>\n",
              "      <td>89000.0</td>\n",
              "      <td>1500.0</td>\n",
              "      <td>Diesel</td>\n",
              "      <td>Manual</td>\n",
              "      <td>7000.0</td>\n",
              "    </tr>\n",
              "    <tr>\n",
              "      <th>32483</th>\n",
              "      <td>Mazda</td>\n",
              "      <td>6</td>\n",
              "      <td>2006</td>\n",
              "      <td>Combi</td>\n",
              "      <td>370000.0</td>\n",
              "      <td>2000.0</td>\n",
              "      <td>Diesel</td>\n",
              "      <td>Manual</td>\n",
              "      <td>4000.0</td>\n",
              "    </tr>\n",
              "    <tr>\n",
              "      <th>32484</th>\n",
              "      <td>Renault</td>\n",
              "      <td>Grand Scenic</td>\n",
              "      <td>2006</td>\n",
              "      <td>Minivan</td>\n",
              "      <td>300000.0</td>\n",
              "      <td>1500.0</td>\n",
              "      <td>Diesel</td>\n",
              "      <td>Manual</td>\n",
              "      <td>4000.0</td>\n",
              "    </tr>\n",
              "  </tbody>\n",
              "</table>\n",
              "<p>32485 rows × 9 columns</p>\n",
              "</div>\n",
              "    <div class=\"colab-df-buttons\">\n",
              "\n",
              "  <div class=\"colab-df-container\">\n",
              "    <button class=\"colab-df-convert\" onclick=\"convertToInteractive('df-bbc1ebcd-30ff-4e57-82aa-8f6aeaf48672')\"\n",
              "            title=\"Convert this dataframe to an interactive table.\"\n",
              "            style=\"display:none;\">\n",
              "\n",
              "  <svg xmlns=\"http://www.w3.org/2000/svg\" height=\"24px\" viewBox=\"0 -960 960 960\">\n",
              "    <path d=\"M120-120v-720h720v720H120Zm60-500h600v-160H180v160Zm220 220h160v-160H400v160Zm0 220h160v-160H400v160ZM180-400h160v-160H180v160Zm440 0h160v-160H620v160ZM180-180h160v-160H180v160Zm440 0h160v-160H620v160Z\"/>\n",
              "  </svg>\n",
              "    </button>\n",
              "\n",
              "  <style>\n",
              "    .colab-df-container {\n",
              "      display:flex;\n",
              "      gap: 12px;\n",
              "    }\n",
              "\n",
              "    .colab-df-convert {\n",
              "      background-color: #E8F0FE;\n",
              "      border: none;\n",
              "      border-radius: 50%;\n",
              "      cursor: pointer;\n",
              "      display: none;\n",
              "      fill: #1967D2;\n",
              "      height: 32px;\n",
              "      padding: 0 0 0 0;\n",
              "      width: 32px;\n",
              "    }\n",
              "\n",
              "    .colab-df-convert:hover {\n",
              "      background-color: #E2EBFA;\n",
              "      box-shadow: 0px 1px 2px rgba(60, 64, 67, 0.3), 0px 1px 3px 1px rgba(60, 64, 67, 0.15);\n",
              "      fill: #174EA6;\n",
              "    }\n",
              "\n",
              "    .colab-df-buttons div {\n",
              "      margin-bottom: 4px;\n",
              "    }\n",
              "\n",
              "    [theme=dark] .colab-df-convert {\n",
              "      background-color: #3B4455;\n",
              "      fill: #D2E3FC;\n",
              "    }\n",
              "\n",
              "    [theme=dark] .colab-df-convert:hover {\n",
              "      background-color: #434B5C;\n",
              "      box-shadow: 0px 1px 3px 1px rgba(0, 0, 0, 0.15);\n",
              "      filter: drop-shadow(0px 1px 2px rgba(0, 0, 0, 0.3));\n",
              "      fill: #FFFFFF;\n",
              "    }\n",
              "  </style>\n",
              "\n",
              "    <script>\n",
              "      const buttonEl =\n",
              "        document.querySelector('#df-bbc1ebcd-30ff-4e57-82aa-8f6aeaf48672 button.colab-df-convert');\n",
              "      buttonEl.style.display =\n",
              "        google.colab.kernel.accessAllowed ? 'block' : 'none';\n",
              "\n",
              "      async function convertToInteractive(key) {\n",
              "        const element = document.querySelector('#df-bbc1ebcd-30ff-4e57-82aa-8f6aeaf48672');\n",
              "        const dataTable =\n",
              "          await google.colab.kernel.invokeFunction('convertToInteractive',\n",
              "                                                    [key], {});\n",
              "        if (!dataTable) return;\n",
              "\n",
              "        const docLinkHtml = 'Like what you see? Visit the ' +\n",
              "          '<a target=\"_blank\" href=https://colab.research.google.com/notebooks/data_table.ipynb>data table notebook</a>'\n",
              "          + ' to learn more about interactive tables.';\n",
              "        element.innerHTML = '';\n",
              "        dataTable['output_type'] = 'display_data';\n",
              "        await google.colab.output.renderOutput(dataTable, element);\n",
              "        const docLink = document.createElement('div');\n",
              "        docLink.innerHTML = docLinkHtml;\n",
              "        element.appendChild(docLink);\n",
              "      }\n",
              "    </script>\n",
              "  </div>\n",
              "\n",
              "\n",
              "<div id=\"df-36c275ef-c662-48ef-9068-05584197f0bf\">\n",
              "  <button class=\"colab-df-quickchart\" onclick=\"quickchart('df-36c275ef-c662-48ef-9068-05584197f0bf')\"\n",
              "            title=\"Suggest charts\"\n",
              "            style=\"display:none;\">\n",
              "\n",
              "<svg xmlns=\"http://www.w3.org/2000/svg\" height=\"24px\"viewBox=\"0 0 24 24\"\n",
              "     width=\"24px\">\n",
              "    <g>\n",
              "        <path d=\"M19 3H5c-1.1 0-2 .9-2 2v14c0 1.1.9 2 2 2h14c1.1 0 2-.9 2-2V5c0-1.1-.9-2-2-2zM9 17H7v-7h2v7zm4 0h-2V7h2v10zm4 0h-2v-4h2v4z\"/>\n",
              "    </g>\n",
              "</svg>\n",
              "  </button>\n",
              "\n",
              "<style>\n",
              "  .colab-df-quickchart {\n",
              "      --bg-color: #E8F0FE;\n",
              "      --fill-color: #1967D2;\n",
              "      --hover-bg-color: #E2EBFA;\n",
              "      --hover-fill-color: #174EA6;\n",
              "      --disabled-fill-color: #AAA;\n",
              "      --disabled-bg-color: #DDD;\n",
              "  }\n",
              "\n",
              "  [theme=dark] .colab-df-quickchart {\n",
              "      --bg-color: #3B4455;\n",
              "      --fill-color: #D2E3FC;\n",
              "      --hover-bg-color: #434B5C;\n",
              "      --hover-fill-color: #FFFFFF;\n",
              "      --disabled-bg-color: #3B4455;\n",
              "      --disabled-fill-color: #666;\n",
              "  }\n",
              "\n",
              "  .colab-df-quickchart {\n",
              "    background-color: var(--bg-color);\n",
              "    border: none;\n",
              "    border-radius: 50%;\n",
              "    cursor: pointer;\n",
              "    display: none;\n",
              "    fill: var(--fill-color);\n",
              "    height: 32px;\n",
              "    padding: 0;\n",
              "    width: 32px;\n",
              "  }\n",
              "\n",
              "  .colab-df-quickchart:hover {\n",
              "    background-color: var(--hover-bg-color);\n",
              "    box-shadow: 0 1px 2px rgba(60, 64, 67, 0.3), 0 1px 3px 1px rgba(60, 64, 67, 0.15);\n",
              "    fill: var(--button-hover-fill-color);\n",
              "  }\n",
              "\n",
              "  .colab-df-quickchart-complete:disabled,\n",
              "  .colab-df-quickchart-complete:disabled:hover {\n",
              "    background-color: var(--disabled-bg-color);\n",
              "    fill: var(--disabled-fill-color);\n",
              "    box-shadow: none;\n",
              "  }\n",
              "\n",
              "  .colab-df-spinner {\n",
              "    border: 2px solid var(--fill-color);\n",
              "    border-color: transparent;\n",
              "    border-bottom-color: var(--fill-color);\n",
              "    animation:\n",
              "      spin 1s steps(1) infinite;\n",
              "  }\n",
              "\n",
              "  @keyframes spin {\n",
              "    0% {\n",
              "      border-color: transparent;\n",
              "      border-bottom-color: var(--fill-color);\n",
              "      border-left-color: var(--fill-color);\n",
              "    }\n",
              "    20% {\n",
              "      border-color: transparent;\n",
              "      border-left-color: var(--fill-color);\n",
              "      border-top-color: var(--fill-color);\n",
              "    }\n",
              "    30% {\n",
              "      border-color: transparent;\n",
              "      border-left-color: var(--fill-color);\n",
              "      border-top-color: var(--fill-color);\n",
              "      border-right-color: var(--fill-color);\n",
              "    }\n",
              "    40% {\n",
              "      border-color: transparent;\n",
              "      border-right-color: var(--fill-color);\n",
              "      border-top-color: var(--fill-color);\n",
              "    }\n",
              "    60% {\n",
              "      border-color: transparent;\n",
              "      border-right-color: var(--fill-color);\n",
              "    }\n",
              "    80% {\n",
              "      border-color: transparent;\n",
              "      border-right-color: var(--fill-color);\n",
              "      border-bottom-color: var(--fill-color);\n",
              "    }\n",
              "    90% {\n",
              "      border-color: transparent;\n",
              "      border-bottom-color: var(--fill-color);\n",
              "    }\n",
              "  }\n",
              "</style>\n",
              "\n",
              "  <script>\n",
              "    async function quickchart(key) {\n",
              "      const quickchartButtonEl =\n",
              "        document.querySelector('#' + key + ' button');\n",
              "      quickchartButtonEl.disabled = true;  // To prevent multiple clicks.\n",
              "      quickchartButtonEl.classList.add('colab-df-spinner');\n",
              "      try {\n",
              "        const charts = await google.colab.kernel.invokeFunction(\n",
              "            'suggestCharts', [key], {});\n",
              "      } catch (error) {\n",
              "        console.error('Error during call to suggestCharts:', error);\n",
              "      }\n",
              "      quickchartButtonEl.classList.remove('colab-df-spinner');\n",
              "      quickchartButtonEl.classList.add('colab-df-quickchart-complete');\n",
              "    }\n",
              "    (() => {\n",
              "      let quickchartButtonEl =\n",
              "        document.querySelector('#df-36c275ef-c662-48ef-9068-05584197f0bf button');\n",
              "      quickchartButtonEl.style.display =\n",
              "        google.colab.kernel.accessAllowed ? 'block' : 'none';\n",
              "    })();\n",
              "  </script>\n",
              "</div>\n",
              "    </div>\n",
              "  </div>\n"
            ],
            "application/vnd.google.colaboratory.intrinsic+json": {
              "type": "dataframe",
              "variable_name": "DF",
              "summary": "{\n  \"name\": \"DF\",\n  \"rows\": 32485,\n  \"fields\": [\n    {\n      \"column\": \"Make\",\n      \"properties\": {\n        \"dtype\": \"category\",\n        \"num_unique_values\": 79,\n        \"samples\": [\n          \"Mitsubishi\",\n          \"Toyota\",\n          \"Mazda\"\n        ],\n        \"semantic_type\": \"\",\n        \"description\": \"\"\n      }\n    },\n    {\n      \"column\": \"Model\",\n      \"properties\": {\n        \"dtype\": \"category\",\n        \"num_unique_values\": 781,\n        \"samples\": [\n          \"Justy\",\n          \"Vaneo\",\n          \"Atos\"\n        ],\n        \"semantic_type\": \"\",\n        \"description\": \"\"\n      }\n    },\n    {\n      \"column\": \"Year\",\n      \"properties\": {\n        \"dtype\": \"number\",\n        \"std\": 7,\n        \"min\": 1971,\n        \"max\": 2021,\n        \"num_unique_values\": 50,\n        \"samples\": [\n          2013,\n          1990,\n          1987\n        ],\n        \"semantic_type\": \"\",\n        \"description\": \"\"\n      }\n    },\n    {\n      \"column\": \"Style\",\n      \"properties\": {\n        \"dtype\": \"category\",\n        \"num_unique_values\": 12,\n        \"samples\": [\n          \"Cabriolet\",\n          \"Combi\",\n          \"Hatchback\"\n        ],\n        \"semantic_type\": \"\",\n        \"description\": \"\"\n      }\n    },\n    {\n      \"column\": \"Distance\",\n      \"properties\": {\n        \"dtype\": \"number\",\n        \"std\": 91554.9546743865,\n        \"min\": 1.0,\n        \"max\": 500000.0,\n        \"num_unique_values\": 8081,\n        \"samples\": [\n          234829.0,\n          105217.0,\n          478563.0\n        ],\n        \"semantic_type\": \"\",\n        \"description\": \"\"\n      }\n    },\n    {\n      \"column\": \"Engine_capacity(cm3)\",\n      \"properties\": {\n        \"dtype\": \"number\",\n        \"std\": 625.2367314328407,\n        \"min\": 0.0,\n        \"max\": 5000.0,\n        \"num_unique_values\": 636,\n        \"samples\": [\n          995.0,\n          3328.0,\n          1388.0\n        ],\n        \"semantic_type\": \"\",\n        \"description\": \"\"\n      }\n    },\n    {\n      \"column\": \"Fuel_type\",\n      \"properties\": {\n        \"dtype\": \"category\",\n        \"num_unique_values\": 6,\n        \"samples\": [\n          \"Hybrid\",\n          \"Diesel\",\n          \"Plug-in Hybrid\"\n        ],\n        \"semantic_type\": \"\",\n        \"description\": \"\"\n      }\n    },\n    {\n      \"column\": \"Transmission\",\n      \"properties\": {\n        \"dtype\": \"category\",\n        \"num_unique_values\": 2,\n        \"samples\": [\n          \"Manual\",\n          \"Automatic\"\n        ],\n        \"semantic_type\": \"\",\n        \"description\": \"\"\n      }\n    },\n    {\n      \"column\": \"Price(euro)\",\n      \"properties\": {\n        \"dtype\": \"number\",\n        \"std\": 7839.471389087623,\n        \"min\": 200.0,\n        \"max\": 50000.0,\n        \"num_unique_values\": 1562,\n        \"samples\": [\n          720.0,\n          31499.0\n        ],\n        \"semantic_type\": \"\",\n        \"description\": \"\"\n      }\n    }\n  ]\n}"
            }
          },
          "metadata": {},
          "execution_count": 4
        }
      ]
    },
    {
      "cell_type": "markdown",
      "source": [
        "Список числовых и категориальных данных"
      ],
      "metadata": {
        "id": "iFlAkKVu-wy6"
      }
    },
    {
      "cell_type": "code",
      "metadata": {
        "id": "yU8gHQJjwzDa"
      },
      "source": [
        "cat_columns = ['Make', 'Model', 'Style', 'Fuel_type', 'Transmission']\n",
        "num_columns = ['Year', 'Distance', 'Engine_capacity(cm3)', 'Price(euro)']"
      ],
      "execution_count": null,
      "outputs": []
    },
    {
      "cell_type": "markdown",
      "metadata": {
        "id": "4ZCkHlunJgQY"
      },
      "source": [
        "# Подготовка данных"
      ]
    },
    {
      "cell_type": "code",
      "metadata": {
        "id": "sEfPA0RSJgQY"
      },
      "source": [
        "from sklearn.model_selection import train_test_split #  функция разбиения на тренировочную и валидационную выборку\n",
        "# в исполнении scikit-learn\n",
        "from sklearn.model_selection import ShuffleSplit # при кросс-валидации случайно перемешиваем данные\n",
        "from sklearn.model_selection import cross_validate # функция кросс-валидации от Scikit-learn\n",
        "\n",
        "from sklearn.metrics import mean_squared_error as mse # метрика MSE от Scikit-learn\n",
        "from sklearn.metrics import r2_score # коэффициент детерминации  от Scikit-learn\n",
        "\n",
        "from sklearn.metrics import PredictionErrorDisplay # Класс визуализации ошибок модели"
      ],
      "execution_count": null,
      "outputs": []
    },
    {
      "cell_type": "markdown",
      "metadata": {
        "id": "8EDYLQ2K1S16"
      },
      "source": [
        "**Считываем данные, разбиваем на тренировочную и валидационную**"
      ]
    },
    {
      "cell_type": "code",
      "metadata": {
        "id": "X9CoF_ukzxde"
      },
      "source": [
        "# не забываем удалить целевую переменную цену из признаков\n",
        "X, y = DF.drop(columns = ['Price(euro)']), DF['Price(euro)']\n",
        "features_names = list(DF.drop(columns = [\"Price(euro)\"]).columns)\n",
        "\n",
        "# для XGBoost категориальные признаки всё равно придется перевести в числа\n",
        "for col in cat_columns:\n",
        "    X[col] = X[col].astype('category')\n",
        "\n",
        "# разбиваем на тренировочную и валидационную\n",
        "X_train, X_val, y_train, y_val = train_test_split(X, y,\n",
        "                                                    test_size=0.3,\n",
        "                                                    random_state=42)"
      ],
      "execution_count": null,
      "outputs": []
    },
    {
      "cell_type": "markdown",
      "source": [
        "Тут тоже есть свой формат данных, но он используется если используется т.н. автономный метод обучения `train`"
      ],
      "metadata": {
        "id": "pLq0AJsyihsJ"
      }
    },
    {
      "cell_type": "code",
      "source": [
        "import xgboost as xgb"
      ],
      "metadata": {
        "id": "N8DS6RREfnIo"
      },
      "execution_count": null,
      "outputs": []
    },
    {
      "cell_type": "code",
      "source": [
        "dtrain = xgb.DMatrix(X_train,\n",
        "                     label=y_train,\n",
        "                     enable_categorical=True,)\n",
        "\n",
        "dval = xgb.DMatrix(X_val,\n",
        "                    y_val,\n",
        "                    enable_categorical=True)"
      ],
      "metadata": {
        "id": "azArl5YpC9m1"
      },
      "execution_count": null,
      "outputs": []
    },
    {
      "cell_type": "markdown",
      "metadata": {
        "id": "qVPJyGpARqEI"
      },
      "source": [
        "## Модель"
      ]
    },
    {
      "cell_type": "markdown",
      "source": [
        "Создаем Класс, как обычно\n",
        "\n",
        "В целом уже стандартные и похожие вещи. Из особенностей\n",
        "\n",
        "`objective` (`default=reg:squarederror`) - лосс-функция. Что оптимизируем, собственно\n",
        "* `reg:squaredlogerror` - квадратичная ошибка\n",
        "* `reg:logistic` - логистическая регрессия\n",
        "* `reg:absoluteerror` - абсолютная ошибка\n",
        "* `binary:logistic` - логистическая регрессия для бинарной классификации - на выходе вероятности\n",
        "* `binary:logitraw`- то же самое - на выходе \"сырые скоры\" до применения логистического преобразования\n",
        "* `multi:softmax` - мультиклассовая классификация\n",
        "\n",
        "\n"
      ],
      "metadata": {
        "id": "O6MgehC7epG9"
      }
    },
    {
      "cell_type": "code",
      "source": [
        "model_reg = xgb.XGBRegressor(random_state = 42,\n",
        "                            objective= 'reg:squarederror',\n",
        "                              enable_categorical=True,\n",
        "                             early_stopping_rounds=50,\n",
        "                        n_estimators=500)\n"
      ],
      "metadata": {
        "id": "dNTG7sR7KxG_"
      },
      "execution_count": null,
      "outputs": []
    },
    {
      "cell_type": "markdown",
      "source": [
        "Применяем метод `fit` по традиции"
      ],
      "metadata": {
        "id": "4RlzJxIiGCLE"
      }
    },
    {
      "cell_type": "code",
      "source": [
        "model_reg.fit(X_train,y_train,\n",
        "          eval_set=[(X_train, y_train), (X_val, y_val)]);"
      ],
      "metadata": {
        "colab": {
          "base_uri": "https://localhost:8080/"
        },
        "id": "q9L6P3qYGGlx",
        "outputId": "2d935c20-3dd6-4f77-e202-92b1a22c3de0"
      },
      "execution_count": null,
      "outputs": [
        {
          "output_type": "stream",
          "name": "stdout",
          "text": [
            "[0]\tvalidation_0-rmse:5878.22648\tvalidation_1-rmse:6061.84506\n",
            "[1]\tvalidation_0-rmse:4601.28712\tvalidation_1-rmse:4838.53748\n",
            "[2]\tvalidation_0-rmse:3757.35404\tvalidation_1-rmse:4057.84164\n",
            "[3]\tvalidation_0-rmse:3213.10424\tvalidation_1-rmse:3569.99534\n",
            "[4]\tvalidation_0-rmse:2889.34175\tvalidation_1-rmse:3297.88336\n",
            "[5]\tvalidation_0-rmse:2679.62649\tvalidation_1-rmse:3135.71935\n",
            "[6]\tvalidation_0-rmse:2550.10558\tvalidation_1-rmse:3051.73040\n",
            "[7]\tvalidation_0-rmse:2462.18236\tvalidation_1-rmse:2991.15666\n",
            "[8]\tvalidation_0-rmse:2393.09256\tvalidation_1-rmse:2952.11995\n",
            "[9]\tvalidation_0-rmse:2340.56795\tvalidation_1-rmse:2930.22538\n",
            "[10]\tvalidation_0-rmse:2295.38610\tvalidation_1-rmse:2908.24859\n",
            "[11]\tvalidation_0-rmse:2259.12954\tvalidation_1-rmse:2890.58089\n",
            "[12]\tvalidation_0-rmse:2233.86553\tvalidation_1-rmse:2891.54929\n",
            "[13]\tvalidation_0-rmse:2210.29411\tvalidation_1-rmse:2888.66197\n",
            "[14]\tvalidation_0-rmse:2192.12731\tvalidation_1-rmse:2882.93688\n",
            "[15]\tvalidation_0-rmse:2164.17383\tvalidation_1-rmse:2876.07586\n",
            "[16]\tvalidation_0-rmse:2144.72819\tvalidation_1-rmse:2875.40908\n",
            "[17]\tvalidation_0-rmse:2136.67745\tvalidation_1-rmse:2874.66706\n",
            "[18]\tvalidation_0-rmse:2124.88930\tvalidation_1-rmse:2877.03769\n",
            "[19]\tvalidation_0-rmse:2112.92026\tvalidation_1-rmse:2877.19007\n",
            "[20]\tvalidation_0-rmse:2082.18293\tvalidation_1-rmse:2876.82515\n",
            "[21]\tvalidation_0-rmse:2069.61716\tvalidation_1-rmse:2878.42818\n",
            "[22]\tvalidation_0-rmse:2052.29638\tvalidation_1-rmse:2878.70599\n",
            "[23]\tvalidation_0-rmse:2029.83875\tvalidation_1-rmse:2887.12819\n",
            "[24]\tvalidation_0-rmse:2022.89512\tvalidation_1-rmse:2886.40441\n",
            "[25]\tvalidation_0-rmse:2013.95564\tvalidation_1-rmse:2885.70631\n",
            "[26]\tvalidation_0-rmse:2004.96424\tvalidation_1-rmse:2885.89352\n",
            "[27]\tvalidation_0-rmse:1990.18067\tvalidation_1-rmse:2886.86658\n",
            "[28]\tvalidation_0-rmse:1986.69320\tvalidation_1-rmse:2887.68693\n",
            "[29]\tvalidation_0-rmse:1979.51981\tvalidation_1-rmse:2885.13643\n",
            "[30]\tvalidation_0-rmse:1978.30474\tvalidation_1-rmse:2885.35240\n",
            "[31]\tvalidation_0-rmse:1971.00026\tvalidation_1-rmse:2882.95943\n",
            "[32]\tvalidation_0-rmse:1954.54447\tvalidation_1-rmse:2877.01408\n",
            "[33]\tvalidation_0-rmse:1936.95395\tvalidation_1-rmse:2879.97502\n",
            "[34]\tvalidation_0-rmse:1924.35576\tvalidation_1-rmse:2880.67184\n",
            "[35]\tvalidation_0-rmse:1916.86056\tvalidation_1-rmse:2883.14536\n",
            "[36]\tvalidation_0-rmse:1911.19685\tvalidation_1-rmse:2884.39214\n",
            "[37]\tvalidation_0-rmse:1902.97160\tvalidation_1-rmse:2884.33893\n",
            "[38]\tvalidation_0-rmse:1899.23419\tvalidation_1-rmse:2884.42897\n",
            "[39]\tvalidation_0-rmse:1888.11364\tvalidation_1-rmse:2883.28486\n",
            "[40]\tvalidation_0-rmse:1880.03802\tvalidation_1-rmse:2883.78809\n",
            "[41]\tvalidation_0-rmse:1867.37380\tvalidation_1-rmse:2882.77859\n",
            "[42]\tvalidation_0-rmse:1854.64295\tvalidation_1-rmse:2882.24613\n",
            "[43]\tvalidation_0-rmse:1851.54286\tvalidation_1-rmse:2882.75582\n",
            "[44]\tvalidation_0-rmse:1839.62742\tvalidation_1-rmse:2885.82878\n",
            "[45]\tvalidation_0-rmse:1836.55399\tvalidation_1-rmse:2886.19914\n",
            "[46]\tvalidation_0-rmse:1832.80763\tvalidation_1-rmse:2886.67651\n",
            "[47]\tvalidation_0-rmse:1825.70665\tvalidation_1-rmse:2889.19901\n",
            "[48]\tvalidation_0-rmse:1809.16647\tvalidation_1-rmse:2892.50296\n",
            "[49]\tvalidation_0-rmse:1796.75688\tvalidation_1-rmse:2893.31880\n",
            "[50]\tvalidation_0-rmse:1792.96434\tvalidation_1-rmse:2893.40174\n",
            "[51]\tvalidation_0-rmse:1784.72529\tvalidation_1-rmse:2896.71525\n",
            "[52]\tvalidation_0-rmse:1775.23452\tvalidation_1-rmse:2896.14969\n",
            "[53]\tvalidation_0-rmse:1766.97535\tvalidation_1-rmse:2896.88457\n",
            "[54]\tvalidation_0-rmse:1755.81068\tvalidation_1-rmse:2896.22215\n",
            "[55]\tvalidation_0-rmse:1748.35578\tvalidation_1-rmse:2895.82874\n",
            "[56]\tvalidation_0-rmse:1742.29735\tvalidation_1-rmse:2898.12926\n",
            "[57]\tvalidation_0-rmse:1737.99171\tvalidation_1-rmse:2899.80773\n",
            "[58]\tvalidation_0-rmse:1724.66092\tvalidation_1-rmse:2899.87853\n",
            "[59]\tvalidation_0-rmse:1709.66442\tvalidation_1-rmse:2895.51776\n",
            "[60]\tvalidation_0-rmse:1704.42376\tvalidation_1-rmse:2895.25966\n",
            "[61]\tvalidation_0-rmse:1696.67667\tvalidation_1-rmse:2894.93072\n",
            "[62]\tvalidation_0-rmse:1691.15795\tvalidation_1-rmse:2896.39666\n",
            "[63]\tvalidation_0-rmse:1685.24206\tvalidation_1-rmse:2897.65414\n",
            "[64]\tvalidation_0-rmse:1677.35875\tvalidation_1-rmse:2896.31504\n",
            "[65]\tvalidation_0-rmse:1671.06367\tvalidation_1-rmse:2896.11576\n",
            "[66]\tvalidation_0-rmse:1666.50722\tvalidation_1-rmse:2896.93822\n",
            "[67]\tvalidation_0-rmse:1658.31719\tvalidation_1-rmse:2895.98631\n"
          ]
        }
      ]
    },
    {
      "cell_type": "code",
      "source": [
        "print(\"Лучшая Итерация: {}\".format(model_reg.get_booster().best_iteration))"
      ],
      "metadata": {
        "colab": {
          "base_uri": "https://localhost:8080/"
        },
        "id": "DrNY1DRiUoa3",
        "outputId": "a0ac29a7-4e48-4402-f9a3-d717a40ba2ff"
      },
      "execution_count": null,
      "outputs": [
        {
          "output_type": "stream",
          "name": "stdout",
          "text": [
            "Лучшая Итерация: 17\n"
          ]
        }
      ]
    },
    {
      "cell_type": "markdown",
      "source": [
        "**История обучения**"
      ],
      "metadata": {
        "id": "4v-K8nDSzJ3r"
      }
    },
    {
      "cell_type": "code",
      "source": [
        "results = model_reg.evals_result()"
      ],
      "metadata": {
        "id": "yVNr3oIJzJ3r"
      },
      "execution_count": null,
      "outputs": []
    },
    {
      "cell_type": "code",
      "source": [
        "plt.figure(figsize=(10,7))\n",
        "plt.plot(results[\"validation_0\"][\"rmse\"], label=\"Потери на Тренировочных данных\")\n",
        "plt.plot(results[\"validation_1\"][\"rmse\"], label=\"Потери на Валидационных данных\")\n",
        "plt.xlabel(\"Количество Деревьев\")\n",
        "plt.ylabel(\"Потери\")\n",
        "plt.legend();"
      ],
      "metadata": {
        "colab": {
          "base_uri": "https://localhost:8080/",
          "height": 619
        },
        "outputId": "6064e105-67dd-4d02-f946-96e38ae7c961",
        "id": "URGZV6hEzJ3r"
      },
      "execution_count": null,
      "outputs": [
        {
          "output_type": "display_data",
          "data": {
            "text/plain": [
              "<Figure size 1000x700 with 1 Axes>"
            ],
            "image/png": "[encoded data removed]"
          },
          "metadata": {}
        }
      ]
    },
    {
      "cell_type": "markdown",
      "source": [
        "## Визуализация значимости признаков"
      ],
      "metadata": {
        "id": "E818o5N8f4uT"
      }
    },
    {
      "cell_type": "code",
      "source": [
        "def feature_importance_plotter(model, features_names):\n",
        "    \"\"\"Отрисовка значимости признаков в виде горизонтальных столбчатых диаграмм.\n",
        "    Параметры:\n",
        "    ===========\n",
        "    model: модель\n",
        "    features_names: список имен признаков\n",
        "    \"\"\"\n",
        "    feature_importance = model.feature_importances_\n",
        "\n",
        "    sorted = np.argsort(feature_importance)\n",
        "\n",
        "    ypos = np.arange(len(features_names))\n",
        "\n",
        "    fig= plt.figure(figsize=(8,4))\n",
        "    plt.barh(ypos, feature_importance[sorted])\n",
        "    plt.xlim([0,1])\n",
        "    plt.ylabel('Параметры')\n",
        "    plt.xlabel('Значимость')\n",
        "    plt.yticks(ypos,features_names[sorted] );"
      ],
      "metadata": {
        "id": "Ecy3oAJp4OFI"
      },
      "execution_count": null,
      "outputs": []
    },
    {
      "cell_type": "code",
      "metadata": {
        "id": "rTwNRMT7RqEI",
        "colab": {
          "base_uri": "https://localhost:8080/"
        },
        "outputId": "70b998b3-4e93-4f30-e4ab-dbcaae40b512"
      },
      "source": [
        "feature_importance_plotter(model_reg, np.array(features_names))"
      ],
      "execution_count": null,
      "outputs": [
        {
          "output_type": "display_data",
          "data": {
            "text/plain": [
              "<Figure size 800x400 with 1 Axes>"
            ],
            "image/png": "[encoded data removed]"
          },
          "metadata": {}
        }
      ]
    },
    {
      "cell_type": "markdown",
      "source": [
        "## Оценка метрик"
      ],
      "metadata": {
        "id": "ZgNBwaqoWiLy"
      }
    },
    {
      "cell_type": "code",
      "source": [
        "def calculate_metric(model_pipe, X, y, metric = r2_score):\n",
        "    \"\"\"Расчет метрики.\n",
        "    Параметры:\n",
        "    ===========\n",
        "    model_pipe: модель или pipeline\n",
        "    X: признаки\n",
        "    y: истинные значения\n",
        "    metric: метрика (r2 - по умолчанию)\n",
        "    \"\"\"\n",
        "    y_model = model_pipe.predict(X)\n",
        "    return metric(y, y_model)"
      ],
      "metadata": {
        "id": "Ropf87QqWLfR"
      },
      "execution_count": null,
      "outputs": []
    },
    {
      "cell_type": "code",
      "source": [
        "print(f\"r2 на тренировочной выборке: {calculate_metric(model_reg, X_train, y_train):.4f}\")\n",
        "print(f\"r2 на валидационной выборке: {calculate_metric(model_reg, X_val, y_val):.4f}\")\n",
        "\n",
        "print(f\"mse на тренировочной выборке: {calculate_metric(model_reg, X_train, y_train, mse):.4f}\")\n",
        "print(f\"mse на валидационной выборке: {calculate_metric(model_reg, X_val, y_val, mse):.4f}\")"
      ],
      "metadata": {
        "colab": {
          "base_uri": "https://localhost:8080/"
        },
        "id": "LgvAQ_-eWO85",
        "outputId": "de3b00cf-ecf0-4462-8703-b66f0263d6e5"
      },
      "execution_count": null,
      "outputs": [
        {
          "output_type": "stream",
          "name": "stdout",
          "text": [
            "r2 на тренировочной выборке: 0.9249\n",
            "r2 на валидационной выборке: 0.8687\n",
            "mse на тренировочной выборке: 4565390.5416\n",
            "mse на валидационной выборке: 8263710.7192\n"
          ]
        }
      ]
    },
    {
      "cell_type": "markdown",
      "source": [
        "В нашем случае функцию для кросс-валидации нужно будет переписывать, поскольку `early_stopping_rounds` требует валидационного датасета. А `cross_validate` с такой задачей не справляется"
      ],
      "metadata": {
        "id": "byoOeOraXsNq"
      }
    },
    {
      "cell_type": "markdown",
      "source": [
        "## Визуализация ошибок от scikit-learn"
      ],
      "metadata": {
        "id": "prNHGCfzWgGa"
      }
    },
    {
      "cell_type": "code",
      "source": [
        "PredictionErrorDisplay.from_predictions(\n",
        "    y_val,\n",
        "    model_reg.predict(X_val),\n",
        "    kind=\"actual_vs_predicted\",\n",
        "    scatter_kwargs={\"alpha\": 0.5},\n",
        "        line_kwargs = {\"color\" : 'white'}\n",
        "\n",
        ");"
      ],
      "metadata": {
        "colab": {
          "base_uri": "https://localhost:8080/"
        },
        "id": "PVgykHnVW7LD",
        "outputId": "dddc0d03-f32b-4873-90c4-532d27ebf58d"
      },
      "execution_count": null,
      "outputs": [
        {
          "output_type": "display_data",
          "data": {
            "text/plain": [
              "<Figure size 640x480 with 1 Axes>"
            ],
            "image/png": "[encoded data removed]"
          },
          "metadata": {}
        }
      ]
    },
    {
      "cell_type": "markdown",
      "source": [
        "Небольшие выводы\n",
        "\n",
        "* Модель регрессии от XGBoost ведет себя крайне уверенно\n",
        "\n",
        "* В топе по значимости Трансмиссия, Год и Модель\n",
        "\n"
      ],
      "metadata": {
        "id": "C1VOH5cJLbmn"
      }
    },
    {
      "cell_type": "markdown",
      "source": [
        "# Сохранение / Загрузка"
      ],
      "metadata": {
        "id": "WgZ7pf29YHx8"
      }
    },
    {
      "cell_type": "code",
      "execution_count": null,
      "metadata": {
        "id": "cab5a499-9289-4fc4-98cc-805111f2e771"
      },
      "outputs": [],
      "source": [
        "# сохранение модели\n",
        "model_reg.save_model(\"xgb_regressor.json\")"
      ]
    },
    {
      "cell_type": "code",
      "execution_count": null,
      "metadata": {
        "id": "09808deb-7736-4ca2-9bed-fcb4c08d466e"
      },
      "outputs": [],
      "source": [
        "# Загрузка модели\n",
        "model_ = xgb.XGBRegressor()\n",
        "model_.load_model(\"xgb_regressor.json\")"
      ]
    },
    {
      "cell_type": "code",
      "source": [
        "print(f\"r2 на тренировочной выборке: {calculate_metric(model_, X_train, y_train):.4f}\")\n",
        "print(f\"r2 на валидационной выборке: {calculate_metric(model_, X_val, y_val):.4f}\")\n",
        "\n",
        "print(f\"mse на тренировочной выборке: {calculate_metric(model_, X_train, y_train, mse):.4f}\")\n",
        "print(f\"mse на валидационной выборке: {calculate_metric(model_, X_val, y_val, mse):.4f}\")"
      ],
      "metadata": {
        "colab": {
          "base_uri": "https://localhost:8080/"
        },
        "id": "zwvlNg1YYUja",
        "outputId": "a3a24b29-a22c-4a67-bbb2-852ec4c609ee"
      },
      "execution_count": null,
      "outputs": [
        {
          "output_type": "stream",
          "name": "stdout",
          "text": [
            "r2 на тренировочной выборке: 0.9249\n",
            "r2 на валидационной выборке: 0.8687\n",
            "mse на тренировочной выборке: 4565390.5416\n",
            "mse на валидационной выборке: 8263710.7192\n"
          ]
        }
      ]
    }
  ]
}