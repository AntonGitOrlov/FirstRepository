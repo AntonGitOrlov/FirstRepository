{
  "nbformat": 4,
  "nbformat_minor": 0,
  "metadata": {
    "kernelspec": {
      "display_name": "Python 3",
      "language": "python",
      "name": "python3"
    },
    "language_info": {
      "codemirror_mode": {
        "name": "ipython",
        "version": 3
      },
      "file_extension": ".py",
      "mimetype": "text/x-python",
      "name": "python",
      "nbconvert_exporter": "python",
      "pygments_lexer": "ipython3",
      "version": "3.7.4"
    },
    "toc": {
      "base_numbering": 1,
      "nav_menu": {},
      "number_sections": true,
      "sideBar": true,
      "skip_h1_title": false,
      "title_cell": "Table of Contents",
      "title_sidebar": "Contents",
      "toc_cell": false,
      "toc_position": {
        "height": "calc(100% - 180px)",
        "left": "10px",
        "top": "150px",
        "width": "165px"
      },
      "toc_section_display": true,
      "toc_window_display": true
    },
    "colab": {
      "provenance": []
    }
  },
  "cells": [
    {
      "cell_type": "markdown",
      "source": [
        "# Цель Блокнота"
      ],
      "metadata": {
        "id": "jgqp-YmxmXMl"
      }
    },
    {
      "cell_type": "markdown",
      "source": [
        "Решение задачи регрессии в scikit-learn с помощью бустингов\n",
        "* Создание класса *TargetEncoder* для кодирования категориальных признаков\n",
        "* Обучение класса `AdaBoostRegressor`\n",
        "* Обучение класса `GradientBoostingRegressor`\n",
        "* Обучение класса `HistGradientBoostingRegressor`\n",
        "* Сохранение модели"
      ],
      "metadata": {
        "id": "cDKN7fkxmaKa"
      }
    },
    {
      "cell_type": "markdown",
      "metadata": {
        "id": "czKick3H1Aqp"
      },
      "source": [
        "# Import библиотек"
      ]
    },
    {
      "cell_type": "code",
      "metadata": {
        "id": "Eu6aerLw1Aqq"
      },
      "source": [
        "import pandas as pd # Библиотека Pandas для работы с табличными данными\n",
        "import numpy as np # библиотека Numpy для операций линейной алгебры и прочего\n",
        "import matplotlib.pyplot as plt # библиотека Matplotlib для визуализации\n",
        "import seaborn as sns # библиотека seaborn для визуализации\n",
        "import numpy as np # библиотека Numpy для операций линейной алгебры и прочего\n",
        "\n",
        "\n",
        "# предварительная обработка числовых признаков\n",
        "from sklearn.preprocessing import MinMaxScaler # Импортируем нормализацию от scikit-learn\n",
        "from sklearn.preprocessing import StandardScaler # Импортируем стандартизацию от scikit-learn\n",
        "from sklearn.preprocessing import PowerTransformer  # Степенное преобразование от scikit-learn\n",
        "# предварительная обработка категориальных признаков\n",
        "from sklearn.preprocessing import OneHotEncoder # Импортируем One-Hot Encoding от scikit-learn\n",
        "from sklearn.preprocessing import OrdinalEncoder # Импортируем порядковое кодированиеот scikit-learn\n",
        "\n",
        "from sklearn.pipeline import Pipeline # Pipeline. Ни добавить, ни убавить\n",
        "\n",
        "from sklearn.compose import ColumnTransformer # т.н. преобразователь колонок\n",
        "\n",
        "from sklearn.base import BaseEstimator, TransformerMixin # для создания собственных преобразователей / трансформеров данных"
      ],
      "execution_count": null,
      "outputs": []
    },
    {
      "cell_type": "code",
      "source": [
        "plt.style.use('dark_background') # для модных черных рисунков"
      ],
      "metadata": {
        "id": "GgOFsaNKuYHM"
      },
      "execution_count": null,
      "outputs": []
    },
    {
      "cell_type": "code",
      "source": [
        "import warnings\n",
        "warnings.filterwarnings('ignore')"
      ],
      "metadata": {
        "id": "kG_F8idxU__n"
      },
      "execution_count": null,
      "outputs": []
    },
    {
      "cell_type": "markdown",
      "metadata": {
        "id": "hSA1kgiKvrTG"
      },
      "source": [
        "# Набор данных\n",
        "\n"
      ]
    },
    {
      "cell_type": "markdown",
      "metadata": {
        "id": "9WAiW__nvrTK"
      },
      "source": [
        "Набор данных представляет собой статистику признаков автомобилей на вторичном рынке в Молдавии.\n",
        "\n",
        "Набор включает ряд категориальных и численных значений, составляющих одну запись (строку). Число записей можно найти как число строк.\n",
        "\n",
        "Каждый столбец в записи — это отдельный признак.\n",
        "\n",
        "Среди указанных признаков приведен целевой для задачи предсказания (регрессии) - цена автомобиля.\n",
        "\n",
        " Также среди признак есть целевой для задачи классификации - тип трансмиссии.\n",
        "\n",
        " Последняя задача может быть рассмотрена, например, как пример задачи на заполнение пропусков (если продавец не указал соответствующий признак)."
      ]
    },
    {
      "cell_type": "markdown",
      "source": [
        "# Загрузка данных"
      ],
      "metadata": {
        "id": "BWSBYJ2dZ8LJ"
      }
    },
    {
      "cell_type": "markdown",
      "source": [
        "Загружаем наши данные из файла по прямой ссылке на GitHub"
      ],
      "metadata": {
        "id": "Ea3-kYWG7fWJ"
      }
    },
    {
      "cell_type": "code",
      "source": [
        "DF = pd.read_csv('https://raw.githubusercontent.com/dayekb/mpti_ml/main/data/cars_moldova_no_dup_no_outliers.csv', delimiter = ',')\n",
        "DF"
      ],
      "metadata": {
        "colab": {
          "base_uri": "https://localhost:8080/",
          "height": 423
        },
        "id": "k10GNV_lFpP6",
        "outputId": "af21466e-9d5f-4b7e-fd8b-9eeee7529989"
      },
      "execution_count": null,
      "outputs": [
        {
          "output_type": "execute_result",
          "data": {
            "text/plain": [
              "             Make         Model  Year      Style  Distance  \\\n",
              "0          Toyota         Prius  2011  Hatchback  195000.0   \n",
              "1         Renault  Grand Scenic  2014  Universal  135000.0   \n",
              "2         Renault        Laguna  2012  Universal  110000.0   \n",
              "3            Opel         Astra  2006  Universal  200000.0   \n",
              "4        Mercedes          Vito  2000   Microvan  300000.0   \n",
              "...           ...           ...   ...        ...       ...   \n",
              "32480  Volkswagen        Passat  2016      Sedan   88000.0   \n",
              "32481  Land Rover    Freelander  2002  Crossover  225000.0   \n",
              "32482       Dacia     Logan Mcv  2015  Universal   89000.0   \n",
              "32483       Mazda             6  2006      Combi  370000.0   \n",
              "32484     Renault  Grand Scenic  2006    Minivan  300000.0   \n",
              "\n",
              "       Engine_capacity(cm3)     Fuel_type Transmission  Price(euro)  \n",
              "0                    1800.0        Hybrid    Automatic       7750.0  \n",
              "1                    1500.0        Diesel       Manual       8550.0  \n",
              "2                    1500.0        Diesel       Manual       6550.0  \n",
              "3                    1600.0  Metan/Propan       Manual       4100.0  \n",
              "4                    2200.0        Diesel       Manual       3490.0  \n",
              "...                     ...           ...          ...          ...  \n",
              "32480                1800.0        Petrol    Automatic      11500.0  \n",
              "32481                1800.0  Metan/Propan       Manual       4400.0  \n",
              "32482                1500.0        Diesel       Manual       7000.0  \n",
              "32483                2000.0        Diesel       Manual       4000.0  \n",
              "32484                1500.0        Diesel       Manual       4000.0  \n",
              "\n",
              "[32485 rows x 9 columns]"
            ],
            "text/html": [
              "\n",
              "  <div id=\"df-b3092f5f-b6c1-4366-b567-bf4fae4f59e0\" class=\"colab-df-container\">\n",
              "    <div>\n",
              "<style scoped>\n",
              "    .dataframe tbody tr th:only-of-type {\n",
              "        vertical-align: middle;\n",
              "    }\n",
              "\n",
              "    .dataframe tbody tr th {\n",
              "        vertical-align: top;\n",
              "    }\n",
              "\n",
              "    .dataframe thead th {\n",
              "        text-align: right;\n",
              "    }\n",
              "</style>\n",
              "<table border=\"1\" class=\"dataframe\">\n",
              "  <thead>\n",
              "    <tr style=\"text-align: right;\">\n",
              "      <th></th>\n",
              "      <th>Make</th>\n",
              "      <th>Model</th>\n",
              "      <th>Year</th>\n",
              "      <th>Style</th>\n",
              "      <th>Distance</th>\n",
              "      <th>Engine_capacity(cm3)</th>\n",
              "      <th>Fuel_type</th>\n",
              "      <th>Transmission</th>\n",
              "      <th>Price(euro)</th>\n",
              "    </tr>\n",
              "  </thead>\n",
              "  <tbody>\n",
              "    <tr>\n",
              "      <th>0</th>\n",
              "      <td>Toyota</td>\n",
              "      <td>Prius</td>\n",
              "      <td>2011</td>\n",
              "      <td>Hatchback</td>\n",
              "      <td>195000.0</td>\n",
              "      <td>1800.0</td>\n",
              "      <td>Hybrid</td>\n",
              "      <td>Automatic</td>\n",
              "      <td>7750.0</td>\n",
              "    </tr>\n",
              "    <tr>\n",
              "      <th>1</th>\n",
              "      <td>Renault</td>\n",
              "      <td>Grand Scenic</td>\n",
              "      <td>2014</td>\n",
              "      <td>Universal</td>\n",
              "      <td>135000.0</td>\n",
              "      <td>1500.0</td>\n",
              "      <td>Diesel</td>\n",
              "      <td>Manual</td>\n",
              "      <td>8550.0</td>\n",
              "    </tr>\n",
              "    <tr>\n",
              "      <th>2</th>\n",
              "      <td>Renault</td>\n",
              "      <td>Laguna</td>\n",
              "      <td>2012</td>\n",
              "      <td>Universal</td>\n",
              "      <td>110000.0</td>\n",
              "      <td>1500.0</td>\n",
              "      <td>Diesel</td>\n",
              "      <td>Manual</td>\n",
              "      <td>6550.0</td>\n",
              "    </tr>\n",
              "    <tr>\n",
              "      <th>3</th>\n",
              "      <td>Opel</td>\n",
              "      <td>Astra</td>\n",
              "      <td>2006</td>\n",
              "      <td>Universal</td>\n",
              "      <td>200000.0</td>\n",
              "      <td>1600.0</td>\n",
              "      <td>Metan/Propan</td>\n",
              "      <td>Manual</td>\n",
              "      <td>4100.0</td>\n",
              "    </tr>\n",
              "    <tr>\n",
              "      <th>4</th>\n",
              "      <td>Mercedes</td>\n",
              "      <td>Vito</td>\n",
              "      <td>2000</td>\n",
              "      <td>Microvan</td>\n",
              "      <td>300000.0</td>\n",
              "      <td>2200.0</td>\n",
              "      <td>Diesel</td>\n",
              "      <td>Manual</td>\n",
              "      <td>3490.0</td>\n",
              "    </tr>\n",
              "    <tr>\n",
              "      <th>...</th>\n",
              "      <td>...</td>\n",
              "      <td>...</td>\n",
              "      <td>...</td>\n",
              "      <td>...</td>\n",
              "      <td>...</td>\n",
              "      <td>...</td>\n",
              "      <td>...</td>\n",
              "      <td>...</td>\n",
              "      <td>...</td>\n",
              "    </tr>\n",
              "    <tr>\n",
              "      <th>32480</th>\n",
              "      <td>Volkswagen</td>\n",
              "      <td>Passat</td>\n",
              "      <td>2016</td>\n",
              "      <td>Sedan</td>\n",
              "      <td>88000.0</td>\n",
              "      <td>1800.0</td>\n",
              "      <td>Petrol</td>\n",
              "      <td>Automatic</td>\n",
              "      <td>11500.0</td>\n",
              "    </tr>\n",
              "    <tr>\n",
              "      <th>32481</th>\n",
              "      <td>Land Rover</td>\n",
              "      <td>Freelander</td>\n",
              "      <td>2002</td>\n",
              "      <td>Crossover</td>\n",
              "      <td>225000.0</td>\n",
              "      <td>1800.0</td>\n",
              "      <td>Metan/Propan</td>\n",
              "      <td>Manual</td>\n",
              "      <td>4400.0</td>\n",
              "    </tr>\n",
              "    <tr>\n",
              "      <th>32482</th>\n",
              "      <td>Dacia</td>\n",
              "      <td>Logan Mcv</td>\n",
              "      <td>2015</td>\n",
              "      <td>Universal</td>\n",
              "      <td>89000.0</td>\n",
              "      <td>1500.0</td>\n",
              "      <td>Diesel</td>\n",
              "      <td>Manual</td>\n",
              "      <td>7000.0</td>\n",
              "    </tr>\n",
              "    <tr>\n",
              "      <th>32483</th>\n",
              "      <td>Mazda</td>\n",
              "      <td>6</td>\n",
              "      <td>2006</td>\n",
              "      <td>Combi</td>\n",
              "      <td>370000.0</td>\n",
              "      <td>2000.0</td>\n",
              "      <td>Diesel</td>\n",
              "      <td>Manual</td>\n",
              "      <td>4000.0</td>\n",
              "    </tr>\n",
              "    <tr>\n",
              "      <th>32484</th>\n",
              "      <td>Renault</td>\n",
              "      <td>Grand Scenic</td>\n",
              "      <td>2006</td>\n",
              "      <td>Minivan</td>\n",
              "      <td>300000.0</td>\n",
              "      <td>1500.0</td>\n",
              "      <td>Diesel</td>\n",
              "      <td>Manual</td>\n",
              "      <td>4000.0</td>\n",
              "    </tr>\n",
              "  </tbody>\n",
              "</table>\n",
              "<p>32485 rows × 9 columns</p>\n",
              "</div>\n",
              "    <div class=\"colab-df-buttons\">\n",
              "\n",
              "  <div class=\"colab-df-container\">\n",
              "    <button class=\"colab-df-convert\" onclick=\"convertToInteractive('df-b3092f5f-b6c1-4366-b567-bf4fae4f59e0')\"\n",
              "            title=\"Convert this dataframe to an interactive table.\"\n",
              "            style=\"display:none;\">\n",
              "\n",
              "  <svg xmlns=\"http://www.w3.org/2000/svg\" height=\"24px\" viewBox=\"0 -960 960 960\">\n",
              "    <path d=\"M120-120v-720h720v720H120Zm60-500h600v-160H180v160Zm220 220h160v-160H400v160Zm0 220h160v-160H400v160ZM180-400h160v-160H180v160Zm440 0h160v-160H620v160ZM180-180h160v-160H180v160Zm440 0h160v-160H620v160Z\"/>\n",
              "  </svg>\n",
              "    </button>\n",
              "\n",
              "  <style>\n",
              "    .colab-df-container {\n",
              "      display:flex;\n",
              "      gap: 12px;\n",
              "    }\n",
              "\n",
              "    .colab-df-convert {\n",
              "      background-color: #E8F0FE;\n",
              "      border: none;\n",
              "      border-radius: 50%;\n",
              "      cursor: pointer;\n",
              "      display: none;\n",
              "      fill: #1967D2;\n",
              "      height: 32px;\n",
              "      padding: 0 0 0 0;\n",
              "      width: 32px;\n",
              "    }\n",
              "\n",
              "    .colab-df-convert:hover {\n",
              "      background-color: #E2EBFA;\n",
              "      box-shadow: 0px 1px 2px rgba(60, 64, 67, 0.3), 0px 1px 3px 1px rgba(60, 64, 67, 0.15);\n",
              "      fill: #174EA6;\n",
              "    }\n",
              "\n",
              "    .colab-df-buttons div {\n",
              "      margin-bottom: 4px;\n",
              "    }\n",
              "\n",
              "    [theme=dark] .colab-df-convert {\n",
              "      background-color: #3B4455;\n",
              "      fill: #D2E3FC;\n",
              "    }\n",
              "\n",
              "    [theme=dark] .colab-df-convert:hover {\n",
              "      background-color: #434B5C;\n",
              "      box-shadow: 0px 1px 3px 1px rgba(0, 0, 0, 0.15);\n",
              "      filter: drop-shadow(0px 1px 2px rgba(0, 0, 0, 0.3));\n",
              "      fill: #FFFFFF;\n",
              "    }\n",
              "  </style>\n",
              "\n",
              "    <script>\n",
              "      const buttonEl =\n",
              "        document.querySelector('#df-b3092f5f-b6c1-4366-b567-bf4fae4f59e0 button.colab-df-convert');\n",
              "      buttonEl.style.display =\n",
              "        google.colab.kernel.accessAllowed ? 'block' : 'none';\n",
              "\n",
              "      async function convertToInteractive(key) {\n",
              "        const element = document.querySelector('#df-b3092f5f-b6c1-4366-b567-bf4fae4f59e0');\n",
              "        const dataTable =\n",
              "          await google.colab.kernel.invokeFunction('convertToInteractive',\n",
              "                                                    [key], {});\n",
              "        if (!dataTable) return;\n",
              "\n",
              "        const docLinkHtml = 'Like what you see? Visit the ' +\n",
              "          '<a target=\"_blank\" href=https://colab.research.google.com/notebooks/data_table.ipynb>data table notebook</a>'\n",
              "          + ' to learn more about interactive tables.';\n",
              "        element.innerHTML = '';\n",
              "        dataTable['output_type'] = 'display_data';\n",
              "        await google.colab.output.renderOutput(dataTable, element);\n",
              "        const docLink = document.createElement('div');\n",
              "        docLink.innerHTML = docLinkHtml;\n",
              "        element.appendChild(docLink);\n",
              "      }\n",
              "    </script>\n",
              "  </div>\n",
              "\n",
              "\n",
              "<div id=\"df-38673066-199d-4c64-96fe-3df4baf50f60\">\n",
              "  <button class=\"colab-df-quickchart\" onclick=\"quickchart('df-38673066-199d-4c64-96fe-3df4baf50f60')\"\n",
              "            title=\"Suggest charts\"\n",
              "            style=\"display:none;\">\n",
              "\n",
              "<svg xmlns=\"http://www.w3.org/2000/svg\" height=\"24px\"viewBox=\"0 0 24 24\"\n",
              "     width=\"24px\">\n",
              "    <g>\n",
              "        <path d=\"M19 3H5c-1.1 0-2 .9-2 2v14c0 1.1.9 2 2 2h14c1.1 0 2-.9 2-2V5c0-1.1-.9-2-2-2zM9 17H7v-7h2v7zm4 0h-2V7h2v10zm4 0h-2v-4h2v4z\"/>\n",
              "    </g>\n",
              "</svg>\n",
              "  </button>\n",
              "\n",
              "<style>\n",
              "  .colab-df-quickchart {\n",
              "      --bg-color: #E8F0FE;\n",
              "      --fill-color: #1967D2;\n",
              "      --hover-bg-color: #E2EBFA;\n",
              "      --hover-fill-color: #174EA6;\n",
              "      --disabled-fill-color: #AAA;\n",
              "      --disabled-bg-color: #DDD;\n",
              "  }\n",
              "\n",
              "  [theme=dark] .colab-df-quickchart {\n",
              "      --bg-color: #3B4455;\n",
              "      --fill-color: #D2E3FC;\n",
              "      --hover-bg-color: #434B5C;\n",
              "      --hover-fill-color: #FFFFFF;\n",
              "      --disabled-bg-color: #3B4455;\n",
              "      --disabled-fill-color: #666;\n",
              "  }\n",
              "\n",
              "  .colab-df-quickchart {\n",
              "    background-color: var(--bg-color);\n",
              "    border: none;\n",
              "    border-radius: 50%;\n",
              "    cursor: pointer;\n",
              "    display: none;\n",
              "    fill: var(--fill-color);\n",
              "    height: 32px;\n",
              "    padding: 0;\n",
              "    width: 32px;\n",
              "  }\n",
              "\n",
              "  .colab-df-quickchart:hover {\n",
              "    background-color: var(--hover-bg-color);\n",
              "    box-shadow: 0 1px 2px rgba(60, 64, 67, 0.3), 0 1px 3px 1px rgba(60, 64, 67, 0.15);\n",
              "    fill: var(--button-hover-fill-color);\n",
              "  }\n",
              "\n",
              "  .colab-df-quickchart-complete:disabled,\n",
              "  .colab-df-quickchart-complete:disabled:hover {\n",
              "    background-color: var(--disabled-bg-color);\n",
              "    fill: var(--disabled-fill-color);\n",
              "    box-shadow: none;\n",
              "  }\n",
              "\n",
              "  .colab-df-spinner {\n",
              "    border: 2px solid var(--fill-color);\n",
              "    border-color: transparent;\n",
              "    border-bottom-color: var(--fill-color);\n",
              "    animation:\n",
              "      spin 1s steps(1) infinite;\n",
              "  }\n",
              "\n",
              "  @keyframes spin {\n",
              "    0% {\n",
              "      border-color: transparent;\n",
              "      border-bottom-color: var(--fill-color);\n",
              "      border-left-color: var(--fill-color);\n",
              "    }\n",
              "    20% {\n",
              "      border-color: transparent;\n",
              "      border-left-color: var(--fill-color);\n",
              "      border-top-color: var(--fill-color);\n",
              "    }\n",
              "    30% {\n",
              "      border-color: transparent;\n",
              "      border-left-color: var(--fill-color);\n",
              "      border-top-color: var(--fill-color);\n",
              "      border-right-color: var(--fill-color);\n",
              "    }\n",
              "    40% {\n",
              "      border-color: transparent;\n",
              "      border-right-color: var(--fill-color);\n",
              "      border-top-color: var(--fill-color);\n",
              "    }\n",
              "    60% {\n",
              "      border-color: transparent;\n",
              "      border-right-color: var(--fill-color);\n",
              "    }\n",
              "    80% {\n",
              "      border-color: transparent;\n",
              "      border-right-color: var(--fill-color);\n",
              "      border-bottom-color: var(--fill-color);\n",
              "    }\n",
              "    90% {\n",
              "      border-color: transparent;\n",
              "      border-bottom-color: var(--fill-color);\n",
              "    }\n",
              "  }\n",
              "</style>\n",
              "\n",
              "  <script>\n",
              "    async function quickchart(key) {\n",
              "      const quickchartButtonEl =\n",
              "        document.querySelector('#' + key + ' button');\n",
              "      quickchartButtonEl.disabled = true;  // To prevent multiple clicks.\n",
              "      quickchartButtonEl.classList.add('colab-df-spinner');\n",
              "      try {\n",
              "        const charts = await google.colab.kernel.invokeFunction(\n",
              "            'suggestCharts', [key], {});\n",
              "      } catch (error) {\n",
              "        console.error('Error during call to suggestCharts:', error);\n",
              "      }\n",
              "      quickchartButtonEl.classList.remove('colab-df-spinner');\n",
              "      quickchartButtonEl.classList.add('colab-df-quickchart-complete');\n",
              "    }\n",
              "    (() => {\n",
              "      let quickchartButtonEl =\n",
              "        document.querySelector('#df-38673066-199d-4c64-96fe-3df4baf50f60 button');\n",
              "      quickchartButtonEl.style.display =\n",
              "        google.colab.kernel.accessAllowed ? 'block' : 'none';\n",
              "    })();\n",
              "  </script>\n",
              "</div>\n",
              "    </div>\n",
              "  </div>\n"
            ],
            "application/vnd.google.colaboratory.intrinsic+json": {
              "type": "dataframe",
              "variable_name": "DF",
              "summary": "{\n  \"name\": \"DF\",\n  \"rows\": 32485,\n  \"fields\": [\n    {\n      \"column\": \"Make\",\n      \"properties\": {\n        \"dtype\": \"category\",\n        \"num_unique_values\": 79,\n        \"samples\": [\n          \"Mitsubishi\",\n          \"Toyota\",\n          \"Mazda\"\n        ],\n        \"semantic_type\": \"\",\n        \"description\": \"\"\n      }\n    },\n    {\n      \"column\": \"Model\",\n      \"properties\": {\n        \"dtype\": \"category\",\n        \"num_unique_values\": 781,\n        \"samples\": [\n          \"Justy\",\n          \"Vaneo\",\n          \"Atos\"\n        ],\n        \"semantic_type\": \"\",\n        \"description\": \"\"\n      }\n    },\n    {\n      \"column\": \"Year\",\n      \"properties\": {\n        \"dtype\": \"number\",\n        \"std\": 7,\n        \"min\": 1971,\n        \"max\": 2021,\n        \"num_unique_values\": 50,\n        \"samples\": [\n          2013,\n          1990,\n          1987\n        ],\n        \"semantic_type\": \"\",\n        \"description\": \"\"\n      }\n    },\n    {\n      \"column\": \"Style\",\n      \"properties\": {\n        \"dtype\": \"category\",\n        \"num_unique_values\": 12,\n        \"samples\": [\n          \"Cabriolet\",\n          \"Combi\",\n          \"Hatchback\"\n        ],\n        \"semantic_type\": \"\",\n        \"description\": \"\"\n      }\n    },\n    {\n      \"column\": \"Distance\",\n      \"properties\": {\n        \"dtype\": \"number\",\n        \"std\": 91554.9546743865,\n        \"min\": 1.0,\n        \"max\": 500000.0,\n        \"num_unique_values\": 8081,\n        \"samples\": [\n          234829.0,\n          105217.0,\n          478563.0\n        ],\n        \"semantic_type\": \"\",\n        \"description\": \"\"\n      }\n    },\n    {\n      \"column\": \"Engine_capacity(cm3)\",\n      \"properties\": {\n        \"dtype\": \"number\",\n        \"std\": 625.2367314328407,\n        \"min\": 0.0,\n        \"max\": 5000.0,\n        \"num_unique_values\": 636,\n        \"samples\": [\n          995.0,\n          3328.0,\n          1388.0\n        ],\n        \"semantic_type\": \"\",\n        \"description\": \"\"\n      }\n    },\n    {\n      \"column\": \"Fuel_type\",\n      \"properties\": {\n        \"dtype\": \"category\",\n        \"num_unique_values\": 6,\n        \"samples\": [\n          \"Hybrid\",\n          \"Diesel\",\n          \"Plug-in Hybrid\"\n        ],\n        \"semantic_type\": \"\",\n        \"description\": \"\"\n      }\n    },\n    {\n      \"column\": \"Transmission\",\n      \"properties\": {\n        \"dtype\": \"category\",\n        \"num_unique_values\": 2,\n        \"samples\": [\n          \"Manual\",\n          \"Automatic\"\n        ],\n        \"semantic_type\": \"\",\n        \"description\": \"\"\n      }\n    },\n    {\n      \"column\": \"Price(euro)\",\n      \"properties\": {\n        \"dtype\": \"number\",\n        \"std\": 7839.471389087623,\n        \"min\": 200.0,\n        \"max\": 50000.0,\n        \"num_unique_values\": 1562,\n        \"samples\": [\n          720.0,\n          31499.0\n        ],\n        \"semantic_type\": \"\",\n        \"description\": \"\"\n      }\n    }\n  ]\n}"
            }
          },
          "metadata": {},
          "execution_count": 4
        }
      ]
    },
    {
      "cell_type": "markdown",
      "source": [
        "Список числовых и категориальных данных"
      ],
      "metadata": {
        "id": "iFlAkKVu-wy6"
      }
    },
    {
      "cell_type": "code",
      "metadata": {
        "id": "yU8gHQJjwzDa"
      },
      "source": [
        "cat_columns = ['Make', 'Model', 'Style', 'Fuel_type', 'Transmission']\n",
        "num_columns = ['Year', 'Distance', 'Engine_capacity(cm3)', 'Price(euro)']"
      ],
      "execution_count": null,
      "outputs": []
    },
    {
      "cell_type": "markdown",
      "source": [
        "Предварительная обработка в основном из [раннего блокнота](https://colab.research.google.com/drive/1es_OrShFiuaeOnlPjX2B1geHDM-XfofM?usp=sharing)\n",
        "\n",
        "Из предварительной обработки исключена колонка `Price(euro)`, поскольку она является целевой меткой и будет обработана отдельно\n",
        "\n",
        "Также для числовых признаков убрано масштабирование (посколько деревья решений могут обходиться и без них без потери качества)\n",
        "\n",
        "Вместо one-hot кодирования предлагается простая реализация `TargetEncoder`, которая заменяет категориальный признак на среднее значение целевой переменной по категории. Это позволяет \"осознанно\" использовать категории в деревьях решений без \"разрастания\" признаков до большого числа (как в случае применения one-hot кодирования)"
      ],
      "metadata": {
        "id": "ZPQgX6C9THjd"
      }
    },
    {
      "cell_type": "code",
      "source": [
        "class QuantileReplacer(BaseEstimator, TransformerMixin):\n",
        "    def __init__(self, threshold=0.05):\n",
        "        self.threshold = threshold\n",
        "        self.quantiles = {}\n",
        "\n",
        "    def fit(self, X, y=None):\n",
        "        for col in X.select_dtypes(include='number'):\n",
        "            low_quantile = X[col].quantile(self.threshold)\n",
        "            high_quantile = X[col].quantile(1 - self.threshold)\n",
        "            self.quantiles[col] = (low_quantile, high_quantile)\n",
        "        return self\n",
        "\n",
        "    def transform(self, X):\n",
        "        X_copy = X.copy()\n",
        "        for col in X.select_dtypes(include='number'):\n",
        "            low_quantile, high_quantile = self.quantiles[col]\n",
        "            rare_mask = ((X[col] < low_quantile) | (X[col] > high_quantile))\n",
        "            if rare_mask.any():\n",
        "                rare_values = X_copy.loc[rare_mask, col]\n",
        "                replace_value = np.mean([low_quantile, high_quantile])\n",
        "                if rare_values.mean() > replace_value:\n",
        "                    X_copy.loc[rare_mask, col] = high_quantile\n",
        "                else:\n",
        "                    X_copy.loc[rare_mask, col] = low_quantile\n",
        "        return X_copy"
      ],
      "metadata": {
        "id": "k8u1TiHBSgpt"
      },
      "execution_count": null,
      "outputs": []
    },
    {
      "cell_type": "code",
      "source": [
        "class RareGrouper(BaseEstimator, TransformerMixin):\n",
        "    def __init__(self, threshold=0.05, other_value='Other'):\n",
        "        self.threshold = threshold\n",
        "        self.other_value = other_value\n",
        "        self.freq_dict = {}\n",
        "\n",
        "    def fit(self, X, y=None):\n",
        "        for col in X.select_dtypes(include=['object']):\n",
        "            freq = X[col].value_counts(normalize=True)\n",
        "            self.freq_dict[col] = freq[freq >= self.threshold].index.tolist()\n",
        "        return self\n",
        "\n",
        "    def transform(self, X, y=None):\n",
        "        X_copy = X.copy()\n",
        "        for col in X.select_dtypes(include=['object']):\n",
        "            X_copy[col] = X_copy[col].apply(lambda x: x if x in self.freq_dict[col] else self.other_value)\n",
        "        return X_copy"
      ],
      "metadata": {
        "id": "Rk3_HOSqSjQM"
      },
      "execution_count": null,
      "outputs": []
    },
    {
      "cell_type": "markdown",
      "source": [
        "Класс `TargetEncoder` принимает необязательный параметр `cols`, который представляет собой список столбцов для кодирования. Если `cols` не указан, он будет кодировать все категориальные столбцы во фрейме данных.\n",
        "\n",
        "Метод `fit` вычисляет среднее целевое значение для каждого уникального значения в указанных столбцах. Затем он сохраняет средние целевые значения в словаре.\n",
        "\n",
        "Метод `transform` использует средние целевые значения, хранящиеся в словаре, для замены категориальных значений их соответствующими средними целевыми значениями. Если категориальное значение не найдено в словаре, оно заменяется средним значением столбца."
      ],
      "metadata": {
        "id": "8Q9Hbk2nB5b9"
      }
    },
    {
      "cell_type": "code",
      "source": [
        "class TargetEncoder(BaseEstimator, TransformerMixin):\n",
        "    def __init__(self, cols=None):\n",
        "        self.cols = cols\n",
        "        self.target_mean = {}\n",
        "\n",
        "    def fit(self, X, y):\n",
        "        if self.cols is None:\n",
        "            self.cols = X.columns\n",
        "        for col in self.cols:\n",
        "            self.target_mean[col] = {}\n",
        "            X_copy = X.copy()\n",
        "            X_copy[y.name]=y\n",
        "            self.target_mean[col] = X_copy.groupby(col)[y.name].mean().to_dict()\n",
        "        return self\n",
        "\n",
        "    def transform(self, X):\n",
        "        for col in self.cols:\n",
        "            X[col] = X[col].map(self.target_mean[col])\n",
        "            X[col] = X[col].fillna(np.mean(X[col]))\n",
        "        return X"
      ],
      "metadata": {
        "id": "7kmFE5nl_2g1"
      },
      "execution_count": null,
      "outputs": []
    },
    {
      "cell_type": "code",
      "source": [
        "num_pipe_distance = Pipeline([\n",
        "    ('QuantReplace', QuantileReplacer(threshold=0.01, )),\n",
        "    ('scaler', None)\n",
        "])\n",
        "\n",
        "num_distance = ['Distance']\n",
        "\n",
        "num_pipe_engine = Pipeline([\n",
        "    ('scaler', None)\n",
        "])\n",
        "\n",
        "num_engine = ['Engine_capacity(cm3)']\n",
        "\n",
        "num_pipe_year = Pipeline([\n",
        "    ('QuantReplace', QuantileReplacer(threshold=0.01, )),\n",
        "    ('power', None)\n",
        "])\n",
        "\n",
        "num_year = ['Year']\n",
        "\n",
        "cat_pipe_transmission = Pipeline([\n",
        "    ('encoder', OrdinalEncoder())\n",
        "\n",
        "])\n",
        "\n",
        "cat_transmission = ['Transmission']\n",
        "\n",
        "cat_pipe_style_fuel = Pipeline([\n",
        "    ('encoder', TargetEncoder())\n",
        "\n",
        "])\n",
        "\n",
        "cat_style_fuel = ['Style', 'Fuel_type']\n",
        "\n",
        "cat_pipe_make = Pipeline([\n",
        "    ('replace_rare', RareGrouper(threshold=0.001, other_value='Other')),\n",
        "    ('encoder', TargetEncoder())\n",
        "])\n",
        "\n",
        "cat_make = ['Make']\n",
        "\n",
        "cat_pipe_model = Pipeline([\n",
        "    ('replace_rare', RareGrouper(threshold=0.0001, other_value='Other')),\n",
        "    ('encoder', TargetEncoder())\n",
        "])\n",
        "\n",
        "cat_model = ['Model']\n",
        "\n",
        "preprocessors_all = ColumnTransformer(transformers=[\n",
        "    ('num_distance', num_pipe_distance, num_distance),\n",
        "    ('num_engine', num_pipe_engine, num_engine),\n",
        "    ('num_year', num_pipe_year, num_year),\n",
        "    ('cat_transmission', cat_pipe_transmission, cat_transmission),\n",
        "    ('cat_style_fuel', cat_pipe_style_fuel, cat_style_fuel),\n",
        "    ('cat_make', cat_pipe_make, cat_make),\n",
        "    ('cat_model', cat_pipe_model, cat_model),\n",
        "])"
      ],
      "metadata": {
        "id": "zZ1zcFJSSmfc"
      },
      "execution_count": null,
      "outputs": []
    },
    {
      "cell_type": "markdown",
      "metadata": {
        "id": "4ZCkHlunJgQY"
      },
      "source": [
        "# Адаптивный Бустинг для Регрессии"
      ]
    },
    {
      "cell_type": "code",
      "metadata": {
        "id": "sEfPA0RSJgQY"
      },
      "source": [
        "from sklearn.ensemble import AdaBoostRegressor # Адаптивный Бустинг для Регрессии от scikit-learn\n",
        "\n",
        "from sklearn.model_selection import train_test_split # функция разбиения на тренировочную и валидационную выборку\n",
        "# в исполнении scikit-learn\n",
        "from sklearn.model_selection import ShuffleSplit # при кросс-валидации случайно перемешиваем данные\n",
        "from sklearn.model_selection import cross_validate # функция кросс-валидации от Scikit-learn\n",
        "\n",
        "from sklearn.metrics import mean_squared_error as mse # метрика MSE от Scikit-learn\n",
        "from sklearn.metrics import r2_score # коэффициент детерминации  от Scikit-learn\n",
        "\n",
        "from sklearn.metrics import PredictionErrorDisplay # Класс визуализации ошибок модели"
      ],
      "execution_count": null,
      "outputs": []
    },
    {
      "cell_type": "markdown",
      "metadata": {
        "id": "8EDYLQ2K1S16"
      },
      "source": [
        "**Считываем данные, разбиваем на тренировочную и валидационную**"
      ]
    },
    {
      "cell_type": "code",
      "metadata": {
        "id": "X9CoF_ukzxde"
      },
      "source": [
        "# не забываем удалить целевую переменную цену из признаков\n",
        "X, y = DF.drop(columns = ['Price(euro)']), DF['Price(euro)']\n",
        "\n",
        "# разбиваем на тренировочную и валидационную\n",
        "X_train, X_val, y_train, y_val = train_test_split(X, y,\n",
        "                                                    test_size=0.3,\n",
        "                                                    random_state=42)"
      ],
      "execution_count": null,
      "outputs": []
    },
    {
      "cell_type": "markdown",
      "metadata": {
        "id": "qVPJyGpARqEI"
      },
      "source": [
        "## Сразу используем все признаки"
      ]
    },
    {
      "cell_type": "markdown",
      "source": [
        "**Преобразуем данные**\n",
        "\n",
        "Поскольку мы используем TargetEncoder для обучения, необходимо использовать столбец целевой переменной"
      ],
      "metadata": {
        "id": "vr4NG7D3KIW7"
      }
    },
    {
      "cell_type": "code",
      "metadata": {
        "id": "yHtSSw5SRqEI"
      },
      "source": [
        "# Сначала обучаем на тренировочных данных, при этом одновременно трансформируем их\n",
        "X_train_prep = preprocessors_all.fit_transform(X_train, y_train)\n",
        "# потом трансформируем на валидационных данных\n",
        "X_val_prep = preprocessors_all.transform(X_val)"
      ],
      "execution_count": null,
      "outputs": []
    },
    {
      "cell_type": "code",
      "source": [
        "# объединяем названия колонок в один список (важен порядок как в ColumnTransformer)\n",
        "columns = np.hstack([num_distance,\n",
        "                    num_engine,\n",
        "                    num_year,\n",
        "                    cat_transmission,\n",
        "                    cat_style_fuel,\n",
        "                    cat_make,\n",
        "                    cat_model])"
      ],
      "metadata": {
        "id": "dNTG7sR7KxG_"
      },
      "execution_count": null,
      "outputs": []
    },
    {
      "cell_type": "markdown",
      "source": [
        "**Обучаем модель**"
      ],
      "metadata": {
        "id": "pwPCU-RIfF8F"
      }
    },
    {
      "cell_type": "markdown",
      "source": [
        "\n",
        "\n",
        "Стандартная уже для нас рутина\n",
        "\n",
        "* Создаем объект класса, в котором можем изменить\n",
        "    * `estimator` - базовое решение, которое используется в модели (по умолчанию - дерево решений глубиной 3)\n",
        "    * `n_estimators` - максимальное количество итераций (по умолчанию 50)\n",
        "    * `learning_rate` - с каким коэффициентом мы добавляем новые решения\n",
        "    * `loss` - функция потерь для оценки ошибок для обновления весов, на выбор `'linear', 'square', 'exponential'`\n",
        "    * `random_state` - для повторяемости\n",
        "* \"Обучаем\" через метод `.fit`"
      ],
      "metadata": {
        "id": "O6MgehC7epG9"
      }
    },
    {
      "cell_type": "code",
      "source": [
        "model_ab = AdaBoostRegressor(learning_rate=0.1,\n",
        "                        n_estimators=50,\n",
        "                             loss = 'exponential',\n",
        "                             random_state = 42\n",
        "                              )\n",
        "\n",
        "model_ab.fit(X_train_prep, y_train)"
      ],
      "metadata": {
        "colab": {
          "base_uri": "https://localhost:8080/",
          "height": 74
        },
        "id": "koT98wAEV9Ko",
        "outputId": "98cf205b-7e37-4174-f80b-871541a867f9"
      },
      "execution_count": null,
      "outputs": [
        {
          "output_type": "execute_result",
          "data": {
            "text/plain": [
              "AdaBoostRegressor(learning_rate=0.1, loss='exponential', random_state=42)"
            ],
            "text/html": [
              "<style>#sk-container-id-1 {color: black;background-color: white;}#sk-container-id-1 pre{padding: 0;}#sk-container-id-1 div.sk-toggleable {background-color: white;}#sk-container-id-1 label.sk-toggleable__label {cursor: pointer;display: block;width: 100%;margin-bottom: 0;padding: 0.3em;box-sizing: border-box;text-align: center;}#sk-container-id-1 label.sk-toggleable__label-arrow:before {content: \"▸\";float: left;margin-right: 0.25em;color: #696969;}#sk-container-id-1 label.sk-toggleable__label-arrow:hover:before {color: black;}#sk-container-id-1 div.sk-estimator:hover label.sk-toggleable__label-arrow:before {color: black;}#sk-container-id-1 div.sk-toggleable__content {max-height: 0;max-width: 0;overflow: hidden;text-align: left;background-color: #f0f8ff;}#sk-container-id-1 div.sk-toggleable__content pre {margin: 0.2em;color: black;border-radius: 0.25em;background-color: #f0f8ff;}#sk-container-id-1 input.sk-toggleable__control:checked~div.sk-toggleable__content {max-height: 200px;max-width: 100%;overflow: auto;}#sk-container-id-1 input.sk-toggleable__control:checked~label.sk-toggleable__label-arrow:before {content: \"▾\";}#sk-container-id-1 div.sk-estimator input.sk-toggleable__control:checked~label.sk-toggleable__label {background-color: #d4ebff;}#sk-container-id-1 div.sk-label input.sk-toggleable__control:checked~label.sk-toggleable__label {background-color: #d4ebff;}#sk-container-id-1 input.sk-hidden--visually {border: 0;clip: rect(1px 1px 1px 1px);clip: rect(1px, 1px, 1px, 1px);height: 1px;margin: -1px;overflow: hidden;padding: 0;position: absolute;width: 1px;}#sk-container-id-1 div.sk-estimator {font-family: monospace;background-color: #f0f8ff;border: 1px dotted black;border-radius: 0.25em;box-sizing: border-box;margin-bottom: 0.5em;}#sk-container-id-1 div.sk-estimator:hover {background-color: #d4ebff;}#sk-container-id-1 div.sk-parallel-item::after {content: \"\";width: 100%;border-bottom: 1px solid gray;flex-grow: 1;}#sk-container-id-1 div.sk-label:hover label.sk-toggleable__label {background-color: #d4ebff;}#sk-container-id-1 div.sk-serial::before {content: \"\";position: absolute;border-left: 1px solid gray;box-sizing: border-box;top: 0;bottom: 0;left: 50%;z-index: 0;}#sk-container-id-1 div.sk-serial {display: flex;flex-direction: column;align-items: center;background-color: white;padding-right: 0.2em;padding-left: 0.2em;position: relative;}#sk-container-id-1 div.sk-item {position: relative;z-index: 1;}#sk-container-id-1 div.sk-parallel {display: flex;align-items: stretch;justify-content: center;background-color: white;position: relative;}#sk-container-id-1 div.sk-item::before, #sk-container-id-1 div.sk-parallel-item::before {content: \"\";position: absolute;border-left: 1px solid gray;box-sizing: border-box;top: 0;bottom: 0;left: 50%;z-index: -1;}#sk-container-id-1 div.sk-parallel-item {display: flex;flex-direction: column;z-index: 1;position: relative;background-color: white;}#sk-container-id-1 div.sk-parallel-item:first-child::after {align-self: flex-end;width: 50%;}#sk-container-id-1 div.sk-parallel-item:last-child::after {align-self: flex-start;width: 50%;}#sk-container-id-1 div.sk-parallel-item:only-child::after {width: 0;}#sk-container-id-1 div.sk-dashed-wrapped {border: 1px dashed gray;margin: 0 0.4em 0.5em 0.4em;box-sizing: border-box;padding-bottom: 0.4em;background-color: white;}#sk-container-id-1 div.sk-label label {font-family: monospace;font-weight: bold;display: inline-block;line-height: 1.2em;}#sk-container-id-1 div.sk-label-container {text-align: center;}#sk-container-id-1 div.sk-container {/* jupyter's `normalize.less` sets `[hidden] { display: none; }` but bootstrap.min.css set `[hidden] { display: none !important; }` so we also need the `!important` here to be able to override the default hidden behavior on the sphinx rendered scikit-learn.org. See: https://github.com/scikit-learn/scikit-learn/issues/21755 */display: inline-block !important;position: relative;}#sk-container-id-1 div.sk-text-repr-fallback {display: none;}</style><div id=\"sk-container-id-1\" class=\"sk-top-container\"><div class=\"sk-text-repr-fallback\"><pre>AdaBoostRegressor(learning_rate=0.1, loss=&#x27;exponential&#x27;, random_state=42)</pre><b>In a Jupyter environment, please rerun this cell to show the HTML representation or trust the notebook. <br />On GitHub, the HTML representation is unable to render, please try loading this page with nbviewer.org.</b></div><div class=\"sk-container\" hidden><div class=\"sk-item\"><div class=\"sk-estimator sk-toggleable\"><input class=\"sk-toggleable__control sk-hidden--visually\" id=\"sk-estimator-id-1\" type=\"checkbox\" checked><label for=\"sk-estimator-id-1\" class=\"sk-toggleable__label sk-toggleable__label-arrow\">AdaBoostRegressor</label><div class=\"sk-toggleable__content\"><pre>AdaBoostRegressor(learning_rate=0.1, loss=&#x27;exponential&#x27;, random_state=42)</pre></div></div></div></div></div>"
            ]
          },
          "metadata": {},
          "execution_count": 14
        }
      ]
    },
    {
      "cell_type": "markdown",
      "source": [
        "Для косвенной оценки \"хватит ли итераций или нет\" можно посмотреть веса\n",
        "\n",
        "Если появляются нули - значит модель скорее всего \"лучше уже не придумает\"\""
      ],
      "metadata": {
        "id": "x-GjMf9kdD4y"
      }
    },
    {
      "cell_type": "code",
      "source": [
        "model_ab.estimator_weights_"
      ],
      "metadata": {
        "colab": {
          "base_uri": "https://localhost:8080/"
        },
        "id": "Oa7jMTHtLJ2x",
        "outputId": "65a91f5c-7d95-4db6-d951-7d32a7bed2e1"
      },
      "execution_count": null,
      "outputs": [
        {
          "output_type": "execute_result",
          "data": {
            "text/plain": [
              "array([0.2722026 , 0.27169925, 0.26890013, 0.26391177, 0.26241406,\n",
              "       0.25706773, 0.25251648, 0.25891631, 0.25620181, 0.25036099,\n",
              "       0.24708474, 0.24341456, 0.24645323, 0.23844703, 0.23636542,\n",
              "       0.23488869, 0.23027524, 0.23277668, 0.22848523, 0.22556003,\n",
              "       0.22277048, 0.22393145, 0.21983037, 0.21374398, 0.21402464,\n",
              "       0.20818705, 0.20870558, 0.20930351, 0.20083698, 0.19626007,\n",
              "       0.19586126, 0.19132215, 0.19214426, 0.18673253, 0.18372635,\n",
              "       0.17397189, 0.17353513, 0.17597613, 0.17135164, 0.16732767,\n",
              "       0.16345211, 0.16261711, 0.15813336, 0.15975739, 0.15432569,\n",
              "       0.15512989, 0.15329317, 0.14742922, 0.14691129, 0.14388621])"
            ]
          },
          "metadata": {},
          "execution_count": 15
        }
      ]
    },
    {
      "cell_type": "markdown",
      "source": [
        "Ошибки отдельных предсказателей"
      ],
      "metadata": {
        "id": "c9E1VWvvf6r-"
      }
    },
    {
      "cell_type": "code",
      "source": [
        "model_ab.estimator_errors_"
      ],
      "metadata": {
        "colab": {
          "base_uri": "https://localhost:8080/"
        },
        "id": "zQn2qaQLf1cV",
        "outputId": "a89dd01b-9863-4e29-8be0-982ea7b061e1"
      },
      "execution_count": null,
      "outputs": [
        {
          "output_type": "execute_result",
          "data": {
            "text/plain": [
              "array([0.0616861 , 0.06197808, 0.06362549, 0.06666291, 0.06760084,\n",
              "       0.07104959, 0.07411275, 0.06983913, 0.07162324, 0.0756055 ,\n",
              "       0.07792732, 0.08060571, 0.07838231, 0.0843646 , 0.08598656,\n",
              "       0.08715429, 0.09089526, 0.08884928, 0.09238528, 0.09486749,\n",
              "       0.09729003, 0.09627517, 0.09990292, 0.10551078, 0.10524618,\n",
              "       0.11087144, 0.11036131, 0.10977562, 0.11832694, 0.12318586,\n",
              "       0.12361727, 0.12861936, 0.12770078, 0.13385151, 0.13737525,\n",
              "       0.14934864, 0.14990437, 0.14682024, 0.15270817, 0.1579878 ,\n",
              "       0.16321195, 0.16435555, 0.17060669, 0.16832098, 0.17606231,\n",
              "       0.17489874, 0.17756515, 0.1862911 , 0.18707749, 0.19172161])"
            ]
          },
          "metadata": {},
          "execution_count": 16
        }
      ]
    },
    {
      "cell_type": "markdown",
      "source": [
        "Отдельные предсказатели (для повторяемости)"
      ],
      "metadata": {
        "id": "38MoW69xgD1C"
      }
    },
    {
      "cell_type": "code",
      "source": [
        "model_ab.estimators_"
      ],
      "metadata": {
        "colab": {
          "base_uri": "https://localhost:8080/"
        },
        "id": "YIDnOow9f1bM",
        "outputId": "af20b15f-9dc6-4f2b-e97e-123b47211785"
      },
      "execution_count": null,
      "outputs": [
        {
          "output_type": "execute_result",
          "data": {
            "text/plain": [
              "[DecisionTreeRegressor(max_depth=3, random_state=1608637542),\n",
              " DecisionTreeRegressor(max_depth=3, random_state=2136567244),\n",
              " DecisionTreeRegressor(max_depth=3, random_state=1628700026),\n",
              " DecisionTreeRegressor(max_depth=3, random_state=22750613),\n",
              " DecisionTreeRegressor(max_depth=3, random_state=1486421367),\n",
              " DecisionTreeRegressor(max_depth=3, random_state=1448939255),\n",
              " DecisionTreeRegressor(max_depth=3, random_state=1146089652),\n",
              " DecisionTreeRegressor(max_depth=3, random_state=527608858),\n",
              " DecisionTreeRegressor(max_depth=3, random_state=1157948361),\n",
              " DecisionTreeRegressor(max_depth=3, random_state=1901857501),\n",
              " DecisionTreeRegressor(max_depth=3, random_state=217999646),\n",
              " DecisionTreeRegressor(max_depth=3, random_state=1090945134),\n",
              " DecisionTreeRegressor(max_depth=3, random_state=297027447),\n",
              " DecisionTreeRegressor(max_depth=3, random_state=1064029002),\n",
              " DecisionTreeRegressor(max_depth=3, random_state=578495151),\n",
              " DecisionTreeRegressor(max_depth=3, random_state=589374304),\n",
              " DecisionTreeRegressor(max_depth=3, random_state=1324531277),\n",
              " DecisionTreeRegressor(max_depth=3, random_state=1836731628),\n",
              " DecisionTreeRegressor(max_depth=3, random_state=610194906),\n",
              " DecisionTreeRegressor(max_depth=3, random_state=164904341),\n",
              " DecisionTreeRegressor(max_depth=3, random_state=838421192),\n",
              " DecisionTreeRegressor(max_depth=3, random_state=1581961534),\n",
              " DecisionTreeRegressor(max_depth=3, random_state=2068965585),\n",
              " DecisionTreeRegressor(max_depth=3, random_state=1367177237),\n",
              " DecisionTreeRegressor(max_depth=3, random_state=482685604),\n",
              " DecisionTreeRegressor(max_depth=3, random_state=1389748199),\n",
              " DecisionTreeRegressor(max_depth=3, random_state=1292917675),\n",
              " DecisionTreeRegressor(max_depth=3, random_state=9774664),\n",
              " DecisionTreeRegressor(max_depth=3, random_state=1819142947),\n",
              " DecisionTreeRegressor(max_depth=3, random_state=952491087),\n",
              " DecisionTreeRegressor(max_depth=3, random_state=1712425516),\n",
              " DecisionTreeRegressor(max_depth=3, random_state=383369960),\n",
              " DecisionTreeRegressor(max_depth=3, random_state=1149208278),\n",
              " DecisionTreeRegressor(max_depth=3, random_state=1504537875),\n",
              " DecisionTreeRegressor(max_depth=3, random_state=1146082050),\n",
              " DecisionTreeRegressor(max_depth=3, random_state=2113040343),\n",
              " DecisionTreeRegressor(max_depth=3, random_state=1096136135),\n",
              " DecisionTreeRegressor(max_depth=3, random_state=51227238),\n",
              " DecisionTreeRegressor(max_depth=3, random_state=360317429),\n",
              " DecisionTreeRegressor(max_depth=3, random_state=569895092),\n",
              " DecisionTreeRegressor(max_depth=3, random_state=1136134588),\n",
              " DecisionTreeRegressor(max_depth=3, random_state=1464957062),\n",
              " DecisionTreeRegressor(max_depth=3, random_state=1185183782),\n",
              " DecisionTreeRegressor(max_depth=3, random_state=116738694),\n",
              " DecisionTreeRegressor(max_depth=3, random_state=410424213),\n",
              " DecisionTreeRegressor(max_depth=3, random_state=2021565474),\n",
              " DecisionTreeRegressor(max_depth=3, random_state=787562796),\n",
              " DecisionTreeRegressor(max_depth=3, random_state=2131728686),\n",
              " DecisionTreeRegressor(max_depth=3, random_state=310702501),\n",
              " DecisionTreeRegressor(max_depth=3, random_state=609971077)]"
            ]
          },
          "metadata": {},
          "execution_count": 17
        }
      ]
    },
    {
      "cell_type": "markdown",
      "source": [
        "## Визуализация значимости признаков"
      ],
      "metadata": {
        "id": "E818o5N8f4uT"
      }
    },
    {
      "cell_type": "code",
      "source": [
        "def feature_importance_plotter(model, features_names):\n",
        "    \"\"\"Отрисовка значимости признаков в виде горизонтальных столбчатых диаграмм.\n",
        "    Параметры:\n",
        "    ===========\n",
        "    model: модель\n",
        "    features_names: список имен признаков\n",
        "    \"\"\"\n",
        "    feature_importance = model.feature_importances_\n",
        "\n",
        "    sorted = np.argsort(feature_importance)\n",
        "\n",
        "    ypos = np.arange(len(features_names))\n",
        "\n",
        "    fig= plt.figure(figsize=(8,4))\n",
        "    plt.barh(ypos, feature_importance[sorted])\n",
        "    plt.xlim([0,1])\n",
        "    plt.ylabel('Параметры')\n",
        "    plt.xlabel('Значимость')\n",
        "    plt.yticks(ypos,features_names[sorted] );"
      ],
      "metadata": {
        "id": "Ecy3oAJp4OFI"
      },
      "execution_count": null,
      "outputs": []
    },
    {
      "cell_type": "code",
      "metadata": {
        "id": "rTwNRMT7RqEI",
        "colab": {
          "base_uri": "https://localhost:8080/",
          "height": 388
        },
        "outputId": "cbadcbcc-fbe7-42cc-c546-ecdf90fb81de"
      },
      "source": [
        "feature_importance_plotter(model_ab, columns)"
      ],
      "execution_count": null,
      "outputs": [
        {
          "output_type": "display_data",
          "data": {
            "text/plain": [
              "<Figure size 800x400 with 1 Axes>"
            ],
            "image/png": "[encoded data removed]"
          },
          "metadata": {}
        }
      ]
    },
    {
      "cell_type": "markdown",
      "source": [
        "## Оценка метрик"
      ],
      "metadata": {
        "id": "ZgNBwaqoWiLy"
      }
    },
    {
      "cell_type": "code",
      "source": [
        "def calculate_metric(model_pipe, X, y, metric = r2_score):\n",
        "    \"\"\"Расчет метрики.\n",
        "    Параметры:\n",
        "    ===========\n",
        "    model_pipe: модель или pipeline\n",
        "    X: признаки\n",
        "    y: истинные значения\n",
        "    metric: метрика (r2 - по умолчанию)\n",
        "    \"\"\"\n",
        "    y_model = model_pipe.predict(X)\n",
        "    return metric(y, y_model)"
      ],
      "metadata": {
        "id": "Ropf87QqWLfR"
      },
      "execution_count": null,
      "outputs": []
    },
    {
      "cell_type": "code",
      "source": [
        "print(f\"r2 на тренировочной выборке: {calculate_metric(model_ab, X_train_prep, y_train):.4f}\")\n",
        "print(f\"r2 на валидационной выборке: {calculate_metric(model_ab, X_val_prep, y_val):.4f}\")\n",
        "\n",
        "print(f\"mse на тренировочной выборке: {calculate_metric(model_ab, X_train_prep, y_train, mse):.4f}\")\n",
        "print(f\"mse на валидационной выборке: {calculate_metric(model_ab, X_val_prep, y_val, mse):.4f}\")"
      ],
      "metadata": {
        "colab": {
          "base_uri": "https://localhost:8080/"
        },
        "id": "LgvAQ_-eWO85",
        "outputId": "04e468c5-1535-49fb-9ebe-8e0bcd92be7f"
      },
      "execution_count": null,
      "outputs": [
        {
          "output_type": "stream",
          "name": "stdout",
          "text": [
            "r2 на тренировочной выборке: 0.6986\n",
            "r2 на валидационной выборке: 0.6996\n",
            "mse на тренировочной выборке: 18330081.3076\n",
            "mse на валидационной выборке: 18913538.3468\n"
          ]
        }
      ]
    },
    {
      "cell_type": "markdown",
      "source": [
        "## Кросс-валидация"
      ],
      "metadata": {
        "id": "NMBv_PFrdf-4"
      }
    },
    {
      "cell_type": "code",
      "source": [
        "def cross_validation (X, y, model, scoring, cv_rule):\n",
        "    \"\"\"Расчет метрик на кросс-валидации.\n",
        "    Параметры:\n",
        "    ===========\n",
        "    model: модель или pipeline\n",
        "    X: признаки\n",
        "    y: истинные значения\n",
        "    scoring: словарь метрик\n",
        "    cv_rule: правило кросс-валидации\n",
        "    \"\"\"\n",
        "    scores = cross_validate(model,X, y,\n",
        "                      scoring=scoring, cv=cv_rule )\n",
        "    print('Ошибка на кросс-валидации')\n",
        "    DF_score = pd.DataFrame(scores)\n",
        "    display(DF_score)\n",
        "    print('\\n')\n",
        "    print(DF_score.mean()[2:])"
      ],
      "metadata": {
        "id": "1cc0DOHUdisi"
      },
      "execution_count": null,
      "outputs": []
    },
    {
      "cell_type": "code",
      "source": [
        "scoring_reg = {'R2': 'r2',\n",
        "           '-MSE': 'neg_mean_squared_error',\n",
        "           '-MAE': 'neg_mean_absolute_error',\n",
        "           '-Max': 'max_error'}"
      ],
      "metadata": {
        "id": "hNahJrMLd5FV"
      },
      "execution_count": null,
      "outputs": []
    },
    {
      "cell_type": "code",
      "source": [
        "cross_validation (X_train_prep, y_train,\n",
        "                  model_ab,\n",
        "                  scoring_reg,\n",
        "                  ShuffleSplit(n_splits=5, random_state = 42))"
      ],
      "metadata": {
        "colab": {
          "base_uri": "https://localhost:8080/",
          "height": 345
        },
        "id": "HYZb3oHTd0mo",
        "outputId": "2a98f8ef-8278-4cc7-e7b4-8ce1e26345b9"
      },
      "execution_count": null,
      "outputs": [
        {
          "output_type": "stream",
          "name": "stdout",
          "text": [
            "Ошибка на кросс-валидации\n"
          ]
        },
        {
          "output_type": "display_data",
          "data": {
            "text/plain": [
              "   fit_time  score_time   test_R2     test_-MSE    test_-MAE     test_-Max\n",
              "0  3.780842    0.034533  0.679018 -1.900593e+07 -3127.315350 -31369.404219\n",
              "1  3.343803    0.027382  0.705934 -1.901325e+07 -3106.018321 -29898.319405\n",
              "2  3.657450    0.027848  0.688422 -1.912853e+07 -3029.820120 -37524.881553\n",
              "3  5.343207    0.023215  0.694820 -1.822697e+07 -3065.269254 -28203.580666\n",
              "4  2.318406    0.021637  0.674827 -1.904364e+07 -3023.823805 -40287.193931"
            ],
            "text/html": [
              "\n",
              "  <div id=\"df-687957ed-e858-470a-a40b-ee1f46eb78e9\" class=\"colab-df-container\">\n",
              "    <div>\n",
              "<style scoped>\n",
              "    .dataframe tbody tr th:only-of-type {\n",
              "        vertical-align: middle;\n",
              "    }\n",
              "\n",
              "    .dataframe tbody tr th {\n",
              "        vertical-align: top;\n",
              "    }\n",
              "\n",
              "    .dataframe thead th {\n",
              "        text-align: right;\n",
              "    }\n",
              "</style>\n",
              "<table border=\"1\" class=\"dataframe\">\n",
              "  <thead>\n",
              "    <tr style=\"text-align: right;\">\n",
              "      <th></th>\n",
              "      <th>fit_time</th>\n",
              "      <th>score_time</th>\n",
              "      <th>test_R2</th>\n",
              "      <th>test_-MSE</th>\n",
              "      <th>test_-MAE</th>\n",
              "      <th>test_-Max</th>\n",
              "    </tr>\n",
              "  </thead>\n",
              "  <tbody>\n",
              "    <tr>\n",
              "      <th>0</th>\n",
              "      <td>3.780842</td>\n",
              "      <td>0.034533</td>\n",
              "      <td>0.679018</td>\n",
              "      <td>-1.900593e+07</td>\n",
              "      <td>-3127.315350</td>\n",
              "      <td>-31369.404219</td>\n",
              "    </tr>\n",
              "    <tr>\n",
              "      <th>1</th>\n",
              "      <td>3.343803</td>\n",
              "      <td>0.027382</td>\n",
              "      <td>0.705934</td>\n",
              "      <td>-1.901325e+07</td>\n",
              "      <td>-3106.018321</td>\n",
              "      <td>-29898.319405</td>\n",
              "    </tr>\n",
              "    <tr>\n",
              "      <th>2</th>\n",
              "      <td>3.657450</td>\n",
              "      <td>0.027848</td>\n",
              "      <td>0.688422</td>\n",
              "      <td>-1.912853e+07</td>\n",
              "      <td>-3029.820120</td>\n",
              "      <td>-37524.881553</td>\n",
              "    </tr>\n",
              "    <tr>\n",
              "      <th>3</th>\n",
              "      <td>5.343207</td>\n",
              "      <td>0.023215</td>\n",
              "      <td>0.694820</td>\n",
              "      <td>-1.822697e+07</td>\n",
              "      <td>-3065.269254</td>\n",
              "      <td>-28203.580666</td>\n",
              "    </tr>\n",
              "    <tr>\n",
              "      <th>4</th>\n",
              "      <td>2.318406</td>\n",
              "      <td>0.021637</td>\n",
              "      <td>0.674827</td>\n",
              "      <td>-1.904364e+07</td>\n",
              "      <td>-3023.823805</td>\n",
              "      <td>-40287.193931</td>\n",
              "    </tr>\n",
              "  </tbody>\n",
              "</table>\n",
              "</div>\n",
              "    <div class=\"colab-df-buttons\">\n",
              "\n",
              "  <div class=\"colab-df-container\">\n",
              "    <button class=\"colab-df-convert\" onclick=\"convertToInteractive('df-687957ed-e858-470a-a40b-ee1f46eb78e9')\"\n",
              "            title=\"Convert this dataframe to an interactive table.\"\n",
              "            style=\"display:none;\">\n",
              "\n",
              "  <svg xmlns=\"http://www.w3.org/2000/svg\" height=\"24px\" viewBox=\"0 -960 960 960\">\n",
              "    <path d=\"M120-120v-720h720v720H120Zm60-500h600v-160H180v160Zm220 220h160v-160H400v160Zm0 220h160v-160H400v160ZM180-400h160v-160H180v160Zm440 0h160v-160H620v160ZM180-180h160v-160H180v160Zm440 0h160v-160H620v160Z\"/>\n",
              "  </svg>\n",
              "    </button>\n",
              "\n",
              "  <style>\n",
              "    .colab-df-container {\n",
              "      display:flex;\n",
              "      gap: 12px;\n",
              "    }\n",
              "\n",
              "    .colab-df-convert {\n",
              "      background-color: #E8F0FE;\n",
              "      border: none;\n",
              "      border-radius: 50%;\n",
              "      cursor: pointer;\n",
              "      display: none;\n",
              "      fill: #1967D2;\n",
              "      height: 32px;\n",
              "      padding: 0 0 0 0;\n",
              "      width: 32px;\n",
              "    }\n",
              "\n",
              "    .colab-df-convert:hover {\n",
              "      background-color: #E2EBFA;\n",
              "      box-shadow: 0px 1px 2px rgba(60, 64, 67, 0.3), 0px 1px 3px 1px rgba(60, 64, 67, 0.15);\n",
              "      fill: #174EA6;\n",
              "    }\n",
              "\n",
              "    .colab-df-buttons div {\n",
              "      margin-bottom: 4px;\n",
              "    }\n",
              "\n",
              "    [theme=dark] .colab-df-convert {\n",
              "      background-color: #3B4455;\n",
              "      fill: #D2E3FC;\n",
              "    }\n",
              "\n",
              "    [theme=dark] .colab-df-convert:hover {\n",
              "      background-color: #434B5C;\n",
              "      box-shadow: 0px 1px 3px 1px rgba(0, 0, 0, 0.15);\n",
              "      filter: drop-shadow(0px 1px 2px rgba(0, 0, 0, 0.3));\n",
              "      fill: #FFFFFF;\n",
              "    }\n",
              "  </style>\n",
              "\n",
              "    <script>\n",
              "      const buttonEl =\n",
              "        document.querySelector('#df-687957ed-e858-470a-a40b-ee1f46eb78e9 button.colab-df-convert');\n",
              "      buttonEl.style.display =\n",
              "        google.colab.kernel.accessAllowed ? 'block' : 'none';\n",
              "\n",
              "      async function convertToInteractive(key) {\n",
              "        const element = document.querySelector('#df-687957ed-e858-470a-a40b-ee1f46eb78e9');\n",
              "        const dataTable =\n",
              "          await google.colab.kernel.invokeFunction('convertToInteractive',\n",
              "                                                    [key], {});\n",
              "        if (!dataTable) return;\n",
              "\n",
              "        const docLinkHtml = 'Like what you see? Visit the ' +\n",
              "          '<a target=\"_blank\" href=https://colab.research.google.com/notebooks/data_table.ipynb>data table notebook</a>'\n",
              "          + ' to learn more about interactive tables.';\n",
              "        element.innerHTML = '';\n",
              "        dataTable['output_type'] = 'display_data';\n",
              "        await google.colab.output.renderOutput(dataTable, element);\n",
              "        const docLink = document.createElement('div');\n",
              "        docLink.innerHTML = docLinkHtml;\n",
              "        element.appendChild(docLink);\n",
              "      }\n",
              "    </script>\n",
              "  </div>\n",
              "\n",
              "\n",
              "<div id=\"df-fda3c4cb-278f-4460-97c4-1cc3b11a743a\">\n",
              "  <button class=\"colab-df-quickchart\" onclick=\"quickchart('df-fda3c4cb-278f-4460-97c4-1cc3b11a743a')\"\n",
              "            title=\"Suggest charts\"\n",
              "            style=\"display:none;\">\n",
              "\n",
              "<svg xmlns=\"http://www.w3.org/2000/svg\" height=\"24px\"viewBox=\"0 0 24 24\"\n",
              "     width=\"24px\">\n",
              "    <g>\n",
              "        <path d=\"M19 3H5c-1.1 0-2 .9-2 2v14c0 1.1.9 2 2 2h14c1.1 0 2-.9 2-2V5c0-1.1-.9-2-2-2zM9 17H7v-7h2v7zm4 0h-2V7h2v10zm4 0h-2v-4h2v4z\"/>\n",
              "    </g>\n",
              "</svg>\n",
              "  </button>\n",
              "\n",
              "<style>\n",
              "  .colab-df-quickchart {\n",
              "      --bg-color: #E8F0FE;\n",
              "      --fill-color: #1967D2;\n",
              "      --hover-bg-color: #E2EBFA;\n",
              "      --hover-fill-color: #174EA6;\n",
              "      --disabled-fill-color: #AAA;\n",
              "      --disabled-bg-color: #DDD;\n",
              "  }\n",
              "\n",
              "  [theme=dark] .colab-df-quickchart {\n",
              "      --bg-color: #3B4455;\n",
              "      --fill-color: #D2E3FC;\n",
              "      --hover-bg-color: #434B5C;\n",
              "      --hover-fill-color: #FFFFFF;\n",
              "      --disabled-bg-color: #3B4455;\n",
              "      --disabled-fill-color: #666;\n",
              "  }\n",
              "\n",
              "  .colab-df-quickchart {\n",
              "    background-color: var(--bg-color);\n",
              "    border: none;\n",
              "    border-radius: 50%;\n",
              "    cursor: pointer;\n",
              "    display: none;\n",
              "    fill: var(--fill-color);\n",
              "    height: 32px;\n",
              "    padding: 0;\n",
              "    width: 32px;\n",
              "  }\n",
              "\n",
              "  .colab-df-quickchart:hover {\n",
              "    background-color: var(--hover-bg-color);\n",
              "    box-shadow: 0 1px 2px rgba(60, 64, 67, 0.3), 0 1px 3px 1px rgba(60, 64, 67, 0.15);\n",
              "    fill: var(--button-hover-fill-color);\n",
              "  }\n",
              "\n",
              "  .colab-df-quickchart-complete:disabled,\n",
              "  .colab-df-quickchart-complete:disabled:hover {\n",
              "    background-color: var(--disabled-bg-color);\n",
              "    fill: var(--disabled-fill-color);\n",
              "    box-shadow: none;\n",
              "  }\n",
              "\n",
              "  .colab-df-spinner {\n",
              "    border: 2px solid var(--fill-color);\n",
              "    border-color: transparent;\n",
              "    border-bottom-color: var(--fill-color);\n",
              "    animation:\n",
              "      spin 1s steps(1) infinite;\n",
              "  }\n",
              "\n",
              "  @keyframes spin {\n",
              "    0% {\n",
              "      border-color: transparent;\n",
              "      border-bottom-color: var(--fill-color);\n",
              "      border-left-color: var(--fill-color);\n",
              "    }\n",
              "    20% {\n",
              "      border-color: transparent;\n",
              "      border-left-color: var(--fill-color);\n",
              "      border-top-color: var(--fill-color);\n",
              "    }\n",
              "    30% {\n",
              "      border-color: transparent;\n",
              "      border-left-color: var(--fill-color);\n",
              "      border-top-color: var(--fill-color);\n",
              "      border-right-color: var(--fill-color);\n",
              "    }\n",
              "    40% {\n",
              "      border-color: transparent;\n",
              "      border-right-color: var(--fill-color);\n",
              "      border-top-color: var(--fill-color);\n",
              "    }\n",
              "    60% {\n",
              "      border-color: transparent;\n",
              "      border-right-color: var(--fill-color);\n",
              "    }\n",
              "    80% {\n",
              "      border-color: transparent;\n",
              "      border-right-color: var(--fill-color);\n",
              "      border-bottom-color: var(--fill-color);\n",
              "    }\n",
              "    90% {\n",
              "      border-color: transparent;\n",
              "      border-bottom-color: var(--fill-color);\n",
              "    }\n",
              "  }\n",
              "</style>\n",
              "\n",
              "  <script>\n",
              "    async function quickchart(key) {\n",
              "      const quickchartButtonEl =\n",
              "        document.querySelector('#' + key + ' button');\n",
              "      quickchartButtonEl.disabled = true;  // To prevent multiple clicks.\n",
              "      quickchartButtonEl.classList.add('colab-df-spinner');\n",
              "      try {\n",
              "        const charts = await google.colab.kernel.invokeFunction(\n",
              "            'suggestCharts', [key], {});\n",
              "      } catch (error) {\n",
              "        console.error('Error during call to suggestCharts:', error);\n",
              "      }\n",
              "      quickchartButtonEl.classList.remove('colab-df-spinner');\n",
              "      quickchartButtonEl.classList.add('colab-df-quickchart-complete');\n",
              "    }\n",
              "    (() => {\n",
              "      let quickchartButtonEl =\n",
              "        document.querySelector('#df-fda3c4cb-278f-4460-97c4-1cc3b11a743a button');\n",
              "      quickchartButtonEl.style.display =\n",
              "        google.colab.kernel.accessAllowed ? 'block' : 'none';\n",
              "    })();\n",
              "  </script>\n",
              "</div>\n",
              "    </div>\n",
              "  </div>\n"
            ],
            "application/vnd.google.colaboratory.intrinsic+json": {
              "type": "dataframe",
              "summary": "{\n  \"name\": \"                  ShuffleSplit(n_splits=5, random_state = 42))\",\n  \"rows\": 5,\n  \"fields\": [\n    {\n      \"column\": \"fit_time\",\n      \"properties\": {\n        \"dtype\": \"number\",\n        \"std\": 1.0889813011354355,\n        \"min\": 2.318405866622925,\n        \"max\": 5.343207359313965,\n        \"num_unique_values\": 5,\n        \"samples\": [\n          3.3438031673431396,\n          2.318405866622925,\n          3.6574501991271973\n        ],\n        \"semantic_type\": \"\",\n        \"description\": \"\"\n      }\n    },\n    {\n      \"column\": \"score_time\",\n      \"properties\": {\n        \"dtype\": \"number\",\n        \"std\": 0.0050164879945945,\n        \"min\": 0.0216372013092041,\n        \"max\": 0.03453254699707031,\n        \"num_unique_values\": 5,\n        \"samples\": [\n          0.02738213539123535,\n          0.0216372013092041,\n          0.027848243713378906\n        ],\n        \"semantic_type\": \"\",\n        \"description\": \"\"\n      }\n    },\n    {\n      \"column\": \"test_R2\",\n      \"properties\": {\n        \"dtype\": \"number\",\n        \"std\": 0.012456989393713664,\n        \"min\": 0.6748265553809585,\n        \"max\": 0.7059336954584242,\n        \"num_unique_values\": 5,\n        \"samples\": [\n          0.7059336954584242,\n          0.6748265553809585,\n          0.6884222284771935\n        ],\n        \"semantic_type\": \"\",\n        \"description\": \"\"\n      }\n    },\n    {\n      \"column\": \"test_-MSE\",\n      \"properties\": {\n        \"dtype\": \"number\",\n        \"std\": 370318.5053537656,\n        \"min\": -19128529.722712796,\n        \"max\": -18226967.797712382,\n        \"num_unique_values\": 5,\n        \"samples\": [\n          -19013250.856133983,\n          -19043643.083834376,\n          -19128529.722712796\n        ],\n        \"semantic_type\": \"\",\n        \"description\": \"\"\n      }\n    },\n    {\n      \"column\": \"test_-MAE\",\n      \"properties\": {\n        \"dtype\": \"number\",\n        \"std\": 45.69026942270143,\n        \"min\": -3127.315350270304,\n        \"max\": -3023.8238045747253,\n        \"num_unique_values\": 5,\n        \"samples\": [\n          -3106.018320811148,\n          -3023.8238045747253,\n          -3029.820119983909\n        ],\n        \"semantic_type\": \"\",\n        \"description\": \"\"\n      }\n    },\n    {\n      \"column\": \"test_-Max\",\n      \"properties\": {\n        \"dtype\": \"number\",\n        \"std\": 5191.817778053826,\n        \"min\": -40287.19393109742,\n        \"max\": -28203.580666316895,\n        \"num_unique_values\": 5,\n        \"samples\": [\n          -29898.31940509915,\n          -40287.19393109742,\n          -37524.88155339806\n        ],\n        \"semantic_type\": \"\",\n        \"description\": \"\"\n      }\n    }\n  ]\n}"
            }
          },
          "metadata": {}
        },
        {
          "output_type": "stream",
          "name": "stdout",
          "text": [
            "\n",
            "\n",
            "test_R2      6.886042e-01\n",
            "test_-MSE   -1.888366e+07\n",
            "test_-MAE   -3.070449e+03\n",
            "test_-Max   -3.345668e+04\n",
            "dtype: float64\n"
          ]
        }
      ]
    },
    {
      "cell_type": "markdown",
      "source": [
        "## Визуализация ошибок от scikit-learn"
      ],
      "metadata": {
        "id": "prNHGCfzWgGa"
      }
    },
    {
      "cell_type": "code",
      "source": [
        "PredictionErrorDisplay.from_predictions(\n",
        "    y_val,\n",
        "    model_ab.predict(X_val_prep),\n",
        "    kind=\"actual_vs_predicted\",\n",
        "    scatter_kwargs={\"alpha\": 0.5},\n",
        "        line_kwargs = {\"color\" : 'white'}\n",
        "\n",
        ");"
      ],
      "metadata": {
        "colab": {
          "base_uri": "https://localhost:8080/",
          "height": 449
        },
        "id": "PVgykHnVW7LD",
        "outputId": "c50cae23-6c7a-47d1-a95e-247f6534aa51"
      },
      "execution_count": null,
      "outputs": [
        {
          "output_type": "display_data",
          "data": {
            "text/plain": [
              "<Figure size 640x480 with 1 Axes>"
            ],
            "image/png": "[encoded data removed]"
          },
          "metadata": {}
        }
      ]
    },
    {
      "cell_type": "markdown",
      "source": [
        "Небольшие выводы\n",
        "\n",
        "* Модель адаптивного бустинга на данных гипер-параметрах не очень справляется с предсказанием целевой переменной (метрика r2 на кросс-валидации `0.69` против `0.65` у линейной регрессии, `0.74` у ближайших соседей и `0.75` у простых деревьев решений)\n",
        "\n",
        "* Значимость признаков в целом напоминает результаты на одиночных деревьях: год и модель так и остались самыми значимыми, подросла значимость объема типа трансмиссии, значимость остальных признаков гораздо ниже\n",
        "\n"
      ],
      "metadata": {
        "id": "C1VOH5cJLbmn"
      }
    },
    {
      "cell_type": "markdown",
      "metadata": {
        "id": "a6a8j6kebDtF"
      },
      "source": [
        "# Градиентный Бустинг для Регрессии"
      ]
    },
    {
      "cell_type": "code",
      "metadata": {
        "id": "LHifLA7-bDtF"
      },
      "source": [
        "from sklearn.ensemble import GradientBoostingRegressor # Градиентный Бустинг для Регрессии от scikit-learn\n",
        "# есть еще якобы ускоренный вариант\n",
        "from sklearn.ensemble import HistGradientBoostingRegressor"
      ],
      "execution_count": null,
      "outputs": []
    },
    {
      "cell_type": "markdown",
      "source": [
        "**Обучаем модель**"
      ],
      "metadata": {
        "id": "oT4NXBxHbDtG"
      }
    },
    {
      "cell_type": "markdown",
      "source": [
        "\n",
        "\n",
        "Стандартная уже для нас рутина\n",
        "\n",
        "* Создаем объект класса, в котором можем изменить\n",
        "    * `n_estimators` - максимальное количество итераций (по умолчанию 100)\n",
        "    * `learning_rate` - с каким коэффициентом мы добавляем новые решения\n",
        "    * `loss` - функция потерь для оценки ошибок для обновления весов, на выбор `'squared_error', 'absolute_error', 'huber', 'quantile'`\n",
        "    * `subsample` - какую долю от всей выборки используем для обучения отдельного решения\n",
        "    * `n_iter_no_change` - чтобы раньше остановиться\n",
        "    * `random_state` - для повторяемости\n",
        "    * при этом еще можно прописать детальней архитектуру базовых деревьев (глубина, про листья и т.д.)\n",
        "* \"Обучаем\" через метод `.fit`"
      ],
      "metadata": {
        "id": "Y62RVmlpbDtG"
      }
    },
    {
      "cell_type": "code",
      "source": [
        "model_gb = GradientBoostingRegressor(n_iter_no_change=10,\n",
        "                                     tol=0.01,\n",
        "                                learning_rate=0.1,\n",
        "                                n_estimators=150,\n",
        "                                subsample = 0.7\n",
        "                              )\n",
        "\n",
        "model_gb.fit(X_train_prep, y_train)"
      ],
      "metadata": {
        "colab": {
          "base_uri": "https://localhost:8080/",
          "height": 92
        },
        "outputId": "143922d0-9e2f-4a43-9bd2-ea4081b7e5a1",
        "id": "KfVeQWo_bDtG"
      },
      "execution_count": null,
      "outputs": [
        {
          "output_type": "execute_result",
          "data": {
            "text/plain": [
              "GradientBoostingRegressor(n_estimators=150, n_iter_no_change=10, subsample=0.7,\n",
              "                          tol=0.01)"
            ],
            "text/html": [
              "<style>#sk-container-id-2 {color: black;background-color: white;}#sk-container-id-2 pre{padding: 0;}#sk-container-id-2 div.sk-toggleable {background-color: white;}#sk-container-id-2 label.sk-toggleable__label {cursor: pointer;display: block;width: 100%;margin-bottom: 0;padding: 0.3em;box-sizing: border-box;text-align: center;}#sk-container-id-2 label.sk-toggleable__label-arrow:before {content: \"▸\";float: left;margin-right: 0.25em;color: #696969;}#sk-container-id-2 label.sk-toggleable__label-arrow:hover:before {color: black;}#sk-container-id-2 div.sk-estimator:hover label.sk-toggleable__label-arrow:before {color: black;}#sk-container-id-2 div.sk-toggleable__content {max-height: 0;max-width: 0;overflow: hidden;text-align: left;background-color: #f0f8ff;}#sk-container-id-2 div.sk-toggleable__content pre {margin: 0.2em;color: black;border-radius: 0.25em;background-color: #f0f8ff;}#sk-container-id-2 input.sk-toggleable__control:checked~div.sk-toggleable__content {max-height: 200px;max-width: 100%;overflow: auto;}#sk-container-id-2 input.sk-toggleable__control:checked~label.sk-toggleable__label-arrow:before {content: \"▾\";}#sk-container-id-2 div.sk-estimator input.sk-toggleable__control:checked~label.sk-toggleable__label {background-color: #d4ebff;}#sk-container-id-2 div.sk-label input.sk-toggleable__control:checked~label.sk-toggleable__label {background-color: #d4ebff;}#sk-container-id-2 input.sk-hidden--visually {border: 0;clip: rect(1px 1px 1px 1px);clip: rect(1px, 1px, 1px, 1px);height: 1px;margin: -1px;overflow: hidden;padding: 0;position: absolute;width: 1px;}#sk-container-id-2 div.sk-estimator {font-family: monospace;background-color: #f0f8ff;border: 1px dotted black;border-radius: 0.25em;box-sizing: border-box;margin-bottom: 0.5em;}#sk-container-id-2 div.sk-estimator:hover {background-color: #d4ebff;}#sk-container-id-2 div.sk-parallel-item::after {content: \"\";width: 100%;border-bottom: 1px solid gray;flex-grow: 1;}#sk-container-id-2 div.sk-label:hover label.sk-toggleable__label {background-color: #d4ebff;}#sk-container-id-2 div.sk-serial::before {content: \"\";position: absolute;border-left: 1px solid gray;box-sizing: border-box;top: 0;bottom: 0;left: 50%;z-index: 0;}#sk-container-id-2 div.sk-serial {display: flex;flex-direction: column;align-items: center;background-color: white;padding-right: 0.2em;padding-left: 0.2em;position: relative;}#sk-container-id-2 div.sk-item {position: relative;z-index: 1;}#sk-container-id-2 div.sk-parallel {display: flex;align-items: stretch;justify-content: center;background-color: white;position: relative;}#sk-container-id-2 div.sk-item::before, #sk-container-id-2 div.sk-parallel-item::before {content: \"\";position: absolute;border-left: 1px solid gray;box-sizing: border-box;top: 0;bottom: 0;left: 50%;z-index: -1;}#sk-container-id-2 div.sk-parallel-item {display: flex;flex-direction: column;z-index: 1;position: relative;background-color: white;}#sk-container-id-2 div.sk-parallel-item:first-child::after {align-self: flex-end;width: 50%;}#sk-container-id-2 div.sk-parallel-item:last-child::after {align-self: flex-start;width: 50%;}#sk-container-id-2 div.sk-parallel-item:only-child::after {width: 0;}#sk-container-id-2 div.sk-dashed-wrapped {border: 1px dashed gray;margin: 0 0.4em 0.5em 0.4em;box-sizing: border-box;padding-bottom: 0.4em;background-color: white;}#sk-container-id-2 div.sk-label label {font-family: monospace;font-weight: bold;display: inline-block;line-height: 1.2em;}#sk-container-id-2 div.sk-label-container {text-align: center;}#sk-container-id-2 div.sk-container {/* jupyter's `normalize.less` sets `[hidden] { display: none; }` but bootstrap.min.css set `[hidden] { display: none !important; }` so we also need the `!important` here to be able to override the default hidden behavior on the sphinx rendered scikit-learn.org. See: https://github.com/scikit-learn/scikit-learn/issues/21755 */display: inline-block !important;position: relative;}#sk-container-id-2 div.sk-text-repr-fallback {display: none;}</style><div id=\"sk-container-id-2\" class=\"sk-top-container\"><div class=\"sk-text-repr-fallback\"><pre>GradientBoostingRegressor(n_estimators=150, n_iter_no_change=10, subsample=0.7,\n",
              "                          tol=0.01)</pre><b>In a Jupyter environment, please rerun this cell to show the HTML representation or trust the notebook. <br />On GitHub, the HTML representation is unable to render, please try loading this page with nbviewer.org.</b></div><div class=\"sk-container\" hidden><div class=\"sk-item\"><div class=\"sk-estimator sk-toggleable\"><input class=\"sk-toggleable__control sk-hidden--visually\" id=\"sk-estimator-id-2\" type=\"checkbox\" checked><label for=\"sk-estimator-id-2\" class=\"sk-toggleable__label sk-toggleable__label-arrow\">GradientBoostingRegressor</label><div class=\"sk-toggleable__content\"><pre>GradientBoostingRegressor(n_estimators=150, n_iter_no_change=10, subsample=0.7,\n",
              "                          tol=0.01)</pre></div></div></div></div></div>"
            ]
          },
          "metadata": {},
          "execution_count": 27
        }
      ]
    },
    {
      "cell_type": "markdown",
      "source": [
        "Ошибки отдельного предсказателя"
      ],
      "metadata": {
        "id": "iTwA0YvjbDtI"
      }
    },
    {
      "cell_type": "code",
      "source": [
        "model_gb.train_score_"
      ],
      "metadata": {
        "colab": {
          "base_uri": "https://localhost:8080/"
        },
        "outputId": "131c25b6-4dcf-4485-e2b8-ffb6af4ddc31",
        "id": "Z16yfyq_bDtI"
      },
      "execution_count": null,
      "outputs": [
        {
          "output_type": "execute_result",
          "data": {
            "text/plain": [
              "array([53239048.63426544, 48272355.05467416, 42616062.8292625 ,\n",
              "       39350615.11589245, 36121380.39759937, 32151826.33953699,\n",
              "       28774854.62723344, 26780821.03144661, 25571599.54029271,\n",
              "       23458993.45632515, 21875634.64233971, 20984924.10084881,\n",
              "       19929149.33880806, 19461343.64590913, 18194479.79195765,\n",
              "       17745025.60761798, 16863506.58349727, 16153969.52886031,\n",
              "       16068470.64398099, 15141216.90298071, 14680568.95579613,\n",
              "       14538001.50212817, 13605363.38521182, 13830849.24985234,\n",
              "       13262004.04887075, 13306214.21055435, 13059212.63033679,\n",
              "       12824147.70284713, 12423349.94723419, 12616518.83640876,\n",
              "       13049372.63256313, 11883633.33200049, 12523541.69216217,\n",
              "       12307335.26849725, 12127727.12050906, 12166627.11379026,\n",
              "       11962752.60337755, 11855981.2801234 , 11954503.92209674,\n",
              "       11080903.22146446, 11862644.62978324, 11540891.15526738,\n",
              "       11133339.9550568 , 11510292.70261336, 11380050.36753835,\n",
              "       11338011.07073027, 11346029.93746207, 11340999.52968485,\n",
              "       11275086.56711626, 11265251.27759467, 11112022.75619278,\n",
              "       10935572.58681284, 10943899.10498609, 10804222.46985929,\n",
              "       11445850.60950711, 10598233.15573928, 10888436.43245296,\n",
              "       10547403.13936276, 10886043.44044183, 11152630.03524823,\n",
              "       10780450.20477504, 10639881.88839382, 10720254.32372933,\n",
              "       10795485.92009963, 10711202.90704567, 10824711.64840055,\n",
              "       10551990.44234997, 10644100.9240036 , 10481444.39279344,\n",
              "       10577858.26785415, 10630741.46623088, 10744040.82493089,\n",
              "       10608585.77817723, 10673092.97987772, 10733016.70930351,\n",
              "       10430764.57015196,  9770010.93088089, 10612466.23223695,\n",
              "       10368666.97473275, 10320912.5237212 , 10191771.26616146,\n",
              "       10347367.18978285, 10282535.66472735, 10539823.05374952,\n",
              "       10612213.30254038, 10404606.5256488 , 10121204.43847367,\n",
              "        9946147.60398469, 10476490.3511886 , 10227482.50873562,\n",
              "        9913109.09468826,  9767628.87481872, 10006004.47179285,\n",
              "       10154909.62293108, 10083193.32910074, 10077907.54322515,\n",
              "       10432857.6268609 , 10130882.94324955, 10202247.37880686,\n",
              "       10477418.31437518, 10083332.02469343,  9883070.16006262,\n",
              "        9766918.16281238,  9724533.58384296, 10465035.15740841,\n",
              "        9710312.44007337, 10048412.06612496,  9998214.73141157,\n",
              "        9862660.41489948, 10097397.16819433,  9482506.82524813,\n",
              "        9726489.45015309, 10216329.01855921, 10148253.24260583,\n",
              "        9854070.6086893 ,  9988432.00892294,  9229643.63428839,\n",
              "        9899288.47655441,  9878694.15186019,  9767869.80997087,\n",
              "        9826936.59506048,  9996927.32326896,  9853450.80181618,\n",
              "        9485022.58520764,  9807289.67101202,  9633692.23500841,\n",
              "        9350295.11837896,  9484877.03044527,  9183919.7541617 ,\n",
              "        9655561.44101857,  9815348.36773852,  9811245.37799758,\n",
              "       10194938.80350553,  9679782.90727955,  9521010.69038791,\n",
              "        9915138.62058287,  9459444.49148781,  9466376.59405256,\n",
              "        9510403.96738327,  9713771.74601974,  9310763.89279962,\n",
              "        9630573.98601058,  9107559.42064714,  9776735.64663572,\n",
              "        9288897.240669  ,  9375317.53143479,  9168017.20873363,\n",
              "        9436145.29751668,  9370305.91685648,  9369248.8107695 ])"
            ]
          },
          "metadata": {},
          "execution_count": 28
        }
      ]
    },
    {
      "cell_type": "markdown",
      "source": [
        "Отдельные предсказатели тоже можно посмотреть"
      ],
      "metadata": {
        "id": "xZ6RUxO5ix2r"
      }
    },
    {
      "cell_type": "code",
      "source": [
        "model_gb.estimators_"
      ],
      "metadata": {
        "colab": {
          "base_uri": "https://localhost:8080/"
        },
        "id": "PDJT8cgMiycW",
        "outputId": "3c8730a7-b333-4f87-ddfd-186130b777a1"
      },
      "execution_count": null,
      "outputs": [
        {
          "output_type": "execute_result",
          "data": {
            "text/plain": [
              "array([[DecisionTreeRegressor(criterion='friedman_mse', max_depth=3,\n",
              "                              random_state=RandomState(MT19937) at 0x7DB2BF98D940)],\n",
              "       [DecisionTreeRegressor(criterion='friedman_mse', max_depth=3,\n",
              "                              random_state=RandomState(MT19937) at 0x7DB2BF98D940)],\n",
              "       [DecisionTreeRegressor(criterion='friedman_mse', max_depth=3,\n",
              "                              random_state=RandomState(MT19937) at 0x7DB2BF98D940)],\n",
              "       [DecisionTreeRegressor(criterion='friedman_mse', max_depth=3,\n",
              "                              random_state=RandomState(MT19937) at 0x7DB2BF98D940)],\n",
              "       [DecisionTreeRegressor(criterion='friedman_mse', max_depth=3,\n",
              "                              random_state=RandomState(MT19937) at 0x7DB2BF98D940)],\n",
              "       [DecisionTreeRegressor(criterion='friedman_mse', max_depth=3,\n",
              "                              random_state=RandomState(MT19937) at 0x7DB2BF98D940)],\n",
              "       [DecisionTreeRegressor(criterion='friedman_mse', max_depth=3,\n",
              "                              random_state=RandomState(MT19937) at 0x7DB2BF98D940)],\n",
              "       [DecisionTreeRegressor(criterion='friedman_mse', max_depth=3,\n",
              "                              random_state=RandomState(MT19937) at 0x7DB2BF98D940)],\n",
              "       [DecisionTreeRegressor(criterion='friedman_mse', max_depth=3,\n",
              "                              random_state=RandomState(MT19937) at 0x7DB2BF98D940)],\n",
              "       [DecisionTreeRegressor(criterion='friedman_mse', max_depth=3,\n",
              "                              random_state=RandomState(MT19937) at 0x7DB2BF98D940)],\n",
              "       [DecisionTreeRegressor(criterion='friedman_mse', max_depth=3,\n",
              "                              random_state=RandomState(MT19937) at 0x7DB2BF98D940)],\n",
              "       [DecisionTreeRegressor(criterion='friedman_mse', max_depth=3,\n",
              "                              random_state=RandomState(MT19937) at 0x7DB2BF98D940)],\n",
              "       [DecisionTreeRegressor(criterion='friedman_mse', max_depth=3,\n",
              "                              random_state=RandomState(MT19937) at 0x7DB2BF98D940)],\n",
              "       [DecisionTreeRegressor(criterion='friedman_mse', max_depth=3,\n",
              "                              random_state=RandomState(MT19937) at 0x7DB2BF98D940)],\n",
              "       [DecisionTreeRegressor(criterion='friedman_mse', max_depth=3,\n",
              "                              random_state=RandomState(MT19937) at 0x7DB2BF98D940)],\n",
              "       [DecisionTreeRegressor(criterion='friedman_mse', max_depth=3,\n",
              "                              random_state=RandomState(MT19937) at 0x7DB2BF98D940)],\n",
              "       [DecisionTreeRegressor(criterion='friedman_mse', max_depth=3,\n",
              "                              random_state=RandomState(MT19937) at 0x7DB2BF98D940)],\n",
              "       [DecisionTreeRegressor(criterion='friedman_mse', max_depth=3,\n",
              "                              random_state=RandomState(MT19937) at 0x7DB2BF98D940)],\n",
              "       [DecisionTreeRegressor(criterion='friedman_mse', max_depth=3,\n",
              "                              random_state=RandomState(MT19937) at 0x7DB2BF98D940)],\n",
              "       [DecisionTreeRegressor(criterion='friedman_mse', max_depth=3,\n",
              "                              random_state=RandomState(MT19937) at 0x7DB2BF98D940)],\n",
              "       [DecisionTreeRegressor(criterion='friedman_mse', max_depth=3,\n",
              "                              random_state=RandomState(MT19937) at 0x7DB2BF98D940)],\n",
              "       [DecisionTreeRegressor(criterion='friedman_mse', max_depth=3,\n",
              "                              random_state=RandomState(MT19937) at 0x7DB2BF98D940)],\n",
              "       [DecisionTreeRegressor(criterion='friedman_mse', max_depth=3,\n",
              "                              random_state=RandomState(MT19937) at 0x7DB2BF98D940)],\n",
              "       [DecisionTreeRegressor(criterion='friedman_mse', max_depth=3,\n",
              "                              random_state=RandomState(MT19937) at 0x7DB2BF98D940)],\n",
              "       [DecisionTreeRegressor(criterion='friedman_mse', max_depth=3,\n",
              "                              random_state=RandomState(MT19937) at 0x7DB2BF98D940)],\n",
              "       [DecisionTreeRegressor(criterion='friedman_mse', max_depth=3,\n",
              "                              random_state=RandomState(MT19937) at 0x7DB2BF98D940)],\n",
              "       [DecisionTreeRegressor(criterion='friedman_mse', max_depth=3,\n",
              "                              random_state=RandomState(MT19937) at 0x7DB2BF98D940)],\n",
              "       [DecisionTreeRegressor(criterion='friedman_mse', max_depth=3,\n",
              "                              random_state=RandomState(MT19937) at 0x7DB2BF98D940)],\n",
              "       [DecisionTreeRegressor(criterion='friedman_mse', max_depth=3,\n",
              "                              random_state=RandomState(MT19937) at 0x7DB2BF98D940)],\n",
              "       [DecisionTreeRegressor(criterion='friedman_mse', max_depth=3,\n",
              "                              random_state=RandomState(MT19937) at 0x7DB2BF98D940)],\n",
              "       [DecisionTreeRegressor(criterion='friedman_mse', max_depth=3,\n",
              "                              random_state=RandomState(MT19937) at 0x7DB2BF98D940)],\n",
              "       [DecisionTreeRegressor(criterion='friedman_mse', max_depth=3,\n",
              "                              random_state=RandomState(MT19937) at 0x7DB2BF98D940)],\n",
              "       [DecisionTreeRegressor(criterion='friedman_mse', max_depth=3,\n",
              "                              random_state=RandomState(MT19937) at 0x7DB2BF98D940)],\n",
              "       [DecisionTreeRegressor(criterion='friedman_mse', max_depth=3,\n",
              "                              random_state=RandomState(MT19937) at 0x7DB2BF98D940)],\n",
              "       [DecisionTreeRegressor(criterion='friedman_mse', max_depth=3,\n",
              "                              random_state=RandomState(MT19937) at 0x7DB2BF98D940)],\n",
              "       [DecisionTreeRegressor(criterion='friedman_mse', max_depth=3,\n",
              "                              random_state=RandomState(MT19937) at 0x7DB2BF98D940)],\n",
              "       [DecisionTreeRegressor(criterion='friedman_mse', max_depth=3,\n",
              "                              random_state=RandomState(MT19937) at 0x7DB2BF98D940)],\n",
              "       [DecisionTreeRegressor(criterion='friedman_mse', max_depth=3,\n",
              "                              random_state=RandomState(MT19937) at 0x7DB2BF98D940)],\n",
              "       [DecisionTreeRegressor(criterion='friedman_mse', max_depth=3,\n",
              "                              random_state=RandomState(MT19937) at 0x7DB2BF98D940)],\n",
              "       [DecisionTreeRegressor(criterion='friedman_mse', max_depth=3,\n",
              "                              random_state=RandomState(MT19937) at 0x7DB2BF98D940)],\n",
              "       [DecisionTreeRegressor(criterion='friedman_mse', max_depth=3,\n",
              "                              random_state=RandomState(MT19937) at 0x7DB2BF98D940)],\n",
              "       [DecisionTreeRegressor(criterion='friedman_mse', max_depth=3,\n",
              "                              random_state=RandomState(MT19937) at 0x7DB2BF98D940)],\n",
              "       [DecisionTreeRegressor(criterion='friedman_mse', max_depth=3,\n",
              "                              random_state=RandomState(MT19937) at 0x7DB2BF98D940)],\n",
              "       [DecisionTreeRegressor(criterion='friedman_mse', max_depth=3,\n",
              "                              random_state=RandomState(MT19937) at 0x7DB2BF98D940)],\n",
              "       [DecisionTreeRegressor(criterion='friedman_mse', max_depth=3,\n",
              "                              random_state=RandomState(MT19937) at 0x7DB2BF98D940)],\n",
              "       [DecisionTreeRegressor(criterion='friedman_mse', max_depth=3,\n",
              "                              random_state=RandomState(MT19937) at 0x7DB2BF98D940)],\n",
              "       [DecisionTreeRegressor(criterion='friedman_mse', max_depth=3,\n",
              "                              random_state=RandomState(MT19937) at 0x7DB2BF98D940)],\n",
              "       [DecisionTreeRegressor(criterion='friedman_mse', max_depth=3,\n",
              "                              random_state=RandomState(MT19937) at 0x7DB2BF98D940)],\n",
              "       [DecisionTreeRegressor(criterion='friedman_mse', max_depth=3,\n",
              "                              random_state=RandomState(MT19937) at 0x7DB2BF98D940)],\n",
              "       [DecisionTreeRegressor(criterion='friedman_mse', max_depth=3,\n",
              "                              random_state=RandomState(MT19937) at 0x7DB2BF98D940)],\n",
              "       [DecisionTreeRegressor(criterion='friedman_mse', max_depth=3,\n",
              "                              random_state=RandomState(MT19937) at 0x7DB2BF98D940)],\n",
              "       [DecisionTreeRegressor(criterion='friedman_mse', max_depth=3,\n",
              "                              random_state=RandomState(MT19937) at 0x7DB2BF98D940)],\n",
              "       [DecisionTreeRegressor(criterion='friedman_mse', max_depth=3,\n",
              "                              random_state=RandomState(MT19937) at 0x7DB2BF98D940)],\n",
              "       [DecisionTreeRegressor(criterion='friedman_mse', max_depth=3,\n",
              "                              random_state=RandomState(MT19937) at 0x7DB2BF98D940)],\n",
              "       [DecisionTreeRegressor(criterion='friedman_mse', max_depth=3,\n",
              "                              random_state=RandomState(MT19937) at 0x7DB2BF98D940)],\n",
              "       [DecisionTreeRegressor(criterion='friedman_mse', max_depth=3,\n",
              "                              random_state=RandomState(MT19937) at 0x7DB2BF98D940)],\n",
              "       [DecisionTreeRegressor(criterion='friedman_mse', max_depth=3,\n",
              "                              random_state=RandomState(MT19937) at 0x7DB2BF98D940)],\n",
              "       [DecisionTreeRegressor(criterion='friedman_mse', max_depth=3,\n",
              "                              random_state=RandomState(MT19937) at 0x7DB2BF98D940)],\n",
              "       [DecisionTreeRegressor(criterion='friedman_mse', max_depth=3,\n",
              "                              random_state=RandomState(MT19937) at 0x7DB2BF98D940)],\n",
              "       [DecisionTreeRegressor(criterion='friedman_mse', max_depth=3,\n",
              "                              random_state=RandomState(MT19937) at 0x7DB2BF98D940)],\n",
              "       [DecisionTreeRegressor(criterion='friedman_mse', max_depth=3,\n",
              "                              random_state=RandomState(MT19937) at 0x7DB2BF98D940)],\n",
              "       [DecisionTreeRegressor(criterion='friedman_mse', max_depth=3,\n",
              "                              random_state=RandomState(MT19937) at 0x7DB2BF98D940)],\n",
              "       [DecisionTreeRegressor(criterion='friedman_mse', max_depth=3,\n",
              "                              random_state=RandomState(MT19937) at 0x7DB2BF98D940)],\n",
              "       [DecisionTreeRegressor(criterion='friedman_mse', max_depth=3,\n",
              "                              random_state=RandomState(MT19937) at 0x7DB2BF98D940)],\n",
              "       [DecisionTreeRegressor(criterion='friedman_mse', max_depth=3,\n",
              "                              random_state=RandomState(MT19937) at 0x7DB2BF98D940)],\n",
              "       [DecisionTreeRegressor(criterion='friedman_mse', max_depth=3,\n",
              "                              random_state=RandomState(MT19937) at 0x7DB2BF98D940)],\n",
              "       [DecisionTreeRegressor(criterion='friedman_mse', max_depth=3,\n",
              "                              random_state=RandomState(MT19937) at 0x7DB2BF98D940)],\n",
              "       [DecisionTreeRegressor(criterion='friedman_mse', max_depth=3,\n",
              "                              random_state=RandomState(MT19937) at 0x7DB2BF98D940)],\n",
              "       [DecisionTreeRegressor(criterion='friedman_mse', max_depth=3,\n",
              "                              random_state=RandomState(MT19937) at 0x7DB2BF98D940)],\n",
              "       [DecisionTreeRegressor(criterion='friedman_mse', max_depth=3,\n",
              "                              random_state=RandomState(MT19937) at 0x7DB2BF98D940)],\n",
              "       [DecisionTreeRegressor(criterion='friedman_mse', max_depth=3,\n",
              "                              random_state=RandomState(MT19937) at 0x7DB2BF98D940)],\n",
              "       [DecisionTreeRegressor(criterion='friedman_mse', max_depth=3,\n",
              "                              random_state=RandomState(MT19937) at 0x7DB2BF98D940)],\n",
              "       [DecisionTreeRegressor(criterion='friedman_mse', max_depth=3,\n",
              "                              random_state=RandomState(MT19937) at 0x7DB2BF98D940)],\n",
              "       [DecisionTreeRegressor(criterion='friedman_mse', max_depth=3,\n",
              "                              random_state=RandomState(MT19937) at 0x7DB2BF98D940)],\n",
              "       [DecisionTreeRegressor(criterion='friedman_mse', max_depth=3,\n",
              "                              random_state=RandomState(MT19937) at 0x7DB2BF98D940)],\n",
              "       [DecisionTreeRegressor(criterion='friedman_mse', max_depth=3,\n",
              "                              random_state=RandomState(MT19937) at 0x7DB2BF98D940)],\n",
              "       [DecisionTreeRegressor(criterion='friedman_mse', max_depth=3,\n",
              "                              random_state=RandomState(MT19937) at 0x7DB2BF98D940)],\n",
              "       [DecisionTreeRegressor(criterion='friedman_mse', max_depth=3,\n",
              "                              random_state=RandomState(MT19937) at 0x7DB2BF98D940)],\n",
              "       [DecisionTreeRegressor(criterion='friedman_mse', max_depth=3,\n",
              "                              random_state=RandomState(MT19937) at 0x7DB2BF98D940)],\n",
              "       [DecisionTreeRegressor(criterion='friedman_mse', max_depth=3,\n",
              "                              random_state=RandomState(MT19937) at 0x7DB2BF98D940)],\n",
              "       [DecisionTreeRegressor(criterion='friedman_mse', max_depth=3,\n",
              "                              random_state=RandomState(MT19937) at 0x7DB2BF98D940)],\n",
              "       [DecisionTreeRegressor(criterion='friedman_mse', max_depth=3,\n",
              "                              random_state=RandomState(MT19937) at 0x7DB2BF98D940)],\n",
              "       [DecisionTreeRegressor(criterion='friedman_mse', max_depth=3,\n",
              "                              random_state=RandomState(MT19937) at 0x7DB2BF98D940)],\n",
              "       [DecisionTreeRegressor(criterion='friedman_mse', max_depth=3,\n",
              "                              random_state=RandomState(MT19937) at 0x7DB2BF98D940)],\n",
              "       [DecisionTreeRegressor(criterion='friedman_mse', max_depth=3,\n",
              "                              random_state=RandomState(MT19937) at 0x7DB2BF98D940)],\n",
              "       [DecisionTreeRegressor(criterion='friedman_mse', max_depth=3,\n",
              "                              random_state=RandomState(MT19937) at 0x7DB2BF98D940)],\n",
              "       [DecisionTreeRegressor(criterion='friedman_mse', max_depth=3,\n",
              "                              random_state=RandomState(MT19937) at 0x7DB2BF98D940)],\n",
              "       [DecisionTreeRegressor(criterion='friedman_mse', max_depth=3,\n",
              "                              random_state=RandomState(MT19937) at 0x7DB2BF98D940)],\n",
              "       [DecisionTreeRegressor(criterion='friedman_mse', max_depth=3,\n",
              "                              random_state=RandomState(MT19937) at 0x7DB2BF98D940)],\n",
              "       [DecisionTreeRegressor(criterion='friedman_mse', max_depth=3,\n",
              "                              random_state=RandomState(MT19937) at 0x7DB2BF98D940)],\n",
              "       [DecisionTreeRegressor(criterion='friedman_mse', max_depth=3,\n",
              "                              random_state=RandomState(MT19937) at 0x7DB2BF98D940)],\n",
              "       [DecisionTreeRegressor(criterion='friedman_mse', max_depth=3,\n",
              "                              random_state=RandomState(MT19937) at 0x7DB2BF98D940)],\n",
              "       [DecisionTreeRegressor(criterion='friedman_mse', max_depth=3,\n",
              "                              random_state=RandomState(MT19937) at 0x7DB2BF98D940)],\n",
              "       [DecisionTreeRegressor(criterion='friedman_mse', max_depth=3,\n",
              "                              random_state=RandomState(MT19937) at 0x7DB2BF98D940)],\n",
              "       [DecisionTreeRegressor(criterion='friedman_mse', max_depth=3,\n",
              "                              random_state=RandomState(MT19937) at 0x7DB2BF98D940)],\n",
              "       [DecisionTreeRegressor(criterion='friedman_mse', max_depth=3,\n",
              "                              random_state=RandomState(MT19937) at 0x7DB2BF98D940)],\n",
              "       [DecisionTreeRegressor(criterion='friedman_mse', max_depth=3,\n",
              "                              random_state=RandomState(MT19937) at 0x7DB2BF98D940)],\n",
              "       [DecisionTreeRegressor(criterion='friedman_mse', max_depth=3,\n",
              "                              random_state=RandomState(MT19937) at 0x7DB2BF98D940)],\n",
              "       [DecisionTreeRegressor(criterion='friedman_mse', max_depth=3,\n",
              "                              random_state=RandomState(MT19937) at 0x7DB2BF98D940)],\n",
              "       [DecisionTreeRegressor(criterion='friedman_mse', max_depth=3,\n",
              "                              random_state=RandomState(MT19937) at 0x7DB2BF98D940)],\n",
              "       [DecisionTreeRegressor(criterion='friedman_mse', max_depth=3,\n",
              "                              random_state=RandomState(MT19937) at 0x7DB2BF98D940)],\n",
              "       [DecisionTreeRegressor(criterion='friedman_mse', max_depth=3,\n",
              "                              random_state=RandomState(MT19937) at 0x7DB2BF98D940)],\n",
              "       [DecisionTreeRegressor(criterion='friedman_mse', max_depth=3,\n",
              "                              random_state=RandomState(MT19937) at 0x7DB2BF98D940)],\n",
              "       [DecisionTreeRegressor(criterion='friedman_mse', max_depth=3,\n",
              "                              random_state=RandomState(MT19937) at 0x7DB2BF98D940)],\n",
              "       [DecisionTreeRegressor(criterion='friedman_mse', max_depth=3,\n",
              "                              random_state=RandomState(MT19937) at 0x7DB2BF98D940)],\n",
              "       [DecisionTreeRegressor(criterion='friedman_mse', max_depth=3,\n",
              "                              random_state=RandomState(MT19937) at 0x7DB2BF98D940)],\n",
              "       [DecisionTreeRegressor(criterion='friedman_mse', max_depth=3,\n",
              "                              random_state=RandomState(MT19937) at 0x7DB2BF98D940)],\n",
              "       [DecisionTreeRegressor(criterion='friedman_mse', max_depth=3,\n",
              "                              random_state=RandomState(MT19937) at 0x7DB2BF98D940)],\n",
              "       [DecisionTreeRegressor(criterion='friedman_mse', max_depth=3,\n",
              "                              random_state=RandomState(MT19937) at 0x7DB2BF98D940)],\n",
              "       [DecisionTreeRegressor(criterion='friedman_mse', max_depth=3,\n",
              "                              random_state=RandomState(MT19937) at 0x7DB2BF98D940)],\n",
              "       [DecisionTreeRegressor(criterion='friedman_mse', max_depth=3,\n",
              "                              random_state=RandomState(MT19937) at 0x7DB2BF98D940)],\n",
              "       [DecisionTreeRegressor(criterion='friedman_mse', max_depth=3,\n",
              "                              random_state=RandomState(MT19937) at 0x7DB2BF98D940)],\n",
              "       [DecisionTreeRegressor(criterion='friedman_mse', max_depth=3,\n",
              "                              random_state=RandomState(MT19937) at 0x7DB2BF98D940)],\n",
              "       [DecisionTreeRegressor(criterion='friedman_mse', max_depth=3,\n",
              "                              random_state=RandomState(MT19937) at 0x7DB2BF98D940)],\n",
              "       [DecisionTreeRegressor(criterion='friedman_mse', max_depth=3,\n",
              "                              random_state=RandomState(MT19937) at 0x7DB2BF98D940)],\n",
              "       [DecisionTreeRegressor(criterion='friedman_mse', max_depth=3,\n",
              "                              random_state=RandomState(MT19937) at 0x7DB2BF98D940)],\n",
              "       [DecisionTreeRegressor(criterion='friedman_mse', max_depth=3,\n",
              "                              random_state=RandomState(MT19937) at 0x7DB2BF98D940)],\n",
              "       [DecisionTreeRegressor(criterion='friedman_mse', max_depth=3,\n",
              "                              random_state=RandomState(MT19937) at 0x7DB2BF98D940)],\n",
              "       [DecisionTreeRegressor(criterion='friedman_mse', max_depth=3,\n",
              "                              random_state=RandomState(MT19937) at 0x7DB2BF98D940)],\n",
              "       [DecisionTreeRegressor(criterion='friedman_mse', max_depth=3,\n",
              "                              random_state=RandomState(MT19937) at 0x7DB2BF98D940)],\n",
              "       [DecisionTreeRegressor(criterion='friedman_mse', max_depth=3,\n",
              "                              random_state=RandomState(MT19937) at 0x7DB2BF98D940)],\n",
              "       [DecisionTreeRegressor(criterion='friedman_mse', max_depth=3,\n",
              "                              random_state=RandomState(MT19937) at 0x7DB2BF98D940)],\n",
              "       [DecisionTreeRegressor(criterion='friedman_mse', max_depth=3,\n",
              "                              random_state=RandomState(MT19937) at 0x7DB2BF98D940)],\n",
              "       [DecisionTreeRegressor(criterion='friedman_mse', max_depth=3,\n",
              "                              random_state=RandomState(MT19937) at 0x7DB2BF98D940)],\n",
              "       [DecisionTreeRegressor(criterion='friedman_mse', max_depth=3,\n",
              "                              random_state=RandomState(MT19937) at 0x7DB2BF98D940)],\n",
              "       [DecisionTreeRegressor(criterion='friedman_mse', max_depth=3,\n",
              "                              random_state=RandomState(MT19937) at 0x7DB2BF98D940)],\n",
              "       [DecisionTreeRegressor(criterion='friedman_mse', max_depth=3,\n",
              "                              random_state=RandomState(MT19937) at 0x7DB2BF98D940)],\n",
              "       [DecisionTreeRegressor(criterion='friedman_mse', max_depth=3,\n",
              "                              random_state=RandomState(MT19937) at 0x7DB2BF98D940)],\n",
              "       [DecisionTreeRegressor(criterion='friedman_mse', max_depth=3,\n",
              "                              random_state=RandomState(MT19937) at 0x7DB2BF98D940)],\n",
              "       [DecisionTreeRegressor(criterion='friedman_mse', max_depth=3,\n",
              "                              random_state=RandomState(MT19937) at 0x7DB2BF98D940)],\n",
              "       [DecisionTreeRegressor(criterion='friedman_mse', max_depth=3,\n",
              "                              random_state=RandomState(MT19937) at 0x7DB2BF98D940)],\n",
              "       [DecisionTreeRegressor(criterion='friedman_mse', max_depth=3,\n",
              "                              random_state=RandomState(MT19937) at 0x7DB2BF98D940)],\n",
              "       [DecisionTreeRegressor(criterion='friedman_mse', max_depth=3,\n",
              "                              random_state=RandomState(MT19937) at 0x7DB2BF98D940)],\n",
              "       [DecisionTreeRegressor(criterion='friedman_mse', max_depth=3,\n",
              "                              random_state=RandomState(MT19937) at 0x7DB2BF98D940)],\n",
              "       [DecisionTreeRegressor(criterion='friedman_mse', max_depth=3,\n",
              "                              random_state=RandomState(MT19937) at 0x7DB2BF98D940)],\n",
              "       [DecisionTreeRegressor(criterion='friedman_mse', max_depth=3,\n",
              "                              random_state=RandomState(MT19937) at 0x7DB2BF98D940)],\n",
              "       [DecisionTreeRegressor(criterion='friedman_mse', max_depth=3,\n",
              "                              random_state=RandomState(MT19937) at 0x7DB2BF98D940)],\n",
              "       [DecisionTreeRegressor(criterion='friedman_mse', max_depth=3,\n",
              "                              random_state=RandomState(MT19937) at 0x7DB2BF98D940)],\n",
              "       [DecisionTreeRegressor(criterion='friedman_mse', max_depth=3,\n",
              "                              random_state=RandomState(MT19937) at 0x7DB2BF98D940)],\n",
              "       [DecisionTreeRegressor(criterion='friedman_mse', max_depth=3,\n",
              "                              random_state=RandomState(MT19937) at 0x7DB2BF98D940)],\n",
              "       [DecisionTreeRegressor(criterion='friedman_mse', max_depth=3,\n",
              "                              random_state=RandomState(MT19937) at 0x7DB2BF98D940)],\n",
              "       [DecisionTreeRegressor(criterion='friedman_mse', max_depth=3,\n",
              "                              random_state=RandomState(MT19937) at 0x7DB2BF98D940)],\n",
              "       [DecisionTreeRegressor(criterion='friedman_mse', max_depth=3,\n",
              "                              random_state=RandomState(MT19937) at 0x7DB2BF98D940)],\n",
              "       [DecisionTreeRegressor(criterion='friedman_mse', max_depth=3,\n",
              "                              random_state=RandomState(MT19937) at 0x7DB2BF98D940)],\n",
              "       [DecisionTreeRegressor(criterion='friedman_mse', max_depth=3,\n",
              "                              random_state=RandomState(MT19937) at 0x7DB2BF98D940)],\n",
              "       [DecisionTreeRegressor(criterion='friedman_mse', max_depth=3,\n",
              "                              random_state=RandomState(MT19937) at 0x7DB2BF98D940)],\n",
              "       [DecisionTreeRegressor(criterion='friedman_mse', max_depth=3,\n",
              "                              random_state=RandomState(MT19937) at 0x7DB2BF98D940)],\n",
              "       [DecisionTreeRegressor(criterion='friedman_mse', max_depth=3,\n",
              "                              random_state=RandomState(MT19937) at 0x7DB2BF98D940)],\n",
              "       [DecisionTreeRegressor(criterion='friedman_mse', max_depth=3,\n",
              "                              random_state=RandomState(MT19937) at 0x7DB2BF98D940)],\n",
              "       [DecisionTreeRegressor(criterion='friedman_mse', max_depth=3,\n",
              "                              random_state=RandomState(MT19937) at 0x7DB2BF98D940)]],\n",
              "      dtype=object)"
            ]
          },
          "metadata": {},
          "execution_count": 29
        }
      ]
    },
    {
      "cell_type": "markdown",
      "source": [
        "## Визуализация значимости признаков"
      ],
      "metadata": {
        "id": "iHcz7NoJbDtH"
      }
    },
    {
      "cell_type": "code",
      "metadata": {
        "colab": {
          "base_uri": "https://localhost:8080/",
          "height": 388
        },
        "outputId": "b8a9fdad-905d-4908-fb4d-45418acc346e",
        "id": "-f5eF_2TbDtH"
      },
      "source": [
        "feature_importance_plotter(model_gb, columns)"
      ],
      "execution_count": null,
      "outputs": [
        {
          "output_type": "display_data",
          "data": {
            "text/plain": [
              "<Figure size 800x400 with 1 Axes>"
            ],
            "image/png": "[encoded data removed]"
          },
          "metadata": {}
        }
      ]
    },
    {
      "cell_type": "markdown",
      "source": [
        "## Оценка метрик"
      ],
      "metadata": {
        "id": "hG_N7ETUbDtH"
      }
    },
    {
      "cell_type": "code",
      "source": [
        "print(f\"r2 на тренировочной выборке: {calculate_metric(model_gb, X_train_prep, y_train):.4f}\")\n",
        "print(f\"r2 на валидационной выборке: {calculate_metric(model_gb, X_val_prep, y_val):.4f}\")\n",
        "\n",
        "print(f\"mse на тренировочной выборке: {calculate_metric(model_gb, X_train_prep, y_train, mse):.4f}\")\n",
        "print(f\"mse на валидационной выборке: {calculate_metric(model_gb, X_val_prep, y_val, mse):.4f}\")"
      ],
      "metadata": {
        "colab": {
          "base_uri": "https://localhost:8080/"
        },
        "outputId": "6c97ccee-e36c-488d-ae88-8401ea7388f6",
        "id": "-IiP5LZ4bDtH"
      },
      "execution_count": null,
      "outputs": [
        {
          "output_type": "stream",
          "name": "stdout",
          "text": [
            "r2 на тренировочной выборке: 0.8465\n",
            "r2 на валидационной выборке: 0.8380\n",
            "mse на тренировочной выборке: 9334519.5216\n",
            "mse на валидационной выборке: 10199487.0110\n"
          ]
        }
      ]
    },
    {
      "cell_type": "markdown",
      "source": [
        "## Кросс-валидация"
      ],
      "metadata": {
        "id": "5hLSf6A6bDtI"
      }
    },
    {
      "cell_type": "code",
      "source": [
        "scoring_reg = {'R2': 'r2',\n",
        "           '-MSE': 'neg_mean_squared_error',\n",
        "           '-MAE': 'neg_mean_absolute_error',\n",
        "           '-Max': 'max_error'}"
      ],
      "metadata": {
        "id": "2zAlK9ZabDtI"
      },
      "execution_count": null,
      "outputs": []
    },
    {
      "cell_type": "code",
      "source": [
        "cross_validation (X_train_prep, y_train,\n",
        "                  model_gb,\n",
        "                  scoring_reg,\n",
        "                  ShuffleSplit(n_splits=5, random_state = 42))"
      ],
      "metadata": {
        "colab": {
          "base_uri": "https://localhost:8080/",
          "height": 345
        },
        "outputId": "aa860c5c-3e95-4d67-883e-c11db0434cb9",
        "id": "wVzuNVpNbDtI"
      },
      "execution_count": null,
      "outputs": [
        {
          "output_type": "stream",
          "name": "stdout",
          "text": [
            "Ошибка на кросс-валидации\n"
          ]
        },
        {
          "output_type": "display_data",
          "data": {
            "text/plain": [
              "   fit_time  score_time   test_R2     test_-MSE    test_-MAE     test_-Max\n",
              "0  6.973362    0.010083  0.847590 -9.024459e+06 -1853.977545 -25445.994223\n",
              "1  3.364025    0.010325  0.843744 -1.010296e+07 -1880.006733 -40051.203577\n",
              "2  3.176067    0.009961  0.827890 -1.056628e+07 -1897.362465 -39700.475465\n",
              "3  3.342645    0.009879  0.841368 -9.474343e+06 -1926.497405 -20014.700847\n",
              "4  3.387871    0.009934  0.823613 -1.033003e+07 -1881.607237 -41227.560238"
            ],
            "text/html": [
              "\n",
              "  <div id=\"df-bc9254d6-54ff-4abd-b9b5-b6bd1d945568\" class=\"colab-df-container\">\n",
              "    <div>\n",
              "<style scoped>\n",
              "    .dataframe tbody tr th:only-of-type {\n",
              "        vertical-align: middle;\n",
              "    }\n",
              "\n",
              "    .dataframe tbody tr th {\n",
              "        vertical-align: top;\n",
              "    }\n",
              "\n",
              "    .dataframe thead th {\n",
              "        text-align: right;\n",
              "    }\n",
              "</style>\n",
              "<table border=\"1\" class=\"dataframe\">\n",
              "  <thead>\n",
              "    <tr style=\"text-align: right;\">\n",
              "      <th></th>\n",
              "      <th>fit_time</th>\n",
              "      <th>score_time</th>\n",
              "      <th>test_R2</th>\n",
              "      <th>test_-MSE</th>\n",
              "      <th>test_-MAE</th>\n",
              "      <th>test_-Max</th>\n",
              "    </tr>\n",
              "  </thead>\n",
              "  <tbody>\n",
              "    <tr>\n",
              "      <th>0</th>\n",
              "      <td>6.973362</td>\n",
              "      <td>0.010083</td>\n",
              "      <td>0.847590</td>\n",
              "      <td>-9.024459e+06</td>\n",
              "      <td>-1853.977545</td>\n",
              "      <td>-25445.994223</td>\n",
              "    </tr>\n",
              "    <tr>\n",
              "      <th>1</th>\n",
              "      <td>3.364025</td>\n",
              "      <td>0.010325</td>\n",
              "      <td>0.843744</td>\n",
              "      <td>-1.010296e+07</td>\n",
              "      <td>-1880.006733</td>\n",
              "      <td>-40051.203577</td>\n",
              "    </tr>\n",
              "    <tr>\n",
              "      <th>2</th>\n",
              "      <td>3.176067</td>\n",
              "      <td>0.009961</td>\n",
              "      <td>0.827890</td>\n",
              "      <td>-1.056628e+07</td>\n",
              "      <td>-1897.362465</td>\n",
              "      <td>-39700.475465</td>\n",
              "    </tr>\n",
              "    <tr>\n",
              "      <th>3</th>\n",
              "      <td>3.342645</td>\n",
              "      <td>0.009879</td>\n",
              "      <td>0.841368</td>\n",
              "      <td>-9.474343e+06</td>\n",
              "      <td>-1926.497405</td>\n",
              "      <td>-20014.700847</td>\n",
              "    </tr>\n",
              "    <tr>\n",
              "      <th>4</th>\n",
              "      <td>3.387871</td>\n",
              "      <td>0.009934</td>\n",
              "      <td>0.823613</td>\n",
              "      <td>-1.033003e+07</td>\n",
              "      <td>-1881.607237</td>\n",
              "      <td>-41227.560238</td>\n",
              "    </tr>\n",
              "  </tbody>\n",
              "</table>\n",
              "</div>\n",
              "    <div class=\"colab-df-buttons\">\n",
              "\n",
              "  <div class=\"colab-df-container\">\n",
              "    <button class=\"colab-df-convert\" onclick=\"convertToInteractive('df-bc9254d6-54ff-4abd-b9b5-b6bd1d945568')\"\n",
              "            title=\"Convert this dataframe to an interactive table.\"\n",
              "            style=\"display:none;\">\n",
              "\n",
              "  <svg xmlns=\"http://www.w3.org/2000/svg\" height=\"24px\" viewBox=\"0 -960 960 960\">\n",
              "    <path d=\"M120-120v-720h720v720H120Zm60-500h600v-160H180v160Zm220 220h160v-160H400v160Zm0 220h160v-160H400v160ZM180-400h160v-160H180v160Zm440 0h160v-160H620v160ZM180-180h160v-160H180v160Zm440 0h160v-160H620v160Z\"/>\n",
              "  </svg>\n",
              "    </button>\n",
              "\n",
              "  <style>\n",
              "    .colab-df-container {\n",
              "      display:flex;\n",
              "      gap: 12px;\n",
              "    }\n",
              "\n",
              "    .colab-df-convert {\n",
              "      background-color: #E8F0FE;\n",
              "      border: none;\n",
              "      border-radius: 50%;\n",
              "      cursor: pointer;\n",
              "      display: none;\n",
              "      fill: #1967D2;\n",
              "      height: 32px;\n",
              "      padding: 0 0 0 0;\n",
              "      width: 32px;\n",
              "    }\n",
              "\n",
              "    .colab-df-convert:hover {\n",
              "      background-color: #E2EBFA;\n",
              "      box-shadow: 0px 1px 2px rgba(60, 64, 67, 0.3), 0px 1px 3px 1px rgba(60, 64, 67, 0.15);\n",
              "      fill: #174EA6;\n",
              "    }\n",
              "\n",
              "    .colab-df-buttons div {\n",
              "      margin-bottom: 4px;\n",
              "    }\n",
              "\n",
              "    [theme=dark] .colab-df-convert {\n",
              "      background-color: #3B4455;\n",
              "      fill: #D2E3FC;\n",
              "    }\n",
              "\n",
              "    [theme=dark] .colab-df-convert:hover {\n",
              "      background-color: #434B5C;\n",
              "      box-shadow: 0px 1px 3px 1px rgba(0, 0, 0, 0.15);\n",
              "      filter: drop-shadow(0px 1px 2px rgba(0, 0, 0, 0.3));\n",
              "      fill: #FFFFFF;\n",
              "    }\n",
              "  </style>\n",
              "\n",
              "    <script>\n",
              "      const buttonEl =\n",
              "        document.querySelector('#df-bc9254d6-54ff-4abd-b9b5-b6bd1d945568 button.colab-df-convert');\n",
              "      buttonEl.style.display =\n",
              "        google.colab.kernel.accessAllowed ? 'block' : 'none';\n",
              "\n",
              "      async function convertToInteractive(key) {\n",
              "        const element = document.querySelector('#df-bc9254d6-54ff-4abd-b9b5-b6bd1d945568');\n",
              "        const dataTable =\n",
              "          await google.colab.kernel.invokeFunction('convertToInteractive',\n",
              "                                                    [key], {});\n",
              "        if (!dataTable) return;\n",
              "\n",
              "        const docLinkHtml = 'Like what you see? Visit the ' +\n",
              "          '<a target=\"_blank\" href=https://colab.research.google.com/notebooks/data_table.ipynb>data table notebook</a>'\n",
              "          + ' to learn more about interactive tables.';\n",
              "        element.innerHTML = '';\n",
              "        dataTable['output_type'] = 'display_data';\n",
              "        await google.colab.output.renderOutput(dataTable, element);\n",
              "        const docLink = document.createElement('div');\n",
              "        docLink.innerHTML = docLinkHtml;\n",
              "        element.appendChild(docLink);\n",
              "      }\n",
              "    </script>\n",
              "  </div>\n",
              "\n",
              "\n",
              "<div id=\"df-ef5dbd1b-6ffb-413a-9b84-6c6b7e966089\">\n",
              "  <button class=\"colab-df-quickchart\" onclick=\"quickchart('df-ef5dbd1b-6ffb-413a-9b84-6c6b7e966089')\"\n",
              "            title=\"Suggest charts\"\n",
              "            style=\"display:none;\">\n",
              "\n",
              "<svg xmlns=\"http://www.w3.org/2000/svg\" height=\"24px\"viewBox=\"0 0 24 24\"\n",
              "     width=\"24px\">\n",
              "    <g>\n",
              "        <path d=\"M19 3H5c-1.1 0-2 .9-2 2v14c0 1.1.9 2 2 2h14c1.1 0 2-.9 2-2V5c0-1.1-.9-2-2-2zM9 17H7v-7h2v7zm4 0h-2V7h2v10zm4 0h-2v-4h2v4z\"/>\n",
              "    </g>\n",
              "</svg>\n",
              "  </button>\n",
              "\n",
              "<style>\n",
              "  .colab-df-quickchart {\n",
              "      --bg-color: #E8F0FE;\n",
              "      --fill-color: #1967D2;\n",
              "      --hover-bg-color: #E2EBFA;\n",
              "      --hover-fill-color: #174EA6;\n",
              "      --disabled-fill-color: #AAA;\n",
              "      --disabled-bg-color: #DDD;\n",
              "  }\n",
              "\n",
              "  [theme=dark] .colab-df-quickchart {\n",
              "      --bg-color: #3B4455;\n",
              "      --fill-color: #D2E3FC;\n",
              "      --hover-bg-color: #434B5C;\n",
              "      --hover-fill-color: #FFFFFF;\n",
              "      --disabled-bg-color: #3B4455;\n",
              "      --disabled-fill-color: #666;\n",
              "  }\n",
              "\n",
              "  .colab-df-quickchart {\n",
              "    background-color: var(--bg-color);\n",
              "    border: none;\n",
              "    border-radius: 50%;\n",
              "    cursor: pointer;\n",
              "    display: none;\n",
              "    fill: var(--fill-color);\n",
              "    height: 32px;\n",
              "    padding: 0;\n",
              "    width: 32px;\n",
              "  }\n",
              "\n",
              "  .colab-df-quickchart:hover {\n",
              "    background-color: var(--hover-bg-color);\n",
              "    box-shadow: 0 1px 2px rgba(60, 64, 67, 0.3), 0 1px 3px 1px rgba(60, 64, 67, 0.15);\n",
              "    fill: var(--button-hover-fill-color);\n",
              "  }\n",
              "\n",
              "  .colab-df-quickchart-complete:disabled,\n",
              "  .colab-df-quickchart-complete:disabled:hover {\n",
              "    background-color: var(--disabled-bg-color);\n",
              "    fill: var(--disabled-fill-color);\n",
              "    box-shadow: none;\n",
              "  }\n",
              "\n",
              "  .colab-df-spinner {\n",
              "    border: 2px solid var(--fill-color);\n",
              "    border-color: transparent;\n",
              "    border-bottom-color: var(--fill-color);\n",
              "    animation:\n",
              "      spin 1s steps(1) infinite;\n",
              "  }\n",
              "\n",
              "  @keyframes spin {\n",
              "    0% {\n",
              "      border-color: transparent;\n",
              "      border-bottom-color: var(--fill-color);\n",
              "      border-left-color: var(--fill-color);\n",
              "    }\n",
              "    20% {\n",
              "      border-color: transparent;\n",
              "      border-left-color: var(--fill-color);\n",
              "      border-top-color: var(--fill-color);\n",
              "    }\n",
              "    30% {\n",
              "      border-color: transparent;\n",
              "      border-left-color: var(--fill-color);\n",
              "      border-top-color: var(--fill-color);\n",
              "      border-right-color: var(--fill-color);\n",
              "    }\n",
              "    40% {\n",
              "      border-color: transparent;\n",
              "      border-right-color: var(--fill-color);\n",
              "      border-top-color: var(--fill-color);\n",
              "    }\n",
              "    60% {\n",
              "      border-color: transparent;\n",
              "      border-right-color: var(--fill-color);\n",
              "    }\n",
              "    80% {\n",
              "      border-color: transparent;\n",
              "      border-right-color: var(--fill-color);\n",
              "      border-bottom-color: var(--fill-color);\n",
              "    }\n",
              "    90% {\n",
              "      border-color: transparent;\n",
              "      border-bottom-color: var(--fill-color);\n",
              "    }\n",
              "  }\n",
              "</style>\n",
              "\n",
              "  <script>\n",
              "    async function quickchart(key) {\n",
              "      const quickchartButtonEl =\n",
              "        document.querySelector('#' + key + ' button');\n",
              "      quickchartButtonEl.disabled = true;  // To prevent multiple clicks.\n",
              "      quickchartButtonEl.classList.add('colab-df-spinner');\n",
              "      try {\n",
              "        const charts = await google.colab.kernel.invokeFunction(\n",
              "            'suggestCharts', [key], {});\n",
              "      } catch (error) {\n",
              "        console.error('Error during call to suggestCharts:', error);\n",
              "      }\n",
              "      quickchartButtonEl.classList.remove('colab-df-spinner');\n",
              "      quickchartButtonEl.classList.add('colab-df-quickchart-complete');\n",
              "    }\n",
              "    (() => {\n",
              "      let quickchartButtonEl =\n",
              "        document.querySelector('#df-ef5dbd1b-6ffb-413a-9b84-6c6b7e966089 button');\n",
              "      quickchartButtonEl.style.display =\n",
              "        google.colab.kernel.accessAllowed ? 'block' : 'none';\n",
              "    })();\n",
              "  </script>\n",
              "</div>\n",
              "    </div>\n",
              "  </div>\n"
            ],
            "application/vnd.google.colaboratory.intrinsic+json": {
              "type": "dataframe",
              "summary": "{\n  \"name\": \"                  ShuffleSplit(n_splits=5, random_state = 42))\",\n  \"rows\": 5,\n  \"fields\": [\n    {\n      \"column\": \"fit_time\",\n      \"properties\": {\n        \"dtype\": \"number\",\n        \"std\": 1.6370039442093869,\n        \"min\": 3.1760668754577637,\n        \"max\": 6.973362445831299,\n        \"num_unique_values\": 5,\n        \"samples\": [\n          3.364025115966797,\n          3.3878707885742188,\n          3.1760668754577637\n        ],\n        \"semantic_type\": \"\",\n        \"description\": \"\"\n      }\n    },\n    {\n      \"column\": \"score_time\",\n      \"properties\": {\n        \"dtype\": \"number\",\n        \"std\": 0.00017783345987017874,\n        \"min\": 0.009879112243652344,\n        \"max\": 0.010324954986572266,\n        \"num_unique_values\": 5,\n        \"samples\": [\n          0.010324954986572266,\n          0.009933710098266602,\n          0.009960651397705078\n        ],\n        \"semantic_type\": \"\",\n        \"description\": \"\"\n      }\n    },\n    {\n      \"column\": \"test_R2\",\n      \"properties\": {\n        \"dtype\": \"number\",\n        \"std\": 0.01047370931930078,\n        \"min\": 0.823613007596737,\n        \"max\": 0.8475901897075709,\n        \"num_unique_values\": 5,\n        \"samples\": [\n          0.8437436580961699,\n          0.823613007596737,\n          0.8278896425958304\n        ],\n        \"semantic_type\": \"\",\n        \"description\": \"\"\n      }\n    },\n    {\n      \"column\": \"test_-MSE\",\n      \"properties\": {\n        \"dtype\": \"number\",\n        \"std\": 635964.573666298,\n        \"min\": -10566280.357876554,\n        \"max\": -9024458.843167549,\n        \"num_unique_values\": 5,\n        \"samples\": [\n          -10102963.109325992,\n          -10330028.431116382,\n          -10566280.357876554\n        ],\n        \"semantic_type\": \"\",\n        \"description\": \"\"\n      }\n    },\n    {\n      \"column\": \"test_-MAE\",\n      \"properties\": {\n        \"dtype\": \"number\",\n        \"std\": 26.607954560023632,\n        \"min\": -1926.4974051203837,\n        \"max\": -1853.9775445130215,\n        \"num_unique_values\": 5,\n        \"samples\": [\n          -1880.0067325773819,\n          -1881.6072370090133,\n          -1897.3624653872896\n        ],\n        \"semantic_type\": \"\",\n        \"description\": \"\"\n      }\n    },\n    {\n      \"column\": \"test_-Max\",\n      \"properties\": {\n        \"dtype\": \"number\",\n        \"std\": 9843.461103831709,\n        \"min\": -41227.56023802063,\n        \"max\": -20014.700846681997,\n        \"num_unique_values\": 5,\n        \"samples\": [\n          -40051.20357726991,\n          -41227.56023802063,\n          -39700.47546496179\n        ],\n        \"semantic_type\": \"\",\n        \"description\": \"\"\n      }\n    }\n  ]\n}"
            }
          },
          "metadata": {}
        },
        {
          "output_type": "stream",
          "name": "stdout",
          "text": [
            "\n",
            "\n",
            "test_R2      8.368409e-01\n",
            "test_-MSE   -9.899615e+06\n",
            "test_-MAE   -1.887890e+03\n",
            "test_-Max   -3.328799e+04\n",
            "dtype: float64\n"
          ]
        }
      ]
    },
    {
      "cell_type": "markdown",
      "source": [
        "## Визуализация ошибок от scikit-learn"
      ],
      "metadata": {
        "id": "1-aLFEjHbDtI"
      }
    },
    {
      "cell_type": "code",
      "source": [
        "PredictionErrorDisplay.from_predictions(\n",
        "    y_val,\n",
        "    model_gb.predict(X_val_prep),\n",
        "    kind=\"actual_vs_predicted\",\n",
        "    scatter_kwargs={\"alpha\": 0.5},\n",
        "        line_kwargs = {\"color\" : 'white'}\n",
        "\n",
        ");"
      ],
      "metadata": {
        "colab": {
          "base_uri": "https://localhost:8080/",
          "height": 449
        },
        "outputId": "faf93ac9-efdd-4988-bad3-ea93726f7b45",
        "id": "ZlCnyS2xbDtJ"
      },
      "execution_count": null,
      "outputs": [
        {
          "output_type": "display_data",
          "data": {
            "text/plain": [
              "<Figure size 640x480 with 1 Axes>"
            ],
            "image/png": "[encoded data removed]"
          },
          "metadata": {}
        }
      ]
    },
    {
      "cell_type": "markdown",
      "source": [
        "Небольшие выводы\n",
        "\n",
        "* Модель градиентного бустинга на этих данных справилась примерно как случайный лес с предсказанием целевой переменной (метрика r2 на кросс-валидации `0.84` против `0.86`)\n",
        "\n",
        "* Значимость признаков в целом повторяет результаты на одиночных деревьях: год и модель так и остались самыми значимыми, подросла значимость объема двигателя, значимость остальных признаков гораздо ниже\n",
        "\n",
        "* но тут гиперпараметры в среднем больше влияют\n",
        "\n"
      ],
      "metadata": {
        "id": "JT4UWuH-bDtJ"
      }
    },
    {
      "cell_type": "markdown",
      "source": [
        "## Посмотрим второй бустинг"
      ],
      "metadata": {
        "id": "P358zEVvjtpb"
      }
    },
    {
      "cell_type": "markdown",
      "source": [
        "**Обучаем модель**"
      ],
      "metadata": {
        "id": "wa3LhK7Xjren"
      }
    },
    {
      "cell_type": "markdown",
      "source": [
        "\n",
        "\n",
        "Стандартная уже для нас рутина\n",
        "\n",
        "* Создаем объект класса, в котором можем изменить\n",
        "    * `max_iter` - максимальное количество итераций (по умолчанию 100)\n",
        "    * `learning_rate` - с каким коэффициентом мы добавляем новые решения\n",
        "    * `loss` - функция потерь для оценки ошибок для обновления весов, на выбор `'squared_error', 'absolute_error', 'gamma', 'poisson', 'quantile'`\n",
        "    * `categorical_features` - какие признаки являются категориальными (в теории они сами \"что-то там делают\")\n",
        "    * `n_iter_no_change` - чтобы раньше остановиться\n",
        "    * `random_state` - для повторяемости\n",
        "    * при этом еще можно прописать детальней архитектуру базовых деревьев (глубина, про листья и т.д.)\n",
        "* \"Обучаем\" через метод `.fit`"
      ],
      "metadata": {
        "id": "I3Lgli-1jren"
      }
    },
    {
      "cell_type": "code",
      "source": [
        "model_hgb = HistGradientBoostingRegressor(n_iter_no_change=10,\n",
        "                                learning_rate=0.1,\n",
        "                                max_iter=150,\n",
        "                                          )\n",
        "\n",
        "model_hgb.fit(X_train_prep, y_train)"
      ],
      "metadata": {
        "colab": {
          "base_uri": "https://localhost:8080/",
          "height": 74
        },
        "outputId": "3870bd17-dda6-46ec-ffac-4d94fe24889b",
        "id": "oUUWj91rjreo"
      },
      "execution_count": null,
      "outputs": [
        {
          "output_type": "execute_result",
          "data": {
            "text/plain": [
              "HistGradientBoostingRegressor(max_iter=150)"
            ],
            "text/html": [
              "<style>#sk-container-id-3 {color: black;background-color: white;}#sk-container-id-3 pre{padding: 0;}#sk-container-id-3 div.sk-toggleable {background-color: white;}#sk-container-id-3 label.sk-toggleable__label {cursor: pointer;display: block;width: 100%;margin-bottom: 0;padding: 0.3em;box-sizing: border-box;text-align: center;}#sk-container-id-3 label.sk-toggleable__label-arrow:before {content: \"▸\";float: left;margin-right: 0.25em;color: #696969;}#sk-container-id-3 label.sk-toggleable__label-arrow:hover:before {color: black;}#sk-container-id-3 div.sk-estimator:hover label.sk-toggleable__label-arrow:before {color: black;}#sk-container-id-3 div.sk-toggleable__content {max-height: 0;max-width: 0;overflow: hidden;text-align: left;background-color: #f0f8ff;}#sk-container-id-3 div.sk-toggleable__content pre {margin: 0.2em;color: black;border-radius: 0.25em;background-color: #f0f8ff;}#sk-container-id-3 input.sk-toggleable__control:checked~div.sk-toggleable__content {max-height: 200px;max-width: 100%;overflow: auto;}#sk-container-id-3 input.sk-toggleable__control:checked~label.sk-toggleable__label-arrow:before {content: \"▾\";}#sk-container-id-3 div.sk-estimator input.sk-toggleable__control:checked~label.sk-toggleable__label {background-color: #d4ebff;}#sk-container-id-3 div.sk-label input.sk-toggleable__control:checked~label.sk-toggleable__label {background-color: #d4ebff;}#sk-container-id-3 input.sk-hidden--visually {border: 0;clip: rect(1px 1px 1px 1px);clip: rect(1px, 1px, 1px, 1px);height: 1px;margin: -1px;overflow: hidden;padding: 0;position: absolute;width: 1px;}#sk-container-id-3 div.sk-estimator {font-family: monospace;background-color: #f0f8ff;border: 1px dotted black;border-radius: 0.25em;box-sizing: border-box;margin-bottom: 0.5em;}#sk-container-id-3 div.sk-estimator:hover {background-color: #d4ebff;}#sk-container-id-3 div.sk-parallel-item::after {content: \"\";width: 100%;border-bottom: 1px solid gray;flex-grow: 1;}#sk-container-id-3 div.sk-label:hover label.sk-toggleable__label {background-color: #d4ebff;}#sk-container-id-3 div.sk-serial::before {content: \"\";position: absolute;border-left: 1px solid gray;box-sizing: border-box;top: 0;bottom: 0;left: 50%;z-index: 0;}#sk-container-id-3 div.sk-serial {display: flex;flex-direction: column;align-items: center;background-color: white;padding-right: 0.2em;padding-left: 0.2em;position: relative;}#sk-container-id-3 div.sk-item {position: relative;z-index: 1;}#sk-container-id-3 div.sk-parallel {display: flex;align-items: stretch;justify-content: center;background-color: white;position: relative;}#sk-container-id-3 div.sk-item::before, #sk-container-id-3 div.sk-parallel-item::before {content: \"\";position: absolute;border-left: 1px solid gray;box-sizing: border-box;top: 0;bottom: 0;left: 50%;z-index: -1;}#sk-container-id-3 div.sk-parallel-item {display: flex;flex-direction: column;z-index: 1;position: relative;background-color: white;}#sk-container-id-3 div.sk-parallel-item:first-child::after {align-self: flex-end;width: 50%;}#sk-container-id-3 div.sk-parallel-item:last-child::after {align-self: flex-start;width: 50%;}#sk-container-id-3 div.sk-parallel-item:only-child::after {width: 0;}#sk-container-id-3 div.sk-dashed-wrapped {border: 1px dashed gray;margin: 0 0.4em 0.5em 0.4em;box-sizing: border-box;padding-bottom: 0.4em;background-color: white;}#sk-container-id-3 div.sk-label label {font-family: monospace;font-weight: bold;display: inline-block;line-height: 1.2em;}#sk-container-id-3 div.sk-label-container {text-align: center;}#sk-container-id-3 div.sk-container {/* jupyter's `normalize.less` sets `[hidden] { display: none; }` but bootstrap.min.css set `[hidden] { display: none !important; }` so we also need the `!important` here to be able to override the default hidden behavior on the sphinx rendered scikit-learn.org. See: https://github.com/scikit-learn/scikit-learn/issues/21755 */display: inline-block !important;position: relative;}#sk-container-id-3 div.sk-text-repr-fallback {display: none;}</style><div id=\"sk-container-id-3\" class=\"sk-top-container\"><div class=\"sk-text-repr-fallback\"><pre>HistGradientBoostingRegressor(max_iter=150)</pre><b>In a Jupyter environment, please rerun this cell to show the HTML representation or trust the notebook. <br />On GitHub, the HTML representation is unable to render, please try loading this page with nbviewer.org.</b></div><div class=\"sk-container\" hidden><div class=\"sk-item\"><div class=\"sk-estimator sk-toggleable\"><input class=\"sk-toggleable__control sk-hidden--visually\" id=\"sk-estimator-id-3\" type=\"checkbox\" checked><label for=\"sk-estimator-id-3\" class=\"sk-toggleable__label sk-toggleable__label-arrow\">HistGradientBoostingRegressor</label><div class=\"sk-toggleable__content\"><pre>HistGradientBoostingRegressor(max_iter=150)</pre></div></div></div></div></div>"
            ]
          },
          "metadata": {},
          "execution_count": 35
        }
      ]
    },
    {
      "cell_type": "markdown",
      "source": [
        "Ошибки отдельного предсказателя"
      ],
      "metadata": {
        "id": "n997abkNjreo"
      }
    },
    {
      "cell_type": "code",
      "source": [
        "model_hgb.train_score_"
      ],
      "metadata": {
        "colab": {
          "base_uri": "https://localhost:8080/"
        },
        "outputId": "adcb9d01-2ccc-470c-e3c2-c559c61f4972",
        "id": "7JOJ0Obvjreo"
      },
      "execution_count": null,
      "outputs": [
        {
          "output_type": "execute_result",
          "data": {
            "text/plain": [
              "array([-30442219.43359443, -25997782.23020602, -22380238.31497565,\n",
              "       -19360950.96654314, -16865157.57333064, -14806217.62053277,\n",
              "       -13110496.30637554, -11699095.76353211, -10545140.1588718 ,\n",
              "        -9564595.03222421,  -8764954.77062658,  -8085294.5906563 ,\n",
              "        -7516964.24789551,  -7054119.88361092,  -6660182.54367932,\n",
              "        -6319944.6700045 ,  -6021188.58439134,  -5782912.06574931,\n",
              "        -5567181.61546647,  -5393613.3436466 ,  -5236041.03892744,\n",
              "        -5093167.01708827,  -4969627.33424892,  -4861817.26764421,\n",
              "        -4768496.91249247,  -4683049.66959315,  -4606383.94405827,\n",
              "        -4539739.9919893 ,  -4483823.28797668,  -4423270.06884107,\n",
              "        -4368458.55591684,  -4323125.65516457,  -4280690.74603022,\n",
              "        -4241405.92344463,  -4207513.64126619,  -4172087.12839127,\n",
              "        -4136947.10819346,  -4102091.73775592,  -4072501.45267671,\n",
              "        -4044939.8840689 ,  -4018908.76392648,  -3989774.12670468,\n",
              "        -3959137.60394947,  -3934810.02306365,  -3909557.78733895,\n",
              "        -3890993.34749767,  -3873008.43428217,  -3851616.59073268,\n",
              "        -3834705.8283732 ,  -3818351.13104225,  -3799113.28377464,\n",
              "        -3780727.50678358,  -3764540.65226699,  -3753228.44293604,\n",
              "        -3736317.40169579,  -3722257.39153045,  -3708691.59246603,\n",
              "        -3694674.47586525,  -3683446.19235595,  -3671611.65585042,\n",
              "        -3657799.22345999,  -3645889.79053481,  -3631983.42047105,\n",
              "        -3621295.17254168,  -3611901.8155305 ,  -3602378.9379713 ,\n",
              "        -3591496.26149116,  -3582200.93287111,  -3569611.75212225,\n",
              "        -3562710.14077928,  -3553175.2978284 ,  -3545382.85435551,\n",
              "        -3532022.85640839,  -3521875.59618319,  -3514461.61780853,\n",
              "        -3501866.37115557,  -3487746.71320502,  -3480908.16285045,\n",
              "        -3472926.4845037 ,  -3458999.38888298,  -3454176.98143807,\n",
              "        -3447106.40331489,  -3440854.2843574 ,  -3430509.22571241,\n",
              "        -3423679.05455455,  -3417569.57644934,  -3407490.41228867,\n",
              "        -3397835.17975402,  -3386497.78768642,  -3379058.8350556 ,\n",
              "        -3374872.71758606,  -3369144.50567818,  -3359507.3073433 ,\n",
              "        -3353063.13971707,  -3343269.21002947,  -3339791.96552108,\n",
              "        -3331485.88974559,  -3322459.56747934,  -3313517.00118571,\n",
              "        -3309013.77338597,  -3300686.44775882,  -3293965.85949734,\n",
              "        -3289778.85989964,  -3283951.93546834,  -3276192.44332558,\n",
              "        -3271676.22046309,  -3261724.87822375,  -3253117.96251682,\n",
              "        -3245821.90041347,  -3241241.95169691,  -3236156.63482815,\n",
              "        -3231570.49667981,  -3226600.63535121,  -3222140.81108226,\n",
              "        -3215268.03338863,  -3209352.56979605,  -3205760.40368305,\n",
              "        -3197653.84741538,  -3194417.25236653,  -3184053.18226191,\n",
              "        -3176748.91429494,  -3171670.75308345,  -3165644.74016203,\n",
              "        -3157826.67405317,  -3152754.64939506,  -3149717.79628564,\n",
              "        -3143687.30177134,  -3139520.59179053,  -3136728.71365426,\n",
              "        -3132012.24956072,  -3127761.99167609,  -3121450.18976576,\n",
              "        -3113787.81549054,  -3107983.62491607,  -3102284.49836245,\n",
              "        -3096524.47852898,  -3091418.12969685,  -3084525.19253366,\n",
              "        -3079180.19070638,  -3075530.06573486,  -3069812.80806011,\n",
              "        -3065322.14105813,  -3061516.79135382,  -3053400.80162047,\n",
              "        -3048694.1908796 ,  -3044630.05913401,  -3040541.98956183,\n",
              "        -3035576.38123288,  -3028918.26687801])"
            ]
          },
          "metadata": {},
          "execution_count": 36
        }
      ]
    },
    {
      "cell_type": "code",
      "source": [
        "model_hgb.validation_score_"
      ],
      "metadata": {
        "colab": {
          "base_uri": "https://localhost:8080/"
        },
        "id": "AieWBNiznO1i",
        "outputId": "ef3753fc-bc74-415e-f3c1-aa348f516490"
      },
      "execution_count": null,
      "outputs": [
        {
          "output_type": "execute_result",
          "data": {
            "text/plain": [
              "array([-30061147.08653028, -25643387.17352418, -22108231.23525347,\n",
              "       -19210801.50615614, -16801981.13535522, -14874908.22986273,\n",
              "       -13239847.59271955, -11891047.60253142, -10800415.9813521 ,\n",
              "        -9876891.82291864,  -9116373.79303616,  -8489529.17949167,\n",
              "        -7949289.61592857,  -7514686.81013942,  -7111414.76263131,\n",
              "        -6833442.17850613,  -6564273.95626321,  -6364423.10631714,\n",
              "        -6153671.13692322,  -5994865.3953717 ,  -5853229.38096379,\n",
              "        -5733713.54793928,  -5642290.99322296,  -5560153.21884994,\n",
              "        -5514131.5007107 ,  -5437932.17920453,  -5396523.57423948,\n",
              "        -5339508.51723216,  -5308836.538057  ,  -5258977.39281407,\n",
              "        -5227719.02814009,  -5189844.7954025 ,  -5148016.00876668,\n",
              "        -5119439.97374723,  -5101037.57044524,  -5068896.59225072,\n",
              "        -5033900.61759164,  -5011436.76156613,  -4973147.7801066 ,\n",
              "        -4940990.34832227,  -4929690.94338097,  -4907449.60315939,\n",
              "        -4882048.83934764,  -4873427.29545023,  -4863317.35448661,\n",
              "        -4852037.43360063,  -4840332.62719077,  -4840364.22367336,\n",
              "        -4829629.36313324,  -4832358.12134991,  -4829505.12498459,\n",
              "        -4811496.69475347,  -4792659.66481369,  -4785552.29857044,\n",
              "        -4783100.31754271,  -4770148.6446858 ,  -4751264.7711573 ,\n",
              "        -4751453.99275633,  -4748334.94125319,  -4737059.05728233,\n",
              "        -4728386.62794949,  -4720729.18656458,  -4716496.89732139,\n",
              "        -4723284.92760323,  -4717558.27833145,  -4710061.35119888,\n",
              "        -4702726.67696676,  -4697243.27611072,  -4689238.16481967,\n",
              "        -4684193.41124807,  -4677641.64638956,  -4667504.07485055,\n",
              "        -4668422.43837745,  -4663839.38760492,  -4662370.72942944,\n",
              "        -4662154.88420541,  -4661652.55814945,  -4658173.65748113,\n",
              "        -4654362.81039173,  -4646247.76692086,  -4642178.53120711,\n",
              "        -4637642.98487387,  -4638739.11411067,  -4626287.30290956,\n",
              "        -4623544.53515897,  -4618973.330965  ,  -4623785.3820305 ,\n",
              "        -4619213.13049604,  -4607125.44759104,  -4600976.38973504,\n",
              "        -4599421.04549312,  -4599650.10877224,  -4593456.54916595,\n",
              "        -4591160.76763938,  -4588212.52842855,  -4586208.79518639,\n",
              "        -4586865.29973458,  -4582467.10238652,  -4584569.10087976,\n",
              "        -4584705.40177329,  -4584301.36815409,  -4579061.98387555,\n",
              "        -4578598.28199525,  -4579874.9030935 ,  -4580342.93233733,\n",
              "        -4577792.23461048,  -4571984.93488686,  -4571943.00403238,\n",
              "        -4567958.73023922,  -4566478.92487245,  -4561691.25245455,\n",
              "        -4558383.23042962,  -4558599.46119707,  -4560028.32777736,\n",
              "        -4558364.36057328,  -4557098.09786385,  -4552451.21775857,\n",
              "        -4555022.9593136 ,  -4555638.58789896,  -4552728.34739277,\n",
              "        -4551830.13804367,  -4544764.63610841,  -4540740.28149387,\n",
              "        -4540186.05884447,  -4540675.4667259 ,  -4540341.95488601,\n",
              "        -4535502.70488768,  -4535944.65349602,  -4533270.44606072,\n",
              "        -4535310.07463998,  -4533749.84942551,  -4526712.90617773,\n",
              "        -4528319.02425977,  -4529986.26916619,  -4528105.26349314,\n",
              "        -4525507.05365561,  -4526205.28127442,  -4525595.35820364,\n",
              "        -4522687.05795356,  -4524213.37774321,  -4524267.1844565 ,\n",
              "        -4523361.62710257,  -4523204.93428614,  -4527875.03787864,\n",
              "        -4524941.9543692 ,  -4527088.59065068,  -4526576.81464309,\n",
              "        -4527775.0921486 ,  -4527236.8352928 ])"
            ]
          },
          "metadata": {},
          "execution_count": 37
        }
      ]
    },
    {
      "cell_type": "markdown",
      "source": [
        "## Визуализация значимости признаков"
      ],
      "metadata": {
        "id": "tQpEyx4Ejreo"
      }
    },
    {
      "cell_type": "markdown",
      "source": [
        "Для класса `HistGradientBoostingRegressor` атрибут `.feature_importance_` не реализован"
      ],
      "metadata": {
        "id": "fwYJ4rXLl4Wi"
      }
    },
    {
      "cell_type": "markdown",
      "source": [
        "## Оценка метрик"
      ],
      "metadata": {
        "id": "BB6v33orjrep"
      }
    },
    {
      "cell_type": "code",
      "source": [
        "print(f\"r2 на тренировочной выборке: {calculate_metric(model_hgb, X_train_prep, y_train):.4f}\")\n",
        "print(f\"r2 на валидационной выборке: {calculate_metric(model_hgb, X_val_prep, y_val):.4f}\")\n",
        "\n",
        "print(f\"mse на тренировочной выборке: {calculate_metric(model_hgb, X_train_prep, y_train, mse):.4f}\")\n",
        "print(f\"mse на валидационной выборке: {calculate_metric(model_hgb, X_val_prep, y_val, mse):.4f}\")"
      ],
      "metadata": {
        "colab": {
          "base_uri": "https://localhost:8080/"
        },
        "outputId": "013989d3-2558-4e55-cd77-b5f35eff7695",
        "id": "gplSAWoSjrep"
      },
      "execution_count": null,
      "outputs": [
        {
          "output_type": "stream",
          "name": "stdout",
          "text": [
            "r2 на тренировочной выборке: 0.8954\n",
            "r2 на валидационной выборке: 0.8688\n",
            "mse на тренировочной выборке: 6357513.4258\n",
            "mse на валидационной выборке: 8258220.0592\n"
          ]
        }
      ]
    },
    {
      "cell_type": "markdown",
      "source": [
        "## Кросс-валидация"
      ],
      "metadata": {
        "id": "605YOuZcjrep"
      }
    },
    {
      "cell_type": "code",
      "source": [
        "scoring_reg = {'R2': 'r2',\n",
        "           '-MSE': 'neg_mean_squared_error',\n",
        "           '-MAE': 'neg_mean_absolute_error',\n",
        "           '-Max': 'max_error'}"
      ],
      "metadata": {
        "id": "ZtpM1Kzljrep"
      },
      "execution_count": null,
      "outputs": []
    },
    {
      "cell_type": "code",
      "source": [
        "cross_validation (X_train_prep, y_train,\n",
        "                  model_hgb,\n",
        "                  scoring_reg,\n",
        "                  ShuffleSplit(n_splits=5, random_state = 42))"
      ],
      "metadata": {
        "colab": {
          "base_uri": "https://localhost:8080/",
          "height": 345
        },
        "outputId": "5fef8308-a220-4d45-f1f1-65b8dd0eb284",
        "id": "qfQfp2bcjreq"
      },
      "execution_count": null,
      "outputs": [
        {
          "output_type": "stream",
          "name": "stdout",
          "text": [
            "Ошибка на кросс-валидации\n"
          ]
        },
        {
          "output_type": "display_data",
          "data": {
            "text/plain": [
              "   fit_time  score_time   test_R2     test_-MSE    test_-MAE     test_-Max\n",
              "0  1.370483    0.048778  0.880587 -7.070645e+06 -1633.246591 -25341.219377\n",
              "1  1.338970    0.035866  0.872720 -8.229451e+06 -1685.197933 -36572.742310\n",
              "2  1.266151    0.035164  0.857218 -8.765742e+06 -1646.143288 -39665.156194\n",
              "3  1.299940    0.033005  0.872824 -7.595638e+06 -1657.932650 -22820.636522\n",
              "4  1.328873    0.041974  0.860412 -8.174939e+06 -1631.652975 -40595.707291"
            ],
            "text/html": [
              "\n",
              "  <div id=\"df-c5018602-b16b-423e-98c8-b51966b675be\" class=\"colab-df-container\">\n",
              "    <div>\n",
              "<style scoped>\n",
              "    .dataframe tbody tr th:only-of-type {\n",
              "        vertical-align: middle;\n",
              "    }\n",
              "\n",
              "    .dataframe tbody tr th {\n",
              "        vertical-align: top;\n",
              "    }\n",
              "\n",
              "    .dataframe thead th {\n",
              "        text-align: right;\n",
              "    }\n",
              "</style>\n",
              "<table border=\"1\" class=\"dataframe\">\n",
              "  <thead>\n",
              "    <tr style=\"text-align: right;\">\n",
              "      <th></th>\n",
              "      <th>fit_time</th>\n",
              "      <th>score_time</th>\n",
              "      <th>test_R2</th>\n",
              "      <th>test_-MSE</th>\n",
              "      <th>test_-MAE</th>\n",
              "      <th>test_-Max</th>\n",
              "    </tr>\n",
              "  </thead>\n",
              "  <tbody>\n",
              "    <tr>\n",
              "      <th>0</th>\n",
              "      <td>1.370483</td>\n",
              "      <td>0.048778</td>\n",
              "      <td>0.880587</td>\n",
              "      <td>-7.070645e+06</td>\n",
              "      <td>-1633.246591</td>\n",
              "      <td>-25341.219377</td>\n",
              "    </tr>\n",
              "    <tr>\n",
              "      <th>1</th>\n",
              "      <td>1.338970</td>\n",
              "      <td>0.035866</td>\n",
              "      <td>0.872720</td>\n",
              "      <td>-8.229451e+06</td>\n",
              "      <td>-1685.197933</td>\n",
              "      <td>-36572.742310</td>\n",
              "    </tr>\n",
              "    <tr>\n",
              "      <th>2</th>\n",
              "      <td>1.266151</td>\n",
              "      <td>0.035164</td>\n",
              "      <td>0.857218</td>\n",
              "      <td>-8.765742e+06</td>\n",
              "      <td>-1646.143288</td>\n",
              "      <td>-39665.156194</td>\n",
              "    </tr>\n",
              "    <tr>\n",
              "      <th>3</th>\n",
              "      <td>1.299940</td>\n",
              "      <td>0.033005</td>\n",
              "      <td>0.872824</td>\n",
              "      <td>-7.595638e+06</td>\n",
              "      <td>-1657.932650</td>\n",
              "      <td>-22820.636522</td>\n",
              "    </tr>\n",
              "    <tr>\n",
              "      <th>4</th>\n",
              "      <td>1.328873</td>\n",
              "      <td>0.041974</td>\n",
              "      <td>0.860412</td>\n",
              "      <td>-8.174939e+06</td>\n",
              "      <td>-1631.652975</td>\n",
              "      <td>-40595.707291</td>\n",
              "    </tr>\n",
              "  </tbody>\n",
              "</table>\n",
              "</div>\n",
              "    <div class=\"colab-df-buttons\">\n",
              "\n",
              "  <div class=\"colab-df-container\">\n",
              "    <button class=\"colab-df-convert\" onclick=\"convertToInteractive('df-c5018602-b16b-423e-98c8-b51966b675be')\"\n",
              "            title=\"Convert this dataframe to an interactive table.\"\n",
              "            style=\"display:none;\">\n",
              "\n",
              "  <svg xmlns=\"http://www.w3.org/2000/svg\" height=\"24px\" viewBox=\"0 -960 960 960\">\n",
              "    <path d=\"M120-120v-720h720v720H120Zm60-500h600v-160H180v160Zm220 220h160v-160H400v160Zm0 220h160v-160H400v160ZM180-400h160v-160H180v160Zm440 0h160v-160H620v160ZM180-180h160v-160H180v160Zm440 0h160v-160H620v160Z\"/>\n",
              "  </svg>\n",
              "    </button>\n",
              "\n",
              "  <style>\n",
              "    .colab-df-container {\n",
              "      display:flex;\n",
              "      gap: 12px;\n",
              "    }\n",
              "\n",
              "    .colab-df-convert {\n",
              "      background-color: #E8F0FE;\n",
              "      border: none;\n",
              "      border-radius: 50%;\n",
              "      cursor: pointer;\n",
              "      display: none;\n",
              "      fill: #1967D2;\n",
              "      height: 32px;\n",
              "      padding: 0 0 0 0;\n",
              "      width: 32px;\n",
              "    }\n",
              "\n",
              "    .colab-df-convert:hover {\n",
              "      background-color: #E2EBFA;\n",
              "      box-shadow: 0px 1px 2px rgba(60, 64, 67, 0.3), 0px 1px 3px 1px rgba(60, 64, 67, 0.15);\n",
              "      fill: #174EA6;\n",
              "    }\n",
              "\n",
              "    .colab-df-buttons div {\n",
              "      margin-bottom: 4px;\n",
              "    }\n",
              "\n",
              "    [theme=dark] .colab-df-convert {\n",
              "      background-color: #3B4455;\n",
              "      fill: #D2E3FC;\n",
              "    }\n",
              "\n",
              "    [theme=dark] .colab-df-convert:hover {\n",
              "      background-color: #434B5C;\n",
              "      box-shadow: 0px 1px 3px 1px rgba(0, 0, 0, 0.15);\n",
              "      filter: drop-shadow(0px 1px 2px rgba(0, 0, 0, 0.3));\n",
              "      fill: #FFFFFF;\n",
              "    }\n",
              "  </style>\n",
              "\n",
              "    <script>\n",
              "      const buttonEl =\n",
              "        document.querySelector('#df-c5018602-b16b-423e-98c8-b51966b675be button.colab-df-convert');\n",
              "      buttonEl.style.display =\n",
              "        google.colab.kernel.accessAllowed ? 'block' : 'none';\n",
              "\n",
              "      async function convertToInteractive(key) {\n",
              "        const element = document.querySelector('#df-c5018602-b16b-423e-98c8-b51966b675be');\n",
              "        const dataTable =\n",
              "          await google.colab.kernel.invokeFunction('convertToInteractive',\n",
              "                                                    [key], {});\n",
              "        if (!dataTable) return;\n",
              "\n",
              "        const docLinkHtml = 'Like what you see? Visit the ' +\n",
              "          '<a target=\"_blank\" href=https://colab.research.google.com/notebooks/data_table.ipynb>data table notebook</a>'\n",
              "          + ' to learn more about interactive tables.';\n",
              "        element.innerHTML = '';\n",
              "        dataTable['output_type'] = 'display_data';\n",
              "        await google.colab.output.renderOutput(dataTable, element);\n",
              "        const docLink = document.createElement('div');\n",
              "        docLink.innerHTML = docLinkHtml;\n",
              "        element.appendChild(docLink);\n",
              "      }\n",
              "    </script>\n",
              "  </div>\n",
              "\n",
              "\n",
              "<div id=\"df-ee1290f3-524e-4161-8843-687e8e5fcd2d\">\n",
              "  <button class=\"colab-df-quickchart\" onclick=\"quickchart('df-ee1290f3-524e-4161-8843-687e8e5fcd2d')\"\n",
              "            title=\"Suggest charts\"\n",
              "            style=\"display:none;\">\n",
              "\n",
              "<svg xmlns=\"http://www.w3.org/2000/svg\" height=\"24px\"viewBox=\"0 0 24 24\"\n",
              "     width=\"24px\">\n",
              "    <g>\n",
              "        <path d=\"M19 3H5c-1.1 0-2 .9-2 2v14c0 1.1.9 2 2 2h14c1.1 0 2-.9 2-2V5c0-1.1-.9-2-2-2zM9 17H7v-7h2v7zm4 0h-2V7h2v10zm4 0h-2v-4h2v4z\"/>\n",
              "    </g>\n",
              "</svg>\n",
              "  </button>\n",
              "\n",
              "<style>\n",
              "  .colab-df-quickchart {\n",
              "      --bg-color: #E8F0FE;\n",
              "      --fill-color: #1967D2;\n",
              "      --hover-bg-color: #E2EBFA;\n",
              "      --hover-fill-color: #174EA6;\n",
              "      --disabled-fill-color: #AAA;\n",
              "      --disabled-bg-color: #DDD;\n",
              "  }\n",
              "\n",
              "  [theme=dark] .colab-df-quickchart {\n",
              "      --bg-color: #3B4455;\n",
              "      --fill-color: #D2E3FC;\n",
              "      --hover-bg-color: #434B5C;\n",
              "      --hover-fill-color: #FFFFFF;\n",
              "      --disabled-bg-color: #3B4455;\n",
              "      --disabled-fill-color: #666;\n",
              "  }\n",
              "\n",
              "  .colab-df-quickchart {\n",
              "    background-color: var(--bg-color);\n",
              "    border: none;\n",
              "    border-radius: 50%;\n",
              "    cursor: pointer;\n",
              "    display: none;\n",
              "    fill: var(--fill-color);\n",
              "    height: 32px;\n",
              "    padding: 0;\n",
              "    width: 32px;\n",
              "  }\n",
              "\n",
              "  .colab-df-quickchart:hover {\n",
              "    background-color: var(--hover-bg-color);\n",
              "    box-shadow: 0 1px 2px rgba(60, 64, 67, 0.3), 0 1px 3px 1px rgba(60, 64, 67, 0.15);\n",
              "    fill: var(--button-hover-fill-color);\n",
              "  }\n",
              "\n",
              "  .colab-df-quickchart-complete:disabled,\n",
              "  .colab-df-quickchart-complete:disabled:hover {\n",
              "    background-color: var(--disabled-bg-color);\n",
              "    fill: var(--disabled-fill-color);\n",
              "    box-shadow: none;\n",
              "  }\n",
              "\n",
              "  .colab-df-spinner {\n",
              "    border: 2px solid var(--fill-color);\n",
              "    border-color: transparent;\n",
              "    border-bottom-color: var(--fill-color);\n",
              "    animation:\n",
              "      spin 1s steps(1) infinite;\n",
              "  }\n",
              "\n",
              "  @keyframes spin {\n",
              "    0% {\n",
              "      border-color: transparent;\n",
              "      border-bottom-color: var(--fill-color);\n",
              "      border-left-color: var(--fill-color);\n",
              "    }\n",
              "    20% {\n",
              "      border-color: transparent;\n",
              "      border-left-color: var(--fill-color);\n",
              "      border-top-color: var(--fill-color);\n",
              "    }\n",
              "    30% {\n",
              "      border-color: transparent;\n",
              "      border-left-color: var(--fill-color);\n",
              "      border-top-color: var(--fill-color);\n",
              "      border-right-color: var(--fill-color);\n",
              "    }\n",
              "    40% {\n",
              "      border-color: transparent;\n",
              "      border-right-color: var(--fill-color);\n",
              "      border-top-color: var(--fill-color);\n",
              "    }\n",
              "    60% {\n",
              "      border-color: transparent;\n",
              "      border-right-color: var(--fill-color);\n",
              "    }\n",
              "    80% {\n",
              "      border-color: transparent;\n",
              "      border-right-color: var(--fill-color);\n",
              "      border-bottom-color: var(--fill-color);\n",
              "    }\n",
              "    90% {\n",
              "      border-color: transparent;\n",
              "      border-bottom-color: var(--fill-color);\n",
              "    }\n",
              "  }\n",
              "</style>\n",
              "\n",
              "  <script>\n",
              "    async function quickchart(key) {\n",
              "      const quickchartButtonEl =\n",
              "        document.querySelector('#' + key + ' button');\n",
              "      quickchartButtonEl.disabled = true;  // To prevent multiple clicks.\n",
              "      quickchartButtonEl.classList.add('colab-df-spinner');\n",
              "      try {\n",
              "        const charts = await google.colab.kernel.invokeFunction(\n",
              "            'suggestCharts', [key], {});\n",
              "      } catch (error) {\n",
              "        console.error('Error during call to suggestCharts:', error);\n",
              "      }\n",
              "      quickchartButtonEl.classList.remove('colab-df-spinner');\n",
              "      quickchartButtonEl.classList.add('colab-df-quickchart-complete');\n",
              "    }\n",
              "    (() => {\n",
              "      let quickchartButtonEl =\n",
              "        document.querySelector('#df-ee1290f3-524e-4161-8843-687e8e5fcd2d button');\n",
              "      quickchartButtonEl.style.display =\n",
              "        google.colab.kernel.accessAllowed ? 'block' : 'none';\n",
              "    })();\n",
              "  </script>\n",
              "</div>\n",
              "    </div>\n",
              "  </div>\n"
            ],
            "application/vnd.google.colaboratory.intrinsic+json": {
              "type": "dataframe",
              "summary": "{\n  \"name\": \"                  ShuffleSplit(n_splits=5, random_state = 42))\",\n  \"rows\": 5,\n  \"fields\": [\n    {\n      \"column\": \"fit_time\",\n      \"properties\": {\n        \"dtype\": \"number\",\n        \"std\": 0.03964013321485368,\n        \"min\": 1.2661511898040771,\n        \"max\": 1.3704833984375,\n        \"num_unique_values\": 5,\n        \"samples\": [\n          1.3389697074890137,\n          1.3288733959197998,\n          1.2661511898040771\n        ],\n        \"semantic_type\": \"\",\n        \"description\": \"\"\n      }\n    },\n    {\n      \"column\": \"score_time\",\n      \"properties\": {\n        \"dtype\": \"number\",\n        \"std\": 0.006420964090359725,\n        \"min\": 0.033005475997924805,\n        \"max\": 0.04877829551696777,\n        \"num_unique_values\": 5,\n        \"samples\": [\n          0.03586626052856445,\n          0.04197359085083008,\n          0.03516435623168945\n        ],\n        \"semantic_type\": \"\",\n        \"description\": \"\"\n      }\n    },\n    {\n      \"column\": \"test_R2\",\n      \"properties\": {\n        \"dtype\": \"number\",\n        \"std\": 0.009682421386494262,\n        \"min\": 0.8572179698398521,\n        \"max\": 0.8805872306320164,\n        \"num_unique_values\": 5,\n        \"samples\": [\n          0.8727201267954011,\n          0.8604115187486082,\n          0.8572179698398521\n        ],\n        \"semantic_type\": \"\",\n        \"description\": \"\"\n      }\n    },\n    {\n      \"column\": \"test_-MSE\",\n      \"properties\": {\n        \"dtype\": \"number\",\n        \"std\": 650282.6510287938,\n        \"min\": -8765741.838511568,\n        \"max\": -7070644.733710808,\n        \"num_unique_values\": 5,\n        \"samples\": [\n          -8229450.708229028,\n          -8174939.43480017,\n          -8765741.838511568\n        ],\n        \"semantic_type\": \"\",\n        \"description\": \"\"\n      }\n    },\n    {\n      \"column\": \"test_-MAE\",\n      \"properties\": {\n        \"dtype\": \"number\",\n        \"std\": 21.968740373465398,\n        \"min\": -1685.1979334593323,\n        \"max\": -1631.652974657368,\n        \"num_unique_values\": 5,\n        \"samples\": [\n          -1685.1979334593323,\n          -1631.652974657368,\n          -1646.143287767803\n        ],\n        \"semantic_type\": \"\",\n        \"description\": \"\"\n      }\n    },\n    {\n      \"column\": \"test_-Max\",\n      \"properties\": {\n        \"dtype\": \"number\",\n        \"std\": 8324.060326409399,\n        \"min\": -40595.70729082348,\n        \"max\": -22820.636521890774,\n        \"num_unique_values\": 5,\n        \"samples\": [\n          -36572.74230999874,\n          -40595.70729082348,\n          -39665.15619354084\n        ],\n        \"semantic_type\": \"\",\n        \"description\": \"\"\n      }\n    }\n  ]\n}"
            }
          },
          "metadata": {}
        },
        {
          "output_type": "stream",
          "name": "stdout",
          "text": [
            "\n",
            "\n",
            "test_R2      8.687522e-01\n",
            "test_-MSE   -7.967283e+06\n",
            "test_-MAE   -1.650835e+03\n",
            "test_-Max   -3.299909e+04\n",
            "dtype: float64\n"
          ]
        }
      ]
    },
    {
      "cell_type": "markdown",
      "source": [
        "## Визуализация ошибок от scikit-learn"
      ],
      "metadata": {
        "id": "FEByTsSGjreq"
      }
    },
    {
      "cell_type": "code",
      "source": [
        "PredictionErrorDisplay.from_predictions(\n",
        "    y_val,\n",
        "    model_hgb.predict(X_val_prep),\n",
        "    kind=\"actual_vs_predicted\",\n",
        "    scatter_kwargs={\"alpha\": 0.5},\n",
        "        line_kwargs = {\"color\" : 'white'}\n",
        "\n",
        ");"
      ],
      "metadata": {
        "colab": {
          "base_uri": "https://localhost:8080/",
          "height": 449
        },
        "outputId": "fa8964ee-156a-4e30-940a-0b86d871dce9",
        "id": "fU-0hHhJjreq"
      },
      "execution_count": null,
      "outputs": [
        {
          "output_type": "display_data",
          "data": {
            "text/plain": [
              "<Figure size 640x480 with 1 Axes>"
            ],
            "image/png": "[encoded data removed]"
          },
          "metadata": {}
        }
      ]
    },
    {
      "cell_type": "markdown",
      "source": [
        "Небольшие выводы\n",
        "\n",
        "* Модель гистограмного градиентного бустинга на этих данных справилась так же как случайный лес с предсказанием целевой переменной (метрика r2 на кросс-валидации `0.86` против `0.86`)\n",
        "\n",
        "* К сожалению не удается оценить значимость признаков\n",
        "\n"
      ],
      "metadata": {
        "id": "YfsShr44jreq"
      }
    },
    {
      "cell_type": "markdown",
      "source": [
        "\n",
        "# Сохранение моделей"
      ],
      "metadata": {
        "id": "FsduMMxDbDhE"
      }
    },
    {
      "cell_type": "code",
      "source": [
        "from joblib import dump, load # в scikit-learn ничего такого особенного нет\n",
        "# пользуемся joblib"
      ],
      "metadata": {
        "id": "xNB527uQbFZ1"
      },
      "execution_count": null,
      "outputs": []
    },
    {
      "cell_type": "code",
      "source": [
        "dump(model_ab, 'model_ab.joblib')  # чтобы сохранить объект\n",
        "dump(model_gb, 'model_gb.joblib')  # чтобы сохранить объект\n",
        "dump(model_hgb, 'model_hgb.joblib')  # чтобы сохранить объект"
      ],
      "metadata": {
        "colab": {
          "base_uri": "https://localhost:8080/"
        },
        "id": "C4fx8Ui2b8vR",
        "outputId": "0fa2ec0d-17f2-4cad-d358-923c47de3c7a"
      },
      "execution_count": null,
      "outputs": [
        {
          "output_type": "execute_result",
          "data": {
            "text/plain": [
              "['model_hgb.joblib']"
            ]
          },
          "metadata": {},
          "execution_count": 43
        }
      ]
    }
  ]
}