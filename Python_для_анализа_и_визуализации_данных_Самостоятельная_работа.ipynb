{
  "cells": [
    {
      "cell_type": "markdown",
      "metadata": {
        "id": "view-in-github",
        "colab_type": "text"
      },
      "source": [
        "<a href=\"https://colab.research.google.com/github/AntonGitOrlov/FirstRepository/blob/master/Python_%D0%B4%D0%BB%D1%8F_%D0%B0%D0%BD%D0%B0%D0%BB%D0%B8%D0%B7%D0%B0_%D0%B8_%D0%B2%D0%B8%D0%B7%D1%83%D0%B0%D0%BB%D0%B8%D0%B7%D0%B0%D1%86%D0%B8%D0%B8_%D0%B4%D0%B0%D0%BD%D0%BD%D1%8B%D1%85_%D0%A1%D0%B0%D0%BC%D0%BE%D1%81%D1%82%D0%BE%D1%8F%D1%82%D0%B5%D0%BB%D1%8C%D0%BD%D0%B0%D1%8F_%D1%80%D0%B0%D0%B1%D0%BE%D1%82%D0%B0.ipynb\" target=\"_parent\"><img src=\"https://colab.research.google.com/assets/colab-badge.svg\" alt=\"Open In Colab\"/></a>"
      ]
    },
    {
      "cell_type": "markdown",
      "source": [
        "# Цель Блокнота"
      ],
      "metadata": {
        "id": "jgqp-YmxmXMl"
      }
    },
    {
      "cell_type": "markdown",
      "source": [
        "* Закрепить методы и функции библиотек `pandas` и `seaborn` для анализа и визуализации данных\n",
        "\n",
        "* Познакомиться с некоторыми идеями инженерии признаков"
      ],
      "metadata": {
        "id": "cDKN7fkxmaKa"
      }
    },
    {
      "cell_type": "markdown",
      "metadata": {
        "id": "hSA1kgiKvrTG"
      },
      "source": [
        "# Набор данных\n",
        "\n",
        "**Оценка стоимости  и типа трансмиссии по данным продаж автомобилей на вторичном рынке Молдавии**"
      ]
    },
    {
      "cell_type": "markdown",
      "metadata": {
        "id": "9WAiW__nvrTK"
      },
      "source": [
        "Набор данных представляет собой статистику параметров автомобилей на вторичном рынке в Молдавии.\n",
        "\n",
        "Набор включает ряд категориальных и численных значений, составляющих одну запись (строку). Число записей можно найти как число строк.\n",
        "\n",
        "Каждый столбец в записи — это отдельный признак.\n",
        "\n"
      ]
    },
    {
      "cell_type": "markdown",
      "metadata": {
        "id": "GjqQDt2hvrTL"
      },
      "source": [
        "# Import библиотек"
      ]
    },
    {
      "cell_type": "code",
      "execution_count": 1,
      "metadata": {
        "id": "W1M6Kfo6vrTM"
      },
      "outputs": [],
      "source": [
        "import pandas as pd # Библиотека Pandas для работы с табличными данными\n",
        "import numpy as np # библиотека Numpy для операций линейной алгебры и прочего\n",
        "import matplotlib.pyplot as plt # библиотека MatPlotLib для визуализации\n",
        "import seaborn as sns # библиотека Seaborn для визуализации данных из Pandas"
      ]
    },
    {
      "cell_type": "markdown",
      "metadata": {
        "id": "6KkCjdKUsHIr"
      },
      "source": [
        "## Считываем файл в DataFrame\n",
        "\n"
      ]
    },
    {
      "cell_type": "markdown",
      "metadata": {
        "id": "yy41LWzK2bsP"
      },
      "source": [
        "функция `.read_csv(path,delimiter) `\n",
        "\n",
        "* `path` путь к файлу + имя файла\n",
        "* `delimiter` разделитель\n",
        "\n",
        "Загрузим данные БЕЗ дубликатов и БЕЗ выбросов"
      ]
    },
    {
      "cell_type": "code",
      "execution_count": 2,
      "metadata": {
        "id": "LZQnNZzkyakR"
      },
      "outputs": [],
      "source": [
        "df = pd.read_csv('https://raw.githubusercontent.com/dayekb/mpti_ml/main/data/cars_moldova_no_dup_no_outliers.csv',\n",
        "                 delimiter = ',') # можно считывать открытые файлы из интернета"
      ]
    },
    {
      "cell_type": "markdown",
      "source": [
        "В результате в переменную `df` класс DataFrame на основе считанного файла"
      ],
      "metadata": {
        "id": "yl3gBQ2rTlfu"
      }
    },
    {
      "cell_type": "code",
      "execution_count": 3,
      "metadata": {
        "id": "ZJo0Ey2or2Bu",
        "colab": {
          "base_uri": "https://localhost:8080/",
          "height": 424
        },
        "outputId": "5f96aa47-2e3e-48d2-df41-8a54e0a358c4"
      },
      "outputs": [
        {
          "output_type": "execute_result",
          "data": {
            "text/plain": [
              "             Make         Model  Year      Style  Distance  \\\n",
              "0          Toyota         Prius  2011  Hatchback  195000.0   \n",
              "1         Renault  Grand Scenic  2014  Universal  135000.0   \n",
              "2         Renault        Laguna  2012  Universal  110000.0   \n",
              "3            Opel         Astra  2006  Universal  200000.0   \n",
              "4        Mercedes          Vito  2000   Microvan  300000.0   \n",
              "...           ...           ...   ...        ...       ...   \n",
              "32480  Volkswagen        Passat  2016      Sedan   88000.0   \n",
              "32481  Land Rover    Freelander  2002  Crossover  225000.0   \n",
              "32482       Dacia     Logan Mcv  2015  Universal   89000.0   \n",
              "32483       Mazda             6  2006      Combi  370000.0   \n",
              "32484     Renault  Grand Scenic  2006    Minivan  300000.0   \n",
              "\n",
              "       Engine_capacity(cm3)     Fuel_type Transmission  Price(euro)  \n",
              "0                    1800.0        Hybrid    Automatic       7750.0  \n",
              "1                    1500.0        Diesel       Manual       8550.0  \n",
              "2                    1500.0        Diesel       Manual       6550.0  \n",
              "3                    1600.0  Metan/Propan       Manual       4100.0  \n",
              "4                    2200.0        Diesel       Manual       3490.0  \n",
              "...                     ...           ...          ...          ...  \n",
              "32480                1800.0        Petrol    Automatic      11500.0  \n",
              "32481                1800.0  Metan/Propan       Manual       4400.0  \n",
              "32482                1500.0        Diesel       Manual       7000.0  \n",
              "32483                2000.0        Diesel       Manual       4000.0  \n",
              "32484                1500.0        Diesel       Manual       4000.0  \n",
              "\n",
              "[32485 rows x 9 columns]"
            ],
            "text/html": [
              "\n",
              "  <div id=\"df-be745bae-245e-46e7-9773-f8b8cc215226\" class=\"colab-df-container\">\n",
              "    <div>\n",
              "<style scoped>\n",
              "    .dataframe tbody tr th:only-of-type {\n",
              "        vertical-align: middle;\n",
              "    }\n",
              "\n",
              "    .dataframe tbody tr th {\n",
              "        vertical-align: top;\n",
              "    }\n",
              "\n",
              "    .dataframe thead th {\n",
              "        text-align: right;\n",
              "    }\n",
              "</style>\n",
              "<table border=\"1\" class=\"dataframe\">\n",
              "  <thead>\n",
              "    <tr style=\"text-align: right;\">\n",
              "      <th></th>\n",
              "      <th>Make</th>\n",
              "      <th>Model</th>\n",
              "      <th>Year</th>\n",
              "      <th>Style</th>\n",
              "      <th>Distance</th>\n",
              "      <th>Engine_capacity(cm3)</th>\n",
              "      <th>Fuel_type</th>\n",
              "      <th>Transmission</th>\n",
              "      <th>Price(euro)</th>\n",
              "    </tr>\n",
              "  </thead>\n",
              "  <tbody>\n",
              "    <tr>\n",
              "      <th>0</th>\n",
              "      <td>Toyota</td>\n",
              "      <td>Prius</td>\n",
              "      <td>2011</td>\n",
              "      <td>Hatchback</td>\n",
              "      <td>195000.0</td>\n",
              "      <td>1800.0</td>\n",
              "      <td>Hybrid</td>\n",
              "      <td>Automatic</td>\n",
              "      <td>7750.0</td>\n",
              "    </tr>\n",
              "    <tr>\n",
              "      <th>1</th>\n",
              "      <td>Renault</td>\n",
              "      <td>Grand Scenic</td>\n",
              "      <td>2014</td>\n",
              "      <td>Universal</td>\n",
              "      <td>135000.0</td>\n",
              "      <td>1500.0</td>\n",
              "      <td>Diesel</td>\n",
              "      <td>Manual</td>\n",
              "      <td>8550.0</td>\n",
              "    </tr>\n",
              "    <tr>\n",
              "      <th>2</th>\n",
              "      <td>Renault</td>\n",
              "      <td>Laguna</td>\n",
              "      <td>2012</td>\n",
              "      <td>Universal</td>\n",
              "      <td>110000.0</td>\n",
              "      <td>1500.0</td>\n",
              "      <td>Diesel</td>\n",
              "      <td>Manual</td>\n",
              "      <td>6550.0</td>\n",
              "    </tr>\n",
              "    <tr>\n",
              "      <th>3</th>\n",
              "      <td>Opel</td>\n",
              "      <td>Astra</td>\n",
              "      <td>2006</td>\n",
              "      <td>Universal</td>\n",
              "      <td>200000.0</td>\n",
              "      <td>1600.0</td>\n",
              "      <td>Metan/Propan</td>\n",
              "      <td>Manual</td>\n",
              "      <td>4100.0</td>\n",
              "    </tr>\n",
              "    <tr>\n",
              "      <th>4</th>\n",
              "      <td>Mercedes</td>\n",
              "      <td>Vito</td>\n",
              "      <td>2000</td>\n",
              "      <td>Microvan</td>\n",
              "      <td>300000.0</td>\n",
              "      <td>2200.0</td>\n",
              "      <td>Diesel</td>\n",
              "      <td>Manual</td>\n",
              "      <td>3490.0</td>\n",
              "    </tr>\n",
              "    <tr>\n",
              "      <th>...</th>\n",
              "      <td>...</td>\n",
              "      <td>...</td>\n",
              "      <td>...</td>\n",
              "      <td>...</td>\n",
              "      <td>...</td>\n",
              "      <td>...</td>\n",
              "      <td>...</td>\n",
              "      <td>...</td>\n",
              "      <td>...</td>\n",
              "    </tr>\n",
              "    <tr>\n",
              "      <th>32480</th>\n",
              "      <td>Volkswagen</td>\n",
              "      <td>Passat</td>\n",
              "      <td>2016</td>\n",
              "      <td>Sedan</td>\n",
              "      <td>88000.0</td>\n",
              "      <td>1800.0</td>\n",
              "      <td>Petrol</td>\n",
              "      <td>Automatic</td>\n",
              "      <td>11500.0</td>\n",
              "    </tr>\n",
              "    <tr>\n",
              "      <th>32481</th>\n",
              "      <td>Land Rover</td>\n",
              "      <td>Freelander</td>\n",
              "      <td>2002</td>\n",
              "      <td>Crossover</td>\n",
              "      <td>225000.0</td>\n",
              "      <td>1800.0</td>\n",
              "      <td>Metan/Propan</td>\n",
              "      <td>Manual</td>\n",
              "      <td>4400.0</td>\n",
              "    </tr>\n",
              "    <tr>\n",
              "      <th>32482</th>\n",
              "      <td>Dacia</td>\n",
              "      <td>Logan Mcv</td>\n",
              "      <td>2015</td>\n",
              "      <td>Universal</td>\n",
              "      <td>89000.0</td>\n",
              "      <td>1500.0</td>\n",
              "      <td>Diesel</td>\n",
              "      <td>Manual</td>\n",
              "      <td>7000.0</td>\n",
              "    </tr>\n",
              "    <tr>\n",
              "      <th>32483</th>\n",
              "      <td>Mazda</td>\n",
              "      <td>6</td>\n",
              "      <td>2006</td>\n",
              "      <td>Combi</td>\n",
              "      <td>370000.0</td>\n",
              "      <td>2000.0</td>\n",
              "      <td>Diesel</td>\n",
              "      <td>Manual</td>\n",
              "      <td>4000.0</td>\n",
              "    </tr>\n",
              "    <tr>\n",
              "      <th>32484</th>\n",
              "      <td>Renault</td>\n",
              "      <td>Grand Scenic</td>\n",
              "      <td>2006</td>\n",
              "      <td>Minivan</td>\n",
              "      <td>300000.0</td>\n",
              "      <td>1500.0</td>\n",
              "      <td>Diesel</td>\n",
              "      <td>Manual</td>\n",
              "      <td>4000.0</td>\n",
              "    </tr>\n",
              "  </tbody>\n",
              "</table>\n",
              "<p>32485 rows × 9 columns</p>\n",
              "</div>\n",
              "    <div class=\"colab-df-buttons\">\n",
              "\n",
              "  <div class=\"colab-df-container\">\n",
              "    <button class=\"colab-df-convert\" onclick=\"convertToInteractive('df-be745bae-245e-46e7-9773-f8b8cc215226')\"\n",
              "            title=\"Convert this dataframe to an interactive table.\"\n",
              "            style=\"display:none;\">\n",
              "\n",
              "  <svg xmlns=\"http://www.w3.org/2000/svg\" height=\"24px\" viewBox=\"0 -960 960 960\">\n",
              "    <path d=\"M120-120v-720h720v720H120Zm60-500h600v-160H180v160Zm220 220h160v-160H400v160Zm0 220h160v-160H400v160ZM180-400h160v-160H180v160Zm440 0h160v-160H620v160ZM180-180h160v-160H180v160Zm440 0h160v-160H620v160Z\"/>\n",
              "  </svg>\n",
              "    </button>\n",
              "\n",
              "  <style>\n",
              "    .colab-df-container {\n",
              "      display:flex;\n",
              "      gap: 12px;\n",
              "    }\n",
              "\n",
              "    .colab-df-convert {\n",
              "      background-color: #E8F0FE;\n",
              "      border: none;\n",
              "      border-radius: 50%;\n",
              "      cursor: pointer;\n",
              "      display: none;\n",
              "      fill: #1967D2;\n",
              "      height: 32px;\n",
              "      padding: 0 0 0 0;\n",
              "      width: 32px;\n",
              "    }\n",
              "\n",
              "    .colab-df-convert:hover {\n",
              "      background-color: #E2EBFA;\n",
              "      box-shadow: 0px 1px 2px rgba(60, 64, 67, 0.3), 0px 1px 3px 1px rgba(60, 64, 67, 0.15);\n",
              "      fill: #174EA6;\n",
              "    }\n",
              "\n",
              "    .colab-df-buttons div {\n",
              "      margin-bottom: 4px;\n",
              "    }\n",
              "\n",
              "    [theme=dark] .colab-df-convert {\n",
              "      background-color: #3B4455;\n",
              "      fill: #D2E3FC;\n",
              "    }\n",
              "\n",
              "    [theme=dark] .colab-df-convert:hover {\n",
              "      background-color: #434B5C;\n",
              "      box-shadow: 0px 1px 3px 1px rgba(0, 0, 0, 0.15);\n",
              "      filter: drop-shadow(0px 1px 2px rgba(0, 0, 0, 0.3));\n",
              "      fill: #FFFFFF;\n",
              "    }\n",
              "  </style>\n",
              "\n",
              "    <script>\n",
              "      const buttonEl =\n",
              "        document.querySelector('#df-be745bae-245e-46e7-9773-f8b8cc215226 button.colab-df-convert');\n",
              "      buttonEl.style.display =\n",
              "        google.colab.kernel.accessAllowed ? 'block' : 'none';\n",
              "\n",
              "      async function convertToInteractive(key) {\n",
              "        const element = document.querySelector('#df-be745bae-245e-46e7-9773-f8b8cc215226');\n",
              "        const dataTable =\n",
              "          await google.colab.kernel.invokeFunction('convertToInteractive',\n",
              "                                                    [key], {});\n",
              "        if (!dataTable) return;\n",
              "\n",
              "        const docLinkHtml = 'Like what you see? Visit the ' +\n",
              "          '<a target=\"_blank\" href=https://colab.research.google.com/notebooks/data_table.ipynb>data table notebook</a>'\n",
              "          + ' to learn more about interactive tables.';\n",
              "        element.innerHTML = '';\n",
              "        dataTable['output_type'] = 'display_data';\n",
              "        await google.colab.output.renderOutput(dataTable, element);\n",
              "        const docLink = document.createElement('div');\n",
              "        docLink.innerHTML = docLinkHtml;\n",
              "        element.appendChild(docLink);\n",
              "      }\n",
              "    </script>\n",
              "  </div>\n",
              "\n",
              "\n",
              "<div id=\"df-7d5921e7-0948-4483-b9d1-1a1d93b9a54d\">\n",
              "  <button class=\"colab-df-quickchart\" onclick=\"quickchart('df-7d5921e7-0948-4483-b9d1-1a1d93b9a54d')\"\n",
              "            title=\"Suggest charts\"\n",
              "            style=\"display:none;\">\n",
              "\n",
              "<svg xmlns=\"http://www.w3.org/2000/svg\" height=\"24px\"viewBox=\"0 0 24 24\"\n",
              "     width=\"24px\">\n",
              "    <g>\n",
              "        <path d=\"M19 3H5c-1.1 0-2 .9-2 2v14c0 1.1.9 2 2 2h14c1.1 0 2-.9 2-2V5c0-1.1-.9-2-2-2zM9 17H7v-7h2v7zm4 0h-2V7h2v10zm4 0h-2v-4h2v4z\"/>\n",
              "    </g>\n",
              "</svg>\n",
              "  </button>\n",
              "\n",
              "<style>\n",
              "  .colab-df-quickchart {\n",
              "      --bg-color: #E8F0FE;\n",
              "      --fill-color: #1967D2;\n",
              "      --hover-bg-color: #E2EBFA;\n",
              "      --hover-fill-color: #174EA6;\n",
              "      --disabled-fill-color: #AAA;\n",
              "      --disabled-bg-color: #DDD;\n",
              "  }\n",
              "\n",
              "  [theme=dark] .colab-df-quickchart {\n",
              "      --bg-color: #3B4455;\n",
              "      --fill-color: #D2E3FC;\n",
              "      --hover-bg-color: #434B5C;\n",
              "      --hover-fill-color: #FFFFFF;\n",
              "      --disabled-bg-color: #3B4455;\n",
              "      --disabled-fill-color: #666;\n",
              "  }\n",
              "\n",
              "  .colab-df-quickchart {\n",
              "    background-color: var(--bg-color);\n",
              "    border: none;\n",
              "    border-radius: 50%;\n",
              "    cursor: pointer;\n",
              "    display: none;\n",
              "    fill: var(--fill-color);\n",
              "    height: 32px;\n",
              "    padding: 0;\n",
              "    width: 32px;\n",
              "  }\n",
              "\n",
              "  .colab-df-quickchart:hover {\n",
              "    background-color: var(--hover-bg-color);\n",
              "    box-shadow: 0 1px 2px rgba(60, 64, 67, 0.3), 0 1px 3px 1px rgba(60, 64, 67, 0.15);\n",
              "    fill: var(--button-hover-fill-color);\n",
              "  }\n",
              "\n",
              "  .colab-df-quickchart-complete:disabled,\n",
              "  .colab-df-quickchart-complete:disabled:hover {\n",
              "    background-color: var(--disabled-bg-color);\n",
              "    fill: var(--disabled-fill-color);\n",
              "    box-shadow: none;\n",
              "  }\n",
              "\n",
              "  .colab-df-spinner {\n",
              "    border: 2px solid var(--fill-color);\n",
              "    border-color: transparent;\n",
              "    border-bottom-color: var(--fill-color);\n",
              "    animation:\n",
              "      spin 1s steps(1) infinite;\n",
              "  }\n",
              "\n",
              "  @keyframes spin {\n",
              "    0% {\n",
              "      border-color: transparent;\n",
              "      border-bottom-color: var(--fill-color);\n",
              "      border-left-color: var(--fill-color);\n",
              "    }\n",
              "    20% {\n",
              "      border-color: transparent;\n",
              "      border-left-color: var(--fill-color);\n",
              "      border-top-color: var(--fill-color);\n",
              "    }\n",
              "    30% {\n",
              "      border-color: transparent;\n",
              "      border-left-color: var(--fill-color);\n",
              "      border-top-color: var(--fill-color);\n",
              "      border-right-color: var(--fill-color);\n",
              "    }\n",
              "    40% {\n",
              "      border-color: transparent;\n",
              "      border-right-color: var(--fill-color);\n",
              "      border-top-color: var(--fill-color);\n",
              "    }\n",
              "    60% {\n",
              "      border-color: transparent;\n",
              "      border-right-color: var(--fill-color);\n",
              "    }\n",
              "    80% {\n",
              "      border-color: transparent;\n",
              "      border-right-color: var(--fill-color);\n",
              "      border-bottom-color: var(--fill-color);\n",
              "    }\n",
              "    90% {\n",
              "      border-color: transparent;\n",
              "      border-bottom-color: var(--fill-color);\n",
              "    }\n",
              "  }\n",
              "</style>\n",
              "\n",
              "  <script>\n",
              "    async function quickchart(key) {\n",
              "      const quickchartButtonEl =\n",
              "        document.querySelector('#' + key + ' button');\n",
              "      quickchartButtonEl.disabled = true;  // To prevent multiple clicks.\n",
              "      quickchartButtonEl.classList.add('colab-df-spinner');\n",
              "      try {\n",
              "        const charts = await google.colab.kernel.invokeFunction(\n",
              "            'suggestCharts', [key], {});\n",
              "      } catch (error) {\n",
              "        console.error('Error during call to suggestCharts:', error);\n",
              "      }\n",
              "      quickchartButtonEl.classList.remove('colab-df-spinner');\n",
              "      quickchartButtonEl.classList.add('colab-df-quickchart-complete');\n",
              "    }\n",
              "    (() => {\n",
              "      let quickchartButtonEl =\n",
              "        document.querySelector('#df-7d5921e7-0948-4483-b9d1-1a1d93b9a54d button');\n",
              "      quickchartButtonEl.style.display =\n",
              "        google.colab.kernel.accessAllowed ? 'block' : 'none';\n",
              "    })();\n",
              "  </script>\n",
              "</div>\n",
              "    </div>\n",
              "  </div>\n"
            ],
            "application/vnd.google.colaboratory.intrinsic+json": {
              "type": "dataframe",
              "variable_name": "df",
              "summary": "{\n  \"name\": \"df\",\n  \"rows\": 32485,\n  \"fields\": [\n    {\n      \"column\": \"Make\",\n      \"properties\": {\n        \"dtype\": \"category\",\n        \"num_unique_values\": 79,\n        \"samples\": [\n          \"Mitsubishi\",\n          \"Toyota\",\n          \"Mazda\"\n        ],\n        \"semantic_type\": \"\",\n        \"description\": \"\"\n      }\n    },\n    {\n      \"column\": \"Model\",\n      \"properties\": {\n        \"dtype\": \"category\",\n        \"num_unique_values\": 781,\n        \"samples\": [\n          \"Justy\",\n          \"Vaneo\",\n          \"Atos\"\n        ],\n        \"semantic_type\": \"\",\n        \"description\": \"\"\n      }\n    },\n    {\n      \"column\": \"Year\",\n      \"properties\": {\n        \"dtype\": \"number\",\n        \"std\": 7,\n        \"min\": 1971,\n        \"max\": 2021,\n        \"num_unique_values\": 50,\n        \"samples\": [\n          2013,\n          1990,\n          1987\n        ],\n        \"semantic_type\": \"\",\n        \"description\": \"\"\n      }\n    },\n    {\n      \"column\": \"Style\",\n      \"properties\": {\n        \"dtype\": \"category\",\n        \"num_unique_values\": 12,\n        \"samples\": [\n          \"Cabriolet\",\n          \"Combi\",\n          \"Hatchback\"\n        ],\n        \"semantic_type\": \"\",\n        \"description\": \"\"\n      }\n    },\n    {\n      \"column\": \"Distance\",\n      \"properties\": {\n        \"dtype\": \"number\",\n        \"std\": 91554.95467438626,\n        \"min\": 1.0,\n        \"max\": 500000.0,\n        \"num_unique_values\": 8081,\n        \"samples\": [\n          234829.0,\n          105217.0,\n          478563.0\n        ],\n        \"semantic_type\": \"\",\n        \"description\": \"\"\n      }\n    },\n    {\n      \"column\": \"Engine_capacity(cm3)\",\n      \"properties\": {\n        \"dtype\": \"number\",\n        \"std\": 625.2367314328205,\n        \"min\": 0.0,\n        \"max\": 5000.0,\n        \"num_unique_values\": 636,\n        \"samples\": [\n          995.0,\n          3328.0,\n          1388.0\n        ],\n        \"semantic_type\": \"\",\n        \"description\": \"\"\n      }\n    },\n    {\n      \"column\": \"Fuel_type\",\n      \"properties\": {\n        \"dtype\": \"category\",\n        \"num_unique_values\": 6,\n        \"samples\": [\n          \"Hybrid\",\n          \"Diesel\",\n          \"Plug-in Hybrid\"\n        ],\n        \"semantic_type\": \"\",\n        \"description\": \"\"\n      }\n    },\n    {\n      \"column\": \"Transmission\",\n      \"properties\": {\n        \"dtype\": \"category\",\n        \"num_unique_values\": 2,\n        \"samples\": [\n          \"Manual\",\n          \"Automatic\"\n        ],\n        \"semantic_type\": \"\",\n        \"description\": \"\"\n      }\n    },\n    {\n      \"column\": \"Price(euro)\",\n      \"properties\": {\n        \"dtype\": \"number\",\n        \"std\": 7839.471389087618,\n        \"min\": 200.0,\n        \"max\": 50000.0,\n        \"num_unique_values\": 1562,\n        \"samples\": [\n          720.0,\n          31499.0\n        ],\n        \"semantic_type\": \"\",\n        \"description\": \"\"\n      }\n    }\n  ]\n}"
            }
          },
          "metadata": {},
          "execution_count": 3
        }
      ],
      "source": [
        "df # в блокнотах Colab если запустить ячеку с переменной, то будет визуализирована эта переменная"
      ]
    },
    {
      "cell_type": "markdown",
      "metadata": {
        "id": "M5CwtPtIr-P7"
      },
      "source": [
        "## Информация о DataFrame\n"
      ]
    },
    {
      "cell_type": "markdown",
      "metadata": {
        "id": "vIttjv5S2xDi"
      },
      "source": [
        "Давайте снова посмотрим на наш набор данных\n",
        "\n",
        "\n",
        "---\n",
        "\n",
        "\n",
        "Метод `.info() `"
      ]
    },
    {
      "cell_type": "code",
      "execution_count": null,
      "metadata": {
        "id": "_88-hF07r50q"
      },
      "outputs": [],
      "source": [
        "# Место для вашего кода"
      ]
    },
    {
      "cell_type": "markdown",
      "metadata": {
        "id": "wmxKqd9n29AG"
      },
      "source": [
        "## Индексация и Сортировка"
      ]
    },
    {
      "cell_type": "markdown",
      "metadata": {
        "id": "Ds7wJvZJwKzR"
      },
      "source": [
        "* Индексация - явный индекс аттрибут `.loc[строки, столбцы]`\n",
        "\n",
        "* Логическое Индексирование -`Датафрейм[условие]`\n",
        "\n",
        "* сортировка Метод `.sort_values(by)`, `by` - по какой колонке сортируем\n",
        "\n",
        "* Метод `.sort_values(by, ascending= False)` если хотим по убыванию\n"
      ]
    },
    {
      "cell_type": "markdown",
      "metadata": {
        "id": "jtX-Kh1k3MkJ"
      },
      "source": [
        "****"
      ]
    },
    {
      "cell_type": "markdown",
      "source": [
        "### Задание 1\n",
        "\n",
        "\n",
        "\n",
        "\n",
        "\n",
        "\n"
      ],
      "metadata": {
        "id": "c-WpbsEayMp0"
      }
    },
    {
      "cell_type": "markdown",
      "source": [
        "**1.1**\n",
        "* Выберите из полного датафрейма строки с индекса `69` по `322`.\n",
        "* Отсортируйте полученный датафрейм по колонке `'Distance'` по убыванию.\n",
        "* Какое значение колонки `'Style'` у полученного датафрейма во второй строке сверху"
      ],
      "metadata": {
        "id": "Tur30m8Y1jpP"
      }
    },
    {
      "cell_type": "code",
      "source": [
        "# Место для вашего кода"
      ],
      "metadata": {
        "id": "rKE99ITjySl1"
      },
      "execution_count": null,
      "outputs": []
    },
    {
      "cell_type": "markdown",
      "source": [
        "**1.2**\n",
        "* Выберите из полного датафрейма строки которые соответсвуют условиям тип топлива `'Fuel_type'` равен `'Petrol'`.\n",
        "* Укажите самую дорогую марку автомобиля `'Make'`"
      ],
      "metadata": {
        "id": "bkeZHum81fU5"
      }
    },
    {
      "cell_type": "code",
      "source": [
        "# Место для вашего кода"
      ],
      "metadata": {
        "id": "O3hM_renyTYQ"
      },
      "execution_count": null,
      "outputs": []
    },
    {
      "cell_type": "markdown",
      "source": [
        "**1.3**\n",
        "* Найдите самую старую модель `'Model'` марки `'Mercedes'`"
      ],
      "metadata": {
        "id": "XPjmoAV21cxA"
      }
    },
    {
      "cell_type": "code",
      "source": [
        "# Место для вашего кода"
      ],
      "metadata": {
        "id": "aCbjKrK8yS8o"
      },
      "execution_count": null,
      "outputs": []
    },
    {
      "cell_type": "markdown",
      "metadata": {
        "id": "7TlqMuwtvrTW"
      },
      "source": [
        "# EDA - Разведывательный анализ данных.\n"
      ]
    },
    {
      "cell_type": "code",
      "execution_count": null,
      "metadata": {
        "id": "bGkYQ1wQvrTX",
        "scrolled": true
      },
      "outputs": [],
      "source": [
        "cat_columns = [] # создаем пустой список для имен колонок категориальных данных\n",
        "num_columns = [] # создаем пустой список для имен колонок числовых данных\n",
        "\n",
        "for column_name in df.columns: # смотрим на все колонки в DataFrame\n",
        "    if (DF[column_name].dtypes == object): # проверяем тип данных для каждой колонки\n",
        "        cat_columns +=[column_name] # если тип объект - то складываем в категориальные данные\n",
        "    else:\n",
        "        num_columns +=[column_name] # иначе - числовые\n",
        "\n",
        "# важно: если признак категориальный, но хранится в формате числовых данных, тогда код не сработает корректно\n",
        "\n",
        "# выводим результат\n",
        "print('Категориальные данные:\\t ',cat_columns, '\\n Число столблцов = ',len(cat_columns))\n",
        "\n",
        "print('Числовые данные:\\t ',  num_columns, '\\n Число столблцов = ',len(num_columns))"
      ]
    },
    {
      "cell_type": "markdown",
      "metadata": {
        "id": "1TSzJ0S-vrTZ"
      },
      "source": [
        "## Анализ числовых признаков"
      ]
    },
    {
      "cell_type": "markdown",
      "metadata": {
        "id": "xIMro2EchGST"
      },
      "source": [
        "Получите общую статистику по числовым признакам и расположите для себя числовые признаке в порядке возрастания диапазона изменений данных\n",
        "\n",
        "\n",
        "\n",
        "---\n",
        "\n",
        "\n",
        "Статистика по числовым данным\n",
        "\n",
        "метод `.describe()`"
      ]
    },
    {
      "cell_type": "code",
      "source": [
        "# Место для вашего кода"
      ],
      "metadata": {
        "id": "XF6sX9IdynAF"
      },
      "execution_count": null,
      "outputs": []
    },
    {
      "cell_type": "markdown",
      "source": [
        "место для вашего комментария"
      ],
      "metadata": {
        "id": "gufwBTG41WyY"
      }
    },
    {
      "cell_type": "markdown",
      "source": [
        "## агрегация"
      ],
      "metadata": {
        "id": "BVA7Pd7UzCKs"
      }
    },
    {
      "cell_type": "markdown",
      "metadata": {
        "id": "v65j22F292KS"
      },
      "source": [
        "* К DataFrame применяется метод `.groupby()` с указанием (по чему группировать), а затем то, что хотим посчитать по группе (в данном случае `.mean()`)\n",
        "\n",
        "Более сложный вариант\n",
        "\n",
        "* К DataFrame применяется метод `.groupby()` с указанием (по чему группировать), а затем `.agg()`, где **списком** перичисляем то что хотим посчитать. Список состоит из элементов вида `('название', функция)`"
      ]
    },
    {
      "cell_type": "markdown",
      "source": [
        "### Задание 2\n",
        "\n",
        "\n",
        "\n",
        "\n"
      ],
      "metadata": {
        "id": "5znbtX27zLnr"
      }
    },
    {
      "cell_type": "markdown",
      "source": [
        "**2.1**\n",
        "\n",
        "Используя агрегацию найдите самую дорогую (в среднем) марку автомобилей (столбец `'Make'`)"
      ],
      "metadata": {
        "id": "BEIvMgDq1T4R"
      }
    },
    {
      "cell_type": "code",
      "source": [
        "# Место для вашего кода"
      ],
      "metadata": {
        "id": "zTMeJ1hNzLTo"
      },
      "execution_count": null,
      "outputs": []
    },
    {
      "cell_type": "markdown",
      "source": [
        "**2.2**\n",
        "\n",
        "Используя агрегацию найдите модели (столбец `'Model'`) с наибольшим средним пробегом\n"
      ],
      "metadata": {
        "id": "5UYdqvTO1Nh_"
      }
    },
    {
      "cell_type": "code",
      "source": [
        "# Место для вашего кода"
      ],
      "metadata": {
        "id": "TvO9AaNizTx4"
      },
      "execution_count": null,
      "outputs": []
    },
    {
      "cell_type": "markdown",
      "source": [
        "**2.3**\n",
        "\n",
        "Используя агрегацию найдите тип топлива (столбец `'Fuel_type'`) который самый молодой (в среднем)"
      ],
      "metadata": {
        "id": "bD4ftOlD1OGR"
      }
    },
    {
      "cell_type": "code",
      "source": [
        "# Место для вашего кода"
      ],
      "metadata": {
        "id": "X8suzShAzUEy"
      },
      "execution_count": null,
      "outputs": []
    },
    {
      "cell_type": "markdown",
      "metadata": {
        "id": "QWcv1qUsUVyz"
      },
      "source": [
        "## Корреляция числовых признаков"
      ]
    },
    {
      "cell_type": "markdown",
      "metadata": {
        "id": "8ahdiCykvrTm"
      },
      "source": [
        "Оцените корреляцию числовых признаков после удаления аномальных значений. Оцените много ли изменилось\n",
        "\n",
        "\n",
        "---\n",
        "\n",
        "\n",
        "* `.corr()` для получения матрицы корреляции из DataFrame (нечисловые признаки будут проигнорированы)\n",
        "\n",
        "* `.style.background_gradient(cmap, vmin, vmax)` чтобы подсветить красиво таблицу\n",
        "\n",
        "* [список цветовых карт](https://matplotlib.org/stable/gallery/color/colormap_reference.html)"
      ]
    },
    {
      "cell_type": "code",
      "source": [
        "# Место для вашего кода"
      ],
      "metadata": {
        "id": "SdxicXAS0IBs"
      },
      "execution_count": null,
      "outputs": []
    },
    {
      "cell_type": "markdown",
      "metadata": {
        "id": "CgjNyjwuvrTp"
      },
      "source": [
        "## Категориальные данные\n",
        "\n"
      ]
    },
    {
      "cell_type": "markdown",
      "source": [
        "* Статистика по категориальным данным метод `.describe()`\n",
        "\n",
        "* Число повторений результата в каждом категориальном признаке метод `.nunique()`\n",
        "\n",
        "* Считаем сколько раз каждое значение категории встретчается методом `.value_counts()`"
      ],
      "metadata": {
        "id": "6SqNwTqk0iQn"
      }
    },
    {
      "cell_type": "markdown",
      "source": [],
      "metadata": {
        "id": "YMDmYS7X2au8"
      }
    },
    {
      "cell_type": "markdown",
      "source": [
        "### Задание 3"
      ],
      "metadata": {
        "id": "CTJ1ddP43L_Q"
      }
    },
    {
      "cell_type": "markdown",
      "source": [
        "**3.1**\n",
        "\n",
        "* Выполните агрегацию по столбцу марка автомобиля `Make`\n",
        "* Оцените среднее значение (mean) стоимости автомобилей `Price(euro)` и количество (count)\n",
        "* объедините результат агрегации с исходным датафреймом\n",
        "* Добавьте новый стобец данных `Make_new`, поместив в него текущие значения столбца , поместив в него текущие значения столбца `Make`\n",
        "* В столбце `Make_new` делайте замену редких марок автомобиля (реже 25) по следующему правилу:\n",
        "    *  если марка редкая и стоимость высокая (выше 75 перцентиля) - то поставьте значение `rare_expansive`\n",
        "    * если марка редкая и стоимость низкая (выше 25 перцентиля) - то поставьте значение `rare_cheap`\n",
        "    * остальные редкие марки замените значением `rare`\n",
        "\n",
        "* Замену можно выполнять используя логическое индексирование\n",
        "* Посчитайте количество сделанных замен"
      ],
      "metadata": {
        "id": "8OdKNyvo3QkX"
      }
    },
    {
      "cell_type": "code",
      "source": [
        "# Место для вашего кода"
      ],
      "metadata": {
        "id": "ORblXtZo62B_"
      },
      "execution_count": null,
      "outputs": []
    },
    {
      "cell_type": "markdown",
      "source": [
        "**3.2**\n",
        "\n",
        "* Выполните агрегацию одновременно по стобцам год `Year` и тип топлива `Make`\n",
        "* Оцените среднее значение стоимости автомобилей `Price(euro)`\n",
        "* Объедините результат агрегации с исходным датафреймом\n"
      ],
      "metadata": {
        "id": "ala9diAO69Gr"
      }
    },
    {
      "cell_type": "code",
      "source": [
        "# Место для вашего кода"
      ],
      "metadata": {
        "id": "NqfEXlxJ8LPE"
      },
      "execution_count": null,
      "outputs": []
    },
    {
      "cell_type": "markdown",
      "metadata": {
        "id": "IUxXz9JGhbuz"
      },
      "source": [
        "# Библиотеки для визуализации данных"
      ]
    },
    {
      "cell_type": "markdown",
      "metadata": {
        "id": "60k-NBzihVpa"
      },
      "source": [
        "## Гистограммы распределений"
      ]
    },
    {
      "cell_type": "markdown",
      "metadata": {
        "id": "Pgq1LEpZvrTZ"
      },
      "source": [
        "гистограммо-подобное\n",
        " `.displot(data, x, y, kind,...)`"
      ]
    },
    {
      "cell_type": "code",
      "execution_count": null,
      "metadata": {
        "id": "z93_cFRah5qA"
      },
      "outputs": [],
      "source": [
        "sns.displot(data = df,     # какой датафрейм используем\n",
        "             x = \"Engine_capacity(cm3)\", # какую переменную отрисовываем\n",
        "            kind = 'hist',   # какой график рисуем\n",
        "            aspect=2, # соотношение длины/высоты\n",
        "             );"
      ]
    },
    {
      "cell_type": "code",
      "source": [
        "sns.displot(data = df,     # какой датафрейм используем\n",
        "             x = \"Price(euro)\", # какую переменную отрисовываем\n",
        "            kind = 'hist',   # какой график рисуем\n",
        "            aspect=2, # соотношение длины/высоты\n",
        "             );"
      ],
      "metadata": {
        "id": "fmQgTbru9fAR"
      },
      "execution_count": null,
      "outputs": []
    },
    {
      "cell_type": "markdown",
      "source": [
        "Модифицируем некоторые признаки"
      ],
      "metadata": {
        "id": "4rQjP8iU9ydy"
      }
    },
    {
      "cell_type": "markdown",
      "source": [
        "### Задание 4"
      ],
      "metadata": {
        "id": "tAl913gK8xXK"
      }
    },
    {
      "cell_type": "markdown",
      "source": [
        "**4.1**\n",
        "* Добавьте новый столбец `Engine_category`\n",
        "* Используя данные изображенной гистограмы (или используя знания в предметной области) заполните новый столбец `Engine_category` категориальными  значениями (например 'Zero', 'Small', 'Medium', 'High', 'Brrrr')\n",
        "* Оцените встречаемость каждой новой полученной категории\n",
        "\n"
      ],
      "metadata": {
        "id": "-QeKWMR88zvO"
      }
    },
    {
      "cell_type": "code",
      "source": [
        "# Место для вашего кода"
      ],
      "metadata": {
        "id": "ehdUxKrF-Xio"
      },
      "execution_count": null,
      "outputs": []
    },
    {
      "cell_type": "markdown",
      "source": [
        "**4.2**\n",
        "* Добавьте новый столбец `Price_modified` , поместив в него текущие значения столбца `Price(euro)`\n",
        "* Используя [простые функции](https://colab.research.google.com/drive/1mqh2F1v7QG0O_Bzm9fFIJ53clMbIjkij#scrollTo=m1lDxMw61oKm) библиотеки NumPy сделайте так чтобы распределение столбца `Price_modified` стало нормальным (напоминающим колокол)\n",
        "* Убедитесь что вы всё сделали верно, выполнив визуализацию в виде гистограммы\n",
        "\n"
      ],
      "metadata": {
        "id": "tQSfKSZd-YEq"
      }
    },
    {
      "cell_type": "code",
      "source": [
        "# Место для вашего кода"
      ],
      "metadata": {
        "id": "ScF4gnRF_ce8"
      },
      "execution_count": null,
      "outputs": []
    }
  ],
  "metadata": {
    "colab": {
      "provenance": [],
      "toc_visible": true,
      "include_colab_link": true
    },
    "kernelspec": {
      "display_name": "Python 3",
      "language": "python",
      "name": "python3"
    },
    "language_info": {
      "codemirror_mode": {
        "name": "ipython",
        "version": 3
      },
      "file_extension": ".py",
      "mimetype": "text/x-python",
      "name": "python",
      "nbconvert_exporter": "python",
      "pygments_lexer": "ipython3",
      "version": "3.7.4"
    },
    "toc": {
      "base_numbering": 1,
      "nav_menu": {},
      "number_sections": true,
      "sideBar": true,
      "skip_h1_title": false,
      "title_cell": "Table of Contents",
      "title_sidebar": "Contents",
      "toc_cell": false,
      "toc_position": {
        "height": "calc(100% - 180px)",
        "left": "10px",
        "top": "150px",
        "width": "165px"
      },
      "toc_section_display": true,
      "toc_window_display": true
    }
  },
  "nbformat": 4,
  "nbformat_minor": 0
}