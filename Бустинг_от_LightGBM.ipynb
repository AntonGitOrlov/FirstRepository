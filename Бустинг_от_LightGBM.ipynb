{
  "nbformat": 4,
  "nbformat_minor": 0,
  "metadata": {
    "kernelspec": {
      "display_name": "Python 3",
      "language": "python",
      "name": "python3"
    },
    "language_info": {
      "codemirror_mode": {
        "name": "ipython",
        "version": 3
      },
      "file_extension": ".py",
      "mimetype": "text/x-python",
      "name": "python",
      "nbconvert_exporter": "python",
      "pygments_lexer": "ipython3",
      "version": "3.7.4"
    },
    "toc": {
      "base_numbering": 1,
      "nav_menu": {},
      "number_sections": true,
      "sideBar": true,
      "skip_h1_title": false,
      "title_cell": "Table of Contents",
      "title_sidebar": "Contents",
      "toc_cell": false,
      "toc_position": {
        "height": "calc(100% - 180px)",
        "left": "10px",
        "top": "150px",
        "width": "165px"
      },
      "toc_section_display": true,
      "toc_window_display": true
    },
    "colab": {
      "provenance": []
    }
  },
  "cells": [
    {
      "cell_type": "markdown",
      "source": [
        "# Цель Блокнота"
      ],
      "metadata": {
        "id": "jgqp-YmxmXMl"
      }
    },
    {
      "cell_type": "markdown",
      "source": [
        "Смотрим на реализацию Бустинга от MicroSoft"
      ],
      "metadata": {
        "id": "cDKN7fkxmaKa"
      }
    },
    {
      "cell_type": "markdown",
      "metadata": {
        "id": "czKick3H1Aqp"
      },
      "source": [
        "# Import библиотек"
      ]
    },
    {
      "cell_type": "code",
      "metadata": {
        "id": "Eu6aerLw1Aqq"
      },
      "source": [
        "import pandas as pd # Библиотека Pandas для работы с табличными данными\n",
        "import numpy as np # библиотека Numpy для операций линейной алгебры и прочего\n",
        "import matplotlib.pyplot as plt # библиотека Matplotlib для визуализации\n",
        "import seaborn as sns # библиотека seaborn для визуализации\n",
        "import numpy as np # библиотека Numpy для операций линейной алгебры и прочего\n"
      ],
      "execution_count": null,
      "outputs": []
    },
    {
      "cell_type": "code",
      "source": [
        "plt.style.use('dark_background') # для модных черных рисунков"
      ],
      "metadata": {
        "id": "jmUAhFaTuqBq"
      },
      "execution_count": null,
      "outputs": []
    },
    {
      "cell_type": "code",
      "source": [
        "import warnings\n",
        "warnings.filterwarnings('ignore')"
      ],
      "metadata": {
        "id": "kG_F8idxU__n"
      },
      "execution_count": null,
      "outputs": []
    },
    {
      "cell_type": "markdown",
      "metadata": {
        "id": "hSA1kgiKvrTG"
      },
      "source": [
        "# Набор данных\n",
        "\n"
      ]
    },
    {
      "cell_type": "markdown",
      "metadata": {
        "id": "9WAiW__nvrTK"
      },
      "source": [
        "Набор данных представляет собой статистику признаков автомобилей на вторичном рынке в Молдавии.\n",
        "\n",
        "Набор включает ряд категориальных и численных значений, составляющих одну запись (строку). Число записей можно найти как число строк.\n",
        "\n",
        "Каждый столбец в записи — это отдельный признак.\n",
        "\n",
        "Среди указанных признаков приведен целевой для задачи предсказания (регрессии) - цена автомобиля.\n",
        "\n",
        " Также среди признак есть целевой для задачи классификации - тип трансмиссии.\n",
        "\n",
        " Последняя задача может быть рассмотрена, например, как пример задачи на заполнение пропусков (если продавец не указал соответствующий признак)."
      ]
    },
    {
      "cell_type": "markdown",
      "source": [
        "# Загрузка данных"
      ],
      "metadata": {
        "id": "BWSBYJ2dZ8LJ"
      }
    },
    {
      "cell_type": "markdown",
      "source": [
        "Загружаем наши данные из файла по прямой ссылке на GitHub"
      ],
      "metadata": {
        "id": "Ea3-kYWG7fWJ"
      }
    },
    {
      "cell_type": "code",
      "source": [
        "DF = pd.read_csv('https://raw.githubusercontent.com/dayekb/mpti_ml/main/data/cars_moldova_no_dup_no_outliers.csv', delimiter = ',')\n",
        "DF"
      ],
      "metadata": {
        "colab": {
          "base_uri": "https://localhost:8080/",
          "height": 423
        },
        "id": "k10GNV_lFpP6",
        "outputId": "f50bbefe-1a72-475e-8a21-1e6689f0d709"
      },
      "execution_count": null,
      "outputs": [
        {
          "output_type": "execute_result",
          "data": {
            "text/plain": [
              "             Make         Model  Year      Style  Distance  \\\n",
              "0          Toyota         Prius  2011  Hatchback  195000.0   \n",
              "1         Renault  Grand Scenic  2014  Universal  135000.0   \n",
              "2         Renault        Laguna  2012  Universal  110000.0   \n",
              "3            Opel         Astra  2006  Universal  200000.0   \n",
              "4        Mercedes          Vito  2000   Microvan  300000.0   \n",
              "...           ...           ...   ...        ...       ...   \n",
              "32480  Volkswagen        Passat  2016      Sedan   88000.0   \n",
              "32481  Land Rover    Freelander  2002  Crossover  225000.0   \n",
              "32482       Dacia     Logan Mcv  2015  Universal   89000.0   \n",
              "32483       Mazda             6  2006      Combi  370000.0   \n",
              "32484     Renault  Grand Scenic  2006    Minivan  300000.0   \n",
              "\n",
              "       Engine_capacity(cm3)     Fuel_type Transmission  Price(euro)  \n",
              "0                    1800.0        Hybrid    Automatic       7750.0  \n",
              "1                    1500.0        Diesel       Manual       8550.0  \n",
              "2                    1500.0        Diesel       Manual       6550.0  \n",
              "3                    1600.0  Metan/Propan       Manual       4100.0  \n",
              "4                    2200.0        Diesel       Manual       3490.0  \n",
              "...                     ...           ...          ...          ...  \n",
              "32480                1800.0        Petrol    Automatic      11500.0  \n",
              "32481                1800.0  Metan/Propan       Manual       4400.0  \n",
              "32482                1500.0        Diesel       Manual       7000.0  \n",
              "32483                2000.0        Diesel       Manual       4000.0  \n",
              "32484                1500.0        Diesel       Manual       4000.0  \n",
              "\n",
              "[32485 rows x 9 columns]"
            ],
            "text/html": [
              "\n",
              "  <div id=\"df-76ddcae2-e9d4-433d-a62d-048fa2429a7b\" class=\"colab-df-container\">\n",
              "    <div>\n",
              "<style scoped>\n",
              "    .dataframe tbody tr th:only-of-type {\n",
              "        vertical-align: middle;\n",
              "    }\n",
              "\n",
              "    .dataframe tbody tr th {\n",
              "        vertical-align: top;\n",
              "    }\n",
              "\n",
              "    .dataframe thead th {\n",
              "        text-align: right;\n",
              "    }\n",
              "</style>\n",
              "<table border=\"1\" class=\"dataframe\">\n",
              "  <thead>\n",
              "    <tr style=\"text-align: right;\">\n",
              "      <th></th>\n",
              "      <th>Make</th>\n",
              "      <th>Model</th>\n",
              "      <th>Year</th>\n",
              "      <th>Style</th>\n",
              "      <th>Distance</th>\n",
              "      <th>Engine_capacity(cm3)</th>\n",
              "      <th>Fuel_type</th>\n",
              "      <th>Transmission</th>\n",
              "      <th>Price(euro)</th>\n",
              "    </tr>\n",
              "  </thead>\n",
              "  <tbody>\n",
              "    <tr>\n",
              "      <th>0</th>\n",
              "      <td>Toyota</td>\n",
              "      <td>Prius</td>\n",
              "      <td>2011</td>\n",
              "      <td>Hatchback</td>\n",
              "      <td>195000.0</td>\n",
              "      <td>1800.0</td>\n",
              "      <td>Hybrid</td>\n",
              "      <td>Automatic</td>\n",
              "      <td>7750.0</td>\n",
              "    </tr>\n",
              "    <tr>\n",
              "      <th>1</th>\n",
              "      <td>Renault</td>\n",
              "      <td>Grand Scenic</td>\n",
              "      <td>2014</td>\n",
              "      <td>Universal</td>\n",
              "      <td>135000.0</td>\n",
              "      <td>1500.0</td>\n",
              "      <td>Diesel</td>\n",
              "      <td>Manual</td>\n",
              "      <td>8550.0</td>\n",
              "    </tr>\n",
              "    <tr>\n",
              "      <th>2</th>\n",
              "      <td>Renault</td>\n",
              "      <td>Laguna</td>\n",
              "      <td>2012</td>\n",
              "      <td>Universal</td>\n",
              "      <td>110000.0</td>\n",
              "      <td>1500.0</td>\n",
              "      <td>Diesel</td>\n",
              "      <td>Manual</td>\n",
              "      <td>6550.0</td>\n",
              "    </tr>\n",
              "    <tr>\n",
              "      <th>3</th>\n",
              "      <td>Opel</td>\n",
              "      <td>Astra</td>\n",
              "      <td>2006</td>\n",
              "      <td>Universal</td>\n",
              "      <td>200000.0</td>\n",
              "      <td>1600.0</td>\n",
              "      <td>Metan/Propan</td>\n",
              "      <td>Manual</td>\n",
              "      <td>4100.0</td>\n",
              "    </tr>\n",
              "    <tr>\n",
              "      <th>4</th>\n",
              "      <td>Mercedes</td>\n",
              "      <td>Vito</td>\n",
              "      <td>2000</td>\n",
              "      <td>Microvan</td>\n",
              "      <td>300000.0</td>\n",
              "      <td>2200.0</td>\n",
              "      <td>Diesel</td>\n",
              "      <td>Manual</td>\n",
              "      <td>3490.0</td>\n",
              "    </tr>\n",
              "    <tr>\n",
              "      <th>...</th>\n",
              "      <td>...</td>\n",
              "      <td>...</td>\n",
              "      <td>...</td>\n",
              "      <td>...</td>\n",
              "      <td>...</td>\n",
              "      <td>...</td>\n",
              "      <td>...</td>\n",
              "      <td>...</td>\n",
              "      <td>...</td>\n",
              "    </tr>\n",
              "    <tr>\n",
              "      <th>32480</th>\n",
              "      <td>Volkswagen</td>\n",
              "      <td>Passat</td>\n",
              "      <td>2016</td>\n",
              "      <td>Sedan</td>\n",
              "      <td>88000.0</td>\n",
              "      <td>1800.0</td>\n",
              "      <td>Petrol</td>\n",
              "      <td>Automatic</td>\n",
              "      <td>11500.0</td>\n",
              "    </tr>\n",
              "    <tr>\n",
              "      <th>32481</th>\n",
              "      <td>Land Rover</td>\n",
              "      <td>Freelander</td>\n",
              "      <td>2002</td>\n",
              "      <td>Crossover</td>\n",
              "      <td>225000.0</td>\n",
              "      <td>1800.0</td>\n",
              "      <td>Metan/Propan</td>\n",
              "      <td>Manual</td>\n",
              "      <td>4400.0</td>\n",
              "    </tr>\n",
              "    <tr>\n",
              "      <th>32482</th>\n",
              "      <td>Dacia</td>\n",
              "      <td>Logan Mcv</td>\n",
              "      <td>2015</td>\n",
              "      <td>Universal</td>\n",
              "      <td>89000.0</td>\n",
              "      <td>1500.0</td>\n",
              "      <td>Diesel</td>\n",
              "      <td>Manual</td>\n",
              "      <td>7000.0</td>\n",
              "    </tr>\n",
              "    <tr>\n",
              "      <th>32483</th>\n",
              "      <td>Mazda</td>\n",
              "      <td>6</td>\n",
              "      <td>2006</td>\n",
              "      <td>Combi</td>\n",
              "      <td>370000.0</td>\n",
              "      <td>2000.0</td>\n",
              "      <td>Diesel</td>\n",
              "      <td>Manual</td>\n",
              "      <td>4000.0</td>\n",
              "    </tr>\n",
              "    <tr>\n",
              "      <th>32484</th>\n",
              "      <td>Renault</td>\n",
              "      <td>Grand Scenic</td>\n",
              "      <td>2006</td>\n",
              "      <td>Minivan</td>\n",
              "      <td>300000.0</td>\n",
              "      <td>1500.0</td>\n",
              "      <td>Diesel</td>\n",
              "      <td>Manual</td>\n",
              "      <td>4000.0</td>\n",
              "    </tr>\n",
              "  </tbody>\n",
              "</table>\n",
              "<p>32485 rows × 9 columns</p>\n",
              "</div>\n",
              "    <div class=\"colab-df-buttons\">\n",
              "\n",
              "  <div class=\"colab-df-container\">\n",
              "    <button class=\"colab-df-convert\" onclick=\"convertToInteractive('df-76ddcae2-e9d4-433d-a62d-048fa2429a7b')\"\n",
              "            title=\"Convert this dataframe to an interactive table.\"\n",
              "            style=\"display:none;\">\n",
              "\n",
              "  <svg xmlns=\"http://www.w3.org/2000/svg\" height=\"24px\" viewBox=\"0 -960 960 960\">\n",
              "    <path d=\"M120-120v-720h720v720H120Zm60-500h600v-160H180v160Zm220 220h160v-160H400v160Zm0 220h160v-160H400v160ZM180-400h160v-160H180v160Zm440 0h160v-160H620v160ZM180-180h160v-160H180v160Zm440 0h160v-160H620v160Z\"/>\n",
              "  </svg>\n",
              "    </button>\n",
              "\n",
              "  <style>\n",
              "    .colab-df-container {\n",
              "      display:flex;\n",
              "      gap: 12px;\n",
              "    }\n",
              "\n",
              "    .colab-df-convert {\n",
              "      background-color: #E8F0FE;\n",
              "      border: none;\n",
              "      border-radius: 50%;\n",
              "      cursor: pointer;\n",
              "      display: none;\n",
              "      fill: #1967D2;\n",
              "      height: 32px;\n",
              "      padding: 0 0 0 0;\n",
              "      width: 32px;\n",
              "    }\n",
              "\n",
              "    .colab-df-convert:hover {\n",
              "      background-color: #E2EBFA;\n",
              "      box-shadow: 0px 1px 2px rgba(60, 64, 67, 0.3), 0px 1px 3px 1px rgba(60, 64, 67, 0.15);\n",
              "      fill: #174EA6;\n",
              "    }\n",
              "\n",
              "    .colab-df-buttons div {\n",
              "      margin-bottom: 4px;\n",
              "    }\n",
              "\n",
              "    [theme=dark] .colab-df-convert {\n",
              "      background-color: #3B4455;\n",
              "      fill: #D2E3FC;\n",
              "    }\n",
              "\n",
              "    [theme=dark] .colab-df-convert:hover {\n",
              "      background-color: #434B5C;\n",
              "      box-shadow: 0px 1px 3px 1px rgba(0, 0, 0, 0.15);\n",
              "      filter: drop-shadow(0px 1px 2px rgba(0, 0, 0, 0.3));\n",
              "      fill: #FFFFFF;\n",
              "    }\n",
              "  </style>\n",
              "\n",
              "    <script>\n",
              "      const buttonEl =\n",
              "        document.querySelector('#df-76ddcae2-e9d4-433d-a62d-048fa2429a7b button.colab-df-convert');\n",
              "      buttonEl.style.display =\n",
              "        google.colab.kernel.accessAllowed ? 'block' : 'none';\n",
              "\n",
              "      async function convertToInteractive(key) {\n",
              "        const element = document.querySelector('#df-76ddcae2-e9d4-433d-a62d-048fa2429a7b');\n",
              "        const dataTable =\n",
              "          await google.colab.kernel.invokeFunction('convertToInteractive',\n",
              "                                                    [key], {});\n",
              "        if (!dataTable) return;\n",
              "\n",
              "        const docLinkHtml = 'Like what you see? Visit the ' +\n",
              "          '<a target=\"_blank\" href=https://colab.research.google.com/notebooks/data_table.ipynb>data table notebook</a>'\n",
              "          + ' to learn more about interactive tables.';\n",
              "        element.innerHTML = '';\n",
              "        dataTable['output_type'] = 'display_data';\n",
              "        await google.colab.output.renderOutput(dataTable, element);\n",
              "        const docLink = document.createElement('div');\n",
              "        docLink.innerHTML = docLinkHtml;\n",
              "        element.appendChild(docLink);\n",
              "      }\n",
              "    </script>\n",
              "  </div>\n",
              "\n",
              "\n",
              "<div id=\"df-7a828e76-dd4a-47a9-86fe-b2e48d4d8ff1\">\n",
              "  <button class=\"colab-df-quickchart\" onclick=\"quickchart('df-7a828e76-dd4a-47a9-86fe-b2e48d4d8ff1')\"\n",
              "            title=\"Suggest charts\"\n",
              "            style=\"display:none;\">\n",
              "\n",
              "<svg xmlns=\"http://www.w3.org/2000/svg\" height=\"24px\"viewBox=\"0 0 24 24\"\n",
              "     width=\"24px\">\n",
              "    <g>\n",
              "        <path d=\"M19 3H5c-1.1 0-2 .9-2 2v14c0 1.1.9 2 2 2h14c1.1 0 2-.9 2-2V5c0-1.1-.9-2-2-2zM9 17H7v-7h2v7zm4 0h-2V7h2v10zm4 0h-2v-4h2v4z\"/>\n",
              "    </g>\n",
              "</svg>\n",
              "  </button>\n",
              "\n",
              "<style>\n",
              "  .colab-df-quickchart {\n",
              "      --bg-color: #E8F0FE;\n",
              "      --fill-color: #1967D2;\n",
              "      --hover-bg-color: #E2EBFA;\n",
              "      --hover-fill-color: #174EA6;\n",
              "      --disabled-fill-color: #AAA;\n",
              "      --disabled-bg-color: #DDD;\n",
              "  }\n",
              "\n",
              "  [theme=dark] .colab-df-quickchart {\n",
              "      --bg-color: #3B4455;\n",
              "      --fill-color: #D2E3FC;\n",
              "      --hover-bg-color: #434B5C;\n",
              "      --hover-fill-color: #FFFFFF;\n",
              "      --disabled-bg-color: #3B4455;\n",
              "      --disabled-fill-color: #666;\n",
              "  }\n",
              "\n",
              "  .colab-df-quickchart {\n",
              "    background-color: var(--bg-color);\n",
              "    border: none;\n",
              "    border-radius: 50%;\n",
              "    cursor: pointer;\n",
              "    display: none;\n",
              "    fill: var(--fill-color);\n",
              "    height: 32px;\n",
              "    padding: 0;\n",
              "    width: 32px;\n",
              "  }\n",
              "\n",
              "  .colab-df-quickchart:hover {\n",
              "    background-color: var(--hover-bg-color);\n",
              "    box-shadow: 0 1px 2px rgba(60, 64, 67, 0.3), 0 1px 3px 1px rgba(60, 64, 67, 0.15);\n",
              "    fill: var(--button-hover-fill-color);\n",
              "  }\n",
              "\n",
              "  .colab-df-quickchart-complete:disabled,\n",
              "  .colab-df-quickchart-complete:disabled:hover {\n",
              "    background-color: var(--disabled-bg-color);\n",
              "    fill: var(--disabled-fill-color);\n",
              "    box-shadow: none;\n",
              "  }\n",
              "\n",
              "  .colab-df-spinner {\n",
              "    border: 2px solid var(--fill-color);\n",
              "    border-color: transparent;\n",
              "    border-bottom-color: var(--fill-color);\n",
              "    animation:\n",
              "      spin 1s steps(1) infinite;\n",
              "  }\n",
              "\n",
              "  @keyframes spin {\n",
              "    0% {\n",
              "      border-color: transparent;\n",
              "      border-bottom-color: var(--fill-color);\n",
              "      border-left-color: var(--fill-color);\n",
              "    }\n",
              "    20% {\n",
              "      border-color: transparent;\n",
              "      border-left-color: var(--fill-color);\n",
              "      border-top-color: var(--fill-color);\n",
              "    }\n",
              "    30% {\n",
              "      border-color: transparent;\n",
              "      border-left-color: var(--fill-color);\n",
              "      border-top-color: var(--fill-color);\n",
              "      border-right-color: var(--fill-color);\n",
              "    }\n",
              "    40% {\n",
              "      border-color: transparent;\n",
              "      border-right-color: var(--fill-color);\n",
              "      border-top-color: var(--fill-color);\n",
              "    }\n",
              "    60% {\n",
              "      border-color: transparent;\n",
              "      border-right-color: var(--fill-color);\n",
              "    }\n",
              "    80% {\n",
              "      border-color: transparent;\n",
              "      border-right-color: var(--fill-color);\n",
              "      border-bottom-color: var(--fill-color);\n",
              "    }\n",
              "    90% {\n",
              "      border-color: transparent;\n",
              "      border-bottom-color: var(--fill-color);\n",
              "    }\n",
              "  }\n",
              "</style>\n",
              "\n",
              "  <script>\n",
              "    async function quickchart(key) {\n",
              "      const quickchartButtonEl =\n",
              "        document.querySelector('#' + key + ' button');\n",
              "      quickchartButtonEl.disabled = true;  // To prevent multiple clicks.\n",
              "      quickchartButtonEl.classList.add('colab-df-spinner');\n",
              "      try {\n",
              "        const charts = await google.colab.kernel.invokeFunction(\n",
              "            'suggestCharts', [key], {});\n",
              "      } catch (error) {\n",
              "        console.error('Error during call to suggestCharts:', error);\n",
              "      }\n",
              "      quickchartButtonEl.classList.remove('colab-df-spinner');\n",
              "      quickchartButtonEl.classList.add('colab-df-quickchart-complete');\n",
              "    }\n",
              "    (() => {\n",
              "      let quickchartButtonEl =\n",
              "        document.querySelector('#df-7a828e76-dd4a-47a9-86fe-b2e48d4d8ff1 button');\n",
              "      quickchartButtonEl.style.display =\n",
              "        google.colab.kernel.accessAllowed ? 'block' : 'none';\n",
              "    })();\n",
              "  </script>\n",
              "</div>\n",
              "    </div>\n",
              "  </div>\n"
            ],
            "application/vnd.google.colaboratory.intrinsic+json": {
              "type": "dataframe",
              "variable_name": "DF",
              "summary": "{\n  \"name\": \"DF\",\n  \"rows\": 32485,\n  \"fields\": [\n    {\n      \"column\": \"Make\",\n      \"properties\": {\n        \"dtype\": \"category\",\n        \"num_unique_values\": 79,\n        \"samples\": [\n          \"Mitsubishi\",\n          \"Toyota\",\n          \"Mazda\"\n        ],\n        \"semantic_type\": \"\",\n        \"description\": \"\"\n      }\n    },\n    {\n      \"column\": \"Model\",\n      \"properties\": {\n        \"dtype\": \"category\",\n        \"num_unique_values\": 781,\n        \"samples\": [\n          \"Justy\",\n          \"Vaneo\",\n          \"Atos\"\n        ],\n        \"semantic_type\": \"\",\n        \"description\": \"\"\n      }\n    },\n    {\n      \"column\": \"Year\",\n      \"properties\": {\n        \"dtype\": \"number\",\n        \"std\": 7,\n        \"min\": 1971,\n        \"max\": 2021,\n        \"num_unique_values\": 50,\n        \"samples\": [\n          2013,\n          1990,\n          1987\n        ],\n        \"semantic_type\": \"\",\n        \"description\": \"\"\n      }\n    },\n    {\n      \"column\": \"Style\",\n      \"properties\": {\n        \"dtype\": \"category\",\n        \"num_unique_values\": 12,\n        \"samples\": [\n          \"Cabriolet\",\n          \"Combi\",\n          \"Hatchback\"\n        ],\n        \"semantic_type\": \"\",\n        \"description\": \"\"\n      }\n    },\n    {\n      \"column\": \"Distance\",\n      \"properties\": {\n        \"dtype\": \"number\",\n        \"std\": 91554.9546743865,\n        \"min\": 1.0,\n        \"max\": 500000.0,\n        \"num_unique_values\": 8081,\n        \"samples\": [\n          234829.0,\n          105217.0,\n          478563.0\n        ],\n        \"semantic_type\": \"\",\n        \"description\": \"\"\n      }\n    },\n    {\n      \"column\": \"Engine_capacity(cm3)\",\n      \"properties\": {\n        \"dtype\": \"number\",\n        \"std\": 625.2367314328407,\n        \"min\": 0.0,\n        \"max\": 5000.0,\n        \"num_unique_values\": 636,\n        \"samples\": [\n          995.0,\n          3328.0,\n          1388.0\n        ],\n        \"semantic_type\": \"\",\n        \"description\": \"\"\n      }\n    },\n    {\n      \"column\": \"Fuel_type\",\n      \"properties\": {\n        \"dtype\": \"category\",\n        \"num_unique_values\": 6,\n        \"samples\": [\n          \"Hybrid\",\n          \"Diesel\",\n          \"Plug-in Hybrid\"\n        ],\n        \"semantic_type\": \"\",\n        \"description\": \"\"\n      }\n    },\n    {\n      \"column\": \"Transmission\",\n      \"properties\": {\n        \"dtype\": \"category\",\n        \"num_unique_values\": 2,\n        \"samples\": [\n          \"Manual\",\n          \"Automatic\"\n        ],\n        \"semantic_type\": \"\",\n        \"description\": \"\"\n      }\n    },\n    {\n      \"column\": \"Price(euro)\",\n      \"properties\": {\n        \"dtype\": \"number\",\n        \"std\": 7839.471389087623,\n        \"min\": 200.0,\n        \"max\": 50000.0,\n        \"num_unique_values\": 1562,\n        \"samples\": [\n          720.0,\n          31499.0\n        ],\n        \"semantic_type\": \"\",\n        \"description\": \"\"\n      }\n    }\n  ]\n}"
            }
          },
          "metadata": {},
          "execution_count": 4
        }
      ]
    },
    {
      "cell_type": "markdown",
      "source": [
        "Список числовых и категориальных данных"
      ],
      "metadata": {
        "id": "iFlAkKVu-wy6"
      }
    },
    {
      "cell_type": "code",
      "metadata": {
        "id": "yU8gHQJjwzDa"
      },
      "source": [
        "cat_columns = ['Make', 'Model', 'Style', 'Fuel_type', 'Transmission']\n",
        "num_columns = ['Year', 'Distance', 'Engine_capacity(cm3)', 'Price(euro)']"
      ],
      "execution_count": null,
      "outputs": []
    },
    {
      "cell_type": "markdown",
      "metadata": {
        "id": "4ZCkHlunJgQY"
      },
      "source": [
        "# Подготовка данных"
      ]
    },
    {
      "cell_type": "code",
      "metadata": {
        "id": "sEfPA0RSJgQY"
      },
      "source": [
        "from sklearn.model_selection import train_test_split #  функция разбиения на тренировочную и валидационную выборку\n",
        "# в исполнении scikit-learn\n",
        "from sklearn.model_selection import ShuffleSplit # при кросс-валидации случайно перемешиваем данные\n",
        "from sklearn.model_selection import cross_validate # функция кросс-валидации от Scikit-learn\n",
        "\n",
        "from sklearn.metrics import mean_squared_error as mse # метрика MSE от Scikit-learn\n",
        "from sklearn.metrics import r2_score # коэффициент детерминации  от Scikit-learn\n",
        "\n",
        "from sklearn.metrics import PredictionErrorDisplay # Класс визуализации ошибок модели"
      ],
      "execution_count": null,
      "outputs": []
    },
    {
      "cell_type": "markdown",
      "metadata": {
        "id": "8EDYLQ2K1S16"
      },
      "source": [
        "**Считываем данные, разбиваем на тренировочную и валидационную**"
      ]
    },
    {
      "cell_type": "code",
      "metadata": {
        "id": "X9CoF_ukzxde"
      },
      "source": [
        "# не забываем удалить целевую переменную цену из признаков\n",
        "X, y = DF.drop(columns = ['Price(euro)']), DF['Price(euro)']\n",
        "features_names = list(DF.drop(columns = [\"Price(euro)\"]).columns)\n",
        "\n",
        "# для LightGBM категориальные признаки всё равно придется перевести в числа\n",
        "for col in cat_columns:\n",
        "    X[col] = X[col].astype('category')\n",
        "\n",
        "# разбиваем на тренировочную и валидационную\n",
        "X_train, X_val, y_train, y_val = train_test_split(X, y,\n",
        "                                                    test_size=0.3,\n",
        "                                                    random_state=42)"
      ],
      "execution_count": null,
      "outputs": []
    },
    {
      "cell_type": "code",
      "source": [
        "X_train"
      ],
      "metadata": {
        "colab": {
          "base_uri": "https://localhost:8080/",
          "height": 423
        },
        "id": "Kr4rfJ3Mge4p",
        "outputId": "05bd7bb8-2fef-46ee-fb5c-859d973b50b2"
      },
      "execution_count": null,
      "outputs": [
        {
          "output_type": "execute_result",
          "data": {
            "text/plain": [
              "             Make    Model  Year      Style  Distance  Engine_capacity(cm3)  \\\n",
              "2215          BMW       X5  2010  Universal  150000.0                3000.0   \n",
              "24043     Renault   Kangoo  2004    Minivan  198500.0                1499.0   \n",
              "25744  Volkswagen  Phaeton  2007      Sedan  240000.0                 300.0   \n",
              "16217       Skoda   Kodiaq  2018        SUV   24000.0                2000.0   \n",
              "8019     Mercedes  E Class  2014      Sedan  173000.0                2148.0   \n",
              "...           ...      ...   ...        ...       ...                   ...   \n",
              "29802        Opel    Astra  2012  Universal  180000.0                1300.0   \n",
              "5390        Skoda  Octavia  2006  Universal  250000.0                1900.0   \n",
              "860        Toyota    Auris  2015  Hatchback  179713.0                1400.0   \n",
              "15795       Dacia    Logan  2006      Sedan  300000.0                1396.0   \n",
              "23654  Volkswagen     Bora  1999      Sedan  111111.0                1600.0   \n",
              "\n",
              "          Fuel_type Transmission  \n",
              "2215         Petrol    Automatic  \n",
              "24043        Diesel       Manual  \n",
              "25744        Diesel    Automatic  \n",
              "16217        Petrol    Automatic  \n",
              "8019         Diesel    Automatic  \n",
              "...             ...          ...  \n",
              "29802        Diesel       Manual  \n",
              "5390         Diesel       Manual  \n",
              "860          Diesel       Manual  \n",
              "15795  Metan/Propan       Manual  \n",
              "23654  Metan/Propan       Manual  \n",
              "\n",
              "[22739 rows x 8 columns]"
            ],
            "text/html": [
              "\n",
              "  <div id=\"df-dac9291f-e684-4854-86cc-90f3a55832b6\" class=\"colab-df-container\">\n",
              "    <div>\n",
              "<style scoped>\n",
              "    .dataframe tbody tr th:only-of-type {\n",
              "        vertical-align: middle;\n",
              "    }\n",
              "\n",
              "    .dataframe tbody tr th {\n",
              "        vertical-align: top;\n",
              "    }\n",
              "\n",
              "    .dataframe thead th {\n",
              "        text-align: right;\n",
              "    }\n",
              "</style>\n",
              "<table border=\"1\" class=\"dataframe\">\n",
              "  <thead>\n",
              "    <tr style=\"text-align: right;\">\n",
              "      <th></th>\n",
              "      <th>Make</th>\n",
              "      <th>Model</th>\n",
              "      <th>Year</th>\n",
              "      <th>Style</th>\n",
              "      <th>Distance</th>\n",
              "      <th>Engine_capacity(cm3)</th>\n",
              "      <th>Fuel_type</th>\n",
              "      <th>Transmission</th>\n",
              "    </tr>\n",
              "  </thead>\n",
              "  <tbody>\n",
              "    <tr>\n",
              "      <th>2215</th>\n",
              "      <td>BMW</td>\n",
              "      <td>X5</td>\n",
              "      <td>2010</td>\n",
              "      <td>Universal</td>\n",
              "      <td>150000.0</td>\n",
              "      <td>3000.0</td>\n",
              "      <td>Petrol</td>\n",
              "      <td>Automatic</td>\n",
              "    </tr>\n",
              "    <tr>\n",
              "      <th>24043</th>\n",
              "      <td>Renault</td>\n",
              "      <td>Kangoo</td>\n",
              "      <td>2004</td>\n",
              "      <td>Minivan</td>\n",
              "      <td>198500.0</td>\n",
              "      <td>1499.0</td>\n",
              "      <td>Diesel</td>\n",
              "      <td>Manual</td>\n",
              "    </tr>\n",
              "    <tr>\n",
              "      <th>25744</th>\n",
              "      <td>Volkswagen</td>\n",
              "      <td>Phaeton</td>\n",
              "      <td>2007</td>\n",
              "      <td>Sedan</td>\n",
              "      <td>240000.0</td>\n",
              "      <td>300.0</td>\n",
              "      <td>Diesel</td>\n",
              "      <td>Automatic</td>\n",
              "    </tr>\n",
              "    <tr>\n",
              "      <th>16217</th>\n",
              "      <td>Skoda</td>\n",
              "      <td>Kodiaq</td>\n",
              "      <td>2018</td>\n",
              "      <td>SUV</td>\n",
              "      <td>24000.0</td>\n",
              "      <td>2000.0</td>\n",
              "      <td>Petrol</td>\n",
              "      <td>Automatic</td>\n",
              "    </tr>\n",
              "    <tr>\n",
              "      <th>8019</th>\n",
              "      <td>Mercedes</td>\n",
              "      <td>E Class</td>\n",
              "      <td>2014</td>\n",
              "      <td>Sedan</td>\n",
              "      <td>173000.0</td>\n",
              "      <td>2148.0</td>\n",
              "      <td>Diesel</td>\n",
              "      <td>Automatic</td>\n",
              "    </tr>\n",
              "    <tr>\n",
              "      <th>...</th>\n",
              "      <td>...</td>\n",
              "      <td>...</td>\n",
              "      <td>...</td>\n",
              "      <td>...</td>\n",
              "      <td>...</td>\n",
              "      <td>...</td>\n",
              "      <td>...</td>\n",
              "      <td>...</td>\n",
              "    </tr>\n",
              "    <tr>\n",
              "      <th>29802</th>\n",
              "      <td>Opel</td>\n",
              "      <td>Astra</td>\n",
              "      <td>2012</td>\n",
              "      <td>Universal</td>\n",
              "      <td>180000.0</td>\n",
              "      <td>1300.0</td>\n",
              "      <td>Diesel</td>\n",
              "      <td>Manual</td>\n",
              "    </tr>\n",
              "    <tr>\n",
              "      <th>5390</th>\n",
              "      <td>Skoda</td>\n",
              "      <td>Octavia</td>\n",
              "      <td>2006</td>\n",
              "      <td>Universal</td>\n",
              "      <td>250000.0</td>\n",
              "      <td>1900.0</td>\n",
              "      <td>Diesel</td>\n",
              "      <td>Manual</td>\n",
              "    </tr>\n",
              "    <tr>\n",
              "      <th>860</th>\n",
              "      <td>Toyota</td>\n",
              "      <td>Auris</td>\n",
              "      <td>2015</td>\n",
              "      <td>Hatchback</td>\n",
              "      <td>179713.0</td>\n",
              "      <td>1400.0</td>\n",
              "      <td>Diesel</td>\n",
              "      <td>Manual</td>\n",
              "    </tr>\n",
              "    <tr>\n",
              "      <th>15795</th>\n",
              "      <td>Dacia</td>\n",
              "      <td>Logan</td>\n",
              "      <td>2006</td>\n",
              "      <td>Sedan</td>\n",
              "      <td>300000.0</td>\n",
              "      <td>1396.0</td>\n",
              "      <td>Metan/Propan</td>\n",
              "      <td>Manual</td>\n",
              "    </tr>\n",
              "    <tr>\n",
              "      <th>23654</th>\n",
              "      <td>Volkswagen</td>\n",
              "      <td>Bora</td>\n",
              "      <td>1999</td>\n",
              "      <td>Sedan</td>\n",
              "      <td>111111.0</td>\n",
              "      <td>1600.0</td>\n",
              "      <td>Metan/Propan</td>\n",
              "      <td>Manual</td>\n",
              "    </tr>\n",
              "  </tbody>\n",
              "</table>\n",
              "<p>22739 rows × 8 columns</p>\n",
              "</div>\n",
              "    <div class=\"colab-df-buttons\">\n",
              "\n",
              "  <div class=\"colab-df-container\">\n",
              "    <button class=\"colab-df-convert\" onclick=\"convertToInteractive('df-dac9291f-e684-4854-86cc-90f3a55832b6')\"\n",
              "            title=\"Convert this dataframe to an interactive table.\"\n",
              "            style=\"display:none;\">\n",
              "\n",
              "  <svg xmlns=\"http://www.w3.org/2000/svg\" height=\"24px\" viewBox=\"0 -960 960 960\">\n",
              "    <path d=\"M120-120v-720h720v720H120Zm60-500h600v-160H180v160Zm220 220h160v-160H400v160Zm0 220h160v-160H400v160ZM180-400h160v-160H180v160Zm440 0h160v-160H620v160ZM180-180h160v-160H180v160Zm440 0h160v-160H620v160Z\"/>\n",
              "  </svg>\n",
              "    </button>\n",
              "\n",
              "  <style>\n",
              "    .colab-df-container {\n",
              "      display:flex;\n",
              "      gap: 12px;\n",
              "    }\n",
              "\n",
              "    .colab-df-convert {\n",
              "      background-color: #E8F0FE;\n",
              "      border: none;\n",
              "      border-radius: 50%;\n",
              "      cursor: pointer;\n",
              "      display: none;\n",
              "      fill: #1967D2;\n",
              "      height: 32px;\n",
              "      padding: 0 0 0 0;\n",
              "      width: 32px;\n",
              "    }\n",
              "\n",
              "    .colab-df-convert:hover {\n",
              "      background-color: #E2EBFA;\n",
              "      box-shadow: 0px 1px 2px rgba(60, 64, 67, 0.3), 0px 1px 3px 1px rgba(60, 64, 67, 0.15);\n",
              "      fill: #174EA6;\n",
              "    }\n",
              "\n",
              "    .colab-df-buttons div {\n",
              "      margin-bottom: 4px;\n",
              "    }\n",
              "\n",
              "    [theme=dark] .colab-df-convert {\n",
              "      background-color: #3B4455;\n",
              "      fill: #D2E3FC;\n",
              "    }\n",
              "\n",
              "    [theme=dark] .colab-df-convert:hover {\n",
              "      background-color: #434B5C;\n",
              "      box-shadow: 0px 1px 3px 1px rgba(0, 0, 0, 0.15);\n",
              "      filter: drop-shadow(0px 1px 2px rgba(0, 0, 0, 0.3));\n",
              "      fill: #FFFFFF;\n",
              "    }\n",
              "  </style>\n",
              "\n",
              "    <script>\n",
              "      const buttonEl =\n",
              "        document.querySelector('#df-dac9291f-e684-4854-86cc-90f3a55832b6 button.colab-df-convert');\n",
              "      buttonEl.style.display =\n",
              "        google.colab.kernel.accessAllowed ? 'block' : 'none';\n",
              "\n",
              "      async function convertToInteractive(key) {\n",
              "        const element = document.querySelector('#df-dac9291f-e684-4854-86cc-90f3a55832b6');\n",
              "        const dataTable =\n",
              "          await google.colab.kernel.invokeFunction('convertToInteractive',\n",
              "                                                    [key], {});\n",
              "        if (!dataTable) return;\n",
              "\n",
              "        const docLinkHtml = 'Like what you see? Visit the ' +\n",
              "          '<a target=\"_blank\" href=https://colab.research.google.com/notebooks/data_table.ipynb>data table notebook</a>'\n",
              "          + ' to learn more about interactive tables.';\n",
              "        element.innerHTML = '';\n",
              "        dataTable['output_type'] = 'display_data';\n",
              "        await google.colab.output.renderOutput(dataTable, element);\n",
              "        const docLink = document.createElement('div');\n",
              "        docLink.innerHTML = docLinkHtml;\n",
              "        element.appendChild(docLink);\n",
              "      }\n",
              "    </script>\n",
              "  </div>\n",
              "\n",
              "\n",
              "<div id=\"df-085115a4-c7af-4467-a288-ddf88f498971\">\n",
              "  <button class=\"colab-df-quickchart\" onclick=\"quickchart('df-085115a4-c7af-4467-a288-ddf88f498971')\"\n",
              "            title=\"Suggest charts\"\n",
              "            style=\"display:none;\">\n",
              "\n",
              "<svg xmlns=\"http://www.w3.org/2000/svg\" height=\"24px\"viewBox=\"0 0 24 24\"\n",
              "     width=\"24px\">\n",
              "    <g>\n",
              "        <path d=\"M19 3H5c-1.1 0-2 .9-2 2v14c0 1.1.9 2 2 2h14c1.1 0 2-.9 2-2V5c0-1.1-.9-2-2-2zM9 17H7v-7h2v7zm4 0h-2V7h2v10zm4 0h-2v-4h2v4z\"/>\n",
              "    </g>\n",
              "</svg>\n",
              "  </button>\n",
              "\n",
              "<style>\n",
              "  .colab-df-quickchart {\n",
              "      --bg-color: #E8F0FE;\n",
              "      --fill-color: #1967D2;\n",
              "      --hover-bg-color: #E2EBFA;\n",
              "      --hover-fill-color: #174EA6;\n",
              "      --disabled-fill-color: #AAA;\n",
              "      --disabled-bg-color: #DDD;\n",
              "  }\n",
              "\n",
              "  [theme=dark] .colab-df-quickchart {\n",
              "      --bg-color: #3B4455;\n",
              "      --fill-color: #D2E3FC;\n",
              "      --hover-bg-color: #434B5C;\n",
              "      --hover-fill-color: #FFFFFF;\n",
              "      --disabled-bg-color: #3B4455;\n",
              "      --disabled-fill-color: #666;\n",
              "  }\n",
              "\n",
              "  .colab-df-quickchart {\n",
              "    background-color: var(--bg-color);\n",
              "    border: none;\n",
              "    border-radius: 50%;\n",
              "    cursor: pointer;\n",
              "    display: none;\n",
              "    fill: var(--fill-color);\n",
              "    height: 32px;\n",
              "    padding: 0;\n",
              "    width: 32px;\n",
              "  }\n",
              "\n",
              "  .colab-df-quickchart:hover {\n",
              "    background-color: var(--hover-bg-color);\n",
              "    box-shadow: 0 1px 2px rgba(60, 64, 67, 0.3), 0 1px 3px 1px rgba(60, 64, 67, 0.15);\n",
              "    fill: var(--button-hover-fill-color);\n",
              "  }\n",
              "\n",
              "  .colab-df-quickchart-complete:disabled,\n",
              "  .colab-df-quickchart-complete:disabled:hover {\n",
              "    background-color: var(--disabled-bg-color);\n",
              "    fill: var(--disabled-fill-color);\n",
              "    box-shadow: none;\n",
              "  }\n",
              "\n",
              "  .colab-df-spinner {\n",
              "    border: 2px solid var(--fill-color);\n",
              "    border-color: transparent;\n",
              "    border-bottom-color: var(--fill-color);\n",
              "    animation:\n",
              "      spin 1s steps(1) infinite;\n",
              "  }\n",
              "\n",
              "  @keyframes spin {\n",
              "    0% {\n",
              "      border-color: transparent;\n",
              "      border-bottom-color: var(--fill-color);\n",
              "      border-left-color: var(--fill-color);\n",
              "    }\n",
              "    20% {\n",
              "      border-color: transparent;\n",
              "      border-left-color: var(--fill-color);\n",
              "      border-top-color: var(--fill-color);\n",
              "    }\n",
              "    30% {\n",
              "      border-color: transparent;\n",
              "      border-left-color: var(--fill-color);\n",
              "      border-top-color: var(--fill-color);\n",
              "      border-right-color: var(--fill-color);\n",
              "    }\n",
              "    40% {\n",
              "      border-color: transparent;\n",
              "      border-right-color: var(--fill-color);\n",
              "      border-top-color: var(--fill-color);\n",
              "    }\n",
              "    60% {\n",
              "      border-color: transparent;\n",
              "      border-right-color: var(--fill-color);\n",
              "    }\n",
              "    80% {\n",
              "      border-color: transparent;\n",
              "      border-right-color: var(--fill-color);\n",
              "      border-bottom-color: var(--fill-color);\n",
              "    }\n",
              "    90% {\n",
              "      border-color: transparent;\n",
              "      border-bottom-color: var(--fill-color);\n",
              "    }\n",
              "  }\n",
              "</style>\n",
              "\n",
              "  <script>\n",
              "    async function quickchart(key) {\n",
              "      const quickchartButtonEl =\n",
              "        document.querySelector('#' + key + ' button');\n",
              "      quickchartButtonEl.disabled = true;  // To prevent multiple clicks.\n",
              "      quickchartButtonEl.classList.add('colab-df-spinner');\n",
              "      try {\n",
              "        const charts = await google.colab.kernel.invokeFunction(\n",
              "            'suggestCharts', [key], {});\n",
              "      } catch (error) {\n",
              "        console.error('Error during call to suggestCharts:', error);\n",
              "      }\n",
              "      quickchartButtonEl.classList.remove('colab-df-spinner');\n",
              "      quickchartButtonEl.classList.add('colab-df-quickchart-complete');\n",
              "    }\n",
              "    (() => {\n",
              "      let quickchartButtonEl =\n",
              "        document.querySelector('#df-085115a4-c7af-4467-a288-ddf88f498971 button');\n",
              "      quickchartButtonEl.style.display =\n",
              "        google.colab.kernel.accessAllowed ? 'block' : 'none';\n",
              "    })();\n",
              "  </script>\n",
              "</div>\n",
              "    </div>\n",
              "  </div>\n"
            ],
            "application/vnd.google.colaboratory.intrinsic+json": {
              "type": "dataframe",
              "variable_name": "X_train",
              "summary": "{\n  \"name\": \"X_train\",\n  \"rows\": 22739,\n  \"fields\": [\n    {\n      \"column\": \"Make\",\n      \"properties\": {\n        \"dtype\": \"category\",\n        \"num_unique_values\": 77,\n        \"samples\": [\n          \"Mercedes\",\n          \"Buick\",\n          \"Dacia\"\n        ],\n        \"semantic_type\": \"\",\n        \"description\": \"\"\n      }\n    },\n    {\n      \"column\": \"Model\",\n      \"properties\": {\n        \"dtype\": \"category\",\n        \"num_unique_values\": 734,\n        \"samples\": [\n          \"Grand - Am\",\n          \"Prius\",\n          \"Rio\"\n        ],\n        \"semantic_type\": \"\",\n        \"description\": \"\"\n      }\n    },\n    {\n      \"column\": \"Year\",\n      \"properties\": {\n        \"dtype\": \"number\",\n        \"std\": 7,\n        \"min\": 1971,\n        \"max\": 2021,\n        \"num_unique_values\": 49,\n        \"samples\": [\n          2019,\n          1973,\n          1981\n        ],\n        \"semantic_type\": \"\",\n        \"description\": \"\"\n      }\n    },\n    {\n      \"column\": \"Style\",\n      \"properties\": {\n        \"dtype\": \"category\",\n        \"num_unique_values\": 12,\n        \"samples\": [\n          \"Cabriolet\",\n          \"Combi\",\n          \"Universal\"\n        ],\n        \"semantic_type\": \"\",\n        \"description\": \"\"\n      }\n    },\n    {\n      \"column\": \"Distance\",\n      \"properties\": {\n        \"dtype\": \"number\",\n        \"std\": 91767.23334235718,\n        \"min\": 1.0,\n        \"max\": 500000.0,\n        \"num_unique_values\": 5951,\n        \"samples\": [\n          301300.0,\n          224500.0,\n          250022.0\n        ],\n        \"semantic_type\": \"\",\n        \"description\": \"\"\n      }\n    },\n    {\n      \"column\": \"Engine_capacity(cm3)\",\n      \"properties\": {\n        \"dtype\": \"number\",\n        \"std\": 632.6603112842516,\n        \"min\": 0.0,\n        \"max\": 5000.0,\n        \"num_unique_values\": 544,\n        \"samples\": [\n          3450.0,\n          1350.0,\n          2188.0\n        ],\n        \"semantic_type\": \"\",\n        \"description\": \"\"\n      }\n    },\n    {\n      \"column\": \"Fuel_type\",\n      \"properties\": {\n        \"dtype\": \"category\",\n        \"num_unique_values\": 6,\n        \"samples\": [\n          \"Petrol\",\n          \"Diesel\",\n          \"Plug-in Hybrid\"\n        ],\n        \"semantic_type\": \"\",\n        \"description\": \"\"\n      }\n    },\n    {\n      \"column\": \"Transmission\",\n      \"properties\": {\n        \"dtype\": \"category\",\n        \"num_unique_values\": 2,\n        \"samples\": [\n          \"Manual\",\n          \"Automatic\"\n        ],\n        \"semantic_type\": \"\",\n        \"description\": \"\"\n      }\n    }\n  ]\n}"
            }
          },
          "metadata": {},
          "execution_count": 8
        }
      ]
    },
    {
      "cell_type": "markdown",
      "source": [
        "Тут тоже есть свой формат данных, но он используется если используется т.н. автономный метод обучения `train`"
      ],
      "metadata": {
        "id": "pLq0AJsyihsJ"
      }
    },
    {
      "cell_type": "code",
      "source": [
        "import lightgbm as lgb\n",
        "from lightgbm import Dataset"
      ],
      "metadata": {
        "id": "uCJZpXP6exEN"
      },
      "execution_count": null,
      "outputs": []
    },
    {
      "cell_type": "code",
      "source": [
        "train_data = Dataset(\n",
        "    X_train,\n",
        "    y_train,\n",
        "    categorical_feature=cat_columns,)\n",
        "\n",
        "val_data = Dataset(\n",
        "    X_val,\n",
        "    y_val,\n",
        "    categorical_feature=cat_columns,\n",
        ")"
      ],
      "metadata": {
        "id": "azArl5YpC9m1"
      },
      "execution_count": null,
      "outputs": []
    },
    {
      "cell_type": "markdown",
      "metadata": {
        "id": "qVPJyGpARqEI"
      },
      "source": [
        "## Модель"
      ]
    },
    {
      "cell_type": "markdown",
      "source": [
        "Создаем Класс, как обычно\n",
        "\n",
        "В целом уже стандартные и похожие вещи\n",
        "\n",
        "\n",
        "\n"
      ],
      "metadata": {
        "id": "O6MgehC7epG9"
      }
    },
    {
      "cell_type": "code",
      "source": [
        "model_reg = lgb.LGBMRegressor (random_state = 42,\n",
        "                            objective= 'mean_squared_error',\n",
        "                              categorical_feature =[0,1,3,6,7],\n",
        "                             early_stopping_rounds=50,\n",
        "                        n_estimators=500,)\n"
      ],
      "metadata": {
        "id": "dNTG7sR7KxG_"
      },
      "execution_count": null,
      "outputs": []
    },
    {
      "cell_type": "markdown",
      "source": [
        "Применяем метод `fit` по традиции"
      ],
      "metadata": {
        "id": "4RlzJxIiGCLE"
      }
    },
    {
      "cell_type": "code",
      "source": [
        "model_reg.fit(X_train,y_train,\n",
        "          eval_set=[(X_train, y_train), (X_val, y_val)]);"
      ],
      "metadata": {
        "colab": {
          "base_uri": "https://localhost:8080/"
        },
        "id": "q9L6P3qYGGlx",
        "outputId": "1c0bd754-7373-4309-d18f-9a2858e184f1"
      },
      "execution_count": null,
      "outputs": [
        {
          "output_type": "stream",
          "name": "stdout",
          "text": [
            "[LightGBM] [Warning] early_stopping_round is set=50, early_stopping_rounds=50 will be ignored. Current value: early_stopping_round=50\n",
            "[LightGBM] [Warning] Categorical features with more bins than the configured maximum bin number found.\n",
            "[LightGBM] [Warning] For categorical features, max_bin and max_bin_by_feature may be ignored with a large number of categories.\n",
            "[LightGBM] [Warning] categorical_feature is set=0,1,3,6,7, categorical_column=0,1,3,6,7 will be ignored. Current value: categorical_feature=0,1,3,6,7\n",
            "[LightGBM] [Info] Auto-choosing row-wise multi-threading, the overhead of testing was 0.002987 seconds.\n",
            "You can set `force_row_wise=true` to remove the overhead.\n",
            "And if memory is not enough, you can set `force_col_wise=true`.\n",
            "[LightGBM] [Info] Total Bins 1128\n",
            "[LightGBM] [Info] Number of data points in the train set: 22739, number of used features: 8\n",
            "[LightGBM] [Warning] early_stopping_round is set=50, early_stopping_rounds=50 will be ignored. Current value: early_stopping_round=50\n",
            "[LightGBM] [Info] Start training from score 8928.539514\n",
            "Training until validation scores don't improve for 50 rounds\n",
            "Early stopping, best iteration is:\n",
            "[419]\ttraining's l2: 3.81448e+06\tvalid_1's l2: 7.50048e+06\n"
          ]
        }
      ]
    },
    {
      "cell_type": "code",
      "source": [
        "print(\"Лучшая Итерация: {}\".format(model_reg.best_iteration_))"
      ],
      "metadata": {
        "colab": {
          "base_uri": "https://localhost:8080/"
        },
        "id": "DrNY1DRiUoa3",
        "outputId": "1b9b9c67-bfde-407e-b642-ab2677dd52a9"
      },
      "execution_count": null,
      "outputs": [
        {
          "output_type": "stream",
          "name": "stdout",
          "text": [
            "Лучшая Итерация: 419\n"
          ]
        }
      ]
    },
    {
      "cell_type": "markdown",
      "source": [
        "**История обучения**"
      ],
      "metadata": {
        "id": "4v-K8nDSzJ3r"
      }
    },
    {
      "cell_type": "code",
      "source": [
        "results = model_reg.evals_result_"
      ],
      "metadata": {
        "id": "yVNr3oIJzJ3r"
      },
      "execution_count": null,
      "outputs": []
    },
    {
      "cell_type": "code",
      "source": [
        "plt.figure(figsize=(10,7))\n",
        "plt.plot(results[\"training\"][\"l2\"], label=\"Потери на Тренировочных данных\")\n",
        "plt.plot(results[\"valid_1\"][\"l2\"], label=\"Потери на Валидационных данных\")\n",
        "plt.xlabel(\"Количество Деревьев\")\n",
        "plt.ylabel(\"Потери\")\n",
        "plt.legend();"
      ],
      "metadata": {
        "colab": {
          "base_uri": "https://localhost:8080/",
          "height": 634
        },
        "outputId": "a6065767-aaf2-49eb-8886-338a156fa0da",
        "id": "URGZV6hEzJ3r"
      },
      "execution_count": null,
      "outputs": [
        {
          "output_type": "display_data",
          "data": {
            "text/plain": [
              "<Figure size 1000x700 with 1 Axes>"
            ],
            "image/png": "[encoded data removed]"
          },
          "metadata": {}
        }
      ]
    },
    {
      "cell_type": "markdown",
      "source": [
        "## Визуализация значимости признаков"
      ],
      "metadata": {
        "id": "E818o5N8f4uT"
      }
    },
    {
      "cell_type": "code",
      "source": [
        "def feature_importance_plotter(model, features_names):\n",
        "    \"\"\"Отрисовка значимости признаков в виде горизонтальных столбчатых диаграмм.\n",
        "    Параметры:\n",
        "    ===========\n",
        "    model: модель\n",
        "    features_names: список имен признаков\n",
        "    \"\"\"\n",
        "    feature_importance = model.feature_importances_\n",
        "\n",
        "    sorted = np.argsort(feature_importance)\n",
        "\n",
        "    ypos = np.arange(len(features_names))\n",
        "\n",
        "    fig= plt.figure(figsize=(8,4))\n",
        "    plt.barh(ypos, feature_importance[sorted])\n",
        "    #plt.xlim([0,1])\n",
        "    plt.ylabel('Параметры')\n",
        "    plt.xlabel('Значимость')\n",
        "    plt.yticks(ypos,features_names[sorted] );"
      ],
      "metadata": {
        "id": "Ecy3oAJp4OFI"
      },
      "execution_count": null,
      "outputs": []
    },
    {
      "cell_type": "markdown",
      "source": [
        "Тут тоже по умолчанию не в диапазоне от 0 до 1"
      ],
      "metadata": {
        "id": "iipXWpExh8Z8"
      }
    },
    {
      "cell_type": "code",
      "metadata": {
        "id": "rTwNRMT7RqEI",
        "colab": {
          "base_uri": "https://localhost:8080/"
        },
        "outputId": "73b4feed-7e8c-46fe-902f-509225228af4"
      },
      "source": [
        "feature_importance_plotter(model_reg, np.array(features_names))"
      ],
      "execution_count": null,
      "outputs": [
        {
          "output_type": "display_data",
          "data": {
            "text/plain": [
              "<Figure size 800x400 with 1 Axes>"
            ],
            "image/png": "[encoded data removed]"
          },
          "metadata": {}
        }
      ]
    },
    {
      "cell_type": "markdown",
      "source": [
        "## Оценка метрик"
      ],
      "metadata": {
        "id": "ZgNBwaqoWiLy"
      }
    },
    {
      "cell_type": "code",
      "source": [
        "def calculate_metric(model_pipe, X, y, metric = r2_score):\n",
        "    \"\"\"Расчет метрики.\n",
        "    Параметры:\n",
        "    ===========\n",
        "    model_pipe: модель или pipeline\n",
        "    X: признаки\n",
        "    y: истинные значения\n",
        "    metric: метрика (r2 - по умолчанию)\n",
        "    \"\"\"\n",
        "    y_model = model_pipe.predict(X)\n",
        "    return metric(y, y_model)"
      ],
      "metadata": {
        "id": "Ropf87QqWLfR"
      },
      "execution_count": null,
      "outputs": []
    },
    {
      "cell_type": "code",
      "source": [
        "print(f\"r2 на тренировочной выборке: {calculate_metric(model_reg, X_train, y_train):.4f}\")\n",
        "print(f\"r2 на валидационной выборке: {calculate_metric(model_reg, X_val, y_val):.4f}\")\n",
        "\n",
        "print(f\"mse на тренировочной выборке: {calculate_metric(model_reg, X_train, y_train, mse):.4f}\")\n",
        "print(f\"mse на валидационной выборке: {calculate_metric(model_reg, X_val, y_val, mse):.4f}\")"
      ],
      "metadata": {
        "colab": {
          "base_uri": "https://localhost:8080/"
        },
        "id": "LgvAQ_-eWO85",
        "outputId": "4dd59e9b-33b3-48e0-8b3c-26fffd4cb985"
      },
      "execution_count": null,
      "outputs": [
        {
          "output_type": "stream",
          "name": "stdout",
          "text": [
            "r2 на тренировочной выборке: 0.9373\n",
            "r2 на валидационной выборке: 0.8809\n",
            "mse на тренировочной выборке: 3814483.7613\n",
            "mse на валидационной выборке: 7500483.0205\n"
          ]
        }
      ]
    },
    {
      "cell_type": "markdown",
      "source": [
        "В нашем случае функцию для кросс-валидации нужно будет переписывать, поскольку `early_stopping_rounds` требует валидационного датасета, а `cross_validate` с такой задачей не справляется"
      ],
      "metadata": {
        "id": "byoOeOraXsNq"
      }
    },
    {
      "cell_type": "markdown",
      "source": [
        "## Визуализация ошибок от scikit-learn"
      ],
      "metadata": {
        "id": "prNHGCfzWgGa"
      }
    },
    {
      "cell_type": "code",
      "source": [
        "PredictionErrorDisplay.from_predictions(\n",
        "    y_val,\n",
        "    model_reg.predict(X_val),\n",
        "    kind=\"actual_vs_predicted\",\n",
        "    scatter_kwargs={\"alpha\": 0.5},\n",
        "        line_kwargs = {\"color\" : 'white'}\n",
        "\n",
        ");"
      ],
      "metadata": {
        "colab": {
          "base_uri": "https://localhost:8080/"
        },
        "id": "PVgykHnVW7LD",
        "outputId": "47939faf-fce0-4816-df53-876590346554"
      },
      "execution_count": null,
      "outputs": [
        {
          "output_type": "display_data",
          "data": {
            "text/plain": [
              "<Figure size 640x480 with 1 Axes>"
            ],
            "image/png": "[encoded data removed]"
          },
          "metadata": {}
        }
      ]
    },
    {
      "cell_type": "markdown",
      "source": [
        "Небольшие выводы\n",
        "\n",
        "* Модель регрессии от LightGBM ведет себя тоже уверенно\n",
        "\n",
        "* В топе по значимости Трансмиссия, Год и Модель\n",
        "\n"
      ],
      "metadata": {
        "id": "C1VOH5cJLbmn"
      }
    },
    {
      "cell_type": "markdown",
      "source": [
        "# Сохранение / Загрузка"
      ],
      "metadata": {
        "id": "WgZ7pf29YHx8"
      }
    },
    {
      "cell_type": "code",
      "execution_count": null,
      "metadata": {
        "id": "cab5a499-9289-4fc4-98cc-805111f2e771",
        "colab": {
          "base_uri": "https://localhost:8080/"
        },
        "outputId": "8167de51-b368-43d1-9b63-3fae58007acb"
      },
      "outputs": [
        {
          "output_type": "execute_result",
          "data": {
            "text/plain": [
              "<lightgbm.basic.Booster at 0x78dce722c460>"
            ]
          },
          "metadata": {},
          "execution_count": 21
        }
      ],
      "source": [
        "# получаем экземпляр класса Booster\n",
        "booster = model_reg.booster_\n",
        "\n",
        "booster.save_model(\"lgb.mod\")"
      ]
    },
    {
      "cell_type": "code",
      "execution_count": null,
      "metadata": {
        "id": "09808deb-7736-4ca2-9bed-fcb4c08d466e"
      },
      "outputs": [],
      "source": [
        "# Загрузка модели\n",
        "loaded_booster = lgb.Booster(model_file=\"lgb.mod\")\n"
      ]
    },
    {
      "cell_type": "code",
      "source": [
        "print(f\"r2 на тренировочной выборке: {calculate_metric(loaded_booster, X_train, y_train):.4f}\")\n",
        "print(f\"r2 на валидационной выборке: {calculate_metric(loaded_booster, X_val, y_val):.4f}\")\n",
        "\n",
        "print(f\"mse на тренировочной выборке: {calculate_metric(loaded_booster, X_train, y_train, mse):.4f}\")\n",
        "print(f\"mse на валидационной выборке: {calculate_metric(loaded_booster, X_val, y_val, mse):.4f}\")"
      ],
      "metadata": {
        "colab": {
          "base_uri": "https://localhost:8080/"
        },
        "id": "zwvlNg1YYUja",
        "outputId": "9c476655-5736-47e5-a511-408f8f8ee80a"
      },
      "execution_count": null,
      "outputs": [
        {
          "output_type": "stream",
          "name": "stdout",
          "text": [
            "r2 на тренировочной выборке: 0.9373\n",
            "r2 на валидационной выборке: 0.8809\n",
            "mse на тренировочной выборке: 3814483.7613\n",
            "mse на валидационной выборке: 7500483.0205\n"
          ]
        }
      ]
    }
  ]
}