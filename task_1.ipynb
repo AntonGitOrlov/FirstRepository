{
  "cells": [
    {
      "cell_type": "markdown",
      "source": [
        "# **2. Базовые конструкции Python**"
      ],
      "metadata": {
        "id": "W0QU8o4ENKjl"
      }
    },
    {
      "cell_type": "markdown",
      "source": [
        "## **2.1. Ввод и вывод данных. Операции с числами, строками. Форматирование**"
      ],
      "metadata": {
        "id": "W9EzsZOhGGci"
      }
    },
    {
      "cell_type": "markdown",
      "source": [
        "### **Контент**"
      ],
      "metadata": {
        "id": "xVR_46XKNVAV"
      }
    },
    {
      "cell_type": "code",
      "execution_count": null,
      "metadata": {
        "id": "W-d9lwp9zZEC",
        "outputId": "f851eb48-aecb-44e0-cc35-5971eed09c08",
        "colab": {
          "base_uri": "https://localhost:8080/"
        }
      },
      "outputs": [
        {
          "output_type": "stream",
          "name": "stdout",
          "text": [
            "Привет, мир!\n"
          ]
        }
      ],
      "source": [
        "print(\"Привет, мир!\")"
      ]
    },
    {
      "cell_type": "code",
      "source": [
        "print('Привет, мир!')\n",
        "print(\"Привет, мир!\")\n",
        "print(\"\"\"Привет, мир!\"\"\")\n",
        "print(\"Программа выводит фразу 'Привет, мир!'\")"
      ],
      "metadata": {
        "colab": {
          "base_uri": "https://localhost:8080/"
        },
        "id": "T0RfexeNGrdS",
        "outputId": "6e6828a7-b04b-4899-c572-2dc21943f701"
      },
      "execution_count": null,
      "outputs": [
        {
          "output_type": "stream",
          "name": "stdout",
          "text": [
            "Привет, мир!\n",
            "Привет, мир!\n",
            "Привет, мир!\n",
            "Программа выводит фразу 'Привет, мир!'\n"
          ]
        }
      ]
    },
    {
      "cell_type": "code",
      "source": [
        "phrase = input()\n",
        "print(phrase)"
      ],
      "metadata": {
        "colab": {
          "base_uri": "https://localhost:8080/"
        },
        "id": "U9FNgHLWG4Zx",
        "outputId": "dd724331-1bdf-44f3-ab42-801ad06e8a9f"
      },
      "execution_count": null,
      "outputs": [
        {
          "output_type": "stream",
          "name": "stdout",
          "text": [
            "екернрнр\n",
            "екернрнр\n"
          ]
        }
      ]
    },
    {
      "cell_type": "code",
      "source": [
        "phrase = input(\"Введите строку: \")\n",
        "print(phrase)"
      ],
      "metadata": {
        "colab": {
          "base_uri": "https://localhost:8080/"
        },
        "id": "ZPQogPP1HLJp",
        "outputId": "3a84bb0f-a2da-4523-d3d5-eb6965b61a1e"
      },
      "execution_count": null,
      "outputs": [
        {
          "output_type": "stream",
          "name": "stdout",
          "text": [
            "Введите строку: Привет!\n",
            "Привет!\n"
          ]
        }
      ]
    },
    {
      "cell_type": "code",
      "source": [
        "name = \"Пользователь\"\n",
        "print(\"Добрый день,\", name, \".\")"
      ],
      "metadata": {
        "colab": {
          "base_uri": "https://localhost:8080/"
        },
        "id": "ii1CswHbIclB",
        "outputId": "78958c4e-3704-4241-f5c3-2d5bd4927649"
      },
      "execution_count": null,
      "outputs": [
        {
          "output_type": "stream",
          "name": "stdout",
          "text": [
            "Добрый день, Пользователь .\n"
          ]
        }
      ]
    },
    {
      "cell_type": "code",
      "source": [
        "name = \"Пользователь\"\n",
        "print(\"Добрый день, \", name, \".\", sep=\"\")"
      ],
      "metadata": {
        "colab": {
          "base_uri": "https://localhost:8080/"
        },
        "id": "1cI9mie5MMt9",
        "outputId": "26ba9b03-890c-4ea0-ad79-ee4bd333f5d3"
      },
      "execution_count": null,
      "outputs": [
        {
          "output_type": "stream",
          "name": "stdout",
          "text": [
            "Добрый день, Пользователь.\n"
          ]
        }
      ]
    },
    {
      "cell_type": "code",
      "source": [
        "name = \"Пользователь\"\n",
        "print(f\"Добрый день, {name}.\")"
      ],
      "metadata": {
        "colab": {
          "base_uri": "https://localhost:8080/"
        },
        "id": "0Fr8iGsvMUpE",
        "outputId": "047b7de3-9186-4117-da95-075722399719"
      },
      "execution_count": null,
      "outputs": [
        {
          "output_type": "stream",
          "name": "stdout",
          "text": [
            "Добрый день, Пользователь.\n"
          ]
        }
      ]
    },
    {
      "cell_type": "code",
      "source": [
        "print(f\"{123:0>9}\")\n",
        "print(f\"{123:0<9}\")\n",
        "print(f\"{123:0^9}\")"
      ],
      "metadata": {
        "colab": {
          "base_uri": "https://localhost:8080/"
        },
        "id": "rbIyobJ1Ma_V",
        "outputId": "80ecf282-8dbe-4164-fb57-3774a6221c53"
      },
      "execution_count": null,
      "outputs": [
        {
          "output_type": "stream",
          "name": "stdout",
          "text": [
            "000000123\n",
            "123000000\n",
            "000123000\n"
          ]
        }
      ]
    },
    {
      "cell_type": "code",
      "source": [
        "print(\"\\\\\")"
      ],
      "metadata": {
        "colab": {
          "base_uri": "https://localhost:8080/"
        },
        "id": "JJikQOeQNCJ1",
        "outputId": "f465c383-19fc-44be-d210-5dfbdd9a25c0"
      },
      "execution_count": null,
      "outputs": [
        {
          "output_type": "stream",
          "name": "stdout",
          "text": [
            "\\\n"
          ]
        }
      ]
    },
    {
      "cell_type": "code",
      "source": [
        "print(\"Привет, Пользователь!\")\n",
        "print(\"Как дела?\")"
      ],
      "metadata": {
        "colab": {
          "base_uri": "https://localhost:8080/"
        },
        "id": "D-b0rxjaOqY9",
        "outputId": "c3b9aa55-a1f6-4ce6-9697-32cc9dd5b5c3"
      },
      "execution_count": null,
      "outputs": [
        {
          "output_type": "stream",
          "name": "stdout",
          "text": [
            "Привет, Пользователь!\n",
            "Как дела?\n"
          ]
        }
      ]
    },
    {
      "cell_type": "code",
      "source": [
        "print(\"Сложно\" + \"подчинённый\")\n"
      ],
      "metadata": {
        "colab": {
          "base_uri": "https://localhost:8080/"
        },
        "id": "5t879RRqOxL1",
        "outputId": "89147320-9cbc-4673-db32-55b43d4ffead"
      },
      "execution_count": null,
      "outputs": [
        {
          "output_type": "stream",
          "name": "stdout",
          "text": [
            "Сложноподчинённый\n"
          ]
        }
      ]
    },
    {
      "cell_type": "code",
      "source": [
        "print(\"-\" * 10)"
      ],
      "metadata": {
        "colab": {
          "base_uri": "https://localhost:8080/"
        },
        "id": "xO1a9-haO2yW",
        "outputId": "caf0d7d0-523f-433e-be96-b068ed6e05f7"
      },
      "execution_count": null,
      "outputs": [
        {
          "output_type": "stream",
          "name": "stdout",
          "text": [
            "----------\n"
          ]
        }
      ]
    },
    {
      "cell_type": "code",
      "source": [
        "n = 10\n",
        "pi = 3.14"
      ],
      "metadata": {
        "id": "2x8SZBVyO7tF"
      },
      "execution_count": null,
      "outputs": []
    },
    {
      "cell_type": "code",
      "source": [
        "n_1 = \"1\"\n",
        "n_2 = \"2\"\n",
        "print(n_1 + n_2)\n",
        "n_1 = int(n_1)\n",
        "n_2 = int(n_2)\n",
        "print(n_1 + n_2)"
      ],
      "metadata": {
        "colab": {
          "base_uri": "https://localhost:8080/"
        },
        "id": "PST2Dx-4O9Bu",
        "outputId": "d78f2de0-596c-4a38-d770-a658cf1d6e04"
      },
      "execution_count": null,
      "outputs": [
        {
          "output_type": "stream",
          "name": "stdout",
          "text": [
            "12\n",
            "3\n"
          ]
        }
      ]
    },
    {
      "cell_type": "code",
      "source": [
        "x = 3.89\n",
        "x = int(x)\n",
        "print(x)"
      ],
      "metadata": {
        "colab": {
          "base_uri": "https://localhost:8080/"
        },
        "id": "xE85ZkyGPOc2",
        "outputId": "d81ab757-dcca-47f2-85cf-10043c21d7e2"
      },
      "execution_count": null,
      "outputs": [
        {
          "output_type": "stream",
          "name": "stdout",
          "text": [
            "3\n"
          ]
        }
      ]
    },
    {
      "cell_type": "code",
      "source": [
        "width = \"3.7\"\n",
        "height = \"2.5\"\n",
        "s = float(width) * float(height)\n",
        "print(s)"
      ],
      "metadata": {
        "colab": {
          "base_uri": "https://localhost:8080/"
        },
        "id": "ZtoeKu-1PSEf",
        "outputId": "d5088e22-7afb-4bc7-a100-61375d2fbf5b"
      },
      "execution_count": null,
      "outputs": [
        {
          "output_type": "stream",
          "name": "stdout",
          "text": [
            "9.25\n"
          ]
        }
      ]
    },
    {
      "cell_type": "code",
      "source": [
        "int_number = int(input())\n",
        "float_number = float(input())"
      ],
      "metadata": {
        "id": "rCxiEwzLPZzn"
      },
      "execution_count": null,
      "outputs": []
    },
    {
      "cell_type": "code",
      "source": [
        "n = 25\n",
        "x = 0.5\n",
        "\n",
        "print(n + x)\n",
        "print(n - x)\n",
        "print(n * x)\n",
        "print(n / x)\n",
        "print(n ** x)"
      ],
      "metadata": {
        "colab": {
          "base_uri": "https://localhost:8080/"
        },
        "id": "4Ni-CaN2Pat-",
        "outputId": "bbc5e0a4-7db5-45c3-dc0a-f7190a96ccf6"
      },
      "execution_count": null,
      "outputs": [
        {
          "output_type": "stream",
          "name": "stdout",
          "text": [
            "25.5\n",
            "24.5\n",
            "12.5\n",
            "50.0\n",
            "5.0\n"
          ]
        }
      ]
    },
    {
      "cell_type": "code",
      "source": [
        "print(4 / 2)"
      ],
      "metadata": {
        "colab": {
          "base_uri": "https://localhost:8080/"
        },
        "id": "2oqXgKW0Pmv3",
        "outputId": "57307d53-325f-4824-db97-df755239cd4c"
      },
      "execution_count": null,
      "outputs": [
        {
          "output_type": "stream",
          "name": "stdout",
          "text": [
            "2.0\n"
          ]
        }
      ]
    },
    {
      "cell_type": "code",
      "source": [
        "print(f\"{2 ** 0.5:.2f}\")"
      ],
      "metadata": {
        "colab": {
          "base_uri": "https://localhost:8080/"
        },
        "id": "wlvMMDIrPtOn",
        "outputId": "124b65bf-b2b0-4d4d-9d6c-f67027a626bf"
      },
      "execution_count": null,
      "outputs": [
        {
          "output_type": "stream",
          "name": "stdout",
          "text": [
            "1.41\n"
          ]
        }
      ]
    },
    {
      "cell_type": "code",
      "source": [
        "last_digit = 1234 % 10\n",
        "print(last_digit)"
      ],
      "metadata": {
        "colab": {
          "base_uri": "https://localhost:8080/"
        },
        "id": "BATVsZdpP0LG",
        "outputId": "1d8685e0-bdd2-4220-e5ae-891bd813d7b1"
      },
      "execution_count": null,
      "outputs": [
        {
          "output_type": "stream",
          "name": "stdout",
          "text": [
            "4\n"
          ]
        }
      ]
    },
    {
      "cell_type": "code",
      "source": [
        "penultimate_digit = 1234 // 10 % 10\n",
        "print(penultimate_digit)"
      ],
      "metadata": {
        "colab": {
          "base_uri": "https://localhost:8080/"
        },
        "id": "dr3L-iJQQHGn",
        "outputId": "1aea31aa-5862-493c-cc57-521bc01aeb3d"
      },
      "execution_count": null,
      "outputs": [
        {
          "output_type": "stream",
          "name": "stdout",
          "text": [
            "3\n"
          ]
        }
      ]
    },
    {
      "cell_type": "code",
      "source": [
        "binary_value = \"1001\"\n",
        "print(int(binary_value, 2))"
      ],
      "metadata": {
        "colab": {
          "base_uri": "https://localhost:8080/"
        },
        "id": "zbYca_CZQWMH",
        "outputId": "b0d3b19b-70be-4aa3-ef66-49eee0ba51c8"
      },
      "execution_count": null,
      "outputs": [
        {
          "output_type": "stream",
          "name": "stdout",
          "text": [
            "9\n"
          ]
        }
      ]
    },
    {
      "cell_type": "markdown",
      "source": [
        "### **Задачи**"
      ],
      "metadata": {
        "id": "h6oD6CPhQeq_"
      }
    },
    {
      "cell_type": "markdown",
      "source": [
        "#### **№1 Привет, Яндекс!**"
      ],
      "metadata": {
        "id": "pV6bgTshQ35n"
      }
    },
    {
      "cell_type": "code",
      "source": [
        "print(\"Привет, Яндекс!\")"
      ],
      "metadata": {
        "colab": {
          "base_uri": "https://localhost:8080/"
        },
        "id": "lVrZDhuoQzS_",
        "outputId": "fb484cae-1155-47db-fe77-902afd121b13"
      },
      "execution_count": null,
      "outputs": [
        {
          "output_type": "stream",
          "name": "stdout",
          "text": [
            "Привет, Яндекс!\n"
          ]
        }
      ]
    },
    {
      "cell_type": "markdown",
      "source": [
        "#### **№2 Привет, всем!**"
      ],
      "metadata": {
        "id": "kg4HNxr9a84L"
      }
    },
    {
      "cell_type": "code",
      "source": [
        "name = input(\"Как Вас зовут?\")\n",
        "print(f\"Привет, {name}\")"
      ],
      "metadata": {
        "colab": {
          "base_uri": "https://localhost:8080/"
        },
        "id": "kpRMGXn-7KBG",
        "outputId": "96feec4f-70d7-4e74-d88c-14500b66d631"
      },
      "execution_count": null,
      "outputs": [
        {
          "output_type": "stream",
          "name": "stdout",
          "text": [
            "Как Вас зовут?Антон\n",
            "Привет, Антон\n"
          ]
        }
      ]
    },
    {
      "cell_type": "markdown",
      "source": [
        "#### **№3 Излишняя автоматизация**"
      ],
      "metadata": {
        "id": "hwHvhtWWR5fF"
      }
    },
    {
      "cell_type": "code",
      "source": [
        "var_input = input()\n",
        "print(f\"{var_input}\\n\" * 3)"
      ],
      "metadata": {
        "colab": {
          "base_uri": "https://localhost:8080/"
        },
        "id": "3TIX9go6Sg7O",
        "outputId": "42bf4548-218c-4481-c42a-778f77365563"
      },
      "execution_count": null,
      "outputs": [
        {
          "output_type": "stream",
          "name": "stdout",
          "text": [
            "2 + 2 = 4\n",
            "2 + 2 = 4\n",
            "2 + 2 = 4\n",
            "2 + 2 = 4\n",
            "\n"
          ]
        }
      ]
    },
    {
      "cell_type": "markdown",
      "source": [
        "#### **№4 Сдача**"
      ],
      "metadata": {
        "id": "NtxtZBuZSa3S"
      }
    },
    {
      "cell_type": "code",
      "source": [
        "print(int(int(input()) - 2.5 * 38))"
      ],
      "metadata": {
        "colab": {
          "base_uri": "https://localhost:8080/"
        },
        "id": "43NcN0xfSa3S",
        "outputId": "f14dc072-d4a8-4698-a29b-990119b4711d"
      },
      "execution_count": null,
      "outputs": [
        {
          "output_type": "stream",
          "name": "stdout",
          "text": [
            "100\n",
            "5\n"
          ]
        }
      ]
    },
    {
      "cell_type": "markdown",
      "source": [
        "#### **№5 Магазин**"
      ],
      "metadata": {
        "id": "bmIvhrNOSbJi"
      }
    },
    {
      "cell_type": "code",
      "source": [
        "price = int(input())\n",
        "weight = int(input())\n",
        "cash = int(input())\n",
        "\n",
        "print(cash - price * weight)"
      ],
      "metadata": {
        "colab": {
          "base_uri": "https://localhost:8080/"
        },
        "id": "qZdo1T9USbJj",
        "outputId": "83131d6a-bf29-4d54-e0fb-c2986fb94f00"
      },
      "execution_count": null,
      "outputs": [
        {
          "output_type": "stream",
          "name": "stdout",
          "text": [
            "187\n",
            "43\n",
            "8041\n",
            "0\n"
          ]
        }
      ]
    },
    {
      "cell_type": "markdown",
      "source": [
        "#### **№6 Чек**"
      ],
      "metadata": {
        "id": "YpvKXoW2SbWR"
      }
    },
    {
      "cell_type": "code",
      "source": [
        "name_of_good = input()\n",
        "price = int(input())\n",
        "weight = int(input())\n",
        "cash = int(input())\n",
        "\n",
        "print(f\"\"\"Чек\n",
        "{name_of_good} - {weight}кг - {price}руб/кг\n",
        "Итого: {weight * price}руб\n",
        "Внесено: {cash}руб\n",
        "Сдача: {0 if (cash - price * weight) < 0 else (cash - price * weight)}руб\"\"\")"
      ],
      "metadata": {
        "colab": {
          "base_uri": "https://localhost:8080/"
        },
        "id": "V_LiP0XKSbWS",
        "outputId": "91941ee6-3647-4407-c072-663ff0a4b2a6"
      },
      "execution_count": null,
      "outputs": [
        {
          "output_type": "stream",
          "name": "stdout",
          "text": [
            "манго\n",
            "187\n",
            "43\n",
            "8000\n",
            "Чек\n",
            "манго - 43кг - 187руб/кг\n",
            "Итого: 8041руб\n",
            "Внесено: 8000руб\n",
            "Сдача: 0руб\n"
          ]
        }
      ]
    },
    {
      "cell_type": "markdown",
      "source": [
        "#### **№7 Делу — время, потехе — час**"
      ],
      "metadata": {
        "id": "A_lD8biNSbhq"
      }
    },
    {
      "cell_type": "code",
      "source": [
        "print(\"Купи слона!\\n\" * int(input()), end=\"\")"
      ],
      "metadata": {
        "colab": {
          "base_uri": "https://localhost:8080/"
        },
        "id": "ovLyU4sNSbhq",
        "outputId": "0c2a35ad-0875-4c51-c8e1-c68ab19f36d9"
      },
      "execution_count": null,
      "outputs": [
        {
          "output_type": "stream",
          "name": "stdout",
          "text": [
            "3\n",
            "Купи слона!\n",
            "Купи слона!\n",
            "Купи слона!\n"
          ]
        }
      ]
    },
    {
      "cell_type": "markdown",
      "source": [
        "#### **№8 Наказание**"
      ],
      "metadata": {
        "id": "lzUjHNAgSbsB"
      }
    },
    {
      "cell_type": "code",
      "source": [
        "print(int(input()) * f'Я больше никогда не буду писать \"{input()}\"!\\n', end=\"\")"
      ],
      "metadata": {
        "colab": {
          "base_uri": "https://localhost:8080/"
        },
        "id": "HpXtlhSESbsB",
        "outputId": "e4e07205-3bbd-4e79-fc91-621708bb6eba"
      },
      "execution_count": null,
      "outputs": [
        {
          "output_type": "stream",
          "name": "stdout",
          "text": [
            "2\n",
            "Купи слона!\n",
            "Я больше никогда не буду писать \"Купи слона!\"!\n",
            "Я больше никогда не буду писать \"Купи слона!\"!\n"
          ]
        }
      ]
    },
    {
      "cell_type": "markdown",
      "source": [
        "#### **№9 Деловая колбаса**"
      ],
      "metadata": {
        "id": "Atq878OzSb2C"
      }
    },
    {
      "cell_type": "code",
      "source": [
        "print(int((int(input()) * int(input())) / 2))"
      ],
      "metadata": {
        "colab": {
          "base_uri": "https://localhost:8080/"
        },
        "id": "TV4mdKlNSb2C",
        "outputId": "5e095e7b-0cd7-4226-9995-9361dc07e509"
      },
      "execution_count": null,
      "outputs": [
        {
          "output_type": "stream",
          "name": "stdout",
          "text": [
            "10\n",
            "10\n",
            "50\n"
          ]
        }
      ]
    },
    {
      "cell_type": "markdown",
      "source": [
        "#### **№10 Детский сад — штаны на лямках**"
      ],
      "metadata": {
        "id": "2sV7ccGNSb_h"
      }
    },
    {
      "cell_type": "code",
      "source": [
        "name = input()\n",
        "locker = input()\n",
        "\n",
        "print(f\"\"\"Группа №{locker[0]}.\n",
        "{locker[2]}. {name}.\n",
        "Шкафчик: {locker}.\n",
        "Кроватка: {locker[1]}.\"\"\")"
      ],
      "metadata": {
        "colab": {
          "base_uri": "https://localhost:8080/"
        },
        "id": "wCGGnz1LSb_h",
        "outputId": "69b4aaed-c1b8-4687-e4cf-231d0e430312"
      },
      "execution_count": null,
      "outputs": [
        {
          "output_type": "stream",
          "name": "stdout",
          "text": [
            "Ванечка\n",
            "832\n",
            "Группа №8.  \n",
            "2. Ванечка.  \n",
            "Шкафчик: 832.  \n",
            "Кроватка: 3.\n"
          ]
        }
      ]
    },
    {
      "cell_type": "markdown",
      "source": [
        "#### **№11 Автоматизация игры**"
      ],
      "metadata": {
        "id": "55LmnWtQScJZ"
      }
    },
    {
      "cell_type": "code",
      "source": [
        "number = input()\n",
        "print(number[:2][::-1] + number[2:][::-1])"
      ],
      "metadata": {
        "colab": {
          "base_uri": "https://localhost:8080/"
        },
        "id": "1aW3RxB0XiNL",
        "outputId": "ea685f91-a903-4ac0-e284-7aa6ea2f93b4"
      },
      "execution_count": null,
      "outputs": [
        {
          "output_type": "stream",
          "name": "stdout",
          "text": [
            "1412\n",
            "4121\n"
          ]
        }
      ]
    },
    {
      "cell_type": "code",
      "source": [
        "number = int(input())\n",
        "n_4 = number % 10\n",
        "n_3 = number // 10 % 10\n",
        "n_2 = number // 10 // 10 % 10\n",
        "n_1 = number // 10 // 10 // 10\n",
        "\n",
        "print(str(n_2) + str(n_1) + str(n_4) + str(n_3))"
      ],
      "metadata": {
        "colab": {
          "base_uri": "https://localhost:8080/"
        },
        "id": "rHvlrMovScJa",
        "outputId": "faba4a4a-e204-49b6-9eb1-a37b24927242"
      },
      "execution_count": null,
      "outputs": [
        {
          "output_type": "stream",
          "name": "stdout",
          "text": [
            "1234\n",
            "2143\n"
          ]
        }
      ]
    },
    {
      "cell_type": "markdown",
      "source": [
        "#### **№12 Интересное сложение**"
      ],
      "metadata": {
        "id": "Q_07C5bqScSL"
      }
    },
    {
      "cell_type": "code",
      "source": [
        "number_1 = int(input())\n",
        "number_2 = int(input())\n",
        "\n",
        "rank_1 = str((number_1 % 10 + number_2 % 10) % 10)\n",
        "rank_2 = str((number_1 // 10 % 10 + number_2 // 10 % 10) % 10)\n",
        "rank_3 = str((number_1 // 10 // 10 % 10 + number_2 // 10 // 10 % 10) % 10)\n",
        "\n",
        "print(int(rank_3 + rank_2 + rank_1))"
      ],
      "metadata": {
        "colab": {
          "base_uri": "https://localhost:8080/"
        },
        "id": "BezmGmX0ScSL",
        "outputId": "cf14633e-a19a-4325-9e89-3c11ef86ee2b"
      },
      "execution_count": null,
      "outputs": [
        {
          "output_type": "stream",
          "name": "stdout",
          "text": [
            "45\n",
            "69\n",
            "4\n"
          ]
        }
      ]
    },
    {
      "cell_type": "markdown",
      "source": [
        "#### **№13 Дед Мороз и конфеты**"
      ],
      "metadata": {
        "id": "2rCLe8REScbh"
      }
    },
    {
      "cell_type": "code",
      "source": [
        "number_1 = int(input())\n",
        "number_2 = int(input())\n",
        "\n",
        "print(number_2 // number_1)\n",
        "print(number_2 % number_1)"
      ],
      "metadata": {
        "colab": {
          "base_uri": "https://localhost:8080/"
        },
        "id": "uDlKQMf9Scbi",
        "outputId": "32823821-6a38-41b4-9bd0-5f1b87d3baf1"
      },
      "execution_count": null,
      "outputs": [
        {
          "output_type": "stream",
          "name": "stdout",
          "text": [
            "20\n",
            "500\n",
            "25\n",
            "0\n"
          ]
        }
      ]
    },
    {
      "cell_type": "markdown",
      "source": [
        "#### **№14 Шарики и ручки**"
      ],
      "metadata": {
        "id": "w1hjlQvnSckh"
      }
    },
    {
      "cell_type": "code",
      "source": [
        "number_r = int(input())\n",
        "number_g = int(input())\n",
        "number_b = int(input())\n",
        "\n",
        "print(number_r + number_b + 1)"
      ],
      "metadata": {
        "colab": {
          "base_uri": "https://localhost:8080/"
        },
        "id": "Q-PJjG0OScki",
        "outputId": "76724ee1-bd35-42fe-c93f-d09c49710b4a"
      },
      "execution_count": null,
      "outputs": [
        {
          "output_type": "stream",
          "name": "stdout",
          "text": [
            "1\n",
            "2\n",
            "3\n",
            "5\n"
          ]
        }
      ]
    },
    {
      "cell_type": "markdown",
      "source": [
        "#### **№15 В ожидании доставки**"
      ],
      "metadata": {
        "id": "XsiTdJssSctA"
      }
    },
    {
      "cell_type": "code",
      "source": [
        "N = int(input())\n",
        "M = int(input())\n",
        "T = int(input())\n",
        "\n",
        "print(f\"\"\"{((((T // 60) + N) + ((T % 60) + M) // 60) % 24):0>2}:{(((T % 60) + M) % 60):0>2}\"\"\")"
      ],
      "metadata": {
        "colab": {
          "base_uri": "https://localhost:8080/"
        },
        "id": "ihLpryLfSctA",
        "outputId": "1fb1e32f-f419-4f15-c2dc-3893f450c59d"
      },
      "execution_count": null,
      "outputs": [
        {
          "output_type": "stream",
          "name": "stdout",
          "text": [
            "10\n",
            "15\n",
            "2752\n",
            "08:07\n"
          ]
        }
      ]
    },
    {
      "cell_type": "code",
      "source": [
        "print(60 % 60) # остаток от деления; отрезание последней цифры (если делим на 10)\n",
        "print(60 // 60) # целочисленное деление; получение последней цифры (если делим на 10)"
      ],
      "metadata": {
        "colab": {
          "base_uri": "https://localhost:8080/"
        },
        "id": "GS3XYILzx94e",
        "outputId": "9119b85c-3ced-4784-b17d-abf8f36b3762"
      },
      "execution_count": null,
      "outputs": [
        {
          "output_type": "stream",
          "name": "stdout",
          "text": [
            "0\n",
            "1\n"
          ]
        }
      ]
    },
    {
      "cell_type": "code",
      "source": [
        "print(65 % 60)\n",
        "print(65 // 60)"
      ],
      "metadata": {
        "outputId": "83cd7676-38b9-4c6f-9fd3-bcae25171358",
        "colab": {
          "base_uri": "https://localhost:8080/"
        },
        "id": "os8lH6z4tBN8"
      },
      "execution_count": null,
      "outputs": [
        {
          "output_type": "stream",
          "name": "stdout",
          "text": [
            "5\n",
            "1\n"
          ]
        }
      ]
    },
    {
      "cell_type": "code",
      "source": [
        "print(55 % 60)\n",
        "print(55 // 60)"
      ],
      "metadata": {
        "outputId": "89180bf4-e848-4c65-a7f7-99bd284a6d58",
        "colab": {
          "base_uri": "https://localhost:8080/"
        },
        "id": "IySwCBlqth4m"
      },
      "execution_count": null,
      "outputs": [
        {
          "output_type": "stream",
          "name": "stdout",
          "text": [
            "55\n",
            "0\n"
          ]
        }
      ]
    },
    {
      "cell_type": "code",
      "source": [
        "print(2752 % 60)\n",
        "print(2752 // 60)"
      ],
      "metadata": {
        "outputId": "ca6c91ad-041b-4d5e-bdba-c7b746b324e8",
        "colab": {
          "base_uri": "https://localhost:8080/"
        },
        "id": "UCwF_OnQ0thZ"
      },
      "execution_count": null,
      "outputs": [
        {
          "output_type": "stream",
          "name": "stdout",
          "text": [
            "52\n",
            "45\n"
          ]
        }
      ]
    },
    {
      "cell_type": "markdown",
      "source": [
        "#### **№16 Доставка**"
      ],
      "metadata": {
        "id": "dPqMWbChSc1y"
      }
    },
    {
      "cell_type": "code",
      "source": [
        "A = int(input())\n",
        "B = int(input())\n",
        "C = int(input())\n",
        "\n",
        "print(f\"{(B - A) / C:.2f}\")"
      ],
      "metadata": {
        "colab": {
          "base_uri": "https://localhost:8080/"
        },
        "id": "NhpK3-DhSc1z",
        "outputId": "312b9a7d-8192-4160-ede0-55f3f2c0fcb9"
      },
      "execution_count": null,
      "outputs": [
        {
          "output_type": "stream",
          "name": "stdout",
          "text": [
            "1\n",
            "100\n",
            "30\n",
            "3.30\n"
          ]
        }
      ]
    },
    {
      "cell_type": "code",
      "source": [
        "A = int(input())\n",
        "B = int(input())\n",
        "C = int(input())\n",
        "\n",
        "print(round(abs(B - A) / C, 3))"
      ],
      "metadata": {
        "colab": {
          "base_uri": "https://localhost:8080/"
        },
        "outputId": "3dc5e0f0-cf8f-4c6b-a73a-2c6722e61137",
        "id": "3iO_1IKSzxDl"
      },
      "execution_count": null,
      "outputs": [
        {
          "output_type": "stream",
          "name": "stdout",
          "text": [
            "1\n",
            "100\n",
            "30\n",
            "3.3\n"
          ]
        }
      ]
    },
    {
      "cell_type": "markdown",
      "source": [
        "#### **№17 Ошибка кассового аппарата**"
      ],
      "metadata": {
        "id": "LM5RPL3gSc-6"
      }
    },
    {
      "cell_type": "code",
      "source": [
        "A = int(input())\n",
        "B = int(input())\n",
        "\n",
        "print(A + int(str(B), 2))"
      ],
      "metadata": {
        "colab": {
          "base_uri": "https://localhost:8080/"
        },
        "id": "tUt7KUnSSc-6",
        "outputId": "ef22df38-ae82-44ae-cd96-170aa7d8779a"
      },
      "execution_count": null,
      "outputs": [
        {
          "output_type": "stream",
          "name": "stdout",
          "text": [
            "783\n",
            "10110111\n",
            "966\n"
          ]
        }
      ]
    },
    {
      "cell_type": "markdown",
      "source": [
        "#### **№18 Сдача 10**"
      ],
      "metadata": {
        "id": "nD-eLFsUSdIJ"
      }
    },
    {
      "cell_type": "code",
      "source": [
        "A = input()\n",
        "B = int(input())\n",
        "\n",
        "print(B - int(A, 2))"
      ],
      "metadata": {
        "colab": {
          "base_uri": "https://localhost:8080/"
        },
        "id": "YXICC80CSdIK",
        "outputId": "fa28c63d-813e-4f3f-c3cc-c31d07ce04f7"
      },
      "execution_count": null,
      "outputs": [
        {
          "output_type": "stream",
          "name": "stdout",
          "text": [
            "101111100\n",
            "500\n",
            "120\n"
          ]
        }
      ]
    },
    {
      "cell_type": "markdown",
      "source": [
        "#### **№19 Украшение чека**"
      ],
      "metadata": {
        "id": "LhVAUwMpSdZb"
      }
    },
    {
      "cell_type": "code",
      "source": [
        "# good = \"черешня\"\n",
        "# price = 2\n",
        "# weight = 3\n",
        "# cash = 10\n",
        "\n",
        "# good = \"манго\"\n",
        "# price = 187\n",
        "# weight = 43\n",
        "# cash = 8041\n",
        "\n",
        "good = input()\n",
        "price = int(input())\n",
        "weight = int(input())\n",
        "cash = int(input())\n",
        "\n",
        "\n",
        "purchase = price * weight\n",
        "\n",
        "print(f\"\"\"================Чек================\n",
        "Товар:{good:>29}\n",
        "Цена:{weight:{20 - 1 - len(str(price))}}кг *{price:{1 + len(str(price))}}руб/кг\n",
        "Итого:{purchase:26}руб\n",
        "Внесено:{cash:24}руб\n",
        "Сдача:{cash - purchase:26}руб\n",
        "===================================\"\"\")"
      ],
      "metadata": {
        "id": "pIpItl5KSdQq",
        "colab": {
          "base_uri": "https://localhost:8080/"
        },
        "outputId": "b872e7b2-9ab1-4298-aa07-8a0ad09ae31d"
      },
      "execution_count": 57,
      "outputs": [
        {
          "output_type": "stream",
          "name": "stdout",
          "text": [
            "манго\n",
            "187\n",
            "43\n",
            "8041\n",
            "================Чек================\n",
            "Товар:                        манго\n",
            "Цена:              43кг * 187руб/кг\n",
            "Итого:                      8041руб\n",
            "Внесено:                    8041руб\n",
            "Сдача:                         0руб\n",
            "===================================\n"
          ]
        }
      ]
    },
    {
      "cell_type": "code",
      "source": [
        "value = 42\n",
        "cell = 10\n",
        "print(f\"\"\"!{value:{cell}}!\"\"\")"
      ],
      "metadata": {
        "id": "8sq0NnuO0lHm",
        "outputId": "7599f171-fc39-47f8-ceb5-a912e4d529c7",
        "colab": {
          "base_uri": "https://localhost:8080/"
        }
      },
      "execution_count": 44,
      "outputs": [
        {
          "output_type": "stream",
          "name": "stdout",
          "text": [
            "!        42!\n"
          ]
        }
      ]
    },
    {
      "cell_type": "code",
      "source": [
        "print(len(str(3435)))"
      ],
      "metadata": {
        "id": "yfvSL2Sj3MPG",
        "outputId": "3deafdfe-25b3-4f88-e21f-02d95801a7d1",
        "colab": {
          "base_uri": "https://localhost:8080/"
        }
      },
      "execution_count": 51,
      "outputs": [
        {
          "output_type": "stream",
          "name": "stdout",
          "text": [
            "4\n"
          ]
        }
      ]
    },
    {
      "cell_type": "code",
      "source": [
        "len('erferf')"
      ],
      "metadata": {
        "id": "2fAqrKJO3d02",
        "outputId": "57f8046a-5b90-43e6-a1e6-ed69a9f5bb37",
        "colab": {
          "base_uri": "https://localhost:8080/"
        }
      },
      "execution_count": 50,
      "outputs": [
        {
          "output_type": "execute_result",
          "data": {
            "text/plain": [
              "6"
            ]
          },
          "metadata": {},
          "execution_count": 50
        }
      ]
    },
    {
      "cell_type": "markdown",
      "source": [
        "#### **№20 Мухи отдельно, котлеты отдельно**"
      ],
      "metadata": {
        "id": "mXfjQkx6SdQp"
      }
    },
    {
      "cell_type": "code",
      "source": [
        "# N = 32\n",
        "# M = 285\n",
        "# K_1 = 300\n",
        "# K_2 = 240\n",
        "\n",
        "N = int(input())\n",
        "M = int(input())\n",
        "K_1 = int(input())\n",
        "K_2 = int(input())\n",
        "\n",
        "\n",
        "x = -N * (K_2 - M) / (K_1 - K_2)\n",
        "y = N - x\n",
        "\n",
        "print(int(x), int(y))"
      ],
      "metadata": {
        "id": "OkDr6vIqSdZb",
        "colab": {
          "base_uri": "https://localhost:8080/"
        },
        "outputId": "bed9d391-0e00-4c7b-becd-759c33dfe56c"
      },
      "execution_count": 62,
      "outputs": [
        {
          "output_type": "stream",
          "name": "stdout",
          "text": [
            "32\n",
            "285\n",
            "300\n",
            "240\n",
            "24 8\n"
          ]
        }
      ]
    }
  ],
  "metadata": {
    "kernelspec": {
      "display_name": "Python 3",
      "language": "python",
      "name": "python3"
    },
    "language_info": {
      "name": "python",
      "version": "3.12.3"
    },
    "colab": {
      "provenance": [],
      "toc_visible": true
    }
  },
  "nbformat": 4,
  "nbformat_minor": 0
}