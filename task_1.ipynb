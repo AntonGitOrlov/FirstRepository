{
  "cells": [
    {
      "cell_type": "markdown",
      "source": [
        "# **2. Базовые конструкции Python**"
      ],
      "metadata": {
        "id": "W0QU8o4ENKjl"
      }
    },
    {
      "cell_type": "markdown",
      "source": [
        "## **2.1. Ввод и вывод данных. Операции с числами, строками. Форматирование**"
      ],
      "metadata": {
        "id": "W9EzsZOhGGci"
      }
    },
    {
      "cell_type": "markdown",
      "source": [
        "### **Контент**"
      ],
      "metadata": {
        "id": "xVR_46XKNVAV"
      }
    },
    {
      "cell_type": "code",
      "execution_count": 2,
      "metadata": {
        "id": "W-d9lwp9zZEC",
        "outputId": "f851eb48-aecb-44e0-cc35-5971eed09c08",
        "colab": {
          "base_uri": "https://localhost:8080/"
        }
      },
      "outputs": [
        {
          "output_type": "stream",
          "name": "stdout",
          "text": [
            "Привет, мир!\n"
          ]
        }
      ],
      "source": [
        "print(\"Привет, мир!\")"
      ]
    },
    {
      "cell_type": "code",
      "source": [
        "print('Привет, мир!')\n",
        "print(\"Привет, мир!\")\n",
        "print(\"\"\"Привет, мир!\"\"\")\n",
        "print(\"Программа выводит фразу 'Привет, мир!'\")"
      ],
      "metadata": {
        "colab": {
          "base_uri": "https://localhost:8080/"
        },
        "id": "T0RfexeNGrdS",
        "outputId": "6e6828a7-b04b-4899-c572-2dc21943f701"
      },
      "execution_count": 3,
      "outputs": [
        {
          "output_type": "stream",
          "name": "stdout",
          "text": [
            "Привет, мир!\n",
            "Привет, мир!\n",
            "Привет, мир!\n",
            "Программа выводит фразу 'Привет, мир!'\n"
          ]
        }
      ]
    },
    {
      "cell_type": "code",
      "source": [
        "phrase = input()\n",
        "print(phrase)"
      ],
      "metadata": {
        "colab": {
          "base_uri": "https://localhost:8080/"
        },
        "id": "U9FNgHLWG4Zx",
        "outputId": "dd724331-1bdf-44f3-ab42-801ad06e8a9f"
      },
      "execution_count": 4,
      "outputs": [
        {
          "output_type": "stream",
          "name": "stdout",
          "text": [
            "екернрнр\n",
            "екернрнр\n"
          ]
        }
      ]
    },
    {
      "cell_type": "code",
      "source": [
        "phrase = input(\"Введите строку: \")\n",
        "print(phrase)"
      ],
      "metadata": {
        "colab": {
          "base_uri": "https://localhost:8080/"
        },
        "id": "ZPQogPP1HLJp",
        "outputId": "3a84bb0f-a2da-4523-d3d5-eb6965b61a1e"
      },
      "execution_count": 5,
      "outputs": [
        {
          "output_type": "stream",
          "name": "stdout",
          "text": [
            "Введите строку: Привет!\n",
            "Привет!\n"
          ]
        }
      ]
    },
    {
      "cell_type": "code",
      "source": [
        "name = \"Пользователь\"\n",
        "print(\"Добрый день,\", name, \".\")"
      ],
      "metadata": {
        "colab": {
          "base_uri": "https://localhost:8080/"
        },
        "id": "ii1CswHbIclB",
        "outputId": "78958c4e-3704-4241-f5c3-2d5bd4927649"
      },
      "execution_count": 6,
      "outputs": [
        {
          "output_type": "stream",
          "name": "stdout",
          "text": [
            "Добрый день, Пользователь .\n"
          ]
        }
      ]
    },
    {
      "cell_type": "code",
      "source": [
        "name = \"Пользователь\"\n",
        "print(\"Добрый день, \", name, \".\", sep=\"\")"
      ],
      "metadata": {
        "colab": {
          "base_uri": "https://localhost:8080/"
        },
        "id": "1cI9mie5MMt9",
        "outputId": "26ba9b03-890c-4ea0-ad79-ee4bd333f5d3"
      },
      "execution_count": 7,
      "outputs": [
        {
          "output_type": "stream",
          "name": "stdout",
          "text": [
            "Добрый день, Пользователь.\n"
          ]
        }
      ]
    },
    {
      "cell_type": "code",
      "source": [
        "name = \"Пользователь\"\n",
        "print(f\"Добрый день, {name}.\")"
      ],
      "metadata": {
        "colab": {
          "base_uri": "https://localhost:8080/"
        },
        "id": "0Fr8iGsvMUpE",
        "outputId": "047b7de3-9186-4117-da95-075722399719"
      },
      "execution_count": 8,
      "outputs": [
        {
          "output_type": "stream",
          "name": "stdout",
          "text": [
            "Добрый день, Пользователь.\n"
          ]
        }
      ]
    },
    {
      "cell_type": "code",
      "source": [
        "print(f\"{123:0>9}\")\n",
        "print(f\"{123:0<9}\")\n",
        "print(f\"{123:0^9}\")"
      ],
      "metadata": {
        "colab": {
          "base_uri": "https://localhost:8080/"
        },
        "id": "rbIyobJ1Ma_V",
        "outputId": "80ecf282-8dbe-4164-fb57-3774a6221c53"
      },
      "execution_count": 9,
      "outputs": [
        {
          "output_type": "stream",
          "name": "stdout",
          "text": [
            "000000123\n",
            "123000000\n",
            "000123000\n"
          ]
        }
      ]
    },
    {
      "cell_type": "code",
      "source": [
        "print(\"\\\\\")"
      ],
      "metadata": {
        "colab": {
          "base_uri": "https://localhost:8080/"
        },
        "id": "JJikQOeQNCJ1",
        "outputId": "f465c383-19fc-44be-d210-5dfbdd9a25c0"
      },
      "execution_count": 10,
      "outputs": [
        {
          "output_type": "stream",
          "name": "stdout",
          "text": [
            "\\\n"
          ]
        }
      ]
    },
    {
      "cell_type": "code",
      "source": [
        "print(\"Привет, Пользователь!\")\n",
        "print(\"Как дела?\")"
      ],
      "metadata": {
        "colab": {
          "base_uri": "https://localhost:8080/"
        },
        "id": "D-b0rxjaOqY9",
        "outputId": "c3b9aa55-a1f6-4ce6-9697-32cc9dd5b5c3"
      },
      "execution_count": 11,
      "outputs": [
        {
          "output_type": "stream",
          "name": "stdout",
          "text": [
            "Привет, Пользователь!\n",
            "Как дела?\n"
          ]
        }
      ]
    },
    {
      "cell_type": "code",
      "source": [
        "print(\"Сложно\" + \"подчинённый\")\n"
      ],
      "metadata": {
        "colab": {
          "base_uri": "https://localhost:8080/"
        },
        "id": "5t879RRqOxL1",
        "outputId": "89147320-9cbc-4673-db32-55b43d4ffead"
      },
      "execution_count": 12,
      "outputs": [
        {
          "output_type": "stream",
          "name": "stdout",
          "text": [
            "Сложноподчинённый\n"
          ]
        }
      ]
    },
    {
      "cell_type": "code",
      "source": [
        "print(\"-\" * 10)"
      ],
      "metadata": {
        "colab": {
          "base_uri": "https://localhost:8080/"
        },
        "id": "xO1a9-haO2yW",
        "outputId": "caf0d7d0-523f-433e-be96-b068ed6e05f7"
      },
      "execution_count": 13,
      "outputs": [
        {
          "output_type": "stream",
          "name": "stdout",
          "text": [
            "----------\n"
          ]
        }
      ]
    },
    {
      "cell_type": "code",
      "source": [
        "n = 10\n",
        "pi = 3.14"
      ],
      "metadata": {
        "id": "2x8SZBVyO7tF"
      },
      "execution_count": 14,
      "outputs": []
    },
    {
      "cell_type": "code",
      "source": [
        "n_1 = \"1\"\n",
        "n_2 = \"2\"\n",
        "print(n_1 + n_2)\n",
        "n_1 = int(n_1)\n",
        "n_2 = int(n_2)\n",
        "print(n_1 + n_2)"
      ],
      "metadata": {
        "colab": {
          "base_uri": "https://localhost:8080/"
        },
        "id": "PST2Dx-4O9Bu",
        "outputId": "d78f2de0-596c-4a38-d770-a658cf1d6e04"
      },
      "execution_count": 15,
      "outputs": [
        {
          "output_type": "stream",
          "name": "stdout",
          "text": [
            "12\n",
            "3\n"
          ]
        }
      ]
    },
    {
      "cell_type": "code",
      "source": [
        "x = 3.89\n",
        "x = int(x)\n",
        "print(x)"
      ],
      "metadata": {
        "colab": {
          "base_uri": "https://localhost:8080/"
        },
        "id": "xE85ZkyGPOc2",
        "outputId": "d81ab757-dcca-47f2-85cf-10043c21d7e2"
      },
      "execution_count": 16,
      "outputs": [
        {
          "output_type": "stream",
          "name": "stdout",
          "text": [
            "3\n"
          ]
        }
      ]
    },
    {
      "cell_type": "code",
      "source": [
        "width = \"3.7\"\n",
        "height = \"2.5\"\n",
        "s = float(width) * float(height)\n",
        "print(s)"
      ],
      "metadata": {
        "colab": {
          "base_uri": "https://localhost:8080/"
        },
        "id": "ZtoeKu-1PSEf",
        "outputId": "d5088e22-7afb-4bc7-a100-61375d2fbf5b"
      },
      "execution_count": 17,
      "outputs": [
        {
          "output_type": "stream",
          "name": "stdout",
          "text": [
            "9.25\n"
          ]
        }
      ]
    },
    {
      "cell_type": "code",
      "source": [
        "int_number = int(input())\n",
        "float_number = float(input())"
      ],
      "metadata": {
        "id": "rCxiEwzLPZzn"
      },
      "execution_count": null,
      "outputs": []
    },
    {
      "cell_type": "code",
      "source": [
        "n = 25\n",
        "x = 0.5\n",
        "\n",
        "print(n + x)\n",
        "print(n - x)\n",
        "print(n * x)\n",
        "print(n / x)\n",
        "print(n ** x)"
      ],
      "metadata": {
        "colab": {
          "base_uri": "https://localhost:8080/"
        },
        "id": "4Ni-CaN2Pat-",
        "outputId": "bbc5e0a4-7db5-45c3-dc0a-f7190a96ccf6"
      },
      "execution_count": 18,
      "outputs": [
        {
          "output_type": "stream",
          "name": "stdout",
          "text": [
            "25.5\n",
            "24.5\n",
            "12.5\n",
            "50.0\n",
            "5.0\n"
          ]
        }
      ]
    },
    {
      "cell_type": "code",
      "source": [
        "print(4 / 2)"
      ],
      "metadata": {
        "colab": {
          "base_uri": "https://localhost:8080/"
        },
        "id": "2oqXgKW0Pmv3",
        "outputId": "57307d53-325f-4824-db97-df755239cd4c"
      },
      "execution_count": 19,
      "outputs": [
        {
          "output_type": "stream",
          "name": "stdout",
          "text": [
            "2.0\n"
          ]
        }
      ]
    },
    {
      "cell_type": "code",
      "source": [
        "print(f\"{2 ** 0.5:.2f}\")"
      ],
      "metadata": {
        "colab": {
          "base_uri": "https://localhost:8080/"
        },
        "id": "wlvMMDIrPtOn",
        "outputId": "124b65bf-b2b0-4d4d-9d6c-f67027a626bf"
      },
      "execution_count": 20,
      "outputs": [
        {
          "output_type": "stream",
          "name": "stdout",
          "text": [
            "1.41\n"
          ]
        }
      ]
    },
    {
      "cell_type": "code",
      "source": [
        "last_digit = 1234 % 10\n",
        "print(last_digit)"
      ],
      "metadata": {
        "colab": {
          "base_uri": "https://localhost:8080/"
        },
        "id": "BATVsZdpP0LG",
        "outputId": "1d8685e0-bdd2-4220-e5ae-891bd813d7b1"
      },
      "execution_count": 24,
      "outputs": [
        {
          "output_type": "stream",
          "name": "stdout",
          "text": [
            "4\n"
          ]
        }
      ]
    },
    {
      "cell_type": "code",
      "source": [
        "penultimate_digit = 1234 // 10 % 10\n",
        "print(penultimate_digit)"
      ],
      "metadata": {
        "colab": {
          "base_uri": "https://localhost:8080/"
        },
        "id": "dr3L-iJQQHGn",
        "outputId": "1aea31aa-5862-493c-cc57-521bc01aeb3d"
      },
      "execution_count": 25,
      "outputs": [
        {
          "output_type": "stream",
          "name": "stdout",
          "text": [
            "3\n"
          ]
        }
      ]
    },
    {
      "cell_type": "code",
      "source": [
        "binary_value = \"1001\"\n",
        "print(int(binary_value, 2))"
      ],
      "metadata": {
        "colab": {
          "base_uri": "https://localhost:8080/"
        },
        "id": "zbYca_CZQWMH",
        "outputId": "b0d3b19b-70be-4aa3-ef66-49eee0ba51c8"
      },
      "execution_count": 26,
      "outputs": [
        {
          "output_type": "stream",
          "name": "stdout",
          "text": [
            "9\n"
          ]
        }
      ]
    },
    {
      "cell_type": "markdown",
      "source": [
        "### **Задачи**"
      ],
      "metadata": {
        "id": "h6oD6CPhQeq_"
      }
    },
    {
      "cell_type": "markdown",
      "source": [
        "#### **№1 Привет, Яндекс!**"
      ],
      "metadata": {
        "id": "pV6bgTshQ35n"
      }
    },
    {
      "cell_type": "markdown",
      "source": [
        "##### **Решение**"
      ],
      "metadata": {
        "id": "KEltqjPvRknN"
      }
    },
    {
      "cell_type": "code",
      "source": [
        "print(\"Привет, Яндекс!\")"
      ],
      "metadata": {
        "colab": {
          "base_uri": "https://localhost:8080/"
        },
        "id": "lVrZDhuoQzS_",
        "outputId": "fb484cae-1155-47db-fe77-902afd121b13"
      },
      "execution_count": 27,
      "outputs": [
        {
          "output_type": "stream",
          "name": "stdout",
          "text": [
            "Привет, Яндекс!\n"
          ]
        }
      ]
    },
    {
      "cell_type": "markdown",
      "source": [
        "#### **№2 Привет, всем!**"
      ],
      "metadata": {
        "id": "kg4HNxr9a84L"
      }
    },
    {
      "cell_type": "markdown",
      "source": [
        "##### **Решение**"
      ],
      "metadata": {
        "id": "IWz9Tyb0OzG0"
      }
    },
    {
      "cell_type": "code",
      "source": [
        "username = input(\"Как Вас зовут?\\n\")\n",
        "print(f\"Привет, {username}\")"
      ],
      "metadata": {
        "colab": {
          "base_uri": "https://localhost:8080/"
        },
        "id": "E2NkdxxSQ4fi",
        "outputId": "398b35ff-db0c-478a-a90f-55b04b312b05"
      },
      "execution_count": 1,
      "outputs": [
        {
          "output_type": "stream",
          "name": "stdout",
          "text": [
            "Как Вас зовут?\n",
            "Антон\n",
            "Привет, Антон\n"
          ]
        }
      ]
    },
    {
      "cell_type": "markdown",
      "source": [
        "##### **Решение_2**"
      ],
      "metadata": {
        "id": "bhL29tcLRq1y"
      }
    },
    {
      "cell_type": "code",
      "source": [
        "name = input(\"Как Вас зовут?\")\n",
        "print(f\"Привет, {name}\")"
      ],
      "metadata": {
        "colab": {
          "base_uri": "https://localhost:8080/"
        },
        "id": "kpRMGXn-7KBG",
        "outputId": "96feec4f-70d7-4e74-d88c-14500b66d631"
      },
      "execution_count": 28,
      "outputs": [
        {
          "output_type": "stream",
          "name": "stdout",
          "text": [
            "Как Вас зовут?Антон\n",
            "Привет, Антон\n"
          ]
        }
      ]
    },
    {
      "cell_type": "markdown",
      "source": [
        "#### **№3 Излишняя автоматизация**"
      ],
      "metadata": {
        "id": "hwHvhtWWR5fF"
      }
    },
    {
      "cell_type": "markdown",
      "source": [
        "##### **Решение**"
      ],
      "metadata": {
        "id": "nkQuNjPBSRJN"
      }
    },
    {
      "cell_type": "code",
      "source": [
        "var_input = input()\n",
        "print(f\"{var_input}\\n\" * 3)"
      ],
      "metadata": {
        "colab": {
          "base_uri": "https://localhost:8080/"
        },
        "id": "3TIX9go6Sg7O",
        "outputId": "42bf4548-218c-4481-c42a-778f77365563"
      },
      "execution_count": 6,
      "outputs": [
        {
          "output_type": "stream",
          "name": "stdout",
          "text": [
            "2 + 2 = 4\n",
            "2 + 2 = 4\n",
            "2 + 2 = 4\n",
            "2 + 2 = 4\n",
            "\n"
          ]
        }
      ]
    },
    {
      "cell_type": "markdown",
      "source": [
        "#### **№4 Сдача**"
      ],
      "metadata": {
        "id": "NtxtZBuZSa3S"
      }
    },
    {
      "cell_type": "markdown",
      "source": [
        "##### **Решение**"
      ],
      "metadata": {
        "id": "wSjPlf0uSa3S"
      }
    },
    {
      "cell_type": "code",
      "source": [
        "print(int(int(input()) - 2.5 * 38))"
      ],
      "metadata": {
        "colab": {
          "base_uri": "https://localhost:8080/"
        },
        "id": "43NcN0xfSa3S",
        "outputId": "f14dc072-d4a8-4698-a29b-990119b4711d"
      },
      "execution_count": 4,
      "outputs": [
        {
          "output_type": "stream",
          "name": "stdout",
          "text": [
            "100\n",
            "5\n"
          ]
        }
      ]
    },
    {
      "cell_type": "markdown",
      "source": [
        "#### **№5 Магазин**"
      ],
      "metadata": {
        "id": "bmIvhrNOSbJi"
      }
    },
    {
      "cell_type": "markdown",
      "source": [
        "##### **Решение**"
      ],
      "metadata": {
        "id": "fNZiNRk5SbJi"
      }
    },
    {
      "cell_type": "code",
      "source": [
        "price = int(input())\n",
        "weight = int(input())\n",
        "cash = int(input())\n",
        "\n",
        "print(cash - price * weight)"
      ],
      "metadata": {
        "colab": {
          "base_uri": "https://localhost:8080/"
        },
        "id": "qZdo1T9USbJj",
        "outputId": "83131d6a-bf29-4d54-e0fb-c2986fb94f00"
      },
      "execution_count": 4,
      "outputs": [
        {
          "output_type": "stream",
          "name": "stdout",
          "text": [
            "187\n",
            "43\n",
            "8041\n",
            "0\n"
          ]
        }
      ]
    },
    {
      "cell_type": "markdown",
      "source": [
        "#### **№6 Чек**"
      ],
      "metadata": {
        "id": "YpvKXoW2SbWR"
      }
    },
    {
      "cell_type": "markdown",
      "source": [
        "##### **Решение**"
      ],
      "metadata": {
        "id": "q7gkSv8QSbWR"
      }
    },
    {
      "cell_type": "code",
      "source": [
        "name_of_good = input()\n",
        "price = int(input())\n",
        "weight = int(input())\n",
        "cash = int(input())\n",
        "\n",
        "print(f\"\"\"Чек\n",
        "{name_of_good} - {weight}кг - {price}руб/кг\n",
        "Итого: {weight * price}руб\n",
        "Внесено: {cash}руб\n",
        "Сдача: {0 if (cash - price * weight) < 0 else (cash - price * weight)}руб\"\"\")"
      ],
      "metadata": {
        "colab": {
          "base_uri": "https://localhost:8080/"
        },
        "id": "V_LiP0XKSbWS",
        "outputId": "91941ee6-3647-4407-c072-663ff0a4b2a6"
      },
      "execution_count": 13,
      "outputs": [
        {
          "output_type": "stream",
          "name": "stdout",
          "text": [
            "манго\n",
            "187\n",
            "43\n",
            "8000\n",
            "Чек\n",
            "манго - 43кг - 187руб/кг\n",
            "Итого: 8041руб\n",
            "Внесено: 8000руб\n",
            "Сдача: 0руб\n"
          ]
        }
      ]
    },
    {
      "cell_type": "markdown",
      "source": [
        "#### №"
      ],
      "metadata": {
        "id": "A_lD8biNSbhq"
      }
    },
    {
      "cell_type": "markdown",
      "source": [
        "##### **Решение**"
      ],
      "metadata": {
        "id": "PZE_rpHSSbhq"
      }
    },
    {
      "cell_type": "code",
      "source": [],
      "metadata": {
        "id": "ovLyU4sNSbhq"
      },
      "execution_count": null,
      "outputs": []
    },
    {
      "cell_type": "markdown",
      "source": [
        "#### №"
      ],
      "metadata": {
        "id": "lzUjHNAgSbsB"
      }
    },
    {
      "cell_type": "markdown",
      "source": [
        "##### **Решение**"
      ],
      "metadata": {
        "id": "Zh8bupPqSbsB"
      }
    },
    {
      "cell_type": "code",
      "source": [],
      "metadata": {
        "id": "HpXtlhSESbsB"
      },
      "execution_count": null,
      "outputs": []
    },
    {
      "cell_type": "markdown",
      "source": [
        "#### №"
      ],
      "metadata": {
        "id": "Atq878OzSb2C"
      }
    },
    {
      "cell_type": "markdown",
      "source": [
        "##### **Решение**"
      ],
      "metadata": {
        "id": "IaFodY4jSb2C"
      }
    },
    {
      "cell_type": "code",
      "source": [],
      "metadata": {
        "id": "TV4mdKlNSb2C"
      },
      "execution_count": null,
      "outputs": []
    },
    {
      "cell_type": "markdown",
      "source": [
        "#### №"
      ],
      "metadata": {
        "id": "2sV7ccGNSb_h"
      }
    },
    {
      "cell_type": "markdown",
      "source": [
        "##### **Решение**"
      ],
      "metadata": {
        "id": "1iDggok3Sb_h"
      }
    },
    {
      "cell_type": "code",
      "source": [],
      "metadata": {
        "id": "wCGGnz1LSb_h"
      },
      "execution_count": null,
      "outputs": []
    },
    {
      "cell_type": "markdown",
      "source": [
        "#### №"
      ],
      "metadata": {
        "id": "55LmnWtQScJZ"
      }
    },
    {
      "cell_type": "markdown",
      "source": [
        "##### **Решение**"
      ],
      "metadata": {
        "id": "1E7VO5PIScJa"
      }
    },
    {
      "cell_type": "code",
      "source": [],
      "metadata": {
        "id": "rHvlrMovScJa"
      },
      "execution_count": null,
      "outputs": []
    },
    {
      "cell_type": "markdown",
      "source": [
        "#### №"
      ],
      "metadata": {
        "id": "Q_07C5bqScSL"
      }
    },
    {
      "cell_type": "markdown",
      "source": [
        "##### **Решение**"
      ],
      "metadata": {
        "id": "NA9jegYIScSL"
      }
    },
    {
      "cell_type": "code",
      "source": [],
      "metadata": {
        "id": "BezmGmX0ScSL"
      },
      "execution_count": null,
      "outputs": []
    },
    {
      "cell_type": "markdown",
      "source": [
        "#### №"
      ],
      "metadata": {
        "id": "2rCLe8REScbh"
      }
    },
    {
      "cell_type": "markdown",
      "source": [
        "##### **Решение**"
      ],
      "metadata": {
        "id": "3hBfATB2Scbi"
      }
    },
    {
      "cell_type": "code",
      "source": [],
      "metadata": {
        "id": "uDlKQMf9Scbi"
      },
      "execution_count": null,
      "outputs": []
    },
    {
      "cell_type": "markdown",
      "source": [
        "#### №"
      ],
      "metadata": {
        "id": "w1hjlQvnSckh"
      }
    },
    {
      "cell_type": "markdown",
      "source": [
        "##### **Решение**"
      ],
      "metadata": {
        "id": "CkXH3gGQSckh"
      }
    },
    {
      "cell_type": "code",
      "source": [],
      "metadata": {
        "id": "Q-PJjG0OScki"
      },
      "execution_count": null,
      "outputs": []
    },
    {
      "cell_type": "markdown",
      "source": [
        "#### №"
      ],
      "metadata": {
        "id": "XsiTdJssSctA"
      }
    },
    {
      "cell_type": "markdown",
      "source": [
        "##### **Решение**"
      ],
      "metadata": {
        "id": "DsKYmmgpSctA"
      }
    },
    {
      "cell_type": "code",
      "source": [],
      "metadata": {
        "id": "ihLpryLfSctA"
      },
      "execution_count": null,
      "outputs": []
    },
    {
      "cell_type": "markdown",
      "source": [
        "#### №"
      ],
      "metadata": {
        "id": "dPqMWbChSc1y"
      }
    },
    {
      "cell_type": "markdown",
      "source": [
        "##### **Решение**"
      ],
      "metadata": {
        "id": "ukLoywhKSc1y"
      }
    },
    {
      "cell_type": "code",
      "source": [],
      "metadata": {
        "id": "NhpK3-DhSc1z"
      },
      "execution_count": null,
      "outputs": []
    },
    {
      "cell_type": "markdown",
      "source": [
        "#### №"
      ],
      "metadata": {
        "id": "LM5RPL3gSc-6"
      }
    },
    {
      "cell_type": "markdown",
      "source": [
        "##### **Решение**"
      ],
      "metadata": {
        "id": "jxo1YBT7Sc-6"
      }
    },
    {
      "cell_type": "code",
      "source": [],
      "metadata": {
        "id": "tUt7KUnSSc-6"
      },
      "execution_count": null,
      "outputs": []
    },
    {
      "cell_type": "markdown",
      "source": [
        "#### №"
      ],
      "metadata": {
        "id": "nD-eLFsUSdIJ"
      }
    },
    {
      "cell_type": "markdown",
      "source": [
        "##### **Решение**"
      ],
      "metadata": {
        "id": "r8SVxQqxSdIJ"
      }
    },
    {
      "cell_type": "code",
      "source": [],
      "metadata": {
        "id": "YXICC80CSdIK"
      },
      "execution_count": null,
      "outputs": []
    },
    {
      "cell_type": "markdown",
      "source": [
        "#### №"
      ],
      "metadata": {
        "id": "mXfjQkx6SdQp"
      }
    },
    {
      "cell_type": "markdown",
      "source": [
        "##### **Решение**"
      ],
      "metadata": {
        "id": "90Vog-rwSdQq"
      }
    },
    {
      "cell_type": "code",
      "source": [],
      "metadata": {
        "id": "pIpItl5KSdQq"
      },
      "execution_count": null,
      "outputs": []
    },
    {
      "cell_type": "markdown",
      "source": [
        "#### №"
      ],
      "metadata": {
        "id": "LhVAUwMpSdZb"
      }
    },
    {
      "cell_type": "markdown",
      "source": [
        "##### **Решение**"
      ],
      "metadata": {
        "id": "dBFGvDXnSdZb"
      }
    },
    {
      "cell_type": "code",
      "source": [],
      "metadata": {
        "id": "OkDr6vIqSdZb"
      },
      "execution_count": null,
      "outputs": []
    }
  ],
  "metadata": {
    "kernelspec": {
      "display_name": "Python 3",
      "language": "python",
      "name": "python3"
    },
    "language_info": {
      "name": "python",
      "version": "3.12.3"
    },
    "colab": {
      "provenance": [],
      "toc_visible": true
    }
  },
  "nbformat": 4,
  "nbformat_minor": 0
}