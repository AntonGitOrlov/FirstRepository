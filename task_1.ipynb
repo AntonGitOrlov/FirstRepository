{
  "cells": [
    {
      "cell_type": "markdown",
      "source": [
        "# **2. Базовые конструкции Python**"
      ],
      "metadata": {
        "id": "W0QU8o4ENKjl"
      }
    },
    {
      "cell_type": "markdown",
      "source": [
        "## **2.1. Ввод и вывод данных. Операции с числами, строками. Форматирование**"
      ],
      "metadata": {
        "id": "W9EzsZOhGGci"
      }
    },
    {
      "cell_type": "markdown",
      "source": [
        "### **Контент**"
      ],
      "metadata": {
        "id": "xVR_46XKNVAV"
      }
    },
    {
      "cell_type": "code",
      "execution_count": null,
      "metadata": {
        "id": "W-d9lwp9zZEC",
        "outputId": "f851eb48-aecb-44e0-cc35-5971eed09c08",
        "colab": {
          "base_uri": "https://localhost:8080/"
        }
      },
      "outputs": [
        {
          "output_type": "stream",
          "name": "stdout",
          "text": [
            "Привет, мир!\n"
          ]
        }
      ],
      "source": [
        "print(\"Привет, мир!\")"
      ]
    },
    {
      "cell_type": "code",
      "source": [
        "print('Привет, мир!')\n",
        "print(\"Привет, мир!\")\n",
        "print(\"\"\"Привет, мир!\"\"\")\n",
        "print(\"Программа выводит фразу 'Привет, мир!'\")"
      ],
      "metadata": {
        "colab": {
          "base_uri": "https://localhost:8080/"
        },
        "id": "T0RfexeNGrdS",
        "outputId": "6e6828a7-b04b-4899-c572-2dc21943f701"
      },
      "execution_count": null,
      "outputs": [
        {
          "output_type": "stream",
          "name": "stdout",
          "text": [
            "Привет, мир!\n",
            "Привет, мир!\n",
            "Привет, мир!\n",
            "Программа выводит фразу 'Привет, мир!'\n"
          ]
        }
      ]
    },
    {
      "cell_type": "code",
      "source": [
        "phrase = input()\n",
        "print(phrase)"
      ],
      "metadata": {
        "colab": {
          "base_uri": "https://localhost:8080/"
        },
        "id": "U9FNgHLWG4Zx",
        "outputId": "dd724331-1bdf-44f3-ab42-801ad06e8a9f"
      },
      "execution_count": null,
      "outputs": [
        {
          "output_type": "stream",
          "name": "stdout",
          "text": [
            "екернрнр\n",
            "екернрнр\n"
          ]
        }
      ]
    },
    {
      "cell_type": "code",
      "source": [
        "phrase = input(\"Введите строку: \")\n",
        "print(phrase)"
      ],
      "metadata": {
        "colab": {
          "base_uri": "https://localhost:8080/"
        },
        "id": "ZPQogPP1HLJp",
        "outputId": "3a84bb0f-a2da-4523-d3d5-eb6965b61a1e"
      },
      "execution_count": null,
      "outputs": [
        {
          "output_type": "stream",
          "name": "stdout",
          "text": [
            "Введите строку: Привет!\n",
            "Привет!\n"
          ]
        }
      ]
    },
    {
      "cell_type": "code",
      "source": [
        "name = \"Пользователь\"\n",
        "print(\"Добрый день,\", name, \".\")"
      ],
      "metadata": {
        "colab": {
          "base_uri": "https://localhost:8080/"
        },
        "id": "ii1CswHbIclB",
        "outputId": "78958c4e-3704-4241-f5c3-2d5bd4927649"
      },
      "execution_count": null,
      "outputs": [
        {
          "output_type": "stream",
          "name": "stdout",
          "text": [
            "Добрый день, Пользователь .\n"
          ]
        }
      ]
    },
    {
      "cell_type": "code",
      "source": [
        "name = \"Пользователь\"\n",
        "print(\"Добрый день, \", name, \".\", sep=\"\")"
      ],
      "metadata": {
        "colab": {
          "base_uri": "https://localhost:8080/"
        },
        "id": "1cI9mie5MMt9",
        "outputId": "26ba9b03-890c-4ea0-ad79-ee4bd333f5d3"
      },
      "execution_count": null,
      "outputs": [
        {
          "output_type": "stream",
          "name": "stdout",
          "text": [
            "Добрый день, Пользователь.\n"
          ]
        }
      ]
    },
    {
      "cell_type": "code",
      "source": [
        "name = \"Пользователь\"\n",
        "print(f\"Добрый день, {name}.\")"
      ],
      "metadata": {
        "colab": {
          "base_uri": "https://localhost:8080/"
        },
        "id": "0Fr8iGsvMUpE",
        "outputId": "047b7de3-9186-4117-da95-075722399719"
      },
      "execution_count": null,
      "outputs": [
        {
          "output_type": "stream",
          "name": "stdout",
          "text": [
            "Добрый день, Пользователь.\n"
          ]
        }
      ]
    },
    {
      "cell_type": "code",
      "source": [
        "print(f\"{123:0>9}\")\n",
        "print(f\"{123:0<9}\")\n",
        "print(f\"{123:0^9}\")"
      ],
      "metadata": {
        "colab": {
          "base_uri": "https://localhost:8080/"
        },
        "id": "rbIyobJ1Ma_V",
        "outputId": "80ecf282-8dbe-4164-fb57-3774a6221c53"
      },
      "execution_count": null,
      "outputs": [
        {
          "output_type": "stream",
          "name": "stdout",
          "text": [
            "000000123\n",
            "123000000\n",
            "000123000\n"
          ]
        }
      ]
    },
    {
      "cell_type": "code",
      "source": [
        "print(\"\\\\\")"
      ],
      "metadata": {
        "colab": {
          "base_uri": "https://localhost:8080/"
        },
        "id": "JJikQOeQNCJ1",
        "outputId": "f465c383-19fc-44be-d210-5dfbdd9a25c0"
      },
      "execution_count": null,
      "outputs": [
        {
          "output_type": "stream",
          "name": "stdout",
          "text": [
            "\\\n"
          ]
        }
      ]
    },
    {
      "cell_type": "code",
      "source": [
        "print(\"Привет, Пользователь!\")\n",
        "print(\"Как дела?\")"
      ],
      "metadata": {
        "colab": {
          "base_uri": "https://localhost:8080/"
        },
        "id": "D-b0rxjaOqY9",
        "outputId": "c3b9aa55-a1f6-4ce6-9697-32cc9dd5b5c3"
      },
      "execution_count": null,
      "outputs": [
        {
          "output_type": "stream",
          "name": "stdout",
          "text": [
            "Привет, Пользователь!\n",
            "Как дела?\n"
          ]
        }
      ]
    },
    {
      "cell_type": "code",
      "source": [
        "print(\"Сложно\" + \"подчинённый\")\n"
      ],
      "metadata": {
        "colab": {
          "base_uri": "https://localhost:8080/"
        },
        "id": "5t879RRqOxL1",
        "outputId": "89147320-9cbc-4673-db32-55b43d4ffead"
      },
      "execution_count": null,
      "outputs": [
        {
          "output_type": "stream",
          "name": "stdout",
          "text": [
            "Сложноподчинённый\n"
          ]
        }
      ]
    },
    {
      "cell_type": "code",
      "source": [
        "print(\"-\" * 10)"
      ],
      "metadata": {
        "colab": {
          "base_uri": "https://localhost:8080/"
        },
        "id": "xO1a9-haO2yW",
        "outputId": "caf0d7d0-523f-433e-be96-b068ed6e05f7"
      },
      "execution_count": null,
      "outputs": [
        {
          "output_type": "stream",
          "name": "stdout",
          "text": [
            "----------\n"
          ]
        }
      ]
    },
    {
      "cell_type": "code",
      "source": [
        "n = 10\n",
        "pi = 3.14"
      ],
      "metadata": {
        "id": "2x8SZBVyO7tF"
      },
      "execution_count": null,
      "outputs": []
    },
    {
      "cell_type": "code",
      "source": [
        "n_1 = \"1\"\n",
        "n_2 = \"2\"\n",
        "print(n_1 + n_2)\n",
        "n_1 = int(n_1)\n",
        "n_2 = int(n_2)\n",
        "print(n_1 + n_2)"
      ],
      "metadata": {
        "colab": {
          "base_uri": "https://localhost:8080/"
        },
        "id": "PST2Dx-4O9Bu",
        "outputId": "d78f2de0-596c-4a38-d770-a658cf1d6e04"
      },
      "execution_count": null,
      "outputs": [
        {
          "output_type": "stream",
          "name": "stdout",
          "text": [
            "12\n",
            "3\n"
          ]
        }
      ]
    },
    {
      "cell_type": "code",
      "source": [
        "x = 3.89\n",
        "x = int(x)\n",
        "print(x)"
      ],
      "metadata": {
        "colab": {
          "base_uri": "https://localhost:8080/"
        },
        "id": "xE85ZkyGPOc2",
        "outputId": "d81ab757-dcca-47f2-85cf-10043c21d7e2"
      },
      "execution_count": null,
      "outputs": [
        {
          "output_type": "stream",
          "name": "stdout",
          "text": [
            "3\n"
          ]
        }
      ]
    },
    {
      "cell_type": "code",
      "source": [
        "width = \"3.7\"\n",
        "height = \"2.5\"\n",
        "s = float(width) * float(height)\n",
        "print(s)"
      ],
      "metadata": {
        "colab": {
          "base_uri": "https://localhost:8080/"
        },
        "id": "ZtoeKu-1PSEf",
        "outputId": "d5088e22-7afb-4bc7-a100-61375d2fbf5b"
      },
      "execution_count": null,
      "outputs": [
        {
          "output_type": "stream",
          "name": "stdout",
          "text": [
            "9.25\n"
          ]
        }
      ]
    },
    {
      "cell_type": "code",
      "source": [
        "int_number = int(input())\n",
        "float_number = float(input())"
      ],
      "metadata": {
        "id": "rCxiEwzLPZzn"
      },
      "execution_count": null,
      "outputs": []
    },
    {
      "cell_type": "code",
      "source": [
        "n = 25\n",
        "x = 0.5\n",
        "\n",
        "print(n + x)\n",
        "print(n - x)\n",
        "print(n * x)\n",
        "print(n / x)\n",
        "print(n ** x)"
      ],
      "metadata": {
        "colab": {
          "base_uri": "https://localhost:8080/"
        },
        "id": "4Ni-CaN2Pat-",
        "outputId": "bbc5e0a4-7db5-45c3-dc0a-f7190a96ccf6"
      },
      "execution_count": null,
      "outputs": [
        {
          "output_type": "stream",
          "name": "stdout",
          "text": [
            "25.5\n",
            "24.5\n",
            "12.5\n",
            "50.0\n",
            "5.0\n"
          ]
        }
      ]
    },
    {
      "cell_type": "code",
      "source": [
        "print(4 / 2)"
      ],
      "metadata": {
        "colab": {
          "base_uri": "https://localhost:8080/"
        },
        "id": "2oqXgKW0Pmv3",
        "outputId": "57307d53-325f-4824-db97-df755239cd4c"
      },
      "execution_count": null,
      "outputs": [
        {
          "output_type": "stream",
          "name": "stdout",
          "text": [
            "2.0\n"
          ]
        }
      ]
    },
    {
      "cell_type": "code",
      "source": [
        "print(f\"{2 ** 0.5:.2f}\")"
      ],
      "metadata": {
        "colab": {
          "base_uri": "https://localhost:8080/"
        },
        "id": "wlvMMDIrPtOn",
        "outputId": "124b65bf-b2b0-4d4d-9d6c-f67027a626bf"
      },
      "execution_count": null,
      "outputs": [
        {
          "output_type": "stream",
          "name": "stdout",
          "text": [
            "1.41\n"
          ]
        }
      ]
    },
    {
      "cell_type": "code",
      "source": [
        "last_digit = 1234 % 10\n",
        "print(last_digit)"
      ],
      "metadata": {
        "colab": {
          "base_uri": "https://localhost:8080/"
        },
        "id": "BATVsZdpP0LG",
        "outputId": "1d8685e0-bdd2-4220-e5ae-891bd813d7b1"
      },
      "execution_count": null,
      "outputs": [
        {
          "output_type": "stream",
          "name": "stdout",
          "text": [
            "4\n"
          ]
        }
      ]
    },
    {
      "cell_type": "code",
      "source": [
        "penultimate_digit = 1234 // 10 % 10\n",
        "print(penultimate_digit)"
      ],
      "metadata": {
        "colab": {
          "base_uri": "https://localhost:8080/"
        },
        "id": "dr3L-iJQQHGn",
        "outputId": "1aea31aa-5862-493c-cc57-521bc01aeb3d"
      },
      "execution_count": null,
      "outputs": [
        {
          "output_type": "stream",
          "name": "stdout",
          "text": [
            "3\n"
          ]
        }
      ]
    },
    {
      "cell_type": "code",
      "source": [
        "binary_value = \"1001\"\n",
        "print(int(binary_value, 2))"
      ],
      "metadata": {
        "colab": {
          "base_uri": "https://localhost:8080/"
        },
        "id": "zbYca_CZQWMH",
        "outputId": "b0d3b19b-70be-4aa3-ef66-49eee0ba51c8"
      },
      "execution_count": null,
      "outputs": [
        {
          "output_type": "stream",
          "name": "stdout",
          "text": [
            "9\n"
          ]
        }
      ]
    },
    {
      "cell_type": "markdown",
      "source": [
        "### **Задачи**"
      ],
      "metadata": {
        "id": "h6oD6CPhQeq_"
      }
    },
    {
      "cell_type": "markdown",
      "source": [
        "#### **№2.1.1 Привет, Яндекс!**"
      ],
      "metadata": {
        "id": "pV6bgTshQ35n"
      }
    },
    {
      "cell_type": "code",
      "source": [
        "print(\"Привет, Яндекс!\")"
      ],
      "metadata": {
        "colab": {
          "base_uri": "https://localhost:8080/"
        },
        "id": "lVrZDhuoQzS_",
        "outputId": "fb484cae-1155-47db-fe77-902afd121b13"
      },
      "execution_count": null,
      "outputs": [
        {
          "output_type": "stream",
          "name": "stdout",
          "text": [
            "Привет, Яндекс!\n"
          ]
        }
      ]
    },
    {
      "cell_type": "markdown",
      "source": [
        "#### **№2.1.2 Привет, всем!**"
      ],
      "metadata": {
        "id": "kg4HNxr9a84L"
      }
    },
    {
      "cell_type": "code",
      "source": [
        "name = input(\"Как Вас зовут?\")\n",
        "print(f\"Привет, {name}\")"
      ],
      "metadata": {
        "colab": {
          "base_uri": "https://localhost:8080/"
        },
        "id": "kpRMGXn-7KBG",
        "outputId": "96feec4f-70d7-4e74-d88c-14500b66d631"
      },
      "execution_count": null,
      "outputs": [
        {
          "output_type": "stream",
          "name": "stdout",
          "text": [
            "Как Вас зовут?Антон\n",
            "Привет, Антон\n"
          ]
        }
      ]
    },
    {
      "cell_type": "markdown",
      "source": [
        "#### **№2.1.3 Излишняя автоматизация**"
      ],
      "metadata": {
        "id": "hwHvhtWWR5fF"
      }
    },
    {
      "cell_type": "code",
      "source": [
        "var_input = input()\n",
        "print(f\"{var_input}\\n\" * 3)"
      ],
      "metadata": {
        "colab": {
          "base_uri": "https://localhost:8080/"
        },
        "id": "3TIX9go6Sg7O",
        "outputId": "42bf4548-218c-4481-c42a-778f77365563"
      },
      "execution_count": null,
      "outputs": [
        {
          "output_type": "stream",
          "name": "stdout",
          "text": [
            "2 + 2 = 4\n",
            "2 + 2 = 4\n",
            "2 + 2 = 4\n",
            "2 + 2 = 4\n",
            "\n"
          ]
        }
      ]
    },
    {
      "cell_type": "markdown",
      "source": [
        "#### **№2.1.4 Сдача**"
      ],
      "metadata": {
        "id": "NtxtZBuZSa3S"
      }
    },
    {
      "cell_type": "code",
      "source": [
        "print(int(int(input()) - 2.5 * 38))"
      ],
      "metadata": {
        "colab": {
          "base_uri": "https://localhost:8080/"
        },
        "id": "43NcN0xfSa3S",
        "outputId": "f14dc072-d4a8-4698-a29b-990119b4711d"
      },
      "execution_count": null,
      "outputs": [
        {
          "output_type": "stream",
          "name": "stdout",
          "text": [
            "100\n",
            "5\n"
          ]
        }
      ]
    },
    {
      "cell_type": "markdown",
      "source": [
        "#### **№2.1.5 Магазин**"
      ],
      "metadata": {
        "id": "bmIvhrNOSbJi"
      }
    },
    {
      "cell_type": "code",
      "source": [
        "price = int(input())\n",
        "weight = int(input())\n",
        "cash = int(input())\n",
        "\n",
        "print(cash - price * weight)"
      ],
      "metadata": {
        "colab": {
          "base_uri": "https://localhost:8080/"
        },
        "id": "qZdo1T9USbJj",
        "outputId": "83131d6a-bf29-4d54-e0fb-c2986fb94f00"
      },
      "execution_count": null,
      "outputs": [
        {
          "output_type": "stream",
          "name": "stdout",
          "text": [
            "187\n",
            "43\n",
            "8041\n",
            "0\n"
          ]
        }
      ]
    },
    {
      "cell_type": "markdown",
      "source": [
        "#### **№2.1.6 Чек**"
      ],
      "metadata": {
        "id": "YpvKXoW2SbWR"
      }
    },
    {
      "cell_type": "code",
      "source": [
        "name_of_good = input()\n",
        "price = int(input())\n",
        "weight = int(input())\n",
        "cash = int(input())\n",
        "\n",
        "print(f\"\"\"Чек\n",
        "{name_of_good} - {weight}кг - {price}руб/кг\n",
        "Итого: {weight * price}руб\n",
        "Внесено: {cash}руб\n",
        "Сдача: {0 if (cash - price * weight) < 0 else (cash - price * weight)}руб\"\"\")"
      ],
      "metadata": {
        "colab": {
          "base_uri": "https://localhost:8080/"
        },
        "id": "V_LiP0XKSbWS",
        "outputId": "91941ee6-3647-4407-c072-663ff0a4b2a6"
      },
      "execution_count": null,
      "outputs": [
        {
          "output_type": "stream",
          "name": "stdout",
          "text": [
            "манго\n",
            "187\n",
            "43\n",
            "8000\n",
            "Чек\n",
            "манго - 43кг - 187руб/кг\n",
            "Итого: 8041руб\n",
            "Внесено: 8000руб\n",
            "Сдача: 0руб\n"
          ]
        }
      ]
    },
    {
      "cell_type": "markdown",
      "source": [
        "#### **№2.1.7 Делу — время, потехе — час**"
      ],
      "metadata": {
        "id": "A_lD8biNSbhq"
      }
    },
    {
      "cell_type": "code",
      "source": [
        "print(\"Купи слона!\\n\" * int(input()), end=\"\")"
      ],
      "metadata": {
        "colab": {
          "base_uri": "https://localhost:8080/"
        },
        "id": "ovLyU4sNSbhq",
        "outputId": "0c2a35ad-0875-4c51-c8e1-c68ab19f36d9"
      },
      "execution_count": null,
      "outputs": [
        {
          "output_type": "stream",
          "name": "stdout",
          "text": [
            "3\n",
            "Купи слона!\n",
            "Купи слона!\n",
            "Купи слона!\n"
          ]
        }
      ]
    },
    {
      "cell_type": "markdown",
      "source": [
        "#### **№2.1.8 Наказание**"
      ],
      "metadata": {
        "id": "lzUjHNAgSbsB"
      }
    },
    {
      "cell_type": "code",
      "source": [
        "print(int(input()) * f'Я больше никогда не буду писать \"{input()}\"!\\n', end=\"\")"
      ],
      "metadata": {
        "colab": {
          "base_uri": "https://localhost:8080/"
        },
        "id": "HpXtlhSESbsB",
        "outputId": "e4e07205-3bbd-4e79-fc91-621708bb6eba"
      },
      "execution_count": null,
      "outputs": [
        {
          "output_type": "stream",
          "name": "stdout",
          "text": [
            "2\n",
            "Купи слона!\n",
            "Я больше никогда не буду писать \"Купи слона!\"!\n",
            "Я больше никогда не буду писать \"Купи слона!\"!\n"
          ]
        }
      ]
    },
    {
      "cell_type": "markdown",
      "source": [
        "#### **№2.1.9 Деловая колбаса**"
      ],
      "metadata": {
        "id": "Atq878OzSb2C"
      }
    },
    {
      "cell_type": "code",
      "source": [
        "print(int((int(input()) * int(input())) / 2))"
      ],
      "metadata": {
        "colab": {
          "base_uri": "https://localhost:8080/"
        },
        "id": "TV4mdKlNSb2C",
        "outputId": "5e095e7b-0cd7-4226-9995-9361dc07e509"
      },
      "execution_count": null,
      "outputs": [
        {
          "output_type": "stream",
          "name": "stdout",
          "text": [
            "10\n",
            "10\n",
            "50\n"
          ]
        }
      ]
    },
    {
      "cell_type": "markdown",
      "source": [
        "#### **№2.1.10 Детский сад — штаны на лямках**"
      ],
      "metadata": {
        "id": "2sV7ccGNSb_h"
      }
    },
    {
      "cell_type": "code",
      "source": [
        "name = input()\n",
        "locker = input()\n",
        "\n",
        "print(f\"\"\"Группа №{locker[0]}.\n",
        "{locker[2]}. {name}.\n",
        "Шкафчик: {locker}.\n",
        "Кроватка: {locker[1]}.\"\"\")"
      ],
      "metadata": {
        "colab": {
          "base_uri": "https://localhost:8080/"
        },
        "id": "wCGGnz1LSb_h",
        "outputId": "69b4aaed-c1b8-4687-e4cf-231d0e430312"
      },
      "execution_count": null,
      "outputs": [
        {
          "output_type": "stream",
          "name": "stdout",
          "text": [
            "Ванечка\n",
            "832\n",
            "Группа №8.  \n",
            "2. Ванечка.  \n",
            "Шкафчик: 832.  \n",
            "Кроватка: 3.\n"
          ]
        }
      ]
    },
    {
      "cell_type": "markdown",
      "source": [
        "#### **№2.1.11 Автоматизация игры**"
      ],
      "metadata": {
        "id": "55LmnWtQScJZ"
      }
    },
    {
      "cell_type": "code",
      "source": [
        "number = input()\n",
        "print(number[:2][::-1] + number[2:][::-1])"
      ],
      "metadata": {
        "colab": {
          "base_uri": "https://localhost:8080/"
        },
        "id": "1aW3RxB0XiNL",
        "outputId": "ea685f91-a903-4ac0-e284-7aa6ea2f93b4"
      },
      "execution_count": null,
      "outputs": [
        {
          "output_type": "stream",
          "name": "stdout",
          "text": [
            "1412\n",
            "4121\n"
          ]
        }
      ]
    },
    {
      "cell_type": "code",
      "source": [
        "number = int(input())\n",
        "n_4 = number % 10\n",
        "n_3 = number // 10 % 10\n",
        "n_2 = number // 10 // 10 % 10\n",
        "n_1 = number // 10 // 10 // 10\n",
        "\n",
        "print(str(n_2) + str(n_1) + str(n_4) + str(n_3))"
      ],
      "metadata": {
        "colab": {
          "base_uri": "https://localhost:8080/"
        },
        "id": "rHvlrMovScJa",
        "outputId": "faba4a4a-e204-49b6-9eb1-a37b24927242"
      },
      "execution_count": null,
      "outputs": [
        {
          "output_type": "stream",
          "name": "stdout",
          "text": [
            "1234\n",
            "2143\n"
          ]
        }
      ]
    },
    {
      "cell_type": "markdown",
      "source": [
        "#### **№2.1.12 Интересное сложение**"
      ],
      "metadata": {
        "id": "Q_07C5bqScSL"
      }
    },
    {
      "cell_type": "code",
      "source": [
        "number_1 = int(input())\n",
        "number_2 = int(input())\n",
        "\n",
        "rank_1 = str((number_1 % 10 + number_2 % 10) % 10)\n",
        "rank_2 = str((number_1 // 10 % 10 + number_2 // 10 % 10) % 10)\n",
        "rank_3 = str((number_1 // 10 // 10 % 10 + number_2 // 10 // 10 % 10) % 10)\n",
        "\n",
        "print(int(rank_3 + rank_2 + rank_1))"
      ],
      "metadata": {
        "colab": {
          "base_uri": "https://localhost:8080/"
        },
        "id": "BezmGmX0ScSL",
        "outputId": "cf14633e-a19a-4325-9e89-3c11ef86ee2b"
      },
      "execution_count": null,
      "outputs": [
        {
          "output_type": "stream",
          "name": "stdout",
          "text": [
            "45\n",
            "69\n",
            "4\n"
          ]
        }
      ]
    },
    {
      "cell_type": "markdown",
      "source": [
        "#### **№2.1.13 Дед Мороз и конфеты**"
      ],
      "metadata": {
        "id": "2rCLe8REScbh"
      }
    },
    {
      "cell_type": "code",
      "source": [
        "number_1 = int(input())\n",
        "number_2 = int(input())\n",
        "\n",
        "print(number_2 // number_1)\n",
        "print(number_2 % number_1)"
      ],
      "metadata": {
        "colab": {
          "base_uri": "https://localhost:8080/"
        },
        "id": "uDlKQMf9Scbi",
        "outputId": "32823821-6a38-41b4-9bd0-5f1b87d3baf1"
      },
      "execution_count": null,
      "outputs": [
        {
          "output_type": "stream",
          "name": "stdout",
          "text": [
            "20\n",
            "500\n",
            "25\n",
            "0\n"
          ]
        }
      ]
    },
    {
      "cell_type": "markdown",
      "source": [
        "#### **№2.1.14 Шарики и ручки**"
      ],
      "metadata": {
        "id": "w1hjlQvnSckh"
      }
    },
    {
      "cell_type": "code",
      "source": [
        "number_r = int(input())\n",
        "number_g = int(input())\n",
        "number_b = int(input())\n",
        "\n",
        "print(number_r + number_b + 1)"
      ],
      "metadata": {
        "colab": {
          "base_uri": "https://localhost:8080/"
        },
        "id": "Q-PJjG0OScki",
        "outputId": "76724ee1-bd35-42fe-c93f-d09c49710b4a"
      },
      "execution_count": null,
      "outputs": [
        {
          "output_type": "stream",
          "name": "stdout",
          "text": [
            "1\n",
            "2\n",
            "3\n",
            "5\n"
          ]
        }
      ]
    },
    {
      "cell_type": "markdown",
      "source": [
        "#### **№2.1.15 В ожидании доставки**"
      ],
      "metadata": {
        "id": "XsiTdJssSctA"
      }
    },
    {
      "cell_type": "code",
      "source": [
        "N = int(input())\n",
        "M = int(input())\n",
        "T = int(input())\n",
        "\n",
        "print(f\"\"\"{((((T // 60) + N) + ((T % 60) + M) // 60) % 24):0>2}:{(((T % 60) + M) % 60):0>2}\"\"\")"
      ],
      "metadata": {
        "colab": {
          "base_uri": "https://localhost:8080/"
        },
        "id": "ihLpryLfSctA",
        "outputId": "1fb1e32f-f419-4f15-c2dc-3893f450c59d"
      },
      "execution_count": null,
      "outputs": [
        {
          "output_type": "stream",
          "name": "stdout",
          "text": [
            "10\n",
            "15\n",
            "2752\n",
            "08:07\n"
          ]
        }
      ]
    },
    {
      "cell_type": "code",
      "source": [
        "print(60 % 60) # остаток от деления; отрезание последней цифры (если делим на 10)\n",
        "print(60 // 60) # целочисленное деление; получение последней цифры (если делим на 10)"
      ],
      "metadata": {
        "colab": {
          "base_uri": "https://localhost:8080/"
        },
        "id": "GS3XYILzx94e",
        "outputId": "9119b85c-3ced-4784-b17d-abf8f36b3762"
      },
      "execution_count": null,
      "outputs": [
        {
          "output_type": "stream",
          "name": "stdout",
          "text": [
            "0\n",
            "1\n"
          ]
        }
      ]
    },
    {
      "cell_type": "code",
      "source": [
        "print(65 % 60)\n",
        "print(65 // 60)"
      ],
      "metadata": {
        "outputId": "83cd7676-38b9-4c6f-9fd3-bcae25171358",
        "colab": {
          "base_uri": "https://localhost:8080/"
        },
        "id": "os8lH6z4tBN8"
      },
      "execution_count": null,
      "outputs": [
        {
          "output_type": "stream",
          "name": "stdout",
          "text": [
            "5\n",
            "1\n"
          ]
        }
      ]
    },
    {
      "cell_type": "code",
      "source": [
        "print(55 % 60)\n",
        "print(55 // 60)"
      ],
      "metadata": {
        "outputId": "89180bf4-e848-4c65-a7f7-99bd284a6d58",
        "colab": {
          "base_uri": "https://localhost:8080/"
        },
        "id": "IySwCBlqth4m"
      },
      "execution_count": null,
      "outputs": [
        {
          "output_type": "stream",
          "name": "stdout",
          "text": [
            "55\n",
            "0\n"
          ]
        }
      ]
    },
    {
      "cell_type": "code",
      "source": [
        "print(2752 % 60)\n",
        "print(2752 // 60)"
      ],
      "metadata": {
        "outputId": "ca6c91ad-041b-4d5e-bdba-c7b746b324e8",
        "colab": {
          "base_uri": "https://localhost:8080/"
        },
        "id": "UCwF_OnQ0thZ"
      },
      "execution_count": null,
      "outputs": [
        {
          "output_type": "stream",
          "name": "stdout",
          "text": [
            "52\n",
            "45\n"
          ]
        }
      ]
    },
    {
      "cell_type": "markdown",
      "source": [
        "#### **№2.1.16 Доставка**"
      ],
      "metadata": {
        "id": "dPqMWbChSc1y"
      }
    },
    {
      "cell_type": "code",
      "source": [
        "A = int(input())\n",
        "B = int(input())\n",
        "C = int(input())\n",
        "\n",
        "print(f\"{(B - A) / C:.2f}\")"
      ],
      "metadata": {
        "colab": {
          "base_uri": "https://localhost:8080/"
        },
        "id": "NhpK3-DhSc1z",
        "outputId": "312b9a7d-8192-4160-ede0-55f3f2c0fcb9"
      },
      "execution_count": null,
      "outputs": [
        {
          "output_type": "stream",
          "name": "stdout",
          "text": [
            "1\n",
            "100\n",
            "30\n",
            "3.30\n"
          ]
        }
      ]
    },
    {
      "cell_type": "code",
      "source": [
        "A = int(input())\n",
        "B = int(input())\n",
        "C = int(input())\n",
        "\n",
        "print(round(abs(B - A) / C, 3))"
      ],
      "metadata": {
        "colab": {
          "base_uri": "https://localhost:8080/"
        },
        "outputId": "3dc5e0f0-cf8f-4c6b-a73a-2c6722e61137",
        "id": "3iO_1IKSzxDl"
      },
      "execution_count": null,
      "outputs": [
        {
          "output_type": "stream",
          "name": "stdout",
          "text": [
            "1\n",
            "100\n",
            "30\n",
            "3.3\n"
          ]
        }
      ]
    },
    {
      "cell_type": "markdown",
      "source": [
        "#### **№2.1.17 Ошибка кассового аппарата**"
      ],
      "metadata": {
        "id": "LM5RPL3gSc-6"
      }
    },
    {
      "cell_type": "code",
      "source": [
        "A = int(input())\n",
        "B = int(input())\n",
        "\n",
        "print(A + int(str(B), 2))"
      ],
      "metadata": {
        "colab": {
          "base_uri": "https://localhost:8080/"
        },
        "id": "tUt7KUnSSc-6",
        "outputId": "ef22df38-ae82-44ae-cd96-170aa7d8779a"
      },
      "execution_count": null,
      "outputs": [
        {
          "output_type": "stream",
          "name": "stdout",
          "text": [
            "783\n",
            "10110111\n",
            "966\n"
          ]
        }
      ]
    },
    {
      "cell_type": "markdown",
      "source": [
        "#### **№2.1.18 Сдача 10**"
      ],
      "metadata": {
        "id": "nD-eLFsUSdIJ"
      }
    },
    {
      "cell_type": "code",
      "source": [
        "A = input()\n",
        "B = int(input())\n",
        "\n",
        "print(B - int(A, 2))"
      ],
      "metadata": {
        "colab": {
          "base_uri": "https://localhost:8080/"
        },
        "id": "YXICC80CSdIK",
        "outputId": "fa28c63d-813e-4f3f-c3cc-c31d07ce04f7"
      },
      "execution_count": null,
      "outputs": [
        {
          "output_type": "stream",
          "name": "stdout",
          "text": [
            "101111100\n",
            "500\n",
            "120\n"
          ]
        }
      ]
    },
    {
      "cell_type": "markdown",
      "source": [
        "#### **№2.1.19 Украшение чека**"
      ],
      "metadata": {
        "id": "LhVAUwMpSdZb"
      }
    },
    {
      "cell_type": "code",
      "source": [
        "# good = \"черешня\"\n",
        "# price = 2\n",
        "# weight = 3\n",
        "# cash = 10\n",
        "\n",
        "# good = \"манго\"\n",
        "# price = 187\n",
        "# weight = 43\n",
        "# cash = 8041\n",
        "\n",
        "good = input()\n",
        "price = int(input())\n",
        "weight = int(input())\n",
        "cash = int(input())\n",
        "\n",
        "\n",
        "purchase = price * weight\n",
        "\n",
        "print(f\"\"\"================Чек================\n",
        "Товар:{good:>29}\n",
        "Цена:{weight:{20 - 1 - len(str(price))}}кг *{price:{1 + len(str(price))}}руб/кг\n",
        "Итого:{purchase:26}руб\n",
        "Внесено:{cash:24}руб\n",
        "Сдача:{cash - purchase:26}руб\n",
        "===================================\"\"\")"
      ],
      "metadata": {
        "id": "pIpItl5KSdQq",
        "colab": {
          "base_uri": "https://localhost:8080/"
        },
        "outputId": "b872e7b2-9ab1-4298-aa07-8a0ad09ae31d"
      },
      "execution_count": null,
      "outputs": [
        {
          "output_type": "stream",
          "name": "stdout",
          "text": [
            "манго\n",
            "187\n",
            "43\n",
            "8041\n",
            "================Чек================\n",
            "Товар:                        манго\n",
            "Цена:              43кг * 187руб/кг\n",
            "Итого:                      8041руб\n",
            "Внесено:                    8041руб\n",
            "Сдача:                         0руб\n",
            "===================================\n"
          ]
        }
      ]
    },
    {
      "cell_type": "code",
      "source": [
        "value = 42\n",
        "cell = 10\n",
        "print(f\"\"\"!{value:{cell}}!\"\"\")"
      ],
      "metadata": {
        "colab": {
          "base_uri": "https://localhost:8080/"
        },
        "id": "8sq0NnuO0lHm",
        "outputId": "7599f171-fc39-47f8-ceb5-a912e4d529c7"
      },
      "execution_count": null,
      "outputs": [
        {
          "output_type": "stream",
          "name": "stdout",
          "text": [
            "!        42!\n"
          ]
        }
      ]
    },
    {
      "cell_type": "code",
      "source": [
        "print(len(str(3435)))"
      ],
      "metadata": {
        "colab": {
          "base_uri": "https://localhost:8080/"
        },
        "id": "yfvSL2Sj3MPG",
        "outputId": "3deafdfe-25b3-4f88-e21f-02d95801a7d1"
      },
      "execution_count": null,
      "outputs": [
        {
          "output_type": "stream",
          "name": "stdout",
          "text": [
            "4\n"
          ]
        }
      ]
    },
    {
      "cell_type": "code",
      "source": [
        "len('erferf')"
      ],
      "metadata": {
        "colab": {
          "base_uri": "https://localhost:8080/"
        },
        "id": "2fAqrKJO3d02",
        "outputId": "57f8046a-5b90-43e6-a1e6-ed69a9f5bb37"
      },
      "execution_count": null,
      "outputs": [
        {
          "output_type": "execute_result",
          "data": {
            "text/plain": [
              "6"
            ]
          },
          "metadata": {},
          "execution_count": 50
        }
      ]
    },
    {
      "cell_type": "markdown",
      "source": [
        "#### **№2.1.20 Мухи отдельно, котлеты отдельно**"
      ],
      "metadata": {
        "id": "mXfjQkx6SdQp"
      }
    },
    {
      "cell_type": "code",
      "source": [
        "# N = 32\n",
        "# M = 285\n",
        "# K_1 = 300\n",
        "# K_2 = 240\n",
        "\n",
        "N = int(input())\n",
        "M = int(input())\n",
        "K_1 = int(input())\n",
        "K_2 = int(input())\n",
        "\n",
        "\n",
        "x = -N * (K_2 - M) / (K_1 - K_2)\n",
        "y = N - x\n",
        "\n",
        "print(int(x), int(y))"
      ],
      "metadata": {
        "id": "OkDr6vIqSdZb",
        "colab": {
          "base_uri": "https://localhost:8080/"
        },
        "outputId": "bed9d391-0e00-4c7b-becd-759c33dfe56c"
      },
      "execution_count": null,
      "outputs": [
        {
          "output_type": "stream",
          "name": "stdout",
          "text": [
            "32\n",
            "285\n",
            "300\n",
            "240\n",
            "24 8\n"
          ]
        }
      ]
    },
    {
      "cell_type": "markdown",
      "source": [
        "## **2.2. Условный оператор**"
      ],
      "metadata": {
        "id": "ISYiz4eLRuL4"
      }
    },
    {
      "cell_type": "markdown",
      "source": [
        "### **Контент**"
      ],
      "metadata": {
        "id": "nUKdpOgdRykl"
      }
    },
    {
      "cell_type": "code",
      "source": [
        "yesterday_temp = int(input())\n",
        "today_temp = int(input())\n",
        "if today_temp > yesterday_temp:\n",
        "    print(\"Сегодня теплее, чем вчера.\")\n",
        "elif today_temp < yesterday_temp:\n",
        "    print(\"Сегодня холоднее, чем вчера.\")\n",
        "else:\n",
        "    print(\"Сегодня такая же температура, как вчера.\")"
      ],
      "metadata": {
        "id": "LkmYU167R93-",
        "outputId": "293fa58d-93bd-461f-a89b-5ca70d2f91f4",
        "colab": {
          "base_uri": "https://localhost:8080/"
        }
      },
      "execution_count": null,
      "outputs": [
        {
          "output_type": "stream",
          "name": "stdout",
          "text": [
            "15\n",
            "14\n",
            "Сегодня холоднее, чем вчера.\n"
          ]
        }
      ]
    },
    {
      "cell_type": "code",
      "source": [
        "print(\"Введите первую и последнюю буквы русского алфавита.\")\n",
        "first_letter = input()\n",
        "last_letter = input()\n",
        "if (first_letter == \"а\" or first_letter == \"А\") and (\n",
        "        last_letter == \"я\" or last_letter == \"Я\"):\n",
        "    print(\"Верно.\")\n",
        "else:\n",
        "    print(\"Неверно.\")"
      ],
      "metadata": {
        "id": "5z1hxhDjSvm3",
        "outputId": "75018e33-04ae-41e9-e8fc-a95e8c3409bc",
        "colab": {
          "base_uri": "https://localhost:8080/"
        }
      },
      "execution_count": null,
      "outputs": [
        {
          "output_type": "stream",
          "name": "stdout",
          "text": [
            "Введите первую и последнюю буквы русского алфавита.\n",
            "ф\n",
            "я\n",
            "Неверно.\n"
          ]
        }
      ]
    },
    {
      "cell_type": "code",
      "source": [
        "if x >= 0 and x < 100:\n",
        "    ...\n",
        "\n",
        "if 0 <= x < 100:\n",
        "    ..."
      ],
      "metadata": {
        "id": "gkg_BKpmS_su"
      },
      "execution_count": null,
      "outputs": []
    },
    {
      "cell_type": "code",
      "source": [
        "letter_1 = \"t\"\n",
        "letter_2 = \"w\"\n",
        "print(letter_1 > letter_2)"
      ],
      "metadata": {
        "id": "6i0kGOsDTx9n",
        "outputId": "c980d407-ad28-41bb-a977-f306555a8b0a",
        "colab": {
          "base_uri": "https://localhost:8080/"
        }
      },
      "execution_count": null,
      "outputs": [
        {
          "output_type": "stream",
          "name": "stdout",
          "text": [
            "False\n"
          ]
        }
      ]
    },
    {
      "cell_type": "code",
      "source": [
        "print(ord(\"t\"), ord(\"w\"))"
      ],
      "metadata": {
        "id": "RC3cId1BT4_9",
        "outputId": "b45a39d6-d254-4cc6-de3b-1f1012e9ab9a",
        "colab": {
          "base_uri": "https://localhost:8080/"
        }
      },
      "execution_count": null,
      "outputs": [
        {
          "output_type": "stream",
          "name": "stdout",
          "text": [
            "116 119\n"
          ]
        }
      ]
    },
    {
      "cell_type": "code",
      "source": [
        "print(chr(116), chr(119))"
      ],
      "metadata": {
        "id": "gcHZ4pviT_KX",
        "outputId": "66f4ac93-b28d-4bf7-9429-eea007fd5e05",
        "colab": {
          "base_uri": "https://localhost:8080/"
        }
      },
      "execution_count": null,
      "outputs": [
        {
          "output_type": "stream",
          "name": "stdout",
          "text": [
            "t w\n"
          ]
        }
      ]
    },
    {
      "cell_type": "code",
      "source": [
        "text = input()\n",
        "if \"добр\" in text:\n",
        "    print(\"Встретилось 'доброе' слово.\")\n",
        "else:\n",
        "    print(\"Добрых слов не найдено.\")"
      ],
      "metadata": {
        "id": "aBkWvtRJUI6E",
        "outputId": "c98fc9a1-dae8-4186-eddc-151db644e7c3",
        "colab": {
          "base_uri": "https://localhost:8080/"
        }
      },
      "execution_count": null,
      "outputs": [
        {
          "output_type": "stream",
          "name": "stdout",
          "text": [
            "добрый день\n",
            "Встретилось 'доброе' слово.\n"
          ]
        }
      ]
    },
    {
      "cell_type": "code",
      "source": [
        "color = input()\n",
        "match color:\n",
        "    case 'красный' | 'жёлтый':\n",
        "        print('Стоп.')\n",
        "    case 'зелёный':\n",
        "        print('Можно ехать.')\n",
        "    case _:\n",
        "        print('Некорректное значение.')"
      ],
      "metadata": {
        "id": "kplYRzDd6tgq",
        "outputId": "29a11c86-dfdb-4522-f4df-5a369b5e4385",
        "colab": {
          "base_uri": "https://localhost:8080/"
        }
      },
      "execution_count": null,
      "outputs": [
        {
          "output_type": "stream",
          "name": "stdout",
          "text": [
            "красный\n",
            "Стоп.\n"
          ]
        }
      ]
    },
    {
      "cell_type": "markdown",
      "source": [
        "### **Задачи**"
      ],
      "metadata": {
        "id": "zHZr-Dbt9IVw"
      }
    },
    {
      "cell_type": "markdown",
      "source": [
        "#### **№2.2.1 Просто здравствуй, просто как дела**"
      ],
      "metadata": {
        "id": "VZSBcMqJ9QkT"
      }
    },
    {
      "cell_type": "code",
      "source": [
        "username = input(\"Как Вас зовут?\\n\")\n",
        "print(f\"Здравствуйте, {username}!\")\n",
        "answer = input(\"Как дела?\\n\")\n",
        "\n",
        "if answer == \"хорошо\":\n",
        "    print(\"Я за вас рада!\")\n",
        "elif answer == \"плохо\":\n",
        "    print(\"Всё наладится!\")"
      ],
      "metadata": {
        "colab": {
          "base_uri": "https://localhost:8080/"
        },
        "outputId": "fcda6f98-b0dd-40c9-ebc1-607d315facaf",
        "id": "ediJ7L7i9QkU"
      },
      "execution_count": null,
      "outputs": [
        {
          "output_type": "stream",
          "name": "stdout",
          "text": [
            "Как Вас зовут?\n",
            "Гандон\n",
            "Здравствуйте, Гандон!\n",
            "Как дела?\n",
            "плохо\n",
            "Всё наладится!\n"
          ]
        }
      ]
    },
    {
      "cell_type": "code",
      "source": [
        "print(\"Как Вас зовут?\")\n",
        "username = input()\n",
        "print(f\"Здравствуйте, {username}!\")\n",
        "print(\"Как дела?\")\n",
        "answer = input()\n",
        "\n",
        "if answer == \"хорошо\":\n",
        "  print(\"Я за вас рада!\")\n",
        "elif answer == \"плохо\":\n",
        "  print(\"Всё наладится!\")"
      ],
      "metadata": {
        "id": "8HtXFbbYFv2B",
        "outputId": "ccdf52d6-16cd-4c7d-d552-6bff98736e31",
        "colab": {
          "base_uri": "https://localhost:8080/"
        }
      },
      "execution_count": null,
      "outputs": [
        {
          "output_type": "stream",
          "name": "stdout",
          "text": [
            "Как Вас зовут?\n",
            "Антон\n",
            "Здравствуйте, Антон!\n",
            "Как дела?\n",
            "хорошо\n",
            "Я за вас рада!\n"
          ]
        }
      ]
    },
    {
      "cell_type": "code",
      "source": [
        "username = input(\"Как Вас зовут?\\n\")\n",
        "print(f\"Здравствуйте, {username}!\")\n",
        "answer = input(\"Как дела?\\n\")\n",
        "\n",
        "if answer == \"хорошо\":\n",
        "  print(\"Я за вас рада!\")\n",
        "else:\n",
        "  print(\"Всё наладится!\")"
      ],
      "metadata": {
        "id": "GBDfyyZpGnnD",
        "outputId": "2afb117e-dd2e-4d2f-8132-83a1d5b8c6d1",
        "colab": {
          "base_uri": "https://localhost:8080/"
        }
      },
      "execution_count": null,
      "outputs": [
        {
          "output_type": "stream",
          "name": "stdout",
          "text": [
            "Как Вас зовут?\n",
            "Антон\n",
            "Здравствуйте, Антон!\n",
            "Как дела?\n",
            "хорошо\n",
            "Я за вас рада!\n"
          ]
        }
      ]
    },
    {
      "cell_type": "markdown",
      "source": [
        "#### **№2.2.2 Кто быстрее?**"
      ],
      "metadata": {
        "id": "xgNp0cEX9kKz"
      }
    },
    {
      "cell_type": "code",
      "source": [
        "Pet = int(input())\n",
        "Vas = int(input())\n",
        "\n",
        "distance = 43872\n",
        "\n",
        "time_P = 43872 / Pet\n",
        "time_V = 43872 / Vas\n",
        "\n",
        "if time_P < time_V:\n",
        "    print(\"Петя\")\n",
        "else:\n",
        "    print(\"Вася\")"
      ],
      "metadata": {
        "id": "-i0y-7M19kKz",
        "colab": {
          "base_uri": "https://localhost:8080/"
        },
        "outputId": "33aa1541-1e22-40d0-847f-4d6b12d85992"
      },
      "execution_count": null,
      "outputs": [
        {
          "output_type": "stream",
          "name": "stdout",
          "text": [
            "5\n",
            "7\n",
            "Вася\n"
          ]
        }
      ]
    },
    {
      "cell_type": "markdown",
      "source": [
        "#### **№2.2.3 Кто быстрее на этот раз?**"
      ],
      "metadata": {
        "id": "qaxqLD2-9k15"
      }
    },
    {
      "cell_type": "code",
      "source": [
        "Pet_speed = float(input())\n",
        "Vas_speed = float(input())\n",
        "Tol_speed = float(input())\n",
        "\n",
        "Pet_time = 43872 / Pet_speed\n",
        "Vas_time = 43872 / Vas_speed\n",
        "Tol_time = 43872 / Tol_speed\n",
        "\n",
        "if Pet_time < Vas_time:\n",
        "    if Pet_time < Tol_time:\n",
        "        print(\"Петя\")\n",
        "    elif Tol_time < Vas_time:\n",
        "        print(\"Толя\")\n",
        "elif Vas_time < Tol_time:\n",
        "    print(\"Вася\")\n",
        "else:\n",
        "    print(\"Толя\")"
      ],
      "metadata": {
        "id": "EX6fh9ts9k15",
        "colab": {
          "base_uri": "https://localhost:8080/"
        },
        "outputId": "6201755d-bd2f-47ee-e6cf-96a8906399ae"
      },
      "execution_count": null,
      "outputs": [
        {
          "output_type": "stream",
          "name": "stdout",
          "text": [
            "2\n",
            "1\n",
            "5\n",
            "Толя\n"
          ]
        }
      ]
    },
    {
      "cell_type": "markdown",
      "source": [
        "#### **№2.2.4 Список победителей**"
      ],
      "metadata": {
        "id": "0pd0cZLi9lDY"
      }
    },
    {
      "cell_type": "code",
      "source": [
        "Pet_speed = float(input())\n",
        "Vas_speed = float(input())\n",
        "Tol_speed = float(input())\n",
        "\n",
        "Pet_time = 43872 / Pet_speed\n",
        "Vas_time = 43872 / Vas_speed\n",
        "Tol_time = 43872 / Tol_speed\n",
        "\n",
        "if Pet_time < Vas_time and Pet_time < Tol_time:\n",
        "    print(\"1. Петя\")\n",
        "    if Vas_time < Tol_time:\n",
        "        print(\"2. Вася\\n\", \"3. Толя\", sep=\"\")\n",
        "    else:\n",
        "        print(\"2. Толя\\n\", \"3. Вася\", sep=\"\")\n",
        "elif Vas_time < Pet_time and Vas_time < Tol_time:\n",
        "    print(\"1. Вася\")\n",
        "    if Pet_time < Tol_time:\n",
        "        print(\"2. Петя\\n\", \"3. Толя\", sep=\"\")\n",
        "    else:\n",
        "        print(\"2. Толя\\n\", \"3. Петя\", sep=\"\")\n",
        "else:\n",
        "    if Pet_time < Vas_time:\n",
        "        print(\"1. Толя\\n\", \"2. Петя\\n\", \"3. Вася\", sep=\"\")\n",
        "    else:\n",
        "        print(\"1. Толя\\n\", \"2. Вася\\n\", \"3. Петя\", sep=\"\")"
      ],
      "metadata": {
        "colab": {
          "base_uri": "https://localhost:8080/"
        },
        "id": "GOCwQXqkBU8j",
        "outputId": "474cd6fe-d000-41f7-bec6-d5b06581bf45"
      },
      "execution_count": null,
      "outputs": [
        {
          "output_type": "stream",
          "name": "stdout",
          "text": [
            "3\n",
            "2\n",
            "1\n",
            "1. Петя\n",
            "2. Вася\n",
            "3. Толя\n"
          ]
        }
      ]
    },
    {
      "cell_type": "code",
      "source": [
        "Pet_speed = float(input())\n",
        "Vas_speed = float(input())\n",
        "Tol_speed = float(input())\n",
        "\n",
        "Pet_time = 43872 / Pet_speed\n",
        "Vas_time = 43872 / Vas_speed\n",
        "Tol_time = 43872 / Tol_speed\n",
        "\n",
        "if Pet_time < Vas_time and Pet_time < Tol_time:\n",
        "    print(\"1. Петя\")\n",
        "    if Vas_time < Tol_time:\n",
        "        print(\"2. Вася\\n\", \"3. Толя\", sep=\"\")\n",
        "    else:\n",
        "        print(\"2. Толя\\n\", \"3. Вася\", sep=\"\")\n",
        "elif Vas_time < Pet_time and Vas_time < Tol_time:\n",
        "    print(\"1. Вася\")\n",
        "    if Pet_time < Tol_time:\n",
        "        print(\"2. Петя\\n\", \"3. Толя\", sep=\"\")\n",
        "    else:\n",
        "        print(\"2. Толя\\n\", \"3. Петя\", sep=\"\")\n",
        "elif Tol_time < Pet_time and Tol_time < Vas_time:\n",
        "    print(\"1. Толя\")\n",
        "    if Pet_time < Vas_time:\n",
        "        print(\"2. Петя\\n\", \"3. Вася\", sep=\"\")\n",
        "    else:\n",
        "        print(\"2. Вася\\n\", \"3. Петя\", sep=\"\")"
      ],
      "metadata": {
        "id": "GYeBuqJW9lDZ",
        "colab": {
          "base_uri": "https://localhost:8080/"
        },
        "outputId": "f039f361-f1cf-44b0-e103-0c98b3e9a3d2"
      },
      "execution_count": null,
      "outputs": [
        {
          "output_type": "stream",
          "name": "stdout",
          "text": [
            "3\n",
            "2\n",
            "1\n",
            "1. Петя\n",
            "2. Вася\n",
            "3. Толя\n"
          ]
        }
      ]
    },
    {
      "cell_type": "code",
      "source": [
        "first_name = 'Петя'\n",
        "first_speed = float(input())\n",
        "second_name = 'Вася'\n",
        "second_speed = float(input())\n",
        "third_name = 'Толя'\n",
        "third_speed = float(input())\n",
        "\n",
        "if first_speed < second_speed:\n",
        "    first_speed, second_speed = second_speed, first_speed  # Обмен значениями скоростей\n",
        "    first_name, second_name = second_name, first_name  # Обмен именами велогонщиков\n",
        "\n",
        "if second_speed < third_speed:\n",
        "    second_speed, third_speed = third_speed, second_speed\n",
        "    second_name, third_name = third_name, second_name\n",
        "\n",
        "if first_speed < second_speed:\n",
        "    first_speed, second_speed = second_speed, first_speed\n",
        "    first_name, second_name = second_name, first_name\n",
        "\n",
        "print(f\"1. {first_name}\\n2. {second_name}\\n3. {third_name}\\n\")"
      ],
      "metadata": {
        "id": "JEGYphr79lmD",
        "colab": {
          "base_uri": "https://localhost:8080/"
        },
        "outputId": "1d7d50f2-64f7-4c36-9851-5a42f76e94bf"
      },
      "execution_count": null,
      "outputs": [
        {
          "output_type": "stream",
          "name": "stdout",
          "text": [
            "1\n",
            "2\n",
            "3\n",
            "1. Толя\n",
            "2. Вася\n",
            "3. Петя\n",
            "\n"
          ]
        }
      ]
    },
    {
      "cell_type": "markdown",
      "source": [
        "#### **№2.2.5 Яблоки**"
      ],
      "metadata": {
        "id": "kWVOZYPy9lmD"
      }
    },
    {
      "cell_type": "code",
      "source": [
        "Dim_give_to_Pet = int(input())\n",
        "Dim_give_to_Vas = int(input())\n",
        "\n",
        "amount_Pet = 7 - 3 + 2 - 2 + Dim_give_to_Pet\n",
        "amount_Vas = 6 + 3 + Dim_give_to_Vas\n",
        "\n",
        "if amount_Pet > amount_Vas:\n",
        "    print(\"Петя\")\n",
        "else:\n",
        "    print(\"Вася\")"
      ],
      "metadata": {
        "colab": {
          "base_uri": "https://localhost:8080/"
        },
        "id": "X8duALWtTLxG",
        "outputId": "9b8edc2d-936a-4664-8b58-d5260e09d2d9"
      },
      "execution_count": null,
      "outputs": [
        {
          "output_type": "stream",
          "name": "stdout",
          "text": [
            "10\n",
            "2\n",
            "Петя\n"
          ]
        }
      ]
    },
    {
      "cell_type": "markdown",
      "source": [
        "#### **№2.2.6 Сила прокрастинации**"
      ],
      "metadata": {
        "id": "AOZW1oYq9mCz"
      }
    },
    {
      "cell_type": "code",
      "source": [
        "year = int(input())\n",
        "\n",
        "if year % 4 == 0 and (year % 100 != 0 or year % 400 == 0):\n",
        "    print(\"YES\")\n",
        "else:\n",
        "    print(\"NO\")"
      ],
      "metadata": {
        "id": "B-dv5vYa9mC0",
        "colab": {
          "base_uri": "https://localhost:8080/"
        },
        "outputId": "a2b69158-d267-497f-93db-cebfdcaac9e6"
      },
      "execution_count": null,
      "outputs": [
        {
          "output_type": "stream",
          "name": "stdout",
          "text": [
            "2000\n",
            "YES\n"
          ]
        }
      ]
    },
    {
      "cell_type": "code",
      "source": [
        "2020 % 4"
      ],
      "metadata": {
        "colab": {
          "base_uri": "https://localhost:8080/"
        },
        "id": "qlx9widuZ3oY",
        "outputId": "385c2160-3af2-48ca-9963-8dfc0d625be9"
      },
      "execution_count": null,
      "outputs": [
        {
          "output_type": "execute_result",
          "data": {
            "text/plain": [
              "0"
            ]
          },
          "metadata": {},
          "execution_count": 44
        }
      ]
    },
    {
      "cell_type": "markdown",
      "source": [
        "#### **№2.2.7 А роза упала на лапу Азора**"
      ],
      "metadata": {
        "id": "OC80NkVh9mQa"
      }
    },
    {
      "cell_type": "code",
      "source": [
        "num = input()\n",
        "\n",
        "if num == num[::-1]:\n",
        "    print(\"YES\")\n",
        "else:\n",
        "    print(\"NO\")"
      ],
      "metadata": {
        "id": "epVK8RLZ9mQb",
        "colab": {
          "base_uri": "https://localhost:8080/"
        },
        "outputId": "82431f72-aa38-425a-dcba-f11dad6b2e46"
      },
      "execution_count": null,
      "outputs": [
        {
          "output_type": "stream",
          "name": "stdout",
          "text": [
            "1221\n",
            "YES\n"
          ]
        }
      ]
    },
    {
      "cell_type": "markdown",
      "source": [
        "#### **№2.2.8 Зайка — 1**"
      ],
      "metadata": {
        "id": "LT_7Dz4W9mdS"
      }
    },
    {
      "cell_type": "code",
      "source": [
        "string = input()\n",
        "\n",
        "if \"зайка\" in string:\n",
        "    print(\"YES\")\n",
        "else:\n",
        "    print(\"NO\")"
      ],
      "metadata": {
        "id": "QLhFrTNl9mdT",
        "colab": {
          "base_uri": "https://localhost:8080/"
        },
        "outputId": "1f896b63-47e3-4735-937b-98e3637c66ef"
      },
      "execution_count": null,
      "outputs": [
        {
          "output_type": "stream",
          "name": "stdout",
          "text": [
            "березка елочка зайка волк березка\n",
            "YES\n"
          ]
        }
      ]
    },
    {
      "cell_type": "markdown",
      "source": [
        "#### **№2.2.9 Первому игроку приготовиться**"
      ],
      "metadata": {
        "id": "NXCKhf279mpo"
      }
    },
    {
      "cell_type": "code",
      "source": [
        "name_1 = input()\n",
        "name_2 = input()\n",
        "name_3 = input()\n",
        "\n",
        "if name_1 < name_2:\n",
        "    if name_1 < name_3:\n",
        "        print(name_1)\n",
        "    elif name_3 < name_2:\n",
        "        print(name_3)\n",
        "elif name_2 < name_3:\n",
        "    print(name_2)\n",
        "else:\n",
        "    print(name_3)"
      ],
      "metadata": {
        "id": "bZM0KW_b9mpo",
        "colab": {
          "base_uri": "https://localhost:8080/"
        },
        "outputId": "781ef714-5167-47ed-b03b-234981c517ea"
      },
      "execution_count": null,
      "outputs": [
        {
          "output_type": "stream",
          "name": "stdout",
          "text": [
            "Толя\n",
            "Коля\n",
            "Вася\n",
            "Вася\n"
          ]
        }
      ]
    },
    {
      "cell_type": "markdown",
      "source": [],
      "metadata": {
        "id": "ndoDupXfNq2x"
      }
    },
    {
      "cell_type": "markdown",
      "source": [
        "#### **№2.2.10 Лучшая защита — шифрование**"
      ],
      "metadata": {
        "id": "HGZom_939nAC"
      }
    },
    {
      "cell_type": "code",
      "source": [
        "num = int(input())\n",
        "\n",
        "hundreds = num // 100\n",
        "tens = num // 10 % 10\n",
        "units = num % 10\n",
        "\n",
        "# print(hundreds, tens, units)\n",
        "\n",
        "if (hundreds + tens) > (tens + units):\n",
        "    print(str(hundreds + tens) + str(tens + units))\n",
        "else:\n",
        "    print(str(tens + units) + str(hundreds + tens))"
      ],
      "metadata": {
        "id": "uP04uZOZ9nAC",
        "colab": {
          "base_uri": "https://localhost:8080/"
        },
        "outputId": "5a30a037-343f-45c1-e75d-bd2ac2a0cfb3"
      },
      "execution_count": null,
      "outputs": [
        {
          "output_type": "stream",
          "name": "stdout",
          "text": [
            "741\n",
            "115\n"
          ]
        }
      ]
    },
    {
      "cell_type": "markdown",
      "source": [
        "#### **№2.2.11 Красота спасёт мир**"
      ],
      "metadata": {
        "id": "nJ1q6UXD9nMp"
      }
    },
    {
      "cell_type": "code",
      "source": [
        "num = int(input())\n",
        "\n",
        "hundreds = num // 100\n",
        "tens = num // 10 % 10\n",
        "units = num % 10\n",
        "\n",
        "\n",
        "if hundreds != min(hundreds, tens, units) and hundreds != max(hundreds, tens, units):\n",
        "    if (max(hundreds, tens, units) + min(hundreds, tens, units)) == hundreds * 2:\n",
        "        print(\"YES\")\n",
        "    else:\n",
        "        print(\"NO\")\n",
        "elif tens != min(hundreds, tens, units) and tens != max(hundreds, tens, units):\n",
        "    if (max(hundreds, tens, units) + min(hundreds, tens, units)) == tens * 2:\n",
        "        print(\"YES\")\n",
        "    else:\n",
        "        print(\"NO\")\n",
        "else:\n",
        "    if (max(hundreds, tens, units) + min(hundreds, tens, units)) == units * 2:\n",
        "        print(\"YES\")\n",
        "    else:\n",
        "        print(\"NO\")"
      ],
      "metadata": {
        "id": "NcBOC7qe9nMq",
        "colab": {
          "base_uri": "https://localhost:8080/"
        },
        "outputId": "7b09be28-888e-4110-9b21-f1d1d19fec40"
      },
      "execution_count": null,
      "outputs": [
        {
          "output_type": "stream",
          "name": "stdout",
          "text": [
            "748\n",
            "NO\n"
          ]
        }
      ]
    },
    {
      "cell_type": "markdown",
      "source": [
        "#### **№2.2.12 Музыкальный инструмент**"
      ],
      "metadata": {
        "id": "vnJeQjZ89nXy"
      }
    },
    {
      "cell_type": "code",
      "source": [
        "a = int(input())\n",
        "b = int(input())\n",
        "c = int(input())\n",
        "\n",
        "if (a + b > c) and  (a + c > b) and (b + c > a):\n",
        "    print(\"YES\")\n",
        "else:\n",
        "    print(\"NO\")"
      ],
      "metadata": {
        "id": "IIAhpED69nXz",
        "colab": {
          "base_uri": "https://localhost:8080/"
        },
        "outputId": "a82fda17-1742-4da0-f6b0-a0d337993c7c"
      },
      "execution_count": null,
      "outputs": [
        {
          "output_type": "stream",
          "name": "stdout",
          "text": [
            "1\n",
            "2\n",
            "3\n",
            "NO\n"
          ]
        }
      ]
    },
    {
      "cell_type": "markdown",
      "source": [
        "#### **№2.2.13 Властелин Чисел: Братство общей цифры**"
      ],
      "metadata": {
        "id": "FLDCfpI59niJ"
      }
    },
    {
      "cell_type": "code",
      "source": [
        "num_1 = int(input())\n",
        "num_2 = int(input())\n",
        "num_3 = int(input())\n",
        "\n",
        "if (num_1 // 10) == (num_2 // 10) == (num_3 // 10):\n",
        "    print(num_1 // 10)\n",
        "elif (num_1 % 10) == (num_2 % 10) == (num_3 % 10):\n",
        "    print(num_1 % 10)\n",
        "else:\n",
        "    print(\"\")"
      ],
      "metadata": {
        "id": "n7J5yr1r9niJ",
        "colab": {
          "base_uri": "https://localhost:8080/"
        },
        "outputId": "9dd06bed-f1f5-45f6-b126-f0d08eef8e84"
      },
      "execution_count": null,
      "outputs": [
        {
          "output_type": "stream",
          "name": "stdout",
          "text": [
            "23\n",
            "13\n",
            "63\n",
            "3\n"
          ]
        }
      ]
    },
    {
      "cell_type": "markdown",
      "source": [
        "#### **№ - 2.2.14 Властелин Чисел: Две Башни**"
      ],
      "metadata": {
        "id": "wwtORXmK9n5K"
      }
    },
    {
      "cell_type": "code",
      "source": [
        "# num_14 = int(input())\n",
        "\n",
        "num_14 = 103 # 10 31\n",
        "\n",
        "hundreds = num_14 // 100\n",
        "tens = num_14 // 10 % 10\n",
        "units = num_14 % 10\n",
        "\n",
        "if hundreds != 0:\n",
        "    num_14_1 = int(str(hundreds) + str(tens))\n",
        "\n",
        "if tens != 0:\n",
        "    num_14_2 = int(str(tens) + str(hundreds))\n",
        "\n",
        "if hundreds != 0:\n",
        "    num_14_3 = int(str(hundreds) + str(units))\n",
        "\n",
        "if units != 0:\n",
        "    num_14_4 = int(str(units) + str(hundreds))\n",
        "\n",
        "if tens != 0:\n",
        "    num_14_5 = int(str(tens) + str(units))\n",
        "\n",
        "if units != 0:\n",
        "    num_14_6 = int(str(units) + str(tens))\n",
        "\n",
        "\n",
        "\n",
        "print(min(num_14_1, num_14_2, num_14_3, num_14_4, num_14_5, num_14_6),\n",
        "    max(num_14_1, num_14_2, num_14_3, num_14_4, num_14_5, num_14_6))"
      ],
      "metadata": {
        "colab": {
          "base_uri": "https://localhost:8080/",
          "height": 176
        },
        "id": "r79iE9yhFMyX",
        "outputId": "858f3e3d-9f91-41fa-f139-3deb59a46093"
      },
      "execution_count": null,
      "outputs": [
        {
          "output_type": "error",
          "ename": "NameError",
          "evalue": "name 'num_14_2' is not defined",
          "traceback": [
            "\u001b[0;31m---------------------------------------------------------------------------\u001b[0m",
            "\u001b[0;31mNameError\u001b[0m                                 Traceback (most recent call last)",
            "\u001b[0;32m<ipython-input-31-f25b66fd75a7>\u001b[0m in \u001b[0;36m<cell line: 0>\u001b[0;34m()\u001b[0m\n\u001b[1;32m     25\u001b[0m     \u001b[0mnum_14_6\u001b[0m \u001b[0;34m=\u001b[0m \u001b[0mint\u001b[0m\u001b[0;34m(\u001b[0m\u001b[0mstr\u001b[0m\u001b[0;34m(\u001b[0m\u001b[0munits\u001b[0m\u001b[0;34m)\u001b[0m \u001b[0;34m+\u001b[0m \u001b[0mstr\u001b[0m\u001b[0;34m(\u001b[0m\u001b[0mtens\u001b[0m\u001b[0;34m)\u001b[0m\u001b[0;34m)\u001b[0m\u001b[0;34m\u001b[0m\u001b[0;34m\u001b[0m\u001b[0m\n\u001b[1;32m     26\u001b[0m \u001b[0;34m\u001b[0m\u001b[0m\n\u001b[0;32m---> 27\u001b[0;31m \u001b[0mprint\u001b[0m\u001b[0;34m(\u001b[0m\u001b[0mmin\u001b[0m\u001b[0;34m(\u001b[0m\u001b[0mnum_14_1\u001b[0m\u001b[0;34m,\u001b[0m \u001b[0mnum_14_2\u001b[0m\u001b[0;34m,\u001b[0m \u001b[0mnum_14_3\u001b[0m\u001b[0;34m,\u001b[0m \u001b[0mnum_14_4\u001b[0m\u001b[0;34m,\u001b[0m \u001b[0mnum_14_5\u001b[0m\u001b[0;34m,\u001b[0m \u001b[0mnum_14_6\u001b[0m\u001b[0;34m)\u001b[0m\u001b[0;34m,\u001b[0m \u001b[0mmax\u001b[0m\u001b[0;34m(\u001b[0m\u001b[0mnum_14_1\u001b[0m\u001b[0;34m,\u001b[0m \u001b[0mnum_14_2\u001b[0m\u001b[0;34m,\u001b[0m \u001b[0mnum_14_3\u001b[0m\u001b[0;34m,\u001b[0m \u001b[0mnum_14_4\u001b[0m\u001b[0;34m,\u001b[0m \u001b[0mnum_14_5\u001b[0m\u001b[0;34m,\u001b[0m \u001b[0mnum_14_6\u001b[0m\u001b[0;34m)\u001b[0m\u001b[0;34m)\u001b[0m\u001b[0;34m\u001b[0m\u001b[0;34m\u001b[0m\u001b[0m\n\u001b[0m",
            "\u001b[0;31mNameError\u001b[0m: name 'num_14_2' is not defined"
          ]
        }
      ]
    },
    {
      "cell_type": "code",
      "source": [
        "int(\"01\")"
      ],
      "metadata": {
        "colab": {
          "base_uri": "https://localhost:8080/"
        },
        "id": "avXwz2olP9pJ",
        "outputId": "e87c9c6e-134b-486d-b570-ba9fd109b05d"
      },
      "execution_count": null,
      "outputs": [
        {
          "output_type": "execute_result",
          "data": {
            "text/plain": [
              "1"
            ]
          },
          "metadata": {},
          "execution_count": 21
        }
      ]
    },
    {
      "cell_type": "code",
      "source": [
        "num_14 = 103\n",
        "\n",
        "hundreds = num_14 // 100\n",
        "tens = num_14 // 10 % 10\n",
        "units = num_14 % 10\n",
        "\n",
        "num_14_1 = int(str(hundreds) + str(tens))\n",
        "num_14_2 = int(str(tens) + str(hundreds))\n",
        "num_14_3 = int(str(hundreds) + str(units))\n",
        "num_14_4 = int(str(units) + str(hundreds))\n",
        "num_14_5 = int(str(tens) + str(units))\n",
        "num_14_6 = int(str(units) + str(tens))\n",
        "\n",
        "if len(num_14_1) > 1:\n",
        "    if len(num_14_2) > 1:\n",
        "        if len(num_14_3) > 1:\n",
        "            if len(num_14_4) > 1:\n",
        "                if len(num_14_5) > 1:\n",
        "                    if len(num_14_6) > 1:\n",
        "                        min_num = min(num_14_1, num_14_2, num_14_3, num_14_4, num_14_5, num_14_6)\n",
        "                        max_num = max(num_14_1, num_14_2, num_14_3, num_14_4, num_14_5, num_14_6)\n",
        "                    else:\n",
        "                        min_num = min(num_14_1, num_14_2, num_14_3, num_14_4, num_14_5)\n",
        "                        max_num = max(num_14_1, num_14_2, num_14_3, num_14_4, num_14_5)\n",
        "\n",
        "                elif len(num_14_6) > 1:\n",
        "                    min_num = min(num_14_1, num_14_2, num_14_3, num_14_4, num_14_6)\n",
        "                    max_num = max(num_14_1, num_14_2, num_14_3, num_14_4, num_14_6)\n",
        "                else:\n",
        "                    min_num = min(num_14_1, num_14_2, num_14_3, num_14_4)\n",
        "                    max_num = max(num_14_1, num_14_2, num_14_3, num_14_4)\n",
        "\n",
        "            elif len(num_14_5) > 1:\n",
        "                if len(num_14_6) > 1:\n",
        "                    min_num = min(num_14_1, num_14_2, num_14_3, num_14_5, num_14_6)\n",
        "                    max_num = max(num_14_1, num_14_2, num_14_3, num_14_5, num_14_6)\n",
        "                else:\n",
        "                    min_num = min(num_14_1, num_14_2, num_14_3, num_14_5)\n",
        "                    max_num = max(num_14_1, num_14_2, num_14_3, num_14_5)\n",
        "\n",
        "            else:\n",
        "                min_num = min(num_14_1, num_14_2, num_14_3)\n",
        "                max_num = max(num_14_1, num_14_2, num_14_3)\n",
        "        elif # утопия\n",
        "        else:\n",
        "    elif\n",
        "    else:\n",
        "\n",
        "\n",
        "print(min_num, max_num)\n"
      ],
      "metadata": {
        "id": "LRVG4dzIOO8v"
      },
      "execution_count": null,
      "outputs": []
    },
    {
      "cell_type": "code",
      "source": [
        "# num_14 = 103\n",
        "# num_14 = 787\n",
        "num_14 = int(input())\n",
        "\n",
        "hundreds = num_14 // 100\n",
        "tens = num_14 // 10 % 10\n",
        "units = num_14 % 10\n",
        "\n",
        "num_14_1 = int(str(hundreds) + str(tens)) # 10\n",
        "num_14_2 = int(str(tens) + str(hundreds)) # 01\n",
        "num_14_3 = int(str(hundreds) + str(units)) # 13\n",
        "num_14_4 = int(str(units) + str(hundreds)) # 31\n",
        "num_14_5 = int(str(tens) + str(units)) # 03\n",
        "num_14_6 = int(str(units) + str(tens)) # 30\n",
        "\n",
        "if len(str(num_14_1)) < 2:\n",
        "    num_14_1 = num_14_2\n",
        "if len(str(num_14_2)) < 2:\n",
        "    num_14_2 = num_14_3\n",
        "if len(str(num_14_3)) < 2:\n",
        "    num_14_3 = num_14_4\n",
        "if len(str(num_14_4)) < 2:\n",
        "    num_14_4 = num_14_5\n",
        "if len(str(num_14_5)) < 2:\n",
        "    num_14_5 = num_14_6\n",
        "if len(str(num_14_6)) < 2:\n",
        "    num_14_6 = num_14_1\n",
        "\n",
        "min_num = min(num_14_1, num_14_2, num_14_3, num_14_4, num_14_5, num_14_6)\n",
        "max_num = max(num_14_1, num_14_2, num_14_3, num_14_4, num_14_5, num_14_6)\n",
        "\n",
        "print(min_num, max_num)"
      ],
      "metadata": {
        "colab": {
          "base_uri": "https://localhost:8080/"
        },
        "id": "9jahSWrfj5fh",
        "outputId": "9f480ff7-561b-4906-e3c2-f98d88604c3f"
      },
      "execution_count": null,
      "outputs": [
        {
          "output_type": "stream",
          "name": "stdout",
          "text": [
            "103\n",
            "10 31\n"
          ]
        }
      ]
    },
    {
      "cell_type": "code",
      "source": [
        "num_14_1 = int(str(\"10\"))\n",
        "num_14_2 = int(str(\"01\"))\n",
        "num_14_3 = int(str(\"13\"))\n",
        "num_14_4 = int(str(\"31\"))\n",
        "num_14_5 = int(str(\"03\"))\n",
        "num_14_6 = int(str(\"30\"))\n",
        "\n",
        "print(len(str(num_14_1)))\n",
        "print(len(str(num_14_2)))\n",
        "print(len(str(num_14_3)))\n",
        "print(len(str(num_14_4)))\n",
        "print(len(str(num_14_5)))\n",
        "print(len(str(num_14_6)))\n",
        "\n",
        "\n",
        "\n"
      ],
      "metadata": {
        "colab": {
          "base_uri": "https://localhost:8080/"
        },
        "id": "GnrkhYt3wRoS",
        "outputId": "bdbabaf7-00f4-4746-d138-8535003ba92b"
      },
      "execution_count": null,
      "outputs": [
        {
          "output_type": "stream",
          "name": "stdout",
          "text": [
            "2\n",
            "1\n",
            "2\n",
            "2\n",
            "1\n",
            "2\n"
          ]
        }
      ]
    },
    {
      "cell_type": "code",
      "source": [
        "min(\"1234\")"
      ],
      "metadata": {
        "colab": {
          "base_uri": "https://localhost:8080/",
          "height": 35
        },
        "id": "V0Q4JRYlRHx4",
        "outputId": "43d11582-43e0-43dc-f94d-371dec6cc3a6"
      },
      "execution_count": null,
      "outputs": [
        {
          "output_type": "execute_result",
          "data": {
            "text/plain": [
              "','"
            ],
            "application/vnd.google.colaboratory.intrinsic+json": {
              "type": "string"
            }
          },
          "metadata": {},
          "execution_count": 24
        }
      ]
    },
    {
      "cell_type": "markdown",
      "source": [
        "Боже! Понял! на одном листе уже есть в предыдущих ячейках переменные с таким именем! Не находит тут, ищет в глобальных переменных! Удивительно, что прорешав столько задач, я только на 34 с этой проблемой сталкнулся.\n",
        "\n",
        "Не уверен, что это так. В списке глобальных переменных нет эти значений.\n",
        "\n",
        "Насколько понял, какое-то время эти переменные есть в списке глобальных переменных. А при переподключении colab, они исчезают.\n",
        "\n",
        "Поработал над именованием."
      ],
      "metadata": {
        "id": "U9vwaRMkHpzQ"
      }
    },
    {
      "cell_type": "code",
      "source": [
        "# globals()\n",
        "\n",
        "# user_vars = {k: v for k, v in globals()}\n",
        "# print(user_vars)\n",
        "\n",
        "# dir()\n",
        "\n",
        "# %whos"
      ],
      "metadata": {
        "id": "c4kXDx2lJBzZ"
      },
      "execution_count": null,
      "outputs": []
    },
    {
      "cell_type": "markdown",
      "source": [
        "#### **№2.2.15 Властелин Чисел: Возвращение Цезаря**"
      ],
      "metadata": {
        "id": "J7ZnoAh89oE6"
      }
    },
    {
      "cell_type": "code",
      "source": [
        "num_1 = 31\n",
        "num_2 = 11\n",
        "\n",
        "# num_15_i_1 = 49\n",
        "# num_15_i_2 = 17\n",
        "\n",
        "# num_15_1 = int(input())\n",
        "# num_15_2 = int(input())\n",
        "\n",
        "num_1_1 = num_1 // 10\n",
        "num_1_2 = num_1 % 10\n",
        "num_2_3 = num_2 // 10\n",
        "num_2_4 = num_2 % 10\n",
        "\n",
        "mid_15 = 0\n",
        "i = 0\n",
        "\n",
        "max_15 = max(num_1_1, num_1_2, num_2_3, num_2_4)\n",
        "min_15 = min(num_1_1, num_1_2, num_2_3, num_2_4)\n",
        "\n",
        "print(0, 0, mid_15, i)\n",
        "\n",
        "if min_15 < num_1_1 < max_15:\n",
        "    mid_15 += num_1_1\n",
        "else:\n",
        "    print(1, num_1_1, mid_15, i)\n",
        "    if i < 2:\n",
        "        mid_15 += num_1_1\n",
        "        i += 1\n",
        "print(1, num_1_1, mid_15, i)\n",
        "\n",
        "\n",
        "if min_15 < num_1_2 < max_15:\n",
        "    mid_15 += num_1_2\n",
        "else:\n",
        "    print(2, num_1_2, mid_15, i)\n",
        "    if i < 2:\n",
        "        mid_15 += num_1_2\n",
        "        i += 1\n",
        "print(2, num_1_2, mid_15, i)\n",
        "\n",
        "if min_15 < num_2_3 < max_15:\n",
        "    mid_15 += num_2_3\n",
        "else:\n",
        "    print(3, num_2_3, mid_15, i)\n",
        "    if i < 2:\n",
        "        mid_15 += num_2_3\n",
        "        i += 1\n",
        "print(3, num_2_3, mid_15, i)\n",
        "\n",
        "if min_15 < num_2_4 < max_15:\n",
        "    mid_15 += num_2_4\n",
        "else:\n",
        "    print(4, num_2_4, mid_15, i)\n",
        "    if i < 2:\n",
        "        mid_15 += num_2_4\n",
        "        i += 1\n",
        "print(4, num_2_4, mid_15, i)\n",
        "\n",
        "mid_15 %= 10\n",
        "\n",
        "print(str(max_15) + str (mid_15) + str(min_15))"
      ],
      "metadata": {
        "id": "FzRrsw5m9oE7",
        "colab": {
          "base_uri": "https://localhost:8080/"
        },
        "outputId": "9c599cf9-4971-496e-c470-69cbbdb71b15"
      },
      "execution_count": null,
      "outputs": [
        {
          "output_type": "stream",
          "name": "stdout",
          "text": [
            "0 0 0 0\n",
            "1 3 0 0\n",
            "1 3 3 1\n",
            "2 1 3 1\n",
            "2 1 4 2\n",
            "3 1 4 2\n",
            "3 1 4 2\n",
            "4 1 4 2\n",
            "4 1 4 2\n",
            "341\n"
          ]
        }
      ]
    },
    {
      "cell_type": "code",
      "source": [
        "num_1 = 31\n",
        "num_2 = 11\n",
        "\n",
        "# num_15_i_1 = 49\n",
        "# num_15_i_2 = 17\n",
        "\n",
        "# num_15_1 = int(input())\n",
        "# num_15_2 = int(input())\n",
        "\n",
        "num_1_1 = num_1 // 10\n",
        "num_1_2 = num_1 % 10\n",
        "num_2_3 = num_2 // 10\n",
        "num_2_4 = num_2 % 10\n",
        "\n",
        "mid_15 = 0\n",
        "i = 0\n",
        "\n",
        "max_15 = max(num_1_1, num_1_2, num_2_3, num_2_4)\n",
        "min_15 = min(num_1_1, num_1_2, num_2_3, num_2_4)\n",
        "\n",
        "\n",
        "if min_15 < num_1_1 < max_15:\n",
        "    mid_15 += num_1_1\n",
        "else:\n",
        "    if i < 2:\n",
        "        mid_15 += num_1_1\n",
        "        i += 1\n",
        "\n",
        "\n",
        "if min_15 < num_1_2 < max_15:\n",
        "    mid_15 += num_1_2\n",
        "else:\n",
        "    if i < 2:\n",
        "        mid_15 += num_1_2\n",
        "        i += 1\n",
        "\n",
        "if min_15 < num_2_3 < max_15:\n",
        "    mid_15 += num_2_3\n",
        "else:\n",
        "    if i < 2:\n",
        "        mid_15 += num_2_3\n",
        "        i += 1\n",
        "\n",
        "if min_15 < num_2_4 < max_15:\n",
        "    mid_15 += num_2_4\n",
        "else:\n",
        "    if i < 2:\n",
        "        mid_15 += num_2_4\n",
        "        i += 1\n",
        "\n",
        "mid_15 %= 10\n",
        "\n",
        "print(str(max_15) + str (mid_15) + str(min_15))"
      ],
      "metadata": {
        "colab": {
          "base_uri": "https://localhost:8080/"
        },
        "outputId": "098c4760-4587-456e-a6d7-f20c633f3e2a",
        "id": "3lseIJzNLORl"
      },
      "execution_count": null,
      "outputs": [
        {
          "output_type": "stream",
          "name": "stdout",
          "text": [
            "341\n"
          ]
        }
      ]
    },
    {
      "cell_type": "code",
      "source": [
        "# варианты:\n",
        "# 12 34 - 451 - ок\n",
        "# 17 89 - 951 - ок\n",
        "# 11 11 - 121 - ок\n",
        "# 22 21 - 241 - ок\n",
        "# 11 12 - 221 - ок\n",
        "# 11 22 - 231 - ок\n",
        "# 42 21 - 441 - ок\n",
        "# 44 21 - 461 - не ок\n",
        "\n",
        "num_1 = 44\n",
        "num_2 = 21\n",
        "\n",
        "# num_1 = int(input())\n",
        "# num_2 = int(input())\n",
        "\n",
        "num_1_1 = num_1 // 10\n",
        "num_1_2 = num_1 % 10\n",
        "num_2_3 = num_2 // 10\n",
        "num_2_4 = num_2 % 10\n",
        "\n",
        "mid_15 = 0\n",
        "\n",
        "max_15 = max(num_1_1, num_1_2, num_2_3, num_2_4)\n",
        "min_15 = min(num_1_1, num_1_2, num_2_3, num_2_4)\n",
        "\n",
        "\n",
        "# если средние числа не максимальные и не минимальные (с доп условиями):\n",
        "if min_15 < num_1_1 < max_15:\n",
        "    mid_15 += num_1_1\n",
        "    print(1, mid_15)\n",
        "\n",
        "if min_15 < num_1_2 < max_15:\n",
        "    mid_15 += num_1_2\n",
        "    print(2, mid_15)\n",
        "\n",
        "if min_15 < num_2_3 < max_15:\n",
        "    mid_15 += num_2_3\n",
        "    print(3, mid_15)\n",
        "\n",
        "if min_15 < num_2_4 < max_15:\n",
        "    mid_15 += num_2_4\n",
        "    print(4, mid_15)\n",
        "\n",
        "# если все 4 числа равны друг другу:\n",
        "if num_1_1 == num_1_2 == num_2_3 == num_2_4:\n",
        "    mid_15 += num_1_1 * 2\n",
        "    print(5, mid_15)\n",
        "\n",
        "# если 3 числа равны друг другу (комбинации):\n",
        "elif num_1_1 == num_1_2 == num_2_3:\n",
        "    mid_15 += num_1_1 * 2\n",
        "    print(6, mid_15)\n",
        "\n",
        "elif num_1_1 == num_1_2 == num_2_4:\n",
        "    mid_15 += num_1_1 * 2\n",
        "    print(7, mid_15)\n",
        "\n",
        "elif num_1_1 == num_2_3 == num_2_4:\n",
        "    mid_15 += num_1_1 * 2\n",
        "    print(8, mid_15)\n",
        "\n",
        "elif num_1_2 == num_2_3 == num_2_4:\n",
        "    mid_15 += num_1_2 * 2\n",
        "    print(9, mid_15)\n",
        "\n",
        "# если 2 числа равны друг другу (комбинации):\n",
        "else:\n",
        "    if not (min_15 < num_1_1 < max_15)\\\n",
        "    and not (min_15 < num_1_2 < max_15)\\\n",
        "    and not (min_15 < num_2_3 < max_15)\\\n",
        "    and not (min_15 < num_2_4 < max_15):\n",
        "        if num_1_1 == num_1_2:\n",
        "            mid_15 += num_1_1\n",
        "            print(10, mid_15)\n",
        "\n",
        "        if num_1_1 == num_2_3:\n",
        "            mid_15 += num_1_1\n",
        "            print(11, mid_15)\n",
        "\n",
        "        if num_1_1 == num_2_4:\n",
        "            mid_15 += num_1_1\n",
        "            print(12, mid_15)\n",
        "\n",
        "        if num_1_2 == num_2_3:\n",
        "            mid_15 += num_1_2\n",
        "            print(13, mid_15)\n",
        "\n",
        "        if num_1_2 == num_2_4:\n",
        "            mid_15 += num_1_2\n",
        "            print(14, mid_15)\n",
        "\n",
        "        if num_2_3 == num_2_4:\n",
        "            mid_15 += num_2_3\n",
        "            print(15, mid_15)\n",
        "\n",
        "\n",
        "mid_15 %= 10\n",
        "\n",
        "print(int(str(max_15) + str(mid_15) + str(min_15)))"
      ],
      "metadata": {
        "colab": {
          "base_uri": "https://localhost:8080/"
        },
        "id": "Kc4L6MW9z_BK",
        "outputId": "b011af0f-cf11-4958-e568-92be779f1b42"
      },
      "execution_count": null,
      "outputs": [
        {
          "output_type": "stream",
          "name": "stdout",
          "text": [
            "3 2\n",
            "421\n"
          ]
        }
      ]
    },
    {
      "cell_type": "code",
      "source": [
        "# варианты:\n",
        "# 12 34 - 451 - ок\n",
        "# 17 89 - 951 - ок\n",
        "# 11 11 - 121 - ок\n",
        "# 22 21 - 241 - ок\n",
        "# 11 12 - 221 - ок\n",
        "# 11 22 - 231 - ок\n",
        "# 42 21 - 441 - ок\n",
        "# 44 21 - 461 - ок\n",
        "\n",
        "# num_1 = 42\n",
        "# num_2 = 21\n",
        "\n",
        "num_1 = int(input())\n",
        "num_2 = int(input())\n",
        "\n",
        "num_1_1 = num_1 // 10\n",
        "num_1_2 = num_1 % 10\n",
        "num_2_3 = num_2 // 10\n",
        "num_2_4 = num_2 % 10\n",
        "\n",
        "\n",
        "max_15 = max(num_1_1, num_1_2, num_2_3, num_2_4)\n",
        "min_15 = min(num_1_1, num_1_2, num_2_3, num_2_4)\n",
        "\n",
        "mid_15 = (num_1_1 + num_1_2 + num_2_3 + num_2_4) - max_15 - min_15\n",
        "\n",
        "mid_15 %= 10\n",
        "\n",
        "print(int(str(max_15) + str(mid_15) + str(min_15)))"
      ],
      "metadata": {
        "colab": {
          "base_uri": "https://localhost:8080/"
        },
        "id": "MLc7B9pINv8W",
        "outputId": "1c002326-6b21-4da3-fe5c-a77f611e3d61"
      },
      "execution_count": null,
      "outputs": [
        {
          "output_type": "stream",
          "name": "stdout",
          "text": [
            "44\n",
            "21\n",
            "461\n"
          ]
        }
      ]
    },
    {
      "cell_type": "markdown",
      "source": [
        "#### **№2.2.16 Легенды велогонок возвращаются: кто быстрее?**"
      ],
      "metadata": {
        "id": "t0EqFngs9oPR"
      }
    },
    {
      "cell_type": "code",
      "source": [
        "first_name = 'Петя'\n",
        "first_speed = float(input())\n",
        "second_name = 'Вася'\n",
        "second_speed = float(input())\n",
        "third_name = 'Толя'\n",
        "third_speed = float(input())\n",
        "\n",
        "\n",
        "if first_speed < second_speed:\n",
        "    first_speed, second_speed = second_speed, first_speed  # Обмен значениями скоростей\n",
        "    first_name, second_name = second_name, first_name  # Обмен именами велогонщиков\n",
        "\n",
        "if second_speed < third_speed:\n",
        "    second_speed, third_speed = third_speed, second_speed\n",
        "    second_name, third_name = third_name, second_name\n",
        "\n",
        "if first_speed < second_speed:\n",
        "    first_speed, second_speed = second_speed, first_speed\n",
        "    first_name, second_name = second_name, first_name\n",
        "\n",
        "# в одну строчку Контекст возмущается, слишком длинная строка\n",
        "print(f\"\"\"{' ' * 8}{first_name:^8}{' ' * 8}\n",
        "{second_name:^8}{' ' * 16}\n",
        "{' ' * 16}{third_name:^8}\n",
        "   II      I      III   \"\"\")"
      ],
      "metadata": {
        "id": "zfOMRQXV9oPS",
        "colab": {
          "base_uri": "https://localhost:8080/"
        },
        "outputId": "2aa7a18d-01a7-4399-e0d8-b42f9c69fffd"
      },
      "execution_count": null,
      "outputs": [
        {
          "output_type": "stream",
          "name": "stdout",
          "text": [
            "10\n",
            "5\n",
            "7\n",
            "          Петя          \n",
            "  Толя                  \n",
            "                  Вася  \n",
            "   II      I      III   \n"
          ]
        }
      ]
    },
    {
      "cell_type": "code",
      "source": [
        "print(f\"!{'1'*8:^14}!\")\n",
        "!        !"
      ],
      "metadata": {
        "colab": {
          "base_uri": "https://localhost:8080/"
        },
        "id": "1HK_8x2eRFM2",
        "outputId": "a638d63e-6549-423d-ede0-53338e52a424"
      },
      "execution_count": null,
      "outputs": [
        {
          "output_type": "stream",
          "name": "stdout",
          "text": [
            "!   11111111   !\n"
          ]
        }
      ]
    },
    {
      "cell_type": "markdown",
      "source": [
        "#### **№2.2.17 Корень зла**"
      ],
      "metadata": {
        "id": "-Lnagpuj9oY4"
      }
    },
    {
      "cell_type": "code",
      "source": [
        "# a = 1\n",
        "# b = -2\n",
        "# c = 1\n",
        "\n",
        "# a = 3.5\n",
        "# b = -2.4\n",
        "# c = -7.3\n",
        "\n",
        "# a = float(input())\n",
        "# b = float(input())\n",
        "# c = float(input())\n",
        "\n",
        "# перебор всех вариантов\n",
        "a = 0\n",
        "b = 1\n",
        "c = 1\n",
        "\n",
        "\n",
        "D = b**2 - 4 * a * c\n",
        "\n",
        "if c == 0 and b == 0 and c == 0:\n",
        "    print(\"Infinite solutions\")\n",
        "\n",
        "elif a == 0 and b == 0:\n",
        "    print(\"No solution\")\n",
        "\n",
        "elif a == 0:\n",
        "    x_1 = x_2 = -c / b\n",
        "    print(f\"{x_1:.2f}\")\n",
        "\n",
        "elif c == 0 and b == 0:\n",
        "    x_1 = x_2 = 0\n",
        "    print(f\"{x_1:.2f}\")\n",
        "\n",
        "elif b == 0:\n",
        "    if c < 0 and a > 0 or c > 0 and a < 0:\n",
        "        x_1 = -(-c / a)**0.5\n",
        "        x_2 = (-c / a)**0.5\n",
        "\n",
        "        if x_1 < x_2:\n",
        "            print(f\"{x_1:.2f} {x_2:.2f}\")\n",
        "        else:\n",
        "            print(f\"{x_2:.2f} {x_1:.2f}\")\n",
        "\n",
        "    if c < 0 and a < 0 or c > 0 and a > 0:\n",
        "        print(\"No solution\")\n",
        "\n",
        "elif c == 0:\n",
        "    x_1 = 0\n",
        "    x_2 = -b / a\n",
        "\n",
        "    if x_1 < x_2:\n",
        "        print(f\"{x_1:.2f} {x_2:.2f}\")\n",
        "    else:\n",
        "        print(f\"{x_2:.2f} {x_1:.2f}\")\n",
        "\n",
        "elif D > 0:\n",
        "    x_1 = (-b - D**0.5) / (2 * a)\n",
        "    x_2 = (-b + D**0.5) / (2 * a)\n",
        "\n",
        "    if x_1 < x_2:\n",
        "        print(f\"{x_1:.2f} {x_2:.2f}\")\n",
        "    else:\n",
        "        print(f\"{x_2:.2f} {x_1:.2f}\")\n",
        "\n",
        "elif D == 0:\n",
        "    x_1 = x_2 = -b / (2 * a)\n",
        "    print(f\"{x_1:.2f}\")\n",
        "\n",
        "elif D < 0:\n",
        "    print(\"No solution\")\n"
      ],
      "metadata": {
        "id": "756p9s1t9oY4",
        "colab": {
          "base_uri": "https://localhost:8080/"
        },
        "outputId": "0842a898-70cf-456e-e91a-1fadf033eda2"
      },
      "execution_count": null,
      "outputs": [
        {
          "output_type": "stream",
          "name": "stdout",
          "text": [
            "-1.00\n"
          ]
        }
      ]
    },
    {
      "cell_type": "markdown",
      "source": [
        "#### **№2.2.18 Территория зла**"
      ],
      "metadata": {
        "id": "50dLPXqz9oi8"
      }
    },
    {
      "cell_type": "code",
      "source": [
        "a = int(input())\n",
        "b = int(input())\n",
        "c = int(input())\n",
        "\n",
        "\n",
        "if a == max(a, b, c):\n",
        "    if b**2 + c**2 == a**2:\n",
        "        print(\"100%\")\n",
        "    elif b**2 + c**2 < a**2:\n",
        "        print(\"велика\")\n",
        "    else:\n",
        "        print(\"крайне мала\")\n",
        "\n",
        "elif b == max(a, b, c):\n",
        "    if a**2 + c**2 == b**2:\n",
        "        print(\"100%\")\n",
        "    elif a**2 + c**2 < b**2:\n",
        "        print(\"велика\")\n",
        "    else:\n",
        "        print(\"крайне мала\")\n",
        "\n",
        "elif c == max(a, b, c):\n",
        "    if a**2 + b**2 == c**2:\n",
        "        print(\"100%\")\n",
        "    elif a**2 + b**2 < c**2:\n",
        "        print(\"велика\")\n",
        "    else:\n",
        "        print(\"крайне мала\")\n",
        "\n"
      ],
      "metadata": {
        "id": "K6UQv-ax9oi8",
        "colab": {
          "base_uri": "https://localhost:8080/"
        },
        "outputId": "d63c76a6-0eae-4acb-f72f-f6e1acd2bdd7"
      },
      "execution_count": null,
      "outputs": [
        {
          "output_type": "stream",
          "name": "stdout",
          "text": [
            "6\n",
            "3\n",
            "4\n",
            "велика\n"
          ]
        }
      ]
    },
    {
      "cell_type": "markdown",
      "source": [
        "#### !!! - **№2.2.19 Автоматизация безопасности**"
      ],
      "metadata": {
        "id": "ojKl4h3I9otH"
      }
    },
    {
      "cell_type": "code",
      "source": [
        "x = 3.5\n",
        "y = -3.2\n",
        "\n",
        "if x**2 + y**2 <= 0:\n",
        "    if\n",
        "\n",
        "else:\n",
        "    print(\"Вы вышли в море и рискуете быть съеденным акулой!\")\n",
        "\n",
        "\n",
        "\n",
        "print(\"Опасность! Покиньте зону как можно скорее!\")\n",
        "print(\"Зона безопасна. Продолжайте работу.\")\n"
      ],
      "metadata": {
        "id": "gUuTNVdS9otH"
      },
      "execution_count": null,
      "outputs": []
    },
    {
      "cell_type": "markdown",
      "source": [
        "#### **№2.2.20 Зайка — 2**"
      ],
      "metadata": {
        "id": "UehQMZsO9o2g"
      }
    },
    {
      "cell_type": "code",
      "source": [
        "# string_1 = \"березка елочка зайка волк березка\"\n",
        "# string_2 = \"сосна сосна сосна елочка грибочки медведь\"\n",
        "# string_3 = \"сосна сосна сосна белочка сосна белочка\"\n",
        "\n",
        "# string_1 = \"зайка березка\"\n",
        "# string_2 = \"березка зайка\"\n",
        "# string_3 = \"березка елочка березка\"\n",
        "\n",
        "string_1 = input()\n",
        "string_2 = input()\n",
        "string_3 = input()\n",
        "\n",
        "\n",
        "if \"зайка\" in string_1:\n",
        "    if \"зайка\" in string_2:\n",
        "        if \"зайка\" in string_3:\n",
        "            min_string = min(string_1, string_2, string_3)\n",
        "            print(min_string, len(min_string))\n",
        "        else:\n",
        "            min_string = min(string_1, string_2)\n",
        "            print(min_string, len(min_string))\n",
        "\n",
        "    elif \"зайка\" in string_3:\n",
        "        min_string = min(string_1, string_3)\n",
        "        print(min_string, len(min_string))\n",
        "\n",
        "    else:\n",
        "        print(string_1, len(string_1))\n",
        "\n",
        "elif \"зайка\" in string_2:\n",
        "    if \"зайка\" in string_3:\n",
        "        min_string = min(string_2, string_3)\n",
        "        print(min_string, len(min_string))\n",
        "    else:\n",
        "        print(string_2, len(string_2))\n",
        "\n",
        "elif \"зайка\" in string_3:\n",
        "    print(string_3, len(string_3))\n",
        "\n",
        "else:\n",
        "    min_string = min(string_1, string_2, string_3)\n",
        "    print(min_string)\n",
        "\n"
      ],
      "metadata": {
        "id": "rQiPSzc-9o2g",
        "colab": {
          "base_uri": "https://localhost:8080/"
        },
        "outputId": "8a5ec855-6450-4b9c-aadf-473225e6fd75"
      },
      "execution_count": null,
      "outputs": [
        {
          "output_type": "stream",
          "name": "stdout",
          "text": [
            "березка зайка 13\n"
          ]
        }
      ]
    },
    {
      "cell_type": "markdown",
      "source": [
        "## **2.3. Циклы**"
      ],
      "metadata": {
        "id": "iv60bUa_rfKJ"
      }
    },
    {
      "cell_type": "markdown",
      "source": [
        "### **Контент**"
      ],
      "metadata": {
        "id": "pFOWIwb1ro5Z"
      }
    },
    {
      "cell_type": "code",
      "source": [
        "saved_pwd = \"right_password\"\n",
        "pwd = input(\"Введите пароль для входа: \")\n",
        "while pwd != saved_pwd:\n",
        "    pwd = input(\"Введите пароль для входа: \")\n",
        "print(\"Пароль верный. Вход разрешён.\")"
      ],
      "metadata": {
        "colab": {
          "base_uri": "https://localhost:8080/"
        },
        "id": "C0EgdvGRJK47",
        "outputId": "46699b8f-7f5c-4adb-981f-d85394b7cb7b"
      },
      "execution_count": null,
      "outputs": [
        {
          "output_type": "stream",
          "name": "stdout",
          "text": [
            "Введите пароль для входа: ощощшго\n",
            "Введите пароль для входа: right_password\n",
            "Пароль верный. Вход разрешён.\n"
          ]
        }
      ]
    },
    {
      "cell_type": "code",
      "source": [
        "saved_pwd = \"right_password\"\n",
        "while input(\"Введите пароль для входа: \") != saved_pwd:\n",
        "    pass\n",
        "print(\"Пароль верный. Вход разрешён.\")"
      ],
      "metadata": {
        "colab": {
          "base_uri": "https://localhost:8080/"
        },
        "id": "8uqivksVszLJ",
        "outputId": "691336ef-30a2-4761-c579-c5c343ed686c"
      },
      "execution_count": null,
      "outputs": [
        {
          "output_type": "stream",
          "name": "stdout",
          "text": [
            "Введите пароль для входа: rfergerg\n",
            "Введите пароль для входа: erferf\n",
            "Введите пароль для входа: right_password\n",
            "Пароль верный. Вход разрешён.\n"
          ]
        }
      ]
    },
    {
      "cell_type": "code",
      "source": [
        "name = input(\"Введите имя: \")\n",
        "while name != \"СТОП\":\n",
        "    print(f\"Привет, {name}!\")\n",
        "    name = input(\"Введите имя: \")\n",
        "print(\"Программа завершена.\")"
      ],
      "metadata": {
        "colab": {
          "base_uri": "https://localhost:8080/"
        },
        "id": "bJUmGKyutovK",
        "outputId": "6316eec1-03b0-4c45-82e2-483bd4553676"
      },
      "execution_count": null,
      "outputs": [
        {
          "output_type": "stream",
          "name": "stdout",
          "text": [
            "Введите имя: СТОП\n",
            "Программа завершена.\n"
          ]
        }
      ]
    },
    {
      "cell_type": "code",
      "source": [
        "while (name := input(\"Введите имя: \")) != \"СТОП\":\n",
        "    print(f\"Привет, {name}!\")\n",
        "print(\"Программа завершена.\")"
      ],
      "metadata": {
        "colab": {
          "base_uri": "https://localhost:8080/"
        },
        "id": "KvEDqz_Zt2u8",
        "outputId": "12bb7b7d-2742-4cf0-be06-7d655a7d367a"
      },
      "execution_count": null,
      "outputs": [
        {
          "output_type": "stream",
          "name": "stdout",
          "text": [
            "Введите имя: СТОП\n",
            "Программа завершена.\n"
          ]
        }
      ]
    },
    {
      "cell_type": "code",
      "source": [
        "n = int(input(\"Введите количество чисел: \"))\n",
        "for i in range(n):\n",
        "    print(i)"
      ],
      "metadata": {
        "colab": {
          "base_uri": "https://localhost:8080/"
        },
        "id": "Qxhygkd3umki",
        "outputId": "be7a355d-7c81-4e67-e2d7-bb8c449ff111"
      },
      "execution_count": null,
      "outputs": [
        {
          "output_type": "stream",
          "name": "stdout",
          "text": [
            "Введите количество чисел: 6\n",
            "0\n",
            "1\n",
            "2\n",
            "3\n",
            "4\n",
            "5\n"
          ]
        }
      ]
    },
    {
      "cell_type": "code",
      "source": [
        "k = int(input(\"Введите начало диапазона: \"))\n",
        "n = int(input(\"Введите конец (без включения) диапазона: \"))\n",
        "for i in range(k, n):\n",
        "    print(i)"
      ],
      "metadata": {
        "colab": {
          "base_uri": "https://localhost:8080/"
        },
        "id": "lag1WwIguu0h",
        "outputId": "00d4748e-c40f-4c42-fc14-a756476b00d7"
      },
      "execution_count": null,
      "outputs": [
        {
          "output_type": "stream",
          "name": "stdout",
          "text": [
            "Введите начало диапазона: 1\n",
            "Введите конец (без включения) диапазона: 5\n",
            "1\n",
            "2\n",
            "3\n",
            "4\n"
          ]
        }
      ]
    },
    {
      "cell_type": "code",
      "source": [
        "n = int(input(\"Введите конец диапазона: \"))\n",
        "for i in range(0, n + 1, 2):\n",
        "    print(i)"
      ],
      "metadata": {
        "colab": {
          "base_uri": "https://localhost:8080/"
        },
        "id": "4R75gDHhu0ph",
        "outputId": "f5b38ecc-a5ee-44f1-e813-f1c8d8c51457"
      },
      "execution_count": null,
      "outputs": [
        {
          "output_type": "stream",
          "name": "stdout",
          "text": [
            "Введите конец диапазона: 6\n",
            "0\n",
            "2\n",
            "4\n",
            "6\n"
          ]
        }
      ]
    },
    {
      "cell_type": "code",
      "source": [
        "n = int(input(\"Введите первое число: \"))\n",
        "for i in range(n, -1, -1):\n",
        "    print(i)"
      ],
      "metadata": {
        "colab": {
          "base_uri": "https://localhost:8080/"
        },
        "id": "QpTMT2MCu9iC",
        "outputId": "dba7302f-f8c3-4ab4-bacb-912bb9ba07c5"
      },
      "execution_count": null,
      "outputs": [
        {
          "output_type": "stream",
          "name": "stdout",
          "text": [
            "Введите первое число: 7\n",
            "7\n",
            "6\n",
            "5\n",
            "4\n",
            "3\n",
            "2\n",
            "1\n",
            "0\n"
          ]
        }
      ]
    },
    {
      "cell_type": "code",
      "source": [
        "for i in range(1, 5, -1):\n",
        "    print(i)"
      ],
      "metadata": {
        "id": "RsLoumxPvHBV"
      },
      "execution_count": null,
      "outputs": []
    },
    {
      "cell_type": "code",
      "source": [
        "n = int(input(\"Введите n: \"))\n",
        "for i in range(n):\n",
        "    print(i)\n",
        "    i = 100"
      ],
      "metadata": {
        "colab": {
          "base_uri": "https://localhost:8080/"
        },
        "id": "ClhZbhUfvPPx",
        "outputId": "e23461d2-5214-4f8d-bfed-42748ff5ee0b"
      },
      "execution_count": null,
      "outputs": [
        {
          "output_type": "stream",
          "name": "stdout",
          "text": [
            "Введите n: 4\n",
            "0\n",
            "1\n",
            "2\n",
            "3\n"
          ]
        }
      ]
    },
    {
      "cell_type": "markdown",
      "source": [
        "### **Задачи**"
      ],
      "metadata": {
        "id": "novzqhcsvYj5"
      }
    },
    {
      "cell_type": "markdown",
      "source": [
        "#### **№2.3.1 Раз, два, три! Ёлочка, гори!**"
      ],
      "metadata": {
        "id": "Gcj3QKWVvfvJ"
      }
    },
    {
      "cell_type": "code",
      "source": [
        "while input() != \"Три!\":\n",
        "    print(\"Режим ожидания...\")\n",
        "print(\"Ёлочка, гори!\")"
      ],
      "metadata": {
        "colab": {
          "base_uri": "https://localhost:8080/"
        },
        "id": "KmMgXb98vbWg",
        "outputId": "c6be7b09-331c-433c-adee-e9c16b0889ee"
      },
      "execution_count": null,
      "outputs": [
        {
          "output_type": "stream",
          "name": "stdout",
          "text": [
            "thrth\n",
            "Режим ожидания...\n",
            "tyh\n",
            "Режим ожидания...\n",
            "Три!\n",
            "Ёлочка, гори!\n"
          ]
        }
      ]
    },
    {
      "cell_type": "markdown",
      "source": [
        "#### **№2.3.2 Зайка — 3**"
      ],
      "metadata": {
        "id": "goT85ulDvoaD"
      }
    },
    {
      "cell_type": "code",
      "source": [
        "n = 0\n",
        "while (string := input()) != \"Приехали!\":\n",
        "    if \"зайка\" in string:\n",
        "        n += 1\n",
        "print(n)"
      ],
      "metadata": {
        "colab": {
          "base_uri": "https://localhost:8080/"
        },
        "id": "G56_VZxOvoaD",
        "outputId": "7969e1f0-cbd7-46ec-ab71-97fbd9de2d66"
      },
      "execution_count": null,
      "outputs": [
        {
          "output_type": "stream",
          "name": "stdout",
          "text": [
            "березка елочка зайка волк березка\n",
            "сосна сосна сосна елочка грибочки медведь\n",
            "сосна сосна сосна белочка сосна белочка\n",
            "Приехали!\n",
            "1\n"
          ]
        }
      ]
    },
    {
      "cell_type": "markdown",
      "source": [
        "#### **№2.3.3 Считалочка**"
      ],
      "metadata": {
        "id": "dAFlreBJvo_8"
      }
    },
    {
      "cell_type": "code",
      "source": [
        "k = int(input())\n",
        "n = int(input())\n",
        "for i in range(k, n + 1):\n",
        "    print(i, end=\" \")"
      ],
      "metadata": {
        "colab": {
          "base_uri": "https://localhost:8080/"
        },
        "id": "y4p_VDf9vo_8",
        "outputId": "7b61a51b-f59e-4030-9951-37fd16856ed2"
      },
      "execution_count": null,
      "outputs": [
        {
          "output_type": "stream",
          "name": "stdout",
          "text": [
            "1\n",
            "10\n",
            "1 2 3 4 5 6 7 8 9 10 "
          ]
        }
      ]
    },
    {
      "cell_type": "markdown",
      "source": [
        "#### **№2.3.4 Считалочка 2.0**"
      ],
      "metadata": {
        "id": "V9hwMZXVvpO7"
      }
    },
    {
      "cell_type": "code",
      "source": [
        "k = int(input())\n",
        "n = int(input())\n",
        "\n",
        "if k < n:\n",
        "    for i in range(k, n + 1):\n",
        "        print(i, end=\" \")\n",
        "else:\n",
        "    for i in range(k, n - 1, -1):\n",
        "        print(i, end=\" \")"
      ],
      "metadata": {
        "colab": {
          "base_uri": "https://localhost:8080/"
        },
        "id": "lBXqe3yRvpO8",
        "outputId": "4b4d3b19-0b67-4386-bb7c-db462795606d"
      },
      "execution_count": null,
      "outputs": [
        {
          "output_type": "stream",
          "name": "stdout",
          "text": [
            "3\n",
            "-3\n",
            "3 2 1 0 -1 -2 -3 "
          ]
        }
      ]
    },
    {
      "cell_type": "code",
      "source": [
        "start = int(input())\n",
        "finish = int(input())\n",
        "\n",
        "step = 1 # шаг по умолчанию положительный\n",
        "if finish < start:  # если данные отличаются от предыдущей задачи - \"подгоним\" их\n",
        "    step = -1\n",
        "\n",
        "for number in range(start, finish + step, step):\n",
        "    print(number, end=\" \")"
      ],
      "metadata": {
        "colab": {
          "base_uri": "https://localhost:8080/"
        },
        "id": "26sIlOXyTUwl",
        "outputId": "de4af7c3-59f4-4033-d197-13656e0a1a33"
      },
      "execution_count": null,
      "outputs": [
        {
          "output_type": "stream",
          "name": "stdout",
          "text": [
            "5\n",
            "-5\n",
            "5 4 3 2 1 0 -1 -2 -3 -4 -5 "
          ]
        }
      ]
    },
    {
      "cell_type": "markdown",
      "source": [
        "#### **№2.3.5 Внимание! Акция!**"
      ],
      "metadata": {
        "id": "1cv_6ff6vpwS"
      }
    },
    {
      "cell_type": "code",
      "source": [
        "sum = 0\n",
        "\n",
        "while (price := float(input())) != 0:\n",
        "    if price >= 500:\n",
        "        sum += price * 0.9\n",
        "    else:\n",
        "        sum += price\n",
        "\n",
        "print(sum)"
      ],
      "metadata": {
        "colab": {
          "base_uri": "https://localhost:8080/"
        },
        "id": "HO6bMnxOvpwT",
        "outputId": "0e9d49e9-0a94-4fb0-9aca-d32e3720cce3"
      },
      "execution_count": null,
      "outputs": [
        {
          "output_type": "stream",
          "name": "stdout",
          "text": [
            "512\n",
            "499\n",
            "342.5\n",
            "0\n",
            "1302.3\n"
          ]
        }
      ]
    },
    {
      "cell_type": "markdown",
      "source": [
        "#### **№2.3.6 НОД**"
      ],
      "metadata": {
        "id": "b02c2J8Kvp_T"
      }
    },
    {
      "cell_type": "code",
      "source": [
        "a = int(input())\n",
        "b = int(input())\n",
        "\n",
        "while b:\n",
        "    a, b = b, a % b\n",
        "\n",
        "print(a)"
      ],
      "metadata": {
        "colab": {
          "base_uri": "https://localhost:8080/"
        },
        "id": "BlB7DveKvp_T",
        "outputId": "aacc6974-682a-4550-c1e4-89923a9fbe9c"
      },
      "execution_count": null,
      "outputs": [
        {
          "output_type": "stream",
          "name": "stdout",
          "text": [
            "512\n",
            "625\n",
            "1\n"
          ]
        }
      ]
    },
    {
      "cell_type": "markdown",
      "source": [
        "#### **№2.3.7 НОК**"
      ],
      "metadata": {
        "id": "6-V3fq2vvqQD"
      }
    },
    {
      "cell_type": "code",
      "source": [
        "a = int(input())\n",
        "b = int(input())\n",
        "\n",
        "c = a\n",
        "d = b\n",
        "\n",
        "while b:\n",
        "    a, b = b, a % b\n",
        "\n",
        "result = (c * d) / a\n",
        "\n",
        "print(int(result))"
      ],
      "metadata": {
        "colab": {
          "base_uri": "https://localhost:8080/"
        },
        "id": "c5fRC21BvqQE",
        "outputId": "018aaaa6-3b94-4617-f466-13aa84325788"
      },
      "execution_count": null,
      "outputs": [
        {
          "output_type": "stream",
          "name": "stdout",
          "text": [
            "512\n",
            "625\n",
            "320000\n"
          ]
        }
      ]
    },
    {
      "cell_type": "markdown",
      "source": [
        "#### **№2.3.8 Излишняя автоматизация 2.0**"
      ],
      "metadata": {
        "id": "mUsgmkaivqgL"
      }
    },
    {
      "cell_type": "code",
      "source": [
        "info = input()\n",
        "\n",
        "for _ in range(int(input())):\n",
        "    print(f\"{info}\")"
      ],
      "metadata": {
        "colab": {
          "base_uri": "https://localhost:8080/"
        },
        "id": "pXJPZ33BvqgL",
        "outputId": "39fd3dfc-2746-4e2e-c877-dcfa0250a5d8"
      },
      "execution_count": null,
      "outputs": [
        {
          "output_type": "stream",
          "name": "stdout",
          "text": [
            "Нельзя нажимать неизвестные кнопки!\n",
            "4\n",
            "Нельзя нажимать неизвестные кнопки!\n",
            "Нельзя нажимать неизвестные кнопки!\n",
            "Нельзя нажимать неизвестные кнопки!\n",
            "Нельзя нажимать неизвестные кнопки!\n"
          ]
        }
      ]
    },
    {
      "cell_type": "markdown",
      "source": [
        "#### **№2.3.9 Факториал**"
      ],
      "metadata": {
        "id": "VpMspfmkvqvz"
      }
    },
    {
      "cell_type": "code",
      "source": [
        "result = 1\n",
        "\n",
        "for i in range(1, int(input()) + 1):\n",
        "    result *= i\n",
        "\n",
        "print(result)"
      ],
      "metadata": {
        "colab": {
          "base_uri": "https://localhost:8080/"
        },
        "id": "zjwHsReqvqvz",
        "outputId": "06000d37-a906-47fd-d050-39567ae49181"
      },
      "execution_count": null,
      "outputs": [
        {
          "output_type": "stream",
          "name": "stdout",
          "text": [
            "5\n",
            "120\n"
          ]
        }
      ]
    },
    {
      "cell_type": "markdown",
      "source": [
        "#### **№2.3.10 Маршрут построен**"
      ],
      "metadata": {
        "id": "vzllXf90vq_r"
      }
    },
    {
      "cell_type": "code",
      "source": [
        "x = 0\n",
        "y = 0\n",
        "\n",
        "while (direction := input()) != \"СТОП\":\n",
        "    n = int(input())\n",
        "\n",
        "    if direction == \"СЕВЕР\":\n",
        "        x += n\n",
        "    elif direction == \"ЮГ\":\n",
        "        x -= n\n",
        "    elif direction == \"ВОСТОК\":\n",
        "        y += n\n",
        "    elif direction == \"ЗАПАД\":\n",
        "        y -= n\n",
        "\n",
        "print(x, y, sep=\"\\n\")"
      ],
      "metadata": {
        "colab": {
          "base_uri": "https://localhost:8080/"
        },
        "id": "x11ih-TXvq_r",
        "outputId": "1efc3bdb-0781-4ee7-fabe-3936df69e650"
      },
      "execution_count": null,
      "outputs": [
        {
          "output_type": "stream",
          "name": "stdout",
          "text": [
            "СЕВЕР\n",
            "2\n",
            "ВОСТОК\n",
            "2\n",
            "СТОП\n",
            "2\n",
            "2\n"
          ]
        }
      ]
    },
    {
      "cell_type": "code",
      "source": [
        "x = 0\n",
        "y = 0\n",
        "\n",
        "while (direction := input()) != \"СТОП\":\n",
        "    n = int(input())\n",
        "\n",
        "    match direction:\n",
        "        case \"СЕВЕР\":\n",
        "            x += n\n",
        "        case \"ЮГ\":\n",
        "            x -= n\n",
        "        case \"ВОСТОК\":\n",
        "            y += n\n",
        "        case \"ЗАПАД\":\n",
        "            y -= n\n",
        "\n",
        "print(x, y, sep=\"\\n\")"
      ],
      "metadata": {
        "colab": {
          "base_uri": "https://localhost:8080/"
        },
        "id": "D-ezldA2cKXW",
        "outputId": "f27ea4de-1b6a-4af7-a3bc-fe89ad63052c"
      },
      "execution_count": null,
      "outputs": [
        {
          "output_type": "stream",
          "name": "stdout",
          "text": [
            "СЕВЕР\n",
            "2\n",
            "ЮГ\n",
            "3\n",
            "ЗАПАД\n",
            "4\n",
            "СТОП\n",
            "-1\n",
            "-4\n"
          ]
        }
      ]
    },
    {
      "cell_type": "markdown",
      "source": [
        "#### **№2.3.11 Цифровая сумма**"
      ],
      "metadata": {
        "id": "DDEKZPuhvrQT"
      }
    },
    {
      "cell_type": "code",
      "source": [
        "number = int(input())\n",
        "sum = 0\n",
        "\n",
        "while number:\n",
        "    sum += number % 10\n",
        "    number //= 10\n",
        "\n",
        "print(sum)\n"
      ],
      "metadata": {
        "colab": {
          "base_uri": "https://localhost:8080/"
        },
        "id": "SB3gfcrZvrQU",
        "outputId": "3da1f8a1-6b99-44ba-a96a-be245d169830"
      },
      "execution_count": null,
      "outputs": [
        {
          "output_type": "stream",
          "name": "stdout",
          "text": [
            "100500\n",
            "6\n"
          ]
        }
      ]
    },
    {
      "cell_type": "markdown",
      "source": [
        "#### **№2.3.12 Сильная цифра**"
      ],
      "metadata": {
        "id": "1QXdzd5Wvrgb"
      }
    },
    {
      "cell_type": "code",
      "source": [
        "number = int(input())\n",
        "max = 0\n",
        "\n",
        "while number:\n",
        "    if max < (number % 10):\n",
        "        max = number % 10\n",
        "\n",
        "    number //= 10\n",
        "\n",
        "print(max)"
      ],
      "metadata": {
        "colab": {
          "base_uri": "https://localhost:8080/"
        },
        "id": "JOtFfB5yvrgc",
        "outputId": "0bd55be4-2ed0-40a9-c626-975d7731d2fa"
      },
      "execution_count": null,
      "outputs": [
        {
          "output_type": "stream",
          "name": "stdout",
          "text": [
            "123456\n",
            "6\n"
          ]
        }
      ]
    },
    {
      "cell_type": "markdown",
      "source": [
        "#### **№2.3.13 Первому игроку приготовиться 2.0**"
      ],
      "metadata": {
        "id": "E4NRRGWHvrv7"
      }
    },
    {
      "cell_type": "code",
      "source": [
        "amount = int(input()) - 1\n",
        "name = input()\n",
        "\n",
        "while amount:\n",
        "    if name > (name_2 := input()):\n",
        "        name = name_2\n",
        "\n",
        "    amount -= 1\n",
        "\n",
        "print(name)"
      ],
      "metadata": {
        "colab": {
          "base_uri": "https://localhost:8080/"
        },
        "id": "bkjK8qKFvrv7",
        "outputId": "b8db15fc-82e1-4e1b-a4c0-f5a2cfab5b55"
      },
      "execution_count": null,
      "outputs": [
        {
          "output_type": "stream",
          "name": "stdout",
          "text": [
            "4\n",
            "Толя\n",
            "Коля\n",
            "Вася\n",
            "Юля\n",
            "Вася\n"
          ]
        }
      ]
    },
    {
      "cell_type": "code",
      "source": [
        "result = '\\u1000'\n",
        "\n",
        "for _ in range(int(input())):\n",
        "    result = min(result, input())\n",
        "\n",
        "print(result)\n"
      ],
      "metadata": {
        "colab": {
          "base_uri": "https://localhost:8080/"
        },
        "id": "q2_i7dQIrQ7V",
        "outputId": "cdf44a31-f9b7-4139-ba36-3c3fbd5dc5c3"
      },
      "execution_count": null,
      "outputs": [
        {
          "output_type": "stream",
          "name": "stdout",
          "text": [
            "3\n",
            "Аня\n",
            "Жора\n",
            "Миша\n",
            "Аня\n"
          ]
        }
      ]
    },
    {
      "cell_type": "markdown",
      "source": [
        "#### **!!! - №2.3.14 Простая задача**"
      ],
      "metadata": {
        "id": "rUuJSxEWvsAL"
      }
    },
    {
      "cell_type": "code",
      "source": [
        "import datetime\n",
        "\n",
        "number = int(input())\n",
        "date_1 = datetime.datetime.now()\n",
        "print()\n",
        "i = 0\n",
        "\n",
        "for n in range(1, number + 1):\n",
        "    if number % n == 0:\n",
        "        i += 1\n",
        "\n",
        "if i == 2:\n",
        "    print(\"YES\")\n",
        "else:\n",
        "    print(\"NO\")\n",
        "date_2 = datetime.datetime.now()\n",
        "print(i)\n",
        "print(n)\n",
        "print(date_2 - date_1)\n",
        "\n"
      ],
      "metadata": {
        "colab": {
          "base_uri": "https://localhost:8080/"
        },
        "id": "9qzCD7LGvsAM",
        "outputId": "e2878d1e-287a-499d-d0ec-fe63efd36642"
      },
      "execution_count": null,
      "outputs": [
        {
          "output_type": "stream",
          "name": "stdout",
          "text": [
            "1234\n",
            "\n",
            "NO\n",
            "4\n",
            "1234\n",
            "0:00:00.001019\n"
          ]
        }
      ]
    },
    {
      "cell_type": "code",
      "source": [
        "import datetime\n",
        "date_1 = datetime.datetime.now()\n",
        "date_2 = datetime.datetime.now()\n",
        "print(date_2 - date_1)"
      ],
      "metadata": {
        "colab": {
          "base_uri": "https://localhost:8080/"
        },
        "id": "8lwPQLdV6NhK",
        "outputId": "1a887081-ba40-42bd-bce1-1c3813d3d79b"
      },
      "execution_count": null,
      "outputs": [
        {
          "output_type": "stream",
          "name": "stdout",
          "text": [
            "0:00:00.000050\n"
          ]
        }
      ]
    },
    {
      "cell_type": "code",
      "source": [
        "import datetime\n",
        "\n",
        "number = int(input())\n",
        "date_1 = datetime.datetime.now()\n",
        "print()\n",
        "i = 0\n",
        "\n",
        "for n in range(1, number + 1):\n",
        "    if (number % n == 0):\n",
        "        i += 1\n",
        "    if n > number / 2:\n",
        "        break\n",
        "\n",
        "if i == 1 and number != 1:\n",
        "    print(\"YES\")\n",
        "elif number == 2:\n",
        "    print(\"YES\")\n",
        "else:\n",
        "    print(\"NO\")\n",
        "print(i)\n",
        "print(n)\n",
        "date_2 = datetime.datetime.now()\n",
        "print(date_2 - date_1)\n"
      ],
      "metadata": {
        "colab": {
          "base_uri": "https://localhost:8080/"
        },
        "id": "W7uYT-oWG056",
        "outputId": "9b6225b9-3fcf-42aa-b329-fc4b681e0df8"
      },
      "execution_count": null,
      "outputs": [
        {
          "output_type": "stream",
          "name": "stdout",
          "text": [
            "1234\n",
            "\n",
            "NO\n",
            "3\n",
            "618\n",
            "0:00:00.000665\n"
          ]
        }
      ]
    },
    {
      "cell_type": "code",
      "source": [
        "import datetime\n",
        "\n",
        "number = int(input())\n",
        "date_1 = datetime.datetime.now()\n",
        "print()\n",
        "i = 0\n",
        "\n",
        "for n in range(1, number + 1):\n",
        "    if (number % n == 0):\n",
        "        i += 1\n",
        "    if i > 2:\n",
        "        break\n",
        "    if n > number / 2:\n",
        "        break\n",
        "\n",
        "if i == 1 and number != 1:\n",
        "    print(\"YES\")\n",
        "elif number == 2:\n",
        "    print(\"YES\")\n",
        "else:\n",
        "    print(\"NO\")\n",
        "\n",
        "print(i)\n",
        "print(n)\n",
        "date_2 = datetime.datetime.now()\n",
        "print(date_2 - date_1)"
      ],
      "metadata": {
        "colab": {
          "base_uri": "https://localhost:8080/"
        },
        "id": "E6PQMVXvMira",
        "outputId": "7ec634f0-20bd-4c72-8a2d-48d317d12b35"
      },
      "execution_count": null,
      "outputs": [
        {
          "output_type": "stream",
          "name": "stdout",
          "text": [
            "4\n",
            "\n",
            "NO\n",
            "2\n",
            "3\n",
            "0:00:00.000496\n"
          ]
        }
      ]
    },
    {
      "cell_type": "code",
      "source": [
        "number = int(input())\n",
        "\n",
        "i = 0\n",
        "\n",
        "for n in range(1, number + 1):\n",
        "    if (number % n == 0):\n",
        "        i += 1\n",
        "    if i > 2:\n",
        "        break\n",
        "    if n > number / 2:\n",
        "        break\n",
        "\n",
        "if i == 1 and number != 1:\n",
        "    print(\"YES\")\n",
        "elif number == 2:\n",
        "    print(\"YES\")\n",
        "else:\n",
        "    print(\"NO\")"
      ],
      "metadata": {
        "id": "_QAIeUUeNTjM"
      },
      "execution_count": null,
      "outputs": []
    },
    {
      "cell_type": "markdown",
      "source": [
        "#### **№2.3.15 Зайка - 4**"
      ],
      "metadata": {
        "id": "61MLsB6TvshT"
      }
    },
    {
      "cell_type": "code",
      "source": [
        "number = int(input())\n",
        "\n",
        "n = 0\n",
        "for _ in range(number):\n",
        "    string = input()\n",
        "\n",
        "    if \"зайка\" in string:\n",
        "        n += 1\n",
        "\n",
        "print(n)"
      ],
      "metadata": {
        "colab": {
          "base_uri": "https://localhost:8080/"
        },
        "id": "qE0QWDceOXXN",
        "outputId": "b25971ee-aad3-4e6c-a170-ced0dd71c08c"
      },
      "execution_count": null,
      "outputs": [
        {
          "output_type": "stream",
          "name": "stdout",
          "text": [
            "3\n",
            "гавно хер хуй\n",
            "сука пизда блядь\n",
            "зайка\n",
            "1\n"
          ]
        }
      ]
    },
    {
      "cell_type": "markdown",
      "source": [
        "#### **№2.3.16 А роза упала на лапу Азора 2.0**"
      ],
      "metadata": {
        "id": "3jVklvfQvsQj"
      }
    },
    {
      "cell_type": "code",
      "source": [
        "n = int(input())\n",
        "\n",
        "m = 0\n",
        "n_2 = n\n",
        "\n",
        "while n_2 > 0:\n",
        "    d = n_2 % 10\n",
        "    m = m * 10 + d\n",
        "    n_2 //= 10\n",
        "\n",
        "if n == m:\n",
        "    print(\"YES\")\n",
        "else:\n",
        "    print(\"NO\")\n"
      ],
      "metadata": {
        "colab": {
          "base_uri": "https://localhost:8080/"
        },
        "id": "P5l0-5mbUjwR",
        "outputId": "00e74ea8-e021-4000-cc9f-65e538d7d4dd"
      },
      "execution_count": null,
      "outputs": [
        {
          "output_type": "stream",
          "name": "stdout",
          "text": [
            "123454321\n",
            "YES\n"
          ]
        }
      ]
    },
    {
      "cell_type": "markdown",
      "source": [
        "#### **№2.3.17 Чётная чистота**"
      ],
      "metadata": {
        "id": "E7PiCl2tvsv7"
      }
    },
    {
      "cell_type": "code",
      "source": [
        "n = int(input())\n",
        "\n",
        "m = 0\n",
        "i = 0\n",
        "\n",
        "while n > 0:\n",
        "    d = n % 10\n",
        "    if d % 2 != 0:\n",
        "        m = m + d * 10**i\n",
        "        i += 1\n",
        "    n //= 10\n",
        "\n",
        "print(m)"
      ],
      "metadata": {
        "colab": {
          "base_uri": "https://localhost:8080/"
        },
        "id": "Aet436I7vsv7",
        "outputId": "5cbe2699-4ed7-4920-df81-4479acf2a4cc"
      },
      "execution_count": null,
      "outputs": [
        {
          "output_type": "stream",
          "name": "stdout",
          "text": [
            "123454321\n",
            "13531\n"
          ]
        }
      ]
    },
    {
      "cell_type": "markdown",
      "source": [
        "#### **!!! - №2.3.18 Простая задача 2.0**"
      ],
      "metadata": {
        "id": "a98m8F1yvtBc"
      }
    },
    {
      "cell_type": "code",
      "source": [
        "n = int(input())\n",
        "\n",
        "result = str()\n",
        "\n",
        "while n != 1:\n",
        "    while n % 2 == 0:\n",
        "        result += str(2) + \" * \"\n",
        "        n /= 2\n",
        "    while n % 3 == 0:\n",
        "        result += str(3) + \" * \"\n",
        "        n /= 3\n",
        "    while n % 5 == 0:\n",
        "        result += str(5) + \" * \"\n",
        "        n /= 5\n",
        "    while n % 7 == 0:\n",
        "        result += str(7) + \" * \"\n",
        "        n /= 7\n",
        "    while n % 11 == 0:\n",
        "        result += str(11) + \" * \"\n",
        "        n /= 11\n",
        "    while n % 13 == 0:\n",
        "        result += str(13) + \" * \"\n",
        "        n /= 13\n",
        "    while n % 17 == 0:\n",
        "        result += str(17) + \" * \"\n",
        "        n /= 17\n",
        "    while n % 19 == 0:\n",
        "        result += str(19) + \" * \"\n",
        "        n /= 19\n",
        "\n",
        "length = len(result)\n",
        "result = result[:length - 3]\n",
        "\n",
        "print(result)\n",
        "\n",
        "\n"
      ],
      "metadata": {
        "colab": {
          "base_uri": "https://localhost:8080/",
          "height": 211
        },
        "id": "boY59nwvvtBc",
        "outputId": "a68a08ee-f6a7-4c5b-d240-4a01899d783e"
      },
      "execution_count": null,
      "outputs": [
        {
          "output_type": "error",
          "ename": "KeyboardInterrupt",
          "evalue": "",
          "traceback": [
            "\u001b[0;31m---------------------------------------------------------------------------\u001b[0m",
            "\u001b[0;31mKeyboardInterrupt\u001b[0m                         Traceback (most recent call last)",
            "\u001b[0;32m<ipython-input-63-1003b6ee9d33>\u001b[0m in \u001b[0;36m<cell line: 0>\u001b[0;34m()\u001b[0m\n\u001b[1;32m      3\u001b[0m \u001b[0mresult\u001b[0m \u001b[0;34m=\u001b[0m \u001b[0mstr\u001b[0m\u001b[0;34m(\u001b[0m\u001b[0;34m)\u001b[0m\u001b[0;34m\u001b[0m\u001b[0;34m\u001b[0m\u001b[0m\n\u001b[1;32m      4\u001b[0m \u001b[0;34m\u001b[0m\u001b[0m\n\u001b[0;32m----> 5\u001b[0;31m \u001b[0;32mwhile\u001b[0m \u001b[0mn\u001b[0m \u001b[0;34m!=\u001b[0m \u001b[0;36m1\u001b[0m\u001b[0;34m:\u001b[0m\u001b[0;34m\u001b[0m\u001b[0;34m\u001b[0m\u001b[0m\n\u001b[0m\u001b[1;32m      6\u001b[0m     \u001b[0;32mwhile\u001b[0m \u001b[0mn\u001b[0m \u001b[0;34m%\u001b[0m \u001b[0;36m2\u001b[0m \u001b[0;34m==\u001b[0m \u001b[0;36m0\u001b[0m\u001b[0;34m:\u001b[0m\u001b[0;34m\u001b[0m\u001b[0;34m\u001b[0m\u001b[0m\n\u001b[1;32m      7\u001b[0m         \u001b[0mresult\u001b[0m \u001b[0;34m+=\u001b[0m \u001b[0mstr\u001b[0m\u001b[0;34m(\u001b[0m\u001b[0;36m2\u001b[0m\u001b[0;34m)\u001b[0m \u001b[0;34m+\u001b[0m \u001b[0;34m\" * \"\u001b[0m\u001b[0;34m\u001b[0m\u001b[0;34m\u001b[0m\u001b[0m\n",
            "\u001b[0;31mKeyboardInterrupt\u001b[0m: "
          ]
        }
      ]
    },
    {
      "cell_type": "markdown",
      "source": [
        "#### **!!! - №2.3.19 Игра в «Угадайку»**"
      ],
      "metadata": {
        "id": "LoiZ_9cFvtQr"
      }
    },
    {
      "cell_type": "code",
      "source": [
        "number = int(input(\"Загаданное число:\\n\"))\n",
        "\n",
        "i = 0\n",
        "\n",
        "while i < 10:\n",
        "    n = int(input())\n",
        "\n",
        "    if n < number:\n",
        "        print(\"Больше\")\n",
        "    elif n > number:\n",
        "        print(\"Меньше\")\n",
        "    else:\n",
        "        print(\"Угадал!\")\n",
        "        break\n",
        "\n",
        "    i += 1\n",
        "\n",
        "if n == number:\n",
        "    print(\"Число отгадано\")\n",
        "else:\n",
        "    print(\"Число не отгадано\")"
      ],
      "metadata": {
        "id": "pamH4_cjvtQs",
        "colab": {
          "base_uri": "https://localhost:8080/"
        },
        "outputId": "b763fc8c-bc5e-4f75-b1ae-a4e6c2d6f25b"
      },
      "execution_count": null,
      "outputs": [
        {
          "output_type": "stream",
          "name": "stdout",
          "text": [
            "Загаданное число:\n",
            "123\n",
            "4\n",
            "Больше\n",
            "6\n",
            "Больше\n",
            "7\n",
            "Больше\n",
            "8\n",
            "Больше\n",
            "178\n",
            "Меньше\n",
            "179\n",
            "Меньше\n",
            "1\n",
            "Больше\n",
            "1\n",
            "Больше\n",
            "1\n",
            "Больше\n",
            "1\n",
            "Больше\n",
            "Число не отгадано\n"
          ]
        }
      ]
    },
    {
      "cell_type": "code",
      "source": [
        "import random\n",
        "\n",
        "number = int(input(\"Загаданное число:\\n\"))\n",
        "\n",
        "start = 1\n",
        "stop = 1000\n",
        "n = 0\n",
        "i = 0\n",
        "\n",
        "while i < 10:\n",
        "    n = random.randint(start, stop)\n",
        "\n",
        "    if n < number:\n",
        "        print(\"Больше\")\n",
        "        start = n\n",
        "\n",
        "    elif n > number:\n",
        "        print(\"Меньше\")\n",
        "        stop = n\n",
        "\n",
        "    else:\n",
        "        print(\"Угадал!\")\n",
        "        break\n",
        "\n",
        "    i += 1\n",
        "\n",
        "\n",
        "if n == number:\n",
        "    print(\"Число отгадано\")\n",
        "else:\n",
        "    print(\"Число не отгадано\")\n"
      ],
      "metadata": {
        "colab": {
          "base_uri": "https://localhost:8080/"
        },
        "id": "JpJQlGci72Fe",
        "outputId": "73604c33-1e84-4cba-94b9-f266ae52dadc"
      },
      "execution_count": null,
      "outputs": [
        {
          "output_type": "stream",
          "name": "stdout",
          "text": [
            "Загаданное число:\n",
            "123\n",
            "Меньше\n",
            "Меньше\n",
            "Больше\n",
            "Меньше\n",
            "Меньше\n",
            "Больше\n",
            "Больше\n",
            "Меньше\n",
            "Больше\n",
            "Меньше\n",
            "Число не отгадано\n"
          ]
        }
      ]
    },
    {
      "cell_type": "markdown",
      "source": [
        "#### **!!! - №2.3.20 Хайпанём немножечко!**"
      ],
      "metadata": {
        "id": "Figcq3uAvthk"
      }
    },
    {
      "cell_type": "code",
      "source": [
        "prev = 0  # для хранения предыдущего хеша\n",
        "bad = -1  # для хранения номера \"плохого\" блока\n",
        "\n",
        "\n",
        "for index in range(int(input())):\n",
        "    block = int(input())\n",
        "\n",
        "m = block\n",
        "r =\n",
        "h ="
      ],
      "metadata": {
        "id": "pLcYHOC2vthk"
      },
      "execution_count": null,
      "outputs": []
    },
    {
      "cell_type": "markdown",
      "source": [
        "## **2.4. Вложенные циклы**"
      ],
      "metadata": {
        "id": "nY9Yi6C8IpQe"
      }
    },
    {
      "cell_type": "markdown",
      "source": [
        "### **Контент**"
      ],
      "metadata": {
        "id": "4sJtO8WrI32e"
      }
    },
    {
      "cell_type": "code",
      "source": [],
      "metadata": {
        "id": "NLrO7g1lJZtm"
      },
      "execution_count": null,
      "outputs": []
    },
    {
      "cell_type": "markdown",
      "source": [
        "### **Задачи**"
      ],
      "metadata": {
        "id": "D8JRYp2iI6s3"
      }
    },
    {
      "cell_type": "markdown",
      "source": [
        "#### **№2.4. XXX**"
      ],
      "metadata": {
        "id": "TfVy0CeoI_M-"
      }
    },
    {
      "cell_type": "code",
      "source": [],
      "metadata": {
        "id": "xP09pcYBJYyO"
      },
      "execution_count": null,
      "outputs": []
    },
    {
      "cell_type": "markdown",
      "source": [
        "#### **№2.4. XXX**"
      ],
      "metadata": {
        "id": "IpXitQQGJSkf"
      }
    },
    {
      "cell_type": "markdown",
      "source": [
        "#### **№2.4. XXX**"
      ],
      "metadata": {
        "id": "BCPakIceJTBo"
      }
    },
    {
      "cell_type": "markdown",
      "source": [
        "#### **№2.4. XXX**"
      ],
      "metadata": {
        "id": "jooqYAtaJTOP"
      }
    },
    {
      "cell_type": "markdown",
      "source": [
        "#### **№2.4. XXX**"
      ],
      "metadata": {
        "id": "0bULU1WaJTaH"
      }
    },
    {
      "cell_type": "markdown",
      "source": [
        "#### **№2.4. XXX**"
      ],
      "metadata": {
        "id": "7qc7YFibJUcn"
      }
    },
    {
      "cell_type": "markdown",
      "source": [
        "#### **№2.4. XXX**"
      ],
      "metadata": {
        "id": "7r0MqCJJJUnv"
      }
    },
    {
      "cell_type": "markdown",
      "source": [
        "#### **№2.4. XXX**"
      ],
      "metadata": {
        "id": "dRa-qc1oJUvf"
      }
    },
    {
      "cell_type": "markdown",
      "source": [
        "#### **№2.4. XXX**"
      ],
      "metadata": {
        "id": "X49Q_2SvJU3n"
      }
    },
    {
      "cell_type": "markdown",
      "source": [
        "#### **№2.4. XXX**"
      ],
      "metadata": {
        "id": "UuYnYmPuJVA_"
      }
    },
    {
      "cell_type": "markdown",
      "source": [
        "#### **№2.4. XXX**"
      ],
      "metadata": {
        "id": "cLVpaqZRJVJf"
      }
    },
    {
      "cell_type": "markdown",
      "source": [
        "#### **№2.4. XXX**"
      ],
      "metadata": {
        "id": "Mge_nTTzJVQn"
      }
    },
    {
      "cell_type": "markdown",
      "source": [
        "#### **№2.4. XXX**"
      ],
      "metadata": {
        "id": "5aRJf8RJJVYg"
      }
    },
    {
      "cell_type": "markdown",
      "source": [
        "#### **№2.4. XXX**"
      ],
      "metadata": {
        "id": "BZmwdOb1JVfn"
      }
    },
    {
      "cell_type": "markdown",
      "source": [
        "#### **№2.4. XXX**"
      ],
      "metadata": {
        "id": "VZgLLz0nJVmw"
      }
    },
    {
      "cell_type": "markdown",
      "source": [
        "#### **№2.4. XXX**"
      ],
      "metadata": {
        "id": "kKA-BG5WJVtn"
      }
    },
    {
      "cell_type": "markdown",
      "source": [
        "#### **№2.4. XXX**"
      ],
      "metadata": {
        "id": "reZSMMBwJV0v"
      }
    },
    {
      "cell_type": "markdown",
      "source": [
        "#### **№2.4. XXX**"
      ],
      "metadata": {
        "id": "X3lS8l4xJV8f"
      }
    },
    {
      "cell_type": "markdown",
      "source": [
        "#### **№2.4. XXX**"
      ],
      "metadata": {
        "id": "wrZdnBWcJWD_"
      }
    },
    {
      "cell_type": "markdown",
      "source": [
        "#### **№2.4. XXX**"
      ],
      "metadata": {
        "id": "DWOzot_zJWMj"
      }
    }
  ],
  "metadata": {
    "kernelspec": {
      "display_name": "Python 3",
      "language": "python",
      "name": "python3"
    },
    "language_info": {
      "name": "python",
      "version": "3.12.3"
    },
    "colab": {
      "provenance": [],
      "toc_visible": true
    }
  },
  "nbformat": 4,
  "nbformat_minor": 0
}