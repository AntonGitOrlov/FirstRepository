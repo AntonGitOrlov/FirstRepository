{
  "cells": [
    {
      "cell_type": "markdown",
      "source": [
        "# 2. Базовые конструкции Python"
      ],
      "metadata": {
        "id": "W0QU8o4ENKjl"
      }
    },
    {
      "cell_type": "markdown",
      "source": [
        "## 2.1. Ввод и вывод данных. Операции с числами, строками. Форматирование"
      ],
      "metadata": {
        "id": "W9EzsZOhGGci"
      }
    },
    {
      "cell_type": "markdown",
      "source": [
        "### Контент"
      ],
      "metadata": {
        "id": "xVR_46XKNVAV"
      }
    },
    {
      "cell_type": "code",
      "execution_count": 2,
      "metadata": {
        "id": "W-d9lwp9zZEC",
        "outputId": "f851eb48-aecb-44e0-cc35-5971eed09c08",
        "colab": {
          "base_uri": "https://localhost:8080/"
        }
      },
      "outputs": [
        {
          "output_type": "stream",
          "name": "stdout",
          "text": [
            "Привет, мир!\n"
          ]
        }
      ],
      "source": [
        "print(\"Привет, мир!\")"
      ]
    },
    {
      "cell_type": "code",
      "source": [
        "print('Привет, мир!')\n",
        "print(\"Привет, мир!\")\n",
        "print(\"\"\"Привет, мир!\"\"\")\n",
        "print(\"Программа выводит фразу 'Привет, мир!'\")"
      ],
      "metadata": {
        "colab": {
          "base_uri": "https://localhost:8080/"
        },
        "id": "T0RfexeNGrdS",
        "outputId": "6e6828a7-b04b-4899-c572-2dc21943f701"
      },
      "execution_count": 3,
      "outputs": [
        {
          "output_type": "stream",
          "name": "stdout",
          "text": [
            "Привет, мир!\n",
            "Привет, мир!\n",
            "Привет, мир!\n",
            "Программа выводит фразу 'Привет, мир!'\n"
          ]
        }
      ]
    },
    {
      "cell_type": "code",
      "source": [
        "phrase = input()\n",
        "print(phrase)"
      ],
      "metadata": {
        "colab": {
          "base_uri": "https://localhost:8080/"
        },
        "id": "U9FNgHLWG4Zx",
        "outputId": "dd724331-1bdf-44f3-ab42-801ad06e8a9f"
      },
      "execution_count": 4,
      "outputs": [
        {
          "output_type": "stream",
          "name": "stdout",
          "text": [
            "екернрнр\n",
            "екернрнр\n"
          ]
        }
      ]
    },
    {
      "cell_type": "code",
      "source": [
        "phrase = input(\"Введите строку: \")\n",
        "print(phrase)"
      ],
      "metadata": {
        "colab": {
          "base_uri": "https://localhost:8080/"
        },
        "id": "ZPQogPP1HLJp",
        "outputId": "3a84bb0f-a2da-4523-d3d5-eb6965b61a1e"
      },
      "execution_count": 5,
      "outputs": [
        {
          "output_type": "stream",
          "name": "stdout",
          "text": [
            "Введите строку: Привет!\n",
            "Привет!\n"
          ]
        }
      ]
    },
    {
      "cell_type": "code",
      "source": [
        "name = \"Пользователь\"\n",
        "print(\"Добрый день,\", name, \".\")"
      ],
      "metadata": {
        "id": "ii1CswHbIclB",
        "outputId": "78958c4e-3704-4241-f5c3-2d5bd4927649",
        "colab": {
          "base_uri": "https://localhost:8080/"
        }
      },
      "execution_count": 6,
      "outputs": [
        {
          "output_type": "stream",
          "name": "stdout",
          "text": [
            "Добрый день, Пользователь .\n"
          ]
        }
      ]
    },
    {
      "cell_type": "code",
      "source": [
        "name = \"Пользователь\"\n",
        "print(\"Добрый день, \", name, \".\", sep=\"\")"
      ],
      "metadata": {
        "id": "1cI9mie5MMt9",
        "outputId": "26ba9b03-890c-4ea0-ad79-ee4bd333f5d3",
        "colab": {
          "base_uri": "https://localhost:8080/"
        }
      },
      "execution_count": 7,
      "outputs": [
        {
          "output_type": "stream",
          "name": "stdout",
          "text": [
            "Добрый день, Пользователь.\n"
          ]
        }
      ]
    },
    {
      "cell_type": "code",
      "source": [
        "name = \"Пользователь\"\n",
        "print(f\"Добрый день, {name}.\")"
      ],
      "metadata": {
        "id": "0Fr8iGsvMUpE",
        "outputId": "047b7de3-9186-4117-da95-075722399719",
        "colab": {
          "base_uri": "https://localhost:8080/"
        }
      },
      "execution_count": 8,
      "outputs": [
        {
          "output_type": "stream",
          "name": "stdout",
          "text": [
            "Добрый день, Пользователь.\n"
          ]
        }
      ]
    },
    {
      "cell_type": "code",
      "source": [
        "print(f\"{123:0>9}\")\n",
        "print(f\"{123:0<9}\")\n",
        "print(f\"{123:0^9}\")"
      ],
      "metadata": {
        "id": "rbIyobJ1Ma_V",
        "outputId": "80ecf282-8dbe-4164-fb57-3774a6221c53",
        "colab": {
          "base_uri": "https://localhost:8080/"
        }
      },
      "execution_count": 9,
      "outputs": [
        {
          "output_type": "stream",
          "name": "stdout",
          "text": [
            "000000123\n",
            "123000000\n",
            "000123000\n"
          ]
        }
      ]
    },
    {
      "cell_type": "code",
      "source": [
        "print(\"\\\\\")"
      ],
      "metadata": {
        "id": "JJikQOeQNCJ1",
        "outputId": "f465c383-19fc-44be-d210-5dfbdd9a25c0",
        "colab": {
          "base_uri": "https://localhost:8080/"
        }
      },
      "execution_count": 10,
      "outputs": [
        {
          "output_type": "stream",
          "name": "stdout",
          "text": [
            "\\\n"
          ]
        }
      ]
    }
  ],
  "metadata": {
    "kernelspec": {
      "display_name": "Python 3",
      "language": "python",
      "name": "python3"
    },
    "language_info": {
      "name": "python",
      "version": "3.12.3"
    },
    "colab": {
      "provenance": [],
      "toc_visible": true
    }
  },
  "nbformat": 4,
  "nbformat_minor": 0
}