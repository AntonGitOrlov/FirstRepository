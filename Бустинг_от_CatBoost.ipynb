{
  "nbformat": 4,
  "nbformat_minor": 0,
  "metadata": {
    "kernelspec": {
      "display_name": "Python 3",
      "language": "python",
      "name": "python3"
    },
    "language_info": {
      "codemirror_mode": {
        "name": "ipython",
        "version": 3
      },
      "file_extension": ".py",
      "mimetype": "text/x-python",
      "name": "python",
      "nbconvert_exporter": "python",
      "pygments_lexer": "ipython3",
      "version": "3.7.4"
    },
    "toc": {
      "base_numbering": 1,
      "nav_menu": {},
      "number_sections": true,
      "sideBar": true,
      "skip_h1_title": false,
      "title_cell": "Table of Contents",
      "title_sidebar": "Contents",
      "toc_cell": false,
      "toc_position": {
        "height": "calc(100% - 180px)",
        "left": "10px",
        "top": "150px",
        "width": "165px"
      },
      "toc_section_display": true,
      "toc_window_display": true
    },
    "colab": {
      "provenance": []
    }
  },
  "cells": [
    {
      "cell_type": "markdown",
      "source": [
        "# Цель Блокнота"
      ],
      "metadata": {
        "id": "jgqp-YmxmXMl"
      }
    },
    {
      "cell_type": "markdown",
      "source": [
        "Посмотрим на бустинг от Яндекса.\n",
        "Необходимо установить с помощью команды `!pip install`"
      ],
      "metadata": {
        "id": "cDKN7fkxmaKa"
      }
    },
    {
      "cell_type": "markdown",
      "source": [
        "[Документация по CatBoost](https://catboost.ai/en/docs/)"
      ],
      "metadata": {
        "id": "1a94ZUeQtvbK"
      }
    },
    {
      "cell_type": "code",
      "source": [
        "!pip install catboost"
      ],
      "metadata": {
        "colab": {
          "base_uri": "https://localhost:8080/"
        },
        "id": "zMdQXrCSezZ4",
        "outputId": "11091d6b-633e-4b72-e239-876f47e01680"
      },
      "execution_count": null,
      "outputs": [
        {
          "output_type": "stream",
          "name": "stdout",
          "text": [
            "Collecting catboost\n",
            "  Downloading catboost-1.2.5-cp310-cp310-manylinux2014_x86_64.whl (98.2 MB)\n",
            "\u001b[2K     \u001b[90m━━━━━━━━━━━━━━━━━━━━━━━━━━━━━━━━━━━━━━━━\u001b[0m \u001b[32m98.2/98.2 MB\u001b[0m \u001b[31m6.3 MB/s\u001b[0m eta \u001b[36m0:00:00\u001b[0m\n",
            "\u001b[?25hRequirement already satisfied: graphviz in /usr/local/lib/python3.10/dist-packages (from catboost) (0.20.3)\n",
            "Requirement already satisfied: matplotlib in /usr/local/lib/python3.10/dist-packages (from catboost) (3.7.1)\n",
            "Requirement already satisfied: numpy>=1.16.0 in /usr/local/lib/python3.10/dist-packages (from catboost) (1.25.2)\n",
            "Requirement already satisfied: pandas>=0.24 in /usr/local/lib/python3.10/dist-packages (from catboost) (2.0.3)\n",
            "Requirement already satisfied: scipy in /usr/local/lib/python3.10/dist-packages (from catboost) (1.11.4)\n",
            "Requirement already satisfied: plotly in /usr/local/lib/python3.10/dist-packages (from catboost) (5.15.0)\n",
            "Requirement already satisfied: six in /usr/local/lib/python3.10/dist-packages (from catboost) (1.16.0)\n",
            "Requirement already satisfied: python-dateutil>=2.8.2 in /usr/local/lib/python3.10/dist-packages (from pandas>=0.24->catboost) (2.8.2)\n",
            "Requirement already satisfied: pytz>=2020.1 in /usr/local/lib/python3.10/dist-packages (from pandas>=0.24->catboost) (2023.4)\n",
            "Requirement already satisfied: tzdata>=2022.1 in /usr/local/lib/python3.10/dist-packages (from pandas>=0.24->catboost) (2024.1)\n",
            "Requirement already satisfied: contourpy>=1.0.1 in /usr/local/lib/python3.10/dist-packages (from matplotlib->catboost) (1.2.1)\n",
            "Requirement already satisfied: cycler>=0.10 in /usr/local/lib/python3.10/dist-packages (from matplotlib->catboost) (0.12.1)\n",
            "Requirement already satisfied: fonttools>=4.22.0 in /usr/local/lib/python3.10/dist-packages (from matplotlib->catboost) (4.53.1)\n",
            "Requirement already satisfied: kiwisolver>=1.0.1 in /usr/local/lib/python3.10/dist-packages (from matplotlib->catboost) (1.4.5)\n",
            "Requirement already satisfied: packaging>=20.0 in /usr/local/lib/python3.10/dist-packages (from matplotlib->catboost) (24.1)\n",
            "Requirement already satisfied: pillow>=6.2.0 in /usr/local/lib/python3.10/dist-packages (from matplotlib->catboost) (9.4.0)\n",
            "Requirement already satisfied: pyparsing>=2.3.1 in /usr/local/lib/python3.10/dist-packages (from matplotlib->catboost) (3.1.2)\n",
            "Requirement already satisfied: tenacity>=6.2.0 in /usr/local/lib/python3.10/dist-packages (from plotly->catboost) (8.5.0)\n",
            "Installing collected packages: catboost\n",
            "Successfully installed catboost-1.2.5\n"
          ]
        }
      ]
    },
    {
      "cell_type": "markdown",
      "metadata": {
        "id": "czKick3H1Aqp"
      },
      "source": [
        "# Import библиотек"
      ]
    },
    {
      "cell_type": "code",
      "metadata": {
        "id": "Eu6aerLw1Aqq"
      },
      "source": [
        "import pandas as pd # Библиотека Pandas для работы с табличными данными\n",
        "import numpy as np # библиотека Numpy для операций линейной алгебры и прочего\n",
        "import matplotlib.pyplot as plt # библиотека Matplotlib для визуализации\n",
        "import seaborn as sns # библиотека seaborn для визуализации\n",
        "import numpy as np # библиотека Numpy для операций линейной алгебры и прочего"
      ],
      "execution_count": null,
      "outputs": []
    },
    {
      "cell_type": "code",
      "source": [
        "plt.style.use('dark_background') # для модных черных рисунков"
      ],
      "metadata": {
        "id": "vBLcerXDupIV"
      },
      "execution_count": null,
      "outputs": []
    },
    {
      "cell_type": "code",
      "source": [
        "import warnings\n",
        "warnings.filterwarnings('ignore')"
      ],
      "metadata": {
        "id": "kG_F8idxU__n"
      },
      "execution_count": null,
      "outputs": []
    },
    {
      "cell_type": "markdown",
      "metadata": {
        "id": "hSA1kgiKvrTG"
      },
      "source": [
        "# Набор данных\n",
        "\n"
      ]
    },
    {
      "cell_type": "markdown",
      "metadata": {
        "id": "9WAiW__nvrTK"
      },
      "source": [
        "Набор данных представляет собой статистику признаков автомобилей на вторичном рынке в Молдавии.\n",
        "\n",
        "Набор включает ряд категориальных и численных значений, составляющих одну запись (строку). Число записей можно найти как число строк.\n",
        "\n",
        "Каждый столбец в записи — это отдельный признак.\n",
        "\n",
        "Среди указанных признаков приведен целевой для задачи предсказания (регрессии) - цена автомобиля.\n",
        "\n",
        " Также среди признак есть целевой для задачи классификации - тип трансмиссии.\n",
        "\n",
        " Последняя задача может быть рассмотрена, например, как пример задачи на заполнение пропусков (если продавец не указал соответствующий признак)."
      ]
    },
    {
      "cell_type": "markdown",
      "source": [
        "# Загрузка данных"
      ],
      "metadata": {
        "id": "BWSBYJ2dZ8LJ"
      }
    },
    {
      "cell_type": "markdown",
      "source": [
        "Загружаем наши данные из файла по прямой ссылке на GitHub"
      ],
      "metadata": {
        "id": "Ea3-kYWG7fWJ"
      }
    },
    {
      "cell_type": "code",
      "source": [
        "DF = pd.read_csv('https://raw.githubusercontent.com/dayekb/mpti_ml/main/data/cars_moldova_no_dup_no_outliers.csv', delimiter = ',')\n",
        "DF"
      ],
      "metadata": {
        "colab": {
          "base_uri": "https://localhost:8080/",
          "height": 423
        },
        "id": "k10GNV_lFpP6",
        "outputId": "045b9b65-efab-4265-e8f9-4b9556596710"
      },
      "execution_count": null,
      "outputs": [
        {
          "output_type": "execute_result",
          "data": {
            "text/plain": [
              "             Make         Model  Year      Style  Distance  \\\n",
              "0          Toyota         Prius  2011  Hatchback  195000.0   \n",
              "1         Renault  Grand Scenic  2014  Universal  135000.0   \n",
              "2         Renault        Laguna  2012  Universal  110000.0   \n",
              "3            Opel         Astra  2006  Universal  200000.0   \n",
              "4        Mercedes          Vito  2000   Microvan  300000.0   \n",
              "...           ...           ...   ...        ...       ...   \n",
              "32480  Volkswagen        Passat  2016      Sedan   88000.0   \n",
              "32481  Land Rover    Freelander  2002  Crossover  225000.0   \n",
              "32482       Dacia     Logan Mcv  2015  Universal   89000.0   \n",
              "32483       Mazda             6  2006      Combi  370000.0   \n",
              "32484     Renault  Grand Scenic  2006    Minivan  300000.0   \n",
              "\n",
              "       Engine_capacity(cm3)     Fuel_type Transmission  Price(euro)  \n",
              "0                    1800.0        Hybrid    Automatic       7750.0  \n",
              "1                    1500.0        Diesel       Manual       8550.0  \n",
              "2                    1500.0        Diesel       Manual       6550.0  \n",
              "3                    1600.0  Metan/Propan       Manual       4100.0  \n",
              "4                    2200.0        Diesel       Manual       3490.0  \n",
              "...                     ...           ...          ...          ...  \n",
              "32480                1800.0        Petrol    Automatic      11500.0  \n",
              "32481                1800.0  Metan/Propan       Manual       4400.0  \n",
              "32482                1500.0        Diesel       Manual       7000.0  \n",
              "32483                2000.0        Diesel       Manual       4000.0  \n",
              "32484                1500.0        Diesel       Manual       4000.0  \n",
              "\n",
              "[32485 rows x 9 columns]"
            ],
            "text/html": [
              "\n",
              "  <div id=\"df-ce0ef7f7-c066-4b48-b9e4-4e37c1244313\" class=\"colab-df-container\">\n",
              "    <div>\n",
              "<style scoped>\n",
              "    .dataframe tbody tr th:only-of-type {\n",
              "        vertical-align: middle;\n",
              "    }\n",
              "\n",
              "    .dataframe tbody tr th {\n",
              "        vertical-align: top;\n",
              "    }\n",
              "\n",
              "    .dataframe thead th {\n",
              "        text-align: right;\n",
              "    }\n",
              "</style>\n",
              "<table border=\"1\" class=\"dataframe\">\n",
              "  <thead>\n",
              "    <tr style=\"text-align: right;\">\n",
              "      <th></th>\n",
              "      <th>Make</th>\n",
              "      <th>Model</th>\n",
              "      <th>Year</th>\n",
              "      <th>Style</th>\n",
              "      <th>Distance</th>\n",
              "      <th>Engine_capacity(cm3)</th>\n",
              "      <th>Fuel_type</th>\n",
              "      <th>Transmission</th>\n",
              "      <th>Price(euro)</th>\n",
              "    </tr>\n",
              "  </thead>\n",
              "  <tbody>\n",
              "    <tr>\n",
              "      <th>0</th>\n",
              "      <td>Toyota</td>\n",
              "      <td>Prius</td>\n",
              "      <td>2011</td>\n",
              "      <td>Hatchback</td>\n",
              "      <td>195000.0</td>\n",
              "      <td>1800.0</td>\n",
              "      <td>Hybrid</td>\n",
              "      <td>Automatic</td>\n",
              "      <td>7750.0</td>\n",
              "    </tr>\n",
              "    <tr>\n",
              "      <th>1</th>\n",
              "      <td>Renault</td>\n",
              "      <td>Grand Scenic</td>\n",
              "      <td>2014</td>\n",
              "      <td>Universal</td>\n",
              "      <td>135000.0</td>\n",
              "      <td>1500.0</td>\n",
              "      <td>Diesel</td>\n",
              "      <td>Manual</td>\n",
              "      <td>8550.0</td>\n",
              "    </tr>\n",
              "    <tr>\n",
              "      <th>2</th>\n",
              "      <td>Renault</td>\n",
              "      <td>Laguna</td>\n",
              "      <td>2012</td>\n",
              "      <td>Universal</td>\n",
              "      <td>110000.0</td>\n",
              "      <td>1500.0</td>\n",
              "      <td>Diesel</td>\n",
              "      <td>Manual</td>\n",
              "      <td>6550.0</td>\n",
              "    </tr>\n",
              "    <tr>\n",
              "      <th>3</th>\n",
              "      <td>Opel</td>\n",
              "      <td>Astra</td>\n",
              "      <td>2006</td>\n",
              "      <td>Universal</td>\n",
              "      <td>200000.0</td>\n",
              "      <td>1600.0</td>\n",
              "      <td>Metan/Propan</td>\n",
              "      <td>Manual</td>\n",
              "      <td>4100.0</td>\n",
              "    </tr>\n",
              "    <tr>\n",
              "      <th>4</th>\n",
              "      <td>Mercedes</td>\n",
              "      <td>Vito</td>\n",
              "      <td>2000</td>\n",
              "      <td>Microvan</td>\n",
              "      <td>300000.0</td>\n",
              "      <td>2200.0</td>\n",
              "      <td>Diesel</td>\n",
              "      <td>Manual</td>\n",
              "      <td>3490.0</td>\n",
              "    </tr>\n",
              "    <tr>\n",
              "      <th>...</th>\n",
              "      <td>...</td>\n",
              "      <td>...</td>\n",
              "      <td>...</td>\n",
              "      <td>...</td>\n",
              "      <td>...</td>\n",
              "      <td>...</td>\n",
              "      <td>...</td>\n",
              "      <td>...</td>\n",
              "      <td>...</td>\n",
              "    </tr>\n",
              "    <tr>\n",
              "      <th>32480</th>\n",
              "      <td>Volkswagen</td>\n",
              "      <td>Passat</td>\n",
              "      <td>2016</td>\n",
              "      <td>Sedan</td>\n",
              "      <td>88000.0</td>\n",
              "      <td>1800.0</td>\n",
              "      <td>Petrol</td>\n",
              "      <td>Automatic</td>\n",
              "      <td>11500.0</td>\n",
              "    </tr>\n",
              "    <tr>\n",
              "      <th>32481</th>\n",
              "      <td>Land Rover</td>\n",
              "      <td>Freelander</td>\n",
              "      <td>2002</td>\n",
              "      <td>Crossover</td>\n",
              "      <td>225000.0</td>\n",
              "      <td>1800.0</td>\n",
              "      <td>Metan/Propan</td>\n",
              "      <td>Manual</td>\n",
              "      <td>4400.0</td>\n",
              "    </tr>\n",
              "    <tr>\n",
              "      <th>32482</th>\n",
              "      <td>Dacia</td>\n",
              "      <td>Logan Mcv</td>\n",
              "      <td>2015</td>\n",
              "      <td>Universal</td>\n",
              "      <td>89000.0</td>\n",
              "      <td>1500.0</td>\n",
              "      <td>Diesel</td>\n",
              "      <td>Manual</td>\n",
              "      <td>7000.0</td>\n",
              "    </tr>\n",
              "    <tr>\n",
              "      <th>32483</th>\n",
              "      <td>Mazda</td>\n",
              "      <td>6</td>\n",
              "      <td>2006</td>\n",
              "      <td>Combi</td>\n",
              "      <td>370000.0</td>\n",
              "      <td>2000.0</td>\n",
              "      <td>Diesel</td>\n",
              "      <td>Manual</td>\n",
              "      <td>4000.0</td>\n",
              "    </tr>\n",
              "    <tr>\n",
              "      <th>32484</th>\n",
              "      <td>Renault</td>\n",
              "      <td>Grand Scenic</td>\n",
              "      <td>2006</td>\n",
              "      <td>Minivan</td>\n",
              "      <td>300000.0</td>\n",
              "      <td>1500.0</td>\n",
              "      <td>Diesel</td>\n",
              "      <td>Manual</td>\n",
              "      <td>4000.0</td>\n",
              "    </tr>\n",
              "  </tbody>\n",
              "</table>\n",
              "<p>32485 rows × 9 columns</p>\n",
              "</div>\n",
              "    <div class=\"colab-df-buttons\">\n",
              "\n",
              "  <div class=\"colab-df-container\">\n",
              "    <button class=\"colab-df-convert\" onclick=\"convertToInteractive('df-ce0ef7f7-c066-4b48-b9e4-4e37c1244313')\"\n",
              "            title=\"Convert this dataframe to an interactive table.\"\n",
              "            style=\"display:none;\">\n",
              "\n",
              "  <svg xmlns=\"http://www.w3.org/2000/svg\" height=\"24px\" viewBox=\"0 -960 960 960\">\n",
              "    <path d=\"M120-120v-720h720v720H120Zm60-500h600v-160H180v160Zm220 220h160v-160H400v160Zm0 220h160v-160H400v160ZM180-400h160v-160H180v160Zm440 0h160v-160H620v160ZM180-180h160v-160H180v160Zm440 0h160v-160H620v160Z\"/>\n",
              "  </svg>\n",
              "    </button>\n",
              "\n",
              "  <style>\n",
              "    .colab-df-container {\n",
              "      display:flex;\n",
              "      gap: 12px;\n",
              "    }\n",
              "\n",
              "    .colab-df-convert {\n",
              "      background-color: #E8F0FE;\n",
              "      border: none;\n",
              "      border-radius: 50%;\n",
              "      cursor: pointer;\n",
              "      display: none;\n",
              "      fill: #1967D2;\n",
              "      height: 32px;\n",
              "      padding: 0 0 0 0;\n",
              "      width: 32px;\n",
              "    }\n",
              "\n",
              "    .colab-df-convert:hover {\n",
              "      background-color: #E2EBFA;\n",
              "      box-shadow: 0px 1px 2px rgba(60, 64, 67, 0.3), 0px 1px 3px 1px rgba(60, 64, 67, 0.15);\n",
              "      fill: #174EA6;\n",
              "    }\n",
              "\n",
              "    .colab-df-buttons div {\n",
              "      margin-bottom: 4px;\n",
              "    }\n",
              "\n",
              "    [theme=dark] .colab-df-convert {\n",
              "      background-color: #3B4455;\n",
              "      fill: #D2E3FC;\n",
              "    }\n",
              "\n",
              "    [theme=dark] .colab-df-convert:hover {\n",
              "      background-color: #434B5C;\n",
              "      box-shadow: 0px 1px 3px 1px rgba(0, 0, 0, 0.15);\n",
              "      filter: drop-shadow(0px 1px 2px rgba(0, 0, 0, 0.3));\n",
              "      fill: #FFFFFF;\n",
              "    }\n",
              "  </style>\n",
              "\n",
              "    <script>\n",
              "      const buttonEl =\n",
              "        document.querySelector('#df-ce0ef7f7-c066-4b48-b9e4-4e37c1244313 button.colab-df-convert');\n",
              "      buttonEl.style.display =\n",
              "        google.colab.kernel.accessAllowed ? 'block' : 'none';\n",
              "\n",
              "      async function convertToInteractive(key) {\n",
              "        const element = document.querySelector('#df-ce0ef7f7-c066-4b48-b9e4-4e37c1244313');\n",
              "        const dataTable =\n",
              "          await google.colab.kernel.invokeFunction('convertToInteractive',\n",
              "                                                    [key], {});\n",
              "        if (!dataTable) return;\n",
              "\n",
              "        const docLinkHtml = 'Like what you see? Visit the ' +\n",
              "          '<a target=\"_blank\" href=https://colab.research.google.com/notebooks/data_table.ipynb>data table notebook</a>'\n",
              "          + ' to learn more about interactive tables.';\n",
              "        element.innerHTML = '';\n",
              "        dataTable['output_type'] = 'display_data';\n",
              "        await google.colab.output.renderOutput(dataTable, element);\n",
              "        const docLink = document.createElement('div');\n",
              "        docLink.innerHTML = docLinkHtml;\n",
              "        element.appendChild(docLink);\n",
              "      }\n",
              "    </script>\n",
              "  </div>\n",
              "\n",
              "\n",
              "<div id=\"df-5c0c78fa-da61-4a8e-b074-071d67930fa3\">\n",
              "  <button class=\"colab-df-quickchart\" onclick=\"quickchart('df-5c0c78fa-da61-4a8e-b074-071d67930fa3')\"\n",
              "            title=\"Suggest charts\"\n",
              "            style=\"display:none;\">\n",
              "\n",
              "<svg xmlns=\"http://www.w3.org/2000/svg\" height=\"24px\"viewBox=\"0 0 24 24\"\n",
              "     width=\"24px\">\n",
              "    <g>\n",
              "        <path d=\"M19 3H5c-1.1 0-2 .9-2 2v14c0 1.1.9 2 2 2h14c1.1 0 2-.9 2-2V5c0-1.1-.9-2-2-2zM9 17H7v-7h2v7zm4 0h-2V7h2v10zm4 0h-2v-4h2v4z\"/>\n",
              "    </g>\n",
              "</svg>\n",
              "  </button>\n",
              "\n",
              "<style>\n",
              "  .colab-df-quickchart {\n",
              "      --bg-color: #E8F0FE;\n",
              "      --fill-color: #1967D2;\n",
              "      --hover-bg-color: #E2EBFA;\n",
              "      --hover-fill-color: #174EA6;\n",
              "      --disabled-fill-color: #AAA;\n",
              "      --disabled-bg-color: #DDD;\n",
              "  }\n",
              "\n",
              "  [theme=dark] .colab-df-quickchart {\n",
              "      --bg-color: #3B4455;\n",
              "      --fill-color: #D2E3FC;\n",
              "      --hover-bg-color: #434B5C;\n",
              "      --hover-fill-color: #FFFFFF;\n",
              "      --disabled-bg-color: #3B4455;\n",
              "      --disabled-fill-color: #666;\n",
              "  }\n",
              "\n",
              "  .colab-df-quickchart {\n",
              "    background-color: var(--bg-color);\n",
              "    border: none;\n",
              "    border-radius: 50%;\n",
              "    cursor: pointer;\n",
              "    display: none;\n",
              "    fill: var(--fill-color);\n",
              "    height: 32px;\n",
              "    padding: 0;\n",
              "    width: 32px;\n",
              "  }\n",
              "\n",
              "  .colab-df-quickchart:hover {\n",
              "    background-color: var(--hover-bg-color);\n",
              "    box-shadow: 0 1px 2px rgba(60, 64, 67, 0.3), 0 1px 3px 1px rgba(60, 64, 67, 0.15);\n",
              "    fill: var(--button-hover-fill-color);\n",
              "  }\n",
              "\n",
              "  .colab-df-quickchart-complete:disabled,\n",
              "  .colab-df-quickchart-complete:disabled:hover {\n",
              "    background-color: var(--disabled-bg-color);\n",
              "    fill: var(--disabled-fill-color);\n",
              "    box-shadow: none;\n",
              "  }\n",
              "\n",
              "  .colab-df-spinner {\n",
              "    border: 2px solid var(--fill-color);\n",
              "    border-color: transparent;\n",
              "    border-bottom-color: var(--fill-color);\n",
              "    animation:\n",
              "      spin 1s steps(1) infinite;\n",
              "  }\n",
              "\n",
              "  @keyframes spin {\n",
              "    0% {\n",
              "      border-color: transparent;\n",
              "      border-bottom-color: var(--fill-color);\n",
              "      border-left-color: var(--fill-color);\n",
              "    }\n",
              "    20% {\n",
              "      border-color: transparent;\n",
              "      border-left-color: var(--fill-color);\n",
              "      border-top-color: var(--fill-color);\n",
              "    }\n",
              "    30% {\n",
              "      border-color: transparent;\n",
              "      border-left-color: var(--fill-color);\n",
              "      border-top-color: var(--fill-color);\n",
              "      border-right-color: var(--fill-color);\n",
              "    }\n",
              "    40% {\n",
              "      border-color: transparent;\n",
              "      border-right-color: var(--fill-color);\n",
              "      border-top-color: var(--fill-color);\n",
              "    }\n",
              "    60% {\n",
              "      border-color: transparent;\n",
              "      border-right-color: var(--fill-color);\n",
              "    }\n",
              "    80% {\n",
              "      border-color: transparent;\n",
              "      border-right-color: var(--fill-color);\n",
              "      border-bottom-color: var(--fill-color);\n",
              "    }\n",
              "    90% {\n",
              "      border-color: transparent;\n",
              "      border-bottom-color: var(--fill-color);\n",
              "    }\n",
              "  }\n",
              "</style>\n",
              "\n",
              "  <script>\n",
              "    async function quickchart(key) {\n",
              "      const quickchartButtonEl =\n",
              "        document.querySelector('#' + key + ' button');\n",
              "      quickchartButtonEl.disabled = true;  // To prevent multiple clicks.\n",
              "      quickchartButtonEl.classList.add('colab-df-spinner');\n",
              "      try {\n",
              "        const charts = await google.colab.kernel.invokeFunction(\n",
              "            'suggestCharts', [key], {});\n",
              "      } catch (error) {\n",
              "        console.error('Error during call to suggestCharts:', error);\n",
              "      }\n",
              "      quickchartButtonEl.classList.remove('colab-df-spinner');\n",
              "      quickchartButtonEl.classList.add('colab-df-quickchart-complete');\n",
              "    }\n",
              "    (() => {\n",
              "      let quickchartButtonEl =\n",
              "        document.querySelector('#df-5c0c78fa-da61-4a8e-b074-071d67930fa3 button');\n",
              "      quickchartButtonEl.style.display =\n",
              "        google.colab.kernel.accessAllowed ? 'block' : 'none';\n",
              "    })();\n",
              "  </script>\n",
              "</div>\n",
              "    </div>\n",
              "  </div>\n"
            ],
            "application/vnd.google.colaboratory.intrinsic+json": {
              "type": "dataframe",
              "variable_name": "DF",
              "summary": "{\n  \"name\": \"DF\",\n  \"rows\": 32485,\n  \"fields\": [\n    {\n      \"column\": \"Make\",\n      \"properties\": {\n        \"dtype\": \"category\",\n        \"num_unique_values\": 79,\n        \"samples\": [\n          \"Mitsubishi\",\n          \"Toyota\",\n          \"Mazda\"\n        ],\n        \"semantic_type\": \"\",\n        \"description\": \"\"\n      }\n    },\n    {\n      \"column\": \"Model\",\n      \"properties\": {\n        \"dtype\": \"category\",\n        \"num_unique_values\": 781,\n        \"samples\": [\n          \"Justy\",\n          \"Vaneo\",\n          \"Atos\"\n        ],\n        \"semantic_type\": \"\",\n        \"description\": \"\"\n      }\n    },\n    {\n      \"column\": \"Year\",\n      \"properties\": {\n        \"dtype\": \"number\",\n        \"std\": 7,\n        \"min\": 1971,\n        \"max\": 2021,\n        \"num_unique_values\": 50,\n        \"samples\": [\n          2013,\n          1990,\n          1987\n        ],\n        \"semantic_type\": \"\",\n        \"description\": \"\"\n      }\n    },\n    {\n      \"column\": \"Style\",\n      \"properties\": {\n        \"dtype\": \"category\",\n        \"num_unique_values\": 12,\n        \"samples\": [\n          \"Cabriolet\",\n          \"Combi\",\n          \"Hatchback\"\n        ],\n        \"semantic_type\": \"\",\n        \"description\": \"\"\n      }\n    },\n    {\n      \"column\": \"Distance\",\n      \"properties\": {\n        \"dtype\": \"number\",\n        \"std\": 91554.9546743865,\n        \"min\": 1.0,\n        \"max\": 500000.0,\n        \"num_unique_values\": 8081,\n        \"samples\": [\n          234829.0,\n          105217.0,\n          478563.0\n        ],\n        \"semantic_type\": \"\",\n        \"description\": \"\"\n      }\n    },\n    {\n      \"column\": \"Engine_capacity(cm3)\",\n      \"properties\": {\n        \"dtype\": \"number\",\n        \"std\": 625.2367314328407,\n        \"min\": 0.0,\n        \"max\": 5000.0,\n        \"num_unique_values\": 636,\n        \"samples\": [\n          995.0,\n          3328.0,\n          1388.0\n        ],\n        \"semantic_type\": \"\",\n        \"description\": \"\"\n      }\n    },\n    {\n      \"column\": \"Fuel_type\",\n      \"properties\": {\n        \"dtype\": \"category\",\n        \"num_unique_values\": 6,\n        \"samples\": [\n          \"Hybrid\",\n          \"Diesel\",\n          \"Plug-in Hybrid\"\n        ],\n        \"semantic_type\": \"\",\n        \"description\": \"\"\n      }\n    },\n    {\n      \"column\": \"Transmission\",\n      \"properties\": {\n        \"dtype\": \"category\",\n        \"num_unique_values\": 2,\n        \"samples\": [\n          \"Manual\",\n          \"Automatic\"\n        ],\n        \"semantic_type\": \"\",\n        \"description\": \"\"\n      }\n    },\n    {\n      \"column\": \"Price(euro)\",\n      \"properties\": {\n        \"dtype\": \"number\",\n        \"std\": 7839.471389087623,\n        \"min\": 200.0,\n        \"max\": 50000.0,\n        \"num_unique_values\": 1562,\n        \"samples\": [\n          720.0,\n          31499.0\n        ],\n        \"semantic_type\": \"\",\n        \"description\": \"\"\n      }\n    }\n  ]\n}"
            }
          },
          "metadata": {},
          "execution_count": 5
        }
      ]
    },
    {
      "cell_type": "markdown",
      "source": [
        "Список числовых и категориальных данных"
      ],
      "metadata": {
        "id": "iFlAkKVu-wy6"
      }
    },
    {
      "cell_type": "code",
      "metadata": {
        "id": "yU8gHQJjwzDa"
      },
      "source": [
        "cat_columns = ['Make', 'Model', 'Style', 'Fuel_type', 'Transmission']\n",
        "num_columns = ['Year', 'Distance', 'Engine_capacity(cm3)', 'Price(euro)']"
      ],
      "execution_count": null,
      "outputs": []
    },
    {
      "cell_type": "markdown",
      "metadata": {
        "id": "4ZCkHlunJgQY"
      },
      "source": [
        "# Подготовка данных"
      ]
    },
    {
      "cell_type": "code",
      "metadata": {
        "id": "sEfPA0RSJgQY"
      },
      "source": [
        "from sklearn.model_selection import train_test_split#  функция разбиения на тренировочную и тестовую выборку\n",
        "# в исполнении scikit-learn\n",
        "from sklearn.model_selection import ShuffleSplit # при кросс-валидации случайно перемешиваем данные\n",
        "from sklearn.model_selection import cross_validate # функция кросс-валидации от Scikit-learn\n",
        "\n",
        "from sklearn.metrics import mean_squared_error as mse # метрика MSE от Scikit-learn\n",
        "from sklearn.metrics import r2_score # коэффициент детерминации  от Scikit-learn\n",
        "\n",
        "from sklearn.metrics import PredictionErrorDisplay # Класс визуализации ошибок модели"
      ],
      "execution_count": null,
      "outputs": []
    },
    {
      "cell_type": "markdown",
      "metadata": {
        "id": "8EDYLQ2K1S16"
      },
      "source": [
        "**Считываем данные, разбиваем на тренировочную и валидационную**"
      ]
    },
    {
      "cell_type": "code",
      "metadata": {
        "id": "X9CoF_ukzxde"
      },
      "source": [
        "# не забываем удалить целевую переменную цену из признаков\n",
        "X, y = DF.drop(columns = ['Price(euro)']), DF['Price(euro)']\n",
        "features_names = list(DF.drop(columns = [\"Price(euro)\"]).columns)\n",
        "\n",
        "# разбиваем на тренировочную и валидационную\n",
        "X_train, X_val, y_train, y_val = train_test_split(X, y,\n",
        "                                                    test_size=0.3,\n",
        "                                                    random_state=42)"
      ],
      "execution_count": null,
      "outputs": []
    },
    {
      "cell_type": "markdown",
      "source": [
        "[Принято сохранять данные в формате Pool](https://catboost.ai/en/docs/concepts/python-reference_pool)\n",
        "\n",
        "Особый класс хранения данных \"чтобы было быстрее\"\n",
        "\n",
        "Плюс можно настроить баланс классов и т.д."
      ],
      "metadata": {
        "id": "pLq0AJsyihsJ"
      }
    },
    {
      "cell_type": "code",
      "source": [
        "from catboost import Pool"
      ],
      "metadata": {
        "id": "N8DS6RREfnIo"
      },
      "execution_count": null,
      "outputs": []
    },
    {
      "cell_type": "code",
      "source": [
        "train_data_reg = Pool(\n",
        "    data=X_train,\n",
        "    label=y_train,\n",
        "    cat_features = cat_columns,\n",
        "    feature_names=features_names,\n",
        ")\n",
        "\n",
        "eval_data_reg = Pool(\n",
        "    data=X_val,\n",
        "    label=y_val,\n",
        "    cat_features = cat_columns,\n",
        "    feature_names=features_names\n",
        ")"
      ],
      "metadata": {
        "id": "azArl5YpC9m1"
      },
      "execution_count": null,
      "outputs": []
    },
    {
      "cell_type": "markdown",
      "metadata": {
        "id": "qVPJyGpARqEI"
      },
      "source": [
        "## Модель"
      ]
    },
    {
      "cell_type": "markdown",
      "source": [
        "Для [регрессии](https://catboost.ai/en/docs/concepts/python-reference_catboostregressor)"
      ],
      "metadata": {
        "id": "vr4NG7D3KIW7"
      }
    },
    {
      "cell_type": "code",
      "metadata": {
        "id": "yHtSSw5SRqEI"
      },
      "source": [
        "from catboost import CatBoostRegressor"
      ],
      "execution_count": null,
      "outputs": []
    },
    {
      "cell_type": "markdown",
      "source": [
        "Создаем Класс, как обычно\n",
        "\n",
        "Ключевые настройки:\n",
        "\n",
        "* `iterations` - количество деревьев / итераций обучения\n",
        "\n",
        "* `objective`- функция потерь, которую надо минимизировать при обучении. Есть показатели для регрессии (среднеквадратичная ошибка), есть для классификации (`logloss`).\n",
        "* `eval_metric` - валидационная метрика, используемая для обнаружения переобучения и ранней остановки;\n",
        "* `early_stopping_rounds` - число итераций до остановки, если на их протяжении метрика качества не улучшалась по сравнению с оптимальной;\n",
        "* `cat_features` - список категориальных признаков (чтобы модель сделала свой TargetEncoder внутри)\n",
        "* `depth` - глубина дерева  (по умолчанию 6, максимальное значение - 16)\n",
        "* `verbose` - объем выводимой информации (выдавливать ответ каждые n итераций)\n",
        "* `random_state` – фиксируем сид для воспроизводимости;\n",
        "\n",
        "\n",
        "\n"
      ],
      "metadata": {
        "id": "O6MgehC7epG9"
      }
    },
    {
      "cell_type": "code",
      "source": [
        "model_reg = CatBoostRegressor(iterations = 1000,\n",
        "                           early_stopping_rounds=100,\n",
        "                           verbose = 100,\n",
        "                           cat_features = cat_columns,\n",
        "                           depth = 3,\n",
        "                              objective  = 'MAE',\n",
        "                           eval_metric= 'MAE',\n",
        "                              random_state = 42\n",
        "                           )\n"
      ],
      "metadata": {
        "id": "dNTG7sR7KxG_"
      },
      "execution_count": null,
      "outputs": []
    },
    {
      "cell_type": "markdown",
      "source": [
        "Применяем метод `fit` по традиции"
      ],
      "metadata": {
        "id": "4RlzJxIiGCLE"
      }
    },
    {
      "cell_type": "code",
      "source": [
        "model_reg.fit(X=train_data_reg,\n",
        "          eval_set=eval_data_reg,\n",
        "          )"
      ],
      "metadata": {
        "colab": {
          "base_uri": "https://localhost:8080/"
        },
        "id": "q9L6P3qYGGlx",
        "outputId": "b34d3909-6836-4997-cbfc-42fd5121cb42"
      },
      "execution_count": null,
      "outputs": [
        {
          "output_type": "stream",
          "name": "stdout",
          "text": [
            "0:\tlearn: 5223.8951819\ttest: 5313.1698105\tbest: 5313.1698105 (0)\ttotal: 117ms\tremaining: 1m 57s\n",
            "100:\tlearn: 2454.2834501\ttest: 2511.2587814\tbest: 2511.2587814 (100)\ttotal: 3.62s\tremaining: 32.2s\n",
            "200:\tlearn: 2159.5455992\ttest: 2192.0149304\tbest: 2192.0149304 (200)\ttotal: 6.22s\tremaining: 24.7s\n",
            "300:\tlearn: 2044.8398003\ttest: 2065.4134492\tbest: 2065.4134492 (300)\ttotal: 9.23s\tremaining: 21.4s\n",
            "400:\tlearn: 1977.1651491\ttest: 1995.5158943\tbest: 1995.5158943 (400)\ttotal: 11.8s\tremaining: 17.6s\n",
            "500:\tlearn: 1929.6857218\ttest: 1948.3261610\tbest: 1948.3261610 (500)\ttotal: 14.9s\tremaining: 14.8s\n",
            "600:\tlearn: 1900.6950133\ttest: 1921.4009347\tbest: 1921.4009347 (600)\ttotal: 18.3s\tremaining: 12.1s\n",
            "700:\tlearn: 1878.7606476\ttest: 1902.4243459\tbest: 1902.4243459 (700)\ttotal: 21.1s\tremaining: 9.01s\n",
            "800:\tlearn: 1858.7548595\ttest: 1885.4834231\tbest: 1885.4834231 (800)\ttotal: 23.7s\tremaining: 5.89s\n",
            "900:\tlearn: 1842.8718348\ttest: 1873.1965049\tbest: 1873.1965049 (900)\ttotal: 26.6s\tremaining: 2.93s\n",
            "999:\tlearn: 1826.4968044\ttest: 1857.7513632\tbest: 1857.7513632 (999)\ttotal: 30.6s\tremaining: 0us\n",
            "\n",
            "bestTest = 1857.751363\n",
            "bestIteration = 999\n",
            "\n"
          ]
        },
        {
          "output_type": "execute_result",
          "data": {
            "text/plain": [
              "<catboost.core.CatBoostRegressor at 0x7ddc59b46c50>"
            ]
          },
          "metadata": {},
          "execution_count": 13
        }
      ]
    },
    {
      "cell_type": "markdown",
      "source": [
        "Поскольку в качестве лучше итерации (`bestIteration`) указана последняя, то наверное можно повторить процедуру обучения с большим числом итераций"
      ],
      "metadata": {
        "id": "_9c5pZDDGqnE"
      }
    },
    {
      "cell_type": "code",
      "source": [
        "#@title Глубина дерева для Отрисовки{ run: \"auto\" }\n",
        "tree_idx=5 #@param {type:\"slider\", min:0, max:25, step:1}\n",
        "\n",
        "model_reg.plot_tree(tree_idx=tree_idx,\n",
        "                pool = train_data_reg)"
      ],
      "metadata": {
        "colab": {
          "base_uri": "https://localhost:8080/",
          "height": 428
        },
        "id": "Ge_trW_8H32G",
        "outputId": "1d02524b-4362-49e6-9221-a120728b6711"
      },
      "execution_count": null,
      "outputs": [
        {
          "output_type": "execute_result",
          "data": {
            "image/svg+xml": "<?xml version=\"1.0\" encoding=\"UTF-8\" standalone=\"no\"?>\n<!DOCTYPE svg PUBLIC \"-//W3C//DTD SVG 1.1//EN\"\n \"http://www.w3.org/Graphics/SVG/1.1/DTD/svg11.dtd\">\n<!-- Generated by graphviz version 2.43.0 (0)\n -->\n<!-- Title: %3 Pages: 1 -->\n<svg width=\"942pt\" height=\"305pt\"\n viewBox=\"0.00 0.00 941.98 305.00\" xmlns=\"http://www.w3.org/2000/svg\" xmlns:xlink=\"http://www.w3.org/1999/xlink\">\n<g id=\"graph0\" class=\"graph\" transform=\"scale(1 1) rotate(0) translate(4 301)\">\n<title>%3</title>\n<polygon fill=\"white\" stroke=\"transparent\" points=\"-4,4 -4,-301 937.98,-301 937.98,4 -4,4\"/>\n<!-- 0 -->\n<g id=\"node1\" class=\"node\">\n<title>0</title>\n<ellipse fill=\"none\" stroke=\"black\" cx=\"463.48\" cy=\"-279\" rx=\"125.38\" ry=\"18\"/>\n<text text-anchor=\"middle\" x=\"463.48\" y=\"-275.3\" font-family=\"Times,serif\" font-size=\"14.00\">Transmission, value=Automatic</text>\n</g>\n<!-- 1 -->\n<g id=\"node2\" class=\"node\">\n<title>1</title>\n<ellipse fill=\"none\" stroke=\"black\" cx=\"227.48\" cy=\"-192\" rx=\"227.46\" ry=\"18\"/>\n<text text-anchor=\"middle\" x=\"227.48\" y=\"-188.3\" font-family=\"Times,serif\" font-size=\"14.00\">{Style} counter_type=Borders prior_numerator=0, value&gt;10</text>\n</g>\n<!-- 0&#45;&gt;1 -->\n<g id=\"edge1\" class=\"edge\">\n<title>0&#45;&gt;1</title>\n<path fill=\"none\" stroke=\"black\" d=\"M419.37,-262.11C380.87,-248.25 324.83,-228.06 283.24,-213.08\"/>\n<polygon fill=\"black\" stroke=\"black\" points=\"284.39,-209.78 273.8,-209.68 282.02,-216.36 284.39,-209.78\"/>\n<text text-anchor=\"middle\" x=\"368.98\" y=\"-231.8\" font-family=\"Times,serif\" font-size=\"14.00\">No</text>\n</g>\n<!-- 2 -->\n<g id=\"node3\" class=\"node\">\n<title>2</title>\n<ellipse fill=\"none\" stroke=\"black\" cx=\"700.48\" cy=\"-192\" rx=\"227.46\" ry=\"18\"/>\n<text text-anchor=\"middle\" x=\"700.48\" y=\"-188.3\" font-family=\"Times,serif\" font-size=\"14.00\">{Style} counter_type=Borders prior_numerator=0, value&gt;10</text>\n</g>\n<!-- 0&#45;&gt;2 -->\n<g id=\"edge2\" class=\"edge\">\n<title>0&#45;&gt;2</title>\n<path fill=\"none\" stroke=\"black\" d=\"M507.78,-262.11C546.44,-248.25 602.72,-228.06 644.49,-213.08\"/>\n<polygon fill=\"black\" stroke=\"black\" points=\"645.74,-216.35 653.97,-209.68 643.37,-209.76 645.74,-216.35\"/>\n<text text-anchor=\"middle\" x=\"606.98\" y=\"-231.8\" font-family=\"Times,serif\" font-size=\"14.00\">Yes</text>\n</g>\n<!-- 3 -->\n<g id=\"node4\" class=\"node\">\n<title>3</title>\n<ellipse fill=\"none\" stroke=\"black\" cx=\"128.48\" cy=\"-105\" rx=\"80.69\" ry=\"18\"/>\n<text text-anchor=\"middle\" x=\"128.48\" y=\"-101.3\" font-family=\"Times,serif\" font-size=\"14.00\">Year, value&gt;2011.5</text>\n</g>\n<!-- 1&#45;&gt;3 -->\n<g id=\"edge3\" class=\"edge\">\n<title>1&#45;&gt;3</title>\n<path fill=\"none\" stroke=\"black\" d=\"M207.45,-173.8C192.49,-160.96 171.89,-143.27 155.49,-129.19\"/>\n<polygon fill=\"black\" stroke=\"black\" points=\"157.68,-126.46 147.81,-122.6 153.12,-131.77 157.68,-126.46\"/>\n<text text-anchor=\"middle\" x=\"192.98\" y=\"-144.8\" font-family=\"Times,serif\" font-size=\"14.00\">No</text>\n</g>\n<!-- 4 -->\n<g id=\"node5\" class=\"node\">\n<title>4</title>\n<ellipse fill=\"none\" stroke=\"black\" cx=\"307.48\" cy=\"-105\" rx=\"80.69\" ry=\"18\"/>\n<text text-anchor=\"middle\" x=\"307.48\" y=\"-101.3\" font-family=\"Times,serif\" font-size=\"14.00\">Year, value&gt;2011.5</text>\n</g>\n<!-- 1&#45;&gt;4 -->\n<g id=\"edge4\" class=\"edge\">\n<title>1&#45;&gt;4</title>\n<path fill=\"none\" stroke=\"black\" d=\"M243.67,-173.8C255.46,-161.27 271.58,-144.14 284.67,-130.23\"/>\n<polygon fill=\"black\" stroke=\"black\" points=\"287.28,-132.57 291.59,-122.89 282.19,-127.77 287.28,-132.57\"/>\n<text text-anchor=\"middle\" x=\"282.98\" y=\"-144.8\" font-family=\"Times,serif\" font-size=\"14.00\">Yes</text>\n</g>\n<!-- 5 -->\n<g id=\"node6\" class=\"node\">\n<title>5</title>\n<ellipse fill=\"none\" stroke=\"black\" cx=\"618.48\" cy=\"-105\" rx=\"80.69\" ry=\"18\"/>\n<text text-anchor=\"middle\" x=\"618.48\" y=\"-101.3\" font-family=\"Times,serif\" font-size=\"14.00\">Year, value&gt;2011.5</text>\n</g>\n<!-- 2&#45;&gt;5 -->\n<g id=\"edge5\" class=\"edge\">\n<title>2&#45;&gt;5</title>\n<path fill=\"none\" stroke=\"black\" d=\"M683.89,-173.8C671.8,-161.27 655.27,-144.14 641.86,-130.23\"/>\n<polygon fill=\"black\" stroke=\"black\" points=\"644.23,-127.65 634.77,-122.89 639.19,-132.51 644.23,-127.65\"/>\n<text text-anchor=\"middle\" x=\"672.98\" y=\"-144.8\" font-family=\"Times,serif\" font-size=\"14.00\">No</text>\n</g>\n<!-- 6 -->\n<g id=\"node7\" class=\"node\">\n<title>6</title>\n<ellipse fill=\"none\" stroke=\"black\" cx=\"797.48\" cy=\"-105\" rx=\"80.69\" ry=\"18\"/>\n<text text-anchor=\"middle\" x=\"797.48\" y=\"-101.3\" font-family=\"Times,serif\" font-size=\"14.00\">Year, value&gt;2011.5</text>\n</g>\n<!-- 2&#45;&gt;6 -->\n<g id=\"edge6\" class=\"edge\">\n<title>2&#45;&gt;6</title>\n<path fill=\"none\" stroke=\"black\" d=\"M720.11,-173.8C734.63,-161.08 754.58,-143.6 770.58,-129.57\"/>\n<polygon fill=\"black\" stroke=\"black\" points=\"773.33,-131.82 778.54,-122.6 768.71,-126.56 773.33,-131.82\"/>\n<text text-anchor=\"middle\" x=\"765.98\" y=\"-144.8\" font-family=\"Times,serif\" font-size=\"14.00\">Yes</text>\n</g>\n<!-- 7 -->\n<g id=\"node8\" class=\"node\">\n<title>7</title>\n<polygon fill=\"none\" stroke=\"red\" points=\"105.98,-36 14.98,-36 14.98,0 105.98,0 105.98,-36\"/>\n<text text-anchor=\"middle\" x=\"60.48\" y=\"-14.3\" font-family=\"Times,serif\" font-size=\"14.00\">val = &#45;86.467</text>\n</g>\n<!-- 3&#45;&gt;7 -->\n<g id=\"edge7\" class=\"edge\">\n<title>3&#45;&gt;7</title>\n<path fill=\"none\" stroke=\"black\" d=\"M115.05,-87.21C105.24,-74.95 91.77,-58.11 80.67,-44.24\"/>\n<polygon fill=\"black\" stroke=\"black\" points=\"83.1,-41.67 74.12,-36.05 77.63,-46.04 83.1,-41.67\"/>\n<text text-anchor=\"middle\" x=\"107.98\" y=\"-57.8\" font-family=\"Times,serif\" font-size=\"14.00\">No</text>\n</g>\n<!-- 8 -->\n<g id=\"node9\" class=\"node\">\n<title>8</title>\n<polygon fill=\"none\" stroke=\"red\" points=\"210.48,-36 124.48,-36 124.48,0 210.48,0 210.48,-36\"/>\n<text text-anchor=\"middle\" x=\"167.48\" y=\"-14.3\" font-family=\"Times,serif\" font-size=\"14.00\">val = 17.570</text>\n</g>\n<!-- 3&#45;&gt;8 -->\n<g id=\"edge8\" class=\"edge\">\n<title>3&#45;&gt;8</title>\n<path fill=\"none\" stroke=\"black\" d=\"M136.37,-86.8C141.82,-74.93 149.16,-58.93 155.34,-45.45\"/>\n<polygon fill=\"black\" stroke=\"black\" points=\"158.61,-46.72 159.6,-36.18 152.25,-43.8 158.61,-46.72\"/>\n<text text-anchor=\"middle\" x=\"160.98\" y=\"-57.8\" font-family=\"Times,serif\" font-size=\"14.00\">Yes</text>\n</g>\n<!-- 9 -->\n<g id=\"node10\" class=\"node\">\n<title>9</title>\n<polygon fill=\"none\" stroke=\"red\" points=\"327.48,-36 247.48,-36 247.48,0 327.48,0 327.48,-36\"/>\n<text text-anchor=\"middle\" x=\"287.48\" y=\"-14.3\" font-family=\"Times,serif\" font-size=\"14.00\">val = 4.439</text>\n</g>\n<!-- 4&#45;&gt;9 -->\n<g id=\"edge9\" class=\"edge\">\n<title>4&#45;&gt;9</title>\n<path fill=\"none\" stroke=\"black\" d=\"M303.43,-86.8C300.69,-75.16 297.02,-59.55 293.89,-46.24\"/>\n<polygon fill=\"black\" stroke=\"black\" points=\"297.22,-45.11 291.52,-36.18 290.4,-46.71 297.22,-45.11\"/>\n<text text-anchor=\"middle\" x=\"307.98\" y=\"-57.8\" font-family=\"Times,serif\" font-size=\"14.00\">No</text>\n</g>\n<!-- 10 -->\n<g id=\"node11\" class=\"node\">\n<title>10</title>\n<polygon fill=\"none\" stroke=\"red\" points=\"438.98,-36 345.98,-36 345.98,0 438.98,0 438.98,-36\"/>\n<text text-anchor=\"middle\" x=\"392.48\" y=\"-14.3\" font-family=\"Times,serif\" font-size=\"14.00\">val = 133.558</text>\n</g>\n<!-- 4&#45;&gt;10 -->\n<g id=\"edge10\" class=\"edge\">\n<title>4&#45;&gt;10</title>\n<path fill=\"none\" stroke=\"black\" d=\"M324.27,-87.21C336.76,-74.72 354,-57.48 368.02,-43.46\"/>\n<polygon fill=\"black\" stroke=\"black\" points=\"370.83,-45.6 375.43,-36.05 365.88,-40.65 370.83,-45.6\"/>\n<text text-anchor=\"middle\" x=\"365.98\" y=\"-57.8\" font-family=\"Times,serif\" font-size=\"14.00\">Yes</text>\n</g>\n<!-- 11 -->\n<g id=\"node12\" class=\"node\">\n<title>11</title>\n<polygon fill=\"none\" stroke=\"red\" points=\"588.98,-36 497.98,-36 497.98,0 588.98,0 588.98,-36\"/>\n<text text-anchor=\"middle\" x=\"543.48\" y=\"-14.3\" font-family=\"Times,serif\" font-size=\"14.00\">val = &#45;22.903</text>\n</g>\n<!-- 5&#45;&gt;11 -->\n<g id=\"edge11\" class=\"edge\">\n<title>5&#45;&gt;11</title>\n<path fill=\"none\" stroke=\"black\" d=\"M603.66,-87.21C592.74,-74.83 577.71,-57.8 565.4,-43.85\"/>\n<polygon fill=\"black\" stroke=\"black\" points=\"567.76,-41.23 558.52,-36.05 562.52,-45.86 567.76,-41.23\"/>\n<text text-anchor=\"middle\" x=\"593.98\" y=\"-57.8\" font-family=\"Times,serif\" font-size=\"14.00\">No</text>\n</g>\n<!-- 12 -->\n<g id=\"node13\" class=\"node\">\n<title>12</title>\n<polygon fill=\"none\" stroke=\"red\" points=\"699.98,-36 606.98,-36 606.98,0 699.98,0 699.98,-36\"/>\n<text text-anchor=\"middle\" x=\"653.48\" y=\"-14.3\" font-family=\"Times,serif\" font-size=\"14.00\">val = 177.812</text>\n</g>\n<!-- 5&#45;&gt;12 -->\n<g id=\"edge12\" class=\"edge\">\n<title>5&#45;&gt;12</title>\n<path fill=\"none\" stroke=\"black\" d=\"M625.56,-86.8C630.45,-74.93 637.04,-58.93 642.59,-45.45\"/>\n<polygon fill=\"black\" stroke=\"black\" points=\"645.84,-46.75 646.41,-36.18 639.36,-44.09 645.84,-46.75\"/>\n<text text-anchor=\"middle\" x=\"648.98\" y=\"-57.8\" font-family=\"Times,serif\" font-size=\"14.00\">Yes</text>\n</g>\n<!-- 13 -->\n<g id=\"node14\" class=\"node\">\n<title>13</title>\n<polygon fill=\"none\" stroke=\"red\" points=\"822.48,-36 736.48,-36 736.48,0 822.48,0 822.48,-36\"/>\n<text text-anchor=\"middle\" x=\"779.48\" y=\"-14.3\" font-family=\"Times,serif\" font-size=\"14.00\">val = 80.078</text>\n</g>\n<!-- 6&#45;&gt;13 -->\n<g id=\"edge13\" class=\"edge\">\n<title>6&#45;&gt;13</title>\n<path fill=\"none\" stroke=\"black\" d=\"M793.84,-86.8C791.37,-75.16 788.07,-59.55 785.25,-46.24\"/>\n<polygon fill=\"black\" stroke=\"black\" points=\"788.61,-45.23 783.12,-36.18 781.76,-46.68 788.61,-45.23\"/>\n<text text-anchor=\"middle\" x=\"798.98\" y=\"-57.8\" font-family=\"Times,serif\" font-size=\"14.00\">No</text>\n</g>\n<!-- 14 -->\n<g id=\"node15\" class=\"node\">\n<title>14</title>\n<polygon fill=\"none\" stroke=\"red\" points=\"933.98,-36 840.98,-36 840.98,0 933.98,0 933.98,-36\"/>\n<text text-anchor=\"middle\" x=\"887.48\" y=\"-14.3\" font-family=\"Times,serif\" font-size=\"14.00\">val = 306.054</text>\n</g>\n<!-- 6&#45;&gt;14 -->\n<g id=\"edge14\" class=\"edge\">\n<title>6&#45;&gt;14</title>\n<path fill=\"none\" stroke=\"black\" d=\"M815.26,-87.21C828.61,-74.6 847.08,-57.16 862,-43.07\"/>\n<polygon fill=\"black\" stroke=\"black\" points=\"864.56,-45.46 869.43,-36.05 859.75,-40.37 864.56,-45.46\"/>\n<text text-anchor=\"middle\" x=\"857.98\" y=\"-57.8\" font-family=\"Times,serif\" font-size=\"14.00\">Yes</text>\n</g>\n</g>\n</svg>\n",
            "text/plain": [
              "<graphviz.graphs.Digraph at 0x7ddc59b476d0>"
            ]
          },
          "metadata": {},
          "execution_count": 14
        }
      ]
    },
    {
      "cell_type": "markdown",
      "source": [
        "**История обучения**"
      ],
      "metadata": {
        "id": "4v-K8nDSzJ3r"
      }
    },
    {
      "cell_type": "code",
      "source": [
        "results = model_reg.evals_result_"
      ],
      "metadata": {
        "id": "yVNr3oIJzJ3r"
      },
      "execution_count": null,
      "outputs": []
    },
    {
      "cell_type": "code",
      "source": [
        "plt.figure(figsize=(10,7))\n",
        "plt.plot(results[\"learn\"][\"MAE\"], label=\"Метрика на Тренировочных данных\")\n",
        "plt.plot(results[\"validation\"][\"MAE\"], label=\"Метрика на Валидационных данных\")\n",
        "plt.xlabel(\"Количество Деревьев\")\n",
        "plt.ylabel(\"Метрика\")\n",
        "plt.legend();"
      ],
      "metadata": {
        "colab": {
          "base_uri": "https://localhost:8080/",
          "height": 619
        },
        "outputId": "59918bf9-eca5-4b28-8dc7-496ee5e8dbfb",
        "id": "URGZV6hEzJ3r"
      },
      "execution_count": null,
      "outputs": [
        {
          "output_type": "display_data",
          "data": {
            "text/plain": [
              "<Figure size 1000x700 with 1 Axes>"
            ],
            "image/png": "[encoded data removed]"
          },
          "metadata": {}
        }
      ]
    },
    {
      "cell_type": "markdown",
      "source": [
        "## Визуализация значимости признаков"
      ],
      "metadata": {
        "id": "E818o5N8f4uT"
      }
    },
    {
      "cell_type": "code",
      "source": [
        "def feature_importance_plotter(model, features_names):\n",
        "    \"\"\"Отрисовка значимости признаков в виде горизонтальных столбчатых диаграмм.\n",
        "    Параметры:\n",
        "    ===========\n",
        "    model: модель\n",
        "    features_names: список имен признаков\n",
        "    \"\"\"\n",
        "    feature_importance = model.feature_importances_\n",
        "\n",
        "    sorted = np.argsort(feature_importance)\n",
        "\n",
        "    ypos = np.arange(len(features_names))\n",
        "\n",
        "    fig= plt.figure(figsize=(8,4))\n",
        "    plt.barh(ypos, feature_importance[sorted])\n",
        "    #plt.xlim([0,1])\n",
        "    plt.ylabel('Параметры')\n",
        "    plt.xlabel('Значимость')\n",
        "    plt.yticks(ypos,features_names[sorted] );"
      ],
      "metadata": {
        "id": "Ecy3oAJp4OFI"
      },
      "execution_count": null,
      "outputs": []
    },
    {
      "cell_type": "markdown",
      "source": [
        "Важно отметить, что по умолчанию - значимость не нормируется на единицу"
      ],
      "metadata": {
        "id": "UhduK_aYGhpv"
      }
    },
    {
      "cell_type": "code",
      "metadata": {
        "id": "rTwNRMT7RqEI",
        "colab": {
          "base_uri": "https://localhost:8080/",
          "height": 388
        },
        "outputId": "73a05b3c-3d22-4fa3-9661-6c334c71363c"
      },
      "source": [
        "feature_importance_plotter(model_reg, np.array(features_names))"
      ],
      "execution_count": null,
      "outputs": [
        {
          "output_type": "display_data",
          "data": {
            "text/plain": [
              "<Figure size 800x400 with 1 Axes>"
            ],
            "image/png": "[encoded data removed]"
          },
          "metadata": {}
        }
      ]
    },
    {
      "cell_type": "markdown",
      "source": [
        "## Оценка метрик"
      ],
      "metadata": {
        "id": "ZgNBwaqoWiLy"
      }
    },
    {
      "cell_type": "code",
      "source": [
        "def calculate_metric(model_pipe, X, y, metric = r2_score):\n",
        "    \"\"\"Расчет метрики.\n",
        "    Параметры:\n",
        "    ===========\n",
        "    model_pipe: модель или pipeline\n",
        "    X: признаки\n",
        "    y: истинные значения\n",
        "    metric: метрика (r2 - по умолчанию)\n",
        "    \"\"\"\n",
        "    y_model = model_pipe.predict(X)\n",
        "    return metric(y, y_model)"
      ],
      "metadata": {
        "id": "Ropf87QqWLfR"
      },
      "execution_count": null,
      "outputs": []
    },
    {
      "cell_type": "code",
      "source": [
        "print(f\"r2 на тренировочной выборке: {calculate_metric(model_reg, train_data_reg, y_train):.4f}\")\n",
        "print(f\"r2 на валидационной выборке: {calculate_metric(model_reg, eval_data_reg, y_val):.4f}\")\n",
        "\n",
        "print(f\"mse на тренировочной выборке: {calculate_metric(model_reg, train_data_reg, y_train, mse):.4f}\")\n",
        "print(f\"mse на валидационной выборке: {calculate_metric(model_reg, eval_data_reg, y_val, mse):.4f}\")"
      ],
      "metadata": {
        "colab": {
          "base_uri": "https://localhost:8080/"
        },
        "id": "LgvAQ_-eWO85",
        "outputId": "14832910-45f1-43f6-96e6-e8e7f4f2ad55"
      },
      "execution_count": null,
      "outputs": [
        {
          "output_type": "stream",
          "name": "stdout",
          "text": [
            "r2 на тренировочной выборке: 0.8281\n",
            "r2 на валидационной выборке: 0.8294\n",
            "mse на тренировочной выборке: 10450296.0707\n",
            "mse на валидационной выборке: 10741386.9089\n"
          ]
        }
      ]
    },
    {
      "cell_type": "markdown",
      "source": [
        "## Кросс-валидация"
      ],
      "metadata": {
        "id": "NMBv_PFrdf-4"
      }
    },
    {
      "cell_type": "code",
      "source": [
        "def cross_validation (X, y, model, scoring, cv_rule):\n",
        "    \"\"\"Расчет метрик на кросс-валидации.\n",
        "    Параметры:\n",
        "    ===========\n",
        "    model: модель или pipeline\n",
        "    X: признаки\n",
        "    y: истинные значения\n",
        "    scoring: словарь метрик\n",
        "    cv_rule: правило кросс-валидации\n",
        "    \"\"\"\n",
        "    scores = cross_validate(model,X, y,\n",
        "                      scoring=scoring, cv=cv_rule )\n",
        "    print('Ошибка на кросс-валидации')\n",
        "    DF_score = pd.DataFrame(scores)\n",
        "    display(DF_score)\n",
        "    print('\\n')\n",
        "    print(DF_score.mean()[2:])"
      ],
      "metadata": {
        "id": "1cc0DOHUdisi"
      },
      "execution_count": null,
      "outputs": []
    },
    {
      "cell_type": "code",
      "source": [
        "scoring_reg = {'R2': 'r2',\n",
        "           '-MSE': 'neg_mean_squared_error',\n",
        "           '-MAE': 'neg_mean_absolute_error',\n",
        "           '-Max': 'max_error'}"
      ],
      "metadata": {
        "id": "hNahJrMLd5FV"
      },
      "execution_count": null,
      "outputs": []
    },
    {
      "cell_type": "markdown",
      "source": [
        "В принципе работает без сложностей и доп. телодвижений"
      ],
      "metadata": {
        "id": "BFry1R_YHRqN"
      }
    },
    {
      "cell_type": "code",
      "source": [
        "cross_validation (X_train, y_train,\n",
        "                  model_reg,\n",
        "                  scoring_reg,\n",
        "                  ShuffleSplit(n_splits=5, random_state = 42))"
      ],
      "metadata": {
        "colab": {
          "base_uri": "https://localhost:8080/",
          "height": 1000
        },
        "id": "HYZb3oHTd0mo",
        "outputId": "0ae6387d-5101-491a-b78e-2a3002b18ac6"
      },
      "execution_count": null,
      "outputs": [
        {
          "output_type": "stream",
          "name": "stdout",
          "text": [
            "0:\tlearn: 5240.0559261\ttotal: 13.7ms\tremaining: 13.7s\n",
            "100:\tlearn: 2432.1790146\ttotal: 1.07s\tremaining: 9.54s\n",
            "200:\tlearn: 2145.4147910\ttotal: 2.17s\tremaining: 8.61s\n",
            "300:\tlearn: 2033.0948877\ttotal: 3.18s\tremaining: 7.39s\n",
            "400:\tlearn: 1969.4006914\ttotal: 4.18s\tremaining: 6.24s\n",
            "500:\tlearn: 1925.7333452\ttotal: 5.17s\tremaining: 5.15s\n",
            "600:\tlearn: 1895.9679068\ttotal: 6.14s\tremaining: 4.07s\n",
            "700:\tlearn: 1874.3626524\ttotal: 7.13s\tremaining: 3.04s\n",
            "800:\tlearn: 1853.5429424\ttotal: 8.16s\tremaining: 2.03s\n",
            "900:\tlearn: 1836.0474063\ttotal: 9.32s\tremaining: 1.02s\n",
            "999:\tlearn: 1817.1849222\ttotal: 11.3s\tremaining: 0us\n",
            "0:\tlearn: 5210.5621362\ttotal: 20.7ms\tremaining: 20.7s\n",
            "100:\tlearn: 2417.4529069\ttotal: 1.29s\tremaining: 11.5s\n",
            "200:\tlearn: 2121.3342252\ttotal: 2.35s\tremaining: 9.35s\n",
            "300:\tlearn: 2028.6806449\ttotal: 3.34s\tremaining: 7.76s\n",
            "400:\tlearn: 1964.1303440\ttotal: 4.34s\tremaining: 6.49s\n",
            "500:\tlearn: 1922.1708243\ttotal: 5.36s\tremaining: 5.33s\n",
            "600:\tlearn: 1889.4670676\ttotal: 6.32s\tremaining: 4.2s\n",
            "700:\tlearn: 1861.9609257\ttotal: 7.3s\tremaining: 3.12s\n",
            "800:\tlearn: 1840.2417050\ttotal: 8.33s\tremaining: 2.07s\n",
            "900:\tlearn: 1817.3625625\ttotal: 9.36s\tremaining: 1.03s\n",
            "999:\tlearn: 1803.1380954\ttotal: 10.5s\tremaining: 0us\n",
            "0:\tlearn: 5219.0598650\ttotal: 28.2ms\tremaining: 28.1s\n",
            "100:\tlearn: 2427.2342380\ttotal: 1.89s\tremaining: 16.8s\n",
            "200:\tlearn: 2118.5610332\ttotal: 3.56s\tremaining: 14.2s\n",
            "300:\tlearn: 2032.4484586\ttotal: 4.55s\tremaining: 10.6s\n",
            "400:\tlearn: 1967.0771020\ttotal: 5.55s\tremaining: 8.3s\n",
            "500:\tlearn: 1919.1107697\ttotal: 6.58s\tremaining: 6.55s\n",
            "600:\tlearn: 1887.6148408\ttotal: 7.55s\tremaining: 5.01s\n",
            "700:\tlearn: 1862.5893830\ttotal: 8.56s\tremaining: 3.65s\n",
            "800:\tlearn: 1839.2645283\ttotal: 9.59s\tremaining: 2.38s\n",
            "900:\tlearn: 1820.4860882\ttotal: 10.6s\tremaining: 1.16s\n",
            "999:\tlearn: 1805.2513843\ttotal: 11.6s\tremaining: 0us\n",
            "0:\tlearn: 5235.8476437\ttotal: 12.9ms\tremaining: 12.9s\n",
            "100:\tlearn: 2444.8183950\ttotal: 1.01s\tremaining: 9.01s\n",
            "200:\tlearn: 2132.3294418\ttotal: 2.79s\tremaining: 11.1s\n",
            "300:\tlearn: 2031.0036080\ttotal: 4.55s\tremaining: 10.6s\n",
            "400:\tlearn: 1970.6850897\ttotal: 5.54s\tremaining: 8.27s\n",
            "500:\tlearn: 1926.2704747\ttotal: 6.53s\tremaining: 6.51s\n",
            "600:\tlearn: 1895.5530615\ttotal: 7.48s\tremaining: 4.97s\n",
            "700:\tlearn: 1866.1593624\ttotal: 8.5s\tremaining: 3.63s\n",
            "800:\tlearn: 1840.4933568\ttotal: 9.52s\tremaining: 2.37s\n",
            "900:\tlearn: 1823.9521558\ttotal: 10.5s\tremaining: 1.16s\n",
            "999:\tlearn: 1807.9711103\ttotal: 11.6s\tremaining: 0us\n",
            "0:\tlearn: 5242.6829840\ttotal: 13.2ms\tremaining: 13.1s\n",
            "100:\tlearn: 2439.2158083\ttotal: 1.02s\tremaining: 9.06s\n",
            "200:\tlearn: 2148.2538779\ttotal: 2.08s\tremaining: 8.29s\n",
            "300:\tlearn: 2041.4020457\ttotal: 3.58s\tremaining: 8.31s\n",
            "400:\tlearn: 1975.1860873\ttotal: 5.6s\tremaining: 8.37s\n",
            "500:\tlearn: 1931.0748576\ttotal: 6.59s\tremaining: 6.57s\n",
            "600:\tlearn: 1899.4373035\ttotal: 7.59s\tremaining: 5.04s\n",
            "700:\tlearn: 1872.1248895\ttotal: 8.59s\tremaining: 3.66s\n",
            "800:\tlearn: 1848.8344730\ttotal: 9.57s\tremaining: 2.38s\n",
            "900:\tlearn: 1829.4690532\ttotal: 10.6s\tremaining: 1.16s\n",
            "999:\tlearn: 1813.2419654\ttotal: 11.6s\tremaining: 0us\n",
            "Ошибка на кросс-валидации\n"
          ]
        },
        {
          "output_type": "display_data",
          "data": {
            "text/plain": [
              "    fit_time  score_time   test_R2     test_-MSE    test_-MAE     test_-Max\n",
              "0  11.535767    0.021922  0.841411 -9.390346e+06 -1777.133593 -28868.550740\n",
              "1  10.698956    0.024943  0.844429 -1.005867e+07 -1781.477778 -38545.874283\n",
              "2  11.828093    0.010387  0.826299 -1.066391e+07 -1794.431797 -39750.768665\n",
              "3  11.785918    0.011199  0.833388 -9.950977e+06 -1841.584587 -21690.035553\n",
              "4  11.814038    0.010359  0.824318 -1.028873e+07 -1781.033373 -39889.435479"
            ],
            "text/html": [
              "\n",
              "  <div id=\"df-c76e7914-beed-460a-be0f-dd5ecedc7db0\" class=\"colab-df-container\">\n",
              "    <div>\n",
              "<style scoped>\n",
              "    .dataframe tbody tr th:only-of-type {\n",
              "        vertical-align: middle;\n",
              "    }\n",
              "\n",
              "    .dataframe tbody tr th {\n",
              "        vertical-align: top;\n",
              "    }\n",
              "\n",
              "    .dataframe thead th {\n",
              "        text-align: right;\n",
              "    }\n",
              "</style>\n",
              "<table border=\"1\" class=\"dataframe\">\n",
              "  <thead>\n",
              "    <tr style=\"text-align: right;\">\n",
              "      <th></th>\n",
              "      <th>fit_time</th>\n",
              "      <th>score_time</th>\n",
              "      <th>test_R2</th>\n",
              "      <th>test_-MSE</th>\n",
              "      <th>test_-MAE</th>\n",
              "      <th>test_-Max</th>\n",
              "    </tr>\n",
              "  </thead>\n",
              "  <tbody>\n",
              "    <tr>\n",
              "      <th>0</th>\n",
              "      <td>11.535767</td>\n",
              "      <td>0.021922</td>\n",
              "      <td>0.841411</td>\n",
              "      <td>-9.390346e+06</td>\n",
              "      <td>-1777.133593</td>\n",
              "      <td>-28868.550740</td>\n",
              "    </tr>\n",
              "    <tr>\n",
              "      <th>1</th>\n",
              "      <td>10.698956</td>\n",
              "      <td>0.024943</td>\n",
              "      <td>0.844429</td>\n",
              "      <td>-1.005867e+07</td>\n",
              "      <td>-1781.477778</td>\n",
              "      <td>-38545.874283</td>\n",
              "    </tr>\n",
              "    <tr>\n",
              "      <th>2</th>\n",
              "      <td>11.828093</td>\n",
              "      <td>0.010387</td>\n",
              "      <td>0.826299</td>\n",
              "      <td>-1.066391e+07</td>\n",
              "      <td>-1794.431797</td>\n",
              "      <td>-39750.768665</td>\n",
              "    </tr>\n",
              "    <tr>\n",
              "      <th>3</th>\n",
              "      <td>11.785918</td>\n",
              "      <td>0.011199</td>\n",
              "      <td>0.833388</td>\n",
              "      <td>-9.950977e+06</td>\n",
              "      <td>-1841.584587</td>\n",
              "      <td>-21690.035553</td>\n",
              "    </tr>\n",
              "    <tr>\n",
              "      <th>4</th>\n",
              "      <td>11.814038</td>\n",
              "      <td>0.010359</td>\n",
              "      <td>0.824318</td>\n",
              "      <td>-1.028873e+07</td>\n",
              "      <td>-1781.033373</td>\n",
              "      <td>-39889.435479</td>\n",
              "    </tr>\n",
              "  </tbody>\n",
              "</table>\n",
              "</div>\n",
              "    <div class=\"colab-df-buttons\">\n",
              "\n",
              "  <div class=\"colab-df-container\">\n",
              "    <button class=\"colab-df-convert\" onclick=\"convertToInteractive('df-c76e7914-beed-460a-be0f-dd5ecedc7db0')\"\n",
              "            title=\"Convert this dataframe to an interactive table.\"\n",
              "            style=\"display:none;\">\n",
              "\n",
              "  <svg xmlns=\"http://www.w3.org/2000/svg\" height=\"24px\" viewBox=\"0 -960 960 960\">\n",
              "    <path d=\"M120-120v-720h720v720H120Zm60-500h600v-160H180v160Zm220 220h160v-160H400v160Zm0 220h160v-160H400v160ZM180-400h160v-160H180v160Zm440 0h160v-160H620v160ZM180-180h160v-160H180v160Zm440 0h160v-160H620v160Z\"/>\n",
              "  </svg>\n",
              "    </button>\n",
              "\n",
              "  <style>\n",
              "    .colab-df-container {\n",
              "      display:flex;\n",
              "      gap: 12px;\n",
              "    }\n",
              "\n",
              "    .colab-df-convert {\n",
              "      background-color: #E8F0FE;\n",
              "      border: none;\n",
              "      border-radius: 50%;\n",
              "      cursor: pointer;\n",
              "      display: none;\n",
              "      fill: #1967D2;\n",
              "      height: 32px;\n",
              "      padding: 0 0 0 0;\n",
              "      width: 32px;\n",
              "    }\n",
              "\n",
              "    .colab-df-convert:hover {\n",
              "      background-color: #E2EBFA;\n",
              "      box-shadow: 0px 1px 2px rgba(60, 64, 67, 0.3), 0px 1px 3px 1px rgba(60, 64, 67, 0.15);\n",
              "      fill: #174EA6;\n",
              "    }\n",
              "\n",
              "    .colab-df-buttons div {\n",
              "      margin-bottom: 4px;\n",
              "    }\n",
              "\n",
              "    [theme=dark] .colab-df-convert {\n",
              "      background-color: #3B4455;\n",
              "      fill: #D2E3FC;\n",
              "    }\n",
              "\n",
              "    [theme=dark] .colab-df-convert:hover {\n",
              "      background-color: #434B5C;\n",
              "      box-shadow: 0px 1px 3px 1px rgba(0, 0, 0, 0.15);\n",
              "      filter: drop-shadow(0px 1px 2px rgba(0, 0, 0, 0.3));\n",
              "      fill: #FFFFFF;\n",
              "    }\n",
              "  </style>\n",
              "\n",
              "    <script>\n",
              "      const buttonEl =\n",
              "        document.querySelector('#df-c76e7914-beed-460a-be0f-dd5ecedc7db0 button.colab-df-convert');\n",
              "      buttonEl.style.display =\n",
              "        google.colab.kernel.accessAllowed ? 'block' : 'none';\n",
              "\n",
              "      async function convertToInteractive(key) {\n",
              "        const element = document.querySelector('#df-c76e7914-beed-460a-be0f-dd5ecedc7db0');\n",
              "        const dataTable =\n",
              "          await google.colab.kernel.invokeFunction('convertToInteractive',\n",
              "                                                    [key], {});\n",
              "        if (!dataTable) return;\n",
              "\n",
              "        const docLinkHtml = 'Like what you see? Visit the ' +\n",
              "          '<a target=\"_blank\" href=https://colab.research.google.com/notebooks/data_table.ipynb>data table notebook</a>'\n",
              "          + ' to learn more about interactive tables.';\n",
              "        element.innerHTML = '';\n",
              "        dataTable['output_type'] = 'display_data';\n",
              "        await google.colab.output.renderOutput(dataTable, element);\n",
              "        const docLink = document.createElement('div');\n",
              "        docLink.innerHTML = docLinkHtml;\n",
              "        element.appendChild(docLink);\n",
              "      }\n",
              "    </script>\n",
              "  </div>\n",
              "\n",
              "\n",
              "<div id=\"df-5ebc3502-d7cb-4a96-8d44-ec726d0c8c60\">\n",
              "  <button class=\"colab-df-quickchart\" onclick=\"quickchart('df-5ebc3502-d7cb-4a96-8d44-ec726d0c8c60')\"\n",
              "            title=\"Suggest charts\"\n",
              "            style=\"display:none;\">\n",
              "\n",
              "<svg xmlns=\"http://www.w3.org/2000/svg\" height=\"24px\"viewBox=\"0 0 24 24\"\n",
              "     width=\"24px\">\n",
              "    <g>\n",
              "        <path d=\"M19 3H5c-1.1 0-2 .9-2 2v14c0 1.1.9 2 2 2h14c1.1 0 2-.9 2-2V5c0-1.1-.9-2-2-2zM9 17H7v-7h2v7zm4 0h-2V7h2v10zm4 0h-2v-4h2v4z\"/>\n",
              "    </g>\n",
              "</svg>\n",
              "  </button>\n",
              "\n",
              "<style>\n",
              "  .colab-df-quickchart {\n",
              "      --bg-color: #E8F0FE;\n",
              "      --fill-color: #1967D2;\n",
              "      --hover-bg-color: #E2EBFA;\n",
              "      --hover-fill-color: #174EA6;\n",
              "      --disabled-fill-color: #AAA;\n",
              "      --disabled-bg-color: #DDD;\n",
              "  }\n",
              "\n",
              "  [theme=dark] .colab-df-quickchart {\n",
              "      --bg-color: #3B4455;\n",
              "      --fill-color: #D2E3FC;\n",
              "      --hover-bg-color: #434B5C;\n",
              "      --hover-fill-color: #FFFFFF;\n",
              "      --disabled-bg-color: #3B4455;\n",
              "      --disabled-fill-color: #666;\n",
              "  }\n",
              "\n",
              "  .colab-df-quickchart {\n",
              "    background-color: var(--bg-color);\n",
              "    border: none;\n",
              "    border-radius: 50%;\n",
              "    cursor: pointer;\n",
              "    display: none;\n",
              "    fill: var(--fill-color);\n",
              "    height: 32px;\n",
              "    padding: 0;\n",
              "    width: 32px;\n",
              "  }\n",
              "\n",
              "  .colab-df-quickchart:hover {\n",
              "    background-color: var(--hover-bg-color);\n",
              "    box-shadow: 0 1px 2px rgba(60, 64, 67, 0.3), 0 1px 3px 1px rgba(60, 64, 67, 0.15);\n",
              "    fill: var(--button-hover-fill-color);\n",
              "  }\n",
              "\n",
              "  .colab-df-quickchart-complete:disabled,\n",
              "  .colab-df-quickchart-complete:disabled:hover {\n",
              "    background-color: var(--disabled-bg-color);\n",
              "    fill: var(--disabled-fill-color);\n",
              "    box-shadow: none;\n",
              "  }\n",
              "\n",
              "  .colab-df-spinner {\n",
              "    border: 2px solid var(--fill-color);\n",
              "    border-color: transparent;\n",
              "    border-bottom-color: var(--fill-color);\n",
              "    animation:\n",
              "      spin 1s steps(1) infinite;\n",
              "  }\n",
              "\n",
              "  @keyframes spin {\n",
              "    0% {\n",
              "      border-color: transparent;\n",
              "      border-bottom-color: var(--fill-color);\n",
              "      border-left-color: var(--fill-color);\n",
              "    }\n",
              "    20% {\n",
              "      border-color: transparent;\n",
              "      border-left-color: var(--fill-color);\n",
              "      border-top-color: var(--fill-color);\n",
              "    }\n",
              "    30% {\n",
              "      border-color: transparent;\n",
              "      border-left-color: var(--fill-color);\n",
              "      border-top-color: var(--fill-color);\n",
              "      border-right-color: var(--fill-color);\n",
              "    }\n",
              "    40% {\n",
              "      border-color: transparent;\n",
              "      border-right-color: var(--fill-color);\n",
              "      border-top-color: var(--fill-color);\n",
              "    }\n",
              "    60% {\n",
              "      border-color: transparent;\n",
              "      border-right-color: var(--fill-color);\n",
              "    }\n",
              "    80% {\n",
              "      border-color: transparent;\n",
              "      border-right-color: var(--fill-color);\n",
              "      border-bottom-color: var(--fill-color);\n",
              "    }\n",
              "    90% {\n",
              "      border-color: transparent;\n",
              "      border-bottom-color: var(--fill-color);\n",
              "    }\n",
              "  }\n",
              "</style>\n",
              "\n",
              "  <script>\n",
              "    async function quickchart(key) {\n",
              "      const quickchartButtonEl =\n",
              "        document.querySelector('#' + key + ' button');\n",
              "      quickchartButtonEl.disabled = true;  // To prevent multiple clicks.\n",
              "      quickchartButtonEl.classList.add('colab-df-spinner');\n",
              "      try {\n",
              "        const charts = await google.colab.kernel.invokeFunction(\n",
              "            'suggestCharts', [key], {});\n",
              "      } catch (error) {\n",
              "        console.error('Error during call to suggestCharts:', error);\n",
              "      }\n",
              "      quickchartButtonEl.classList.remove('colab-df-spinner');\n",
              "      quickchartButtonEl.classList.add('colab-df-quickchart-complete');\n",
              "    }\n",
              "    (() => {\n",
              "      let quickchartButtonEl =\n",
              "        document.querySelector('#df-5ebc3502-d7cb-4a96-8d44-ec726d0c8c60 button');\n",
              "      quickchartButtonEl.style.display =\n",
              "        google.colab.kernel.accessAllowed ? 'block' : 'none';\n",
              "    })();\n",
              "  </script>\n",
              "</div>\n",
              "    </div>\n",
              "  </div>\n"
            ],
            "application/vnd.google.colaboratory.intrinsic+json": {
              "type": "dataframe",
              "summary": "{\n  \"name\": \"                  ShuffleSplit(n_splits=5, random_state = 42))\",\n  \"rows\": 5,\n  \"fields\": [\n    {\n      \"column\": \"fit_time\",\n      \"properties\": {\n        \"dtype\": \"number\",\n        \"std\": 0.48105774452290423,\n        \"min\": 10.69895601272583,\n        \"max\": 11.8280930519104,\n        \"num_unique_values\": 5,\n        \"samples\": [\n          10.69895601272583,\n          11.814038276672363,\n          11.8280930519104\n        ],\n        \"semantic_type\": \"\",\n        \"description\": \"\"\n      }\n    },\n    {\n      \"column\": \"score_time\",\n      \"properties\": {\n        \"dtype\": \"number\",\n        \"std\": 0.007091209705147056,\n        \"min\": 0.010358572006225586,\n        \"max\": 0.024943113327026367,\n        \"num_unique_values\": 5,\n        \"samples\": [\n          0.024943113327026367,\n          0.010358572006225586,\n          0.010386943817138672\n        ],\n        \"semantic_type\": \"\",\n        \"description\": \"\"\n      }\n    },\n    {\n      \"column\": \"test_R2\",\n      \"properties\": {\n        \"dtype\": \"number\",\n        \"std\": 0.008903426894898068,\n        \"min\": 0.8243182309176544,\n        \"max\": 0.8444286526165853,\n        \"num_unique_values\": 5,\n        \"samples\": [\n          0.8444286526165853,\n          0.8243182309176544,\n          0.8262994061177624\n        ],\n        \"semantic_type\": \"\",\n        \"description\": \"\"\n      }\n    },\n    {\n      \"column\": \"test_-MSE\",\n      \"properties\": {\n        \"dtype\": \"number\",\n        \"std\": 468186.1409588797,\n        \"min\": -10663908.906884387,\n        \"max\": -9390345.501668189,\n        \"num_unique_values\": 5,\n        \"samples\": [\n          -10058673.870978748,\n          -10288727.330303296,\n          -10663908.906884387\n        ],\n        \"semantic_type\": \"\",\n        \"description\": \"\"\n      }\n    },\n    {\n      \"column\": \"test_-MAE\",\n      \"properties\": {\n        \"dtype\": \"number\",\n        \"std\": 26.774450677808105,\n        \"min\": -1841.5845871248907,\n        \"max\": -1777.1335932540821,\n        \"num_unique_values\": 5,\n        \"samples\": [\n          -1781.477777992525,\n          -1781.033373193453,\n          -1794.4317970283603\n        ],\n        \"semantic_type\": \"\",\n        \"description\": \"\"\n      }\n    },\n    {\n      \"column\": \"test_-Max\",\n      \"properties\": {\n        \"dtype\": \"number\",\n        \"std\": 8154.348323838613,\n        \"min\": -39889.43547905089,\n        \"max\": -21690.035553421014,\n        \"num_unique_values\": 5,\n        \"samples\": [\n          -38545.87428252932,\n          -39889.43547905089,\n          -39750.76866522471\n        ],\n        \"semantic_type\": \"\",\n        \"description\": \"\"\n      }\n    }\n  ]\n}"
            }
          },
          "metadata": {}
        },
        {
          "output_type": "stream",
          "name": "stdout",
          "text": [
            "\n",
            "\n",
            "test_R2      8.339690e-01\n",
            "test_-MSE   -1.007053e+07\n",
            "test_-MAE   -1.795132e+03\n",
            "test_-Max   -3.374893e+04\n",
            "dtype: float64\n"
          ]
        }
      ]
    },
    {
      "cell_type": "markdown",
      "source": [
        "## Визуализация ошибок от scikit-learn"
      ],
      "metadata": {
        "id": "prNHGCfzWgGa"
      }
    },
    {
      "cell_type": "code",
      "source": [
        "PredictionErrorDisplay.from_predictions(\n",
        "    y_val,\n",
        "    model_reg.predict(eval_data_reg),\n",
        "    kind=\"actual_vs_predicted\",\n",
        "    scatter_kwargs={\"alpha\": 0.5},\n",
        "        line_kwargs = {\"color\" : 'white'}\n",
        "\n",
        ");"
      ],
      "metadata": {
        "colab": {
          "base_uri": "https://localhost:8080/",
          "height": 449
        },
        "id": "PVgykHnVW7LD",
        "outputId": "d15ef9e7-385b-4deb-8a4a-f8a903145ccb"
      },
      "execution_count": null,
      "outputs": [
        {
          "output_type": "display_data",
          "data": {
            "text/plain": [
              "<Figure size 640x480 with 1 Axes>"
            ],
            "image/png": "[encoded data removed]"
          },
          "metadata": {}
        }
      ]
    },
    {
      "cell_type": "markdown",
      "source": [
        "Небольшие выводы\n",
        "\n",
        "* Модель регрессии от CatBoost уверенно превосходит всё, что было раньше, за исключением бустинга от sklearn\n",
        "\n",
        "* Анализ значимости признаков говорит о том, что CatBoost предпочитает числовые признаки\n",
        "\n"
      ],
      "metadata": {
        "id": "C1VOH5cJLbmn"
      }
    },
    {
      "cell_type": "markdown",
      "source": [
        "# Дополнительная информация"
      ],
      "metadata": {
        "id": "YD0bn-uYKbrQ"
      }
    },
    {
      "cell_type": "markdown",
      "source": [
        "## Полезность объектов"
      ],
      "metadata": {
        "id": "P6M8Ee0FN1Rd"
      }
    },
    {
      "cell_type": "markdown",
      "source": [
        "Есть возможность смотреть на проблемные объекты\n",
        "\n",
        "`get_object_importance` - позволяет оценить влияние каждого элемента обучающей выборки на значение целевой метрики (`eval_metric`). В теории с помощью этого метода можно найти и избавиться от выбросов, шума и прочего.\n",
        "\n",
        "Однако стоит предупредить что эта процедура может занимать продолжительное время"
      ],
      "metadata": {
        "id": "49Zv6HilKOrm"
      }
    },
    {
      "cell_type": "code",
      "execution_count": null,
      "metadata": {
        "id": "Pz_j2112ETls",
        "colab": {
          "base_uri": "https://localhost:8080/"
        },
        "outputId": "dcd73185-24e6-4550-e1b6-acefc3f532fe"
      },
      "outputs": [
        {
          "output_type": "execute_result",
          "data": {
            "text/plain": [
              "2196"
            ]
          },
          "metadata": {},
          "execution_count": 25
        }
      ],
      "source": [
        "# метод возвращает отсортированные списки индексов и скоров\n",
        "idxs, scores = model_reg.get_object_importance(\n",
        "    train_data_reg, eval_data_reg ,\n",
        "    importance_values_sign=\"Positive\"\n",
        ")\n",
        "len(idxs)"
      ]
    },
    {
      "cell_type": "code",
      "execution_count": null,
      "metadata": {
        "id": "I3KpFXV1ETls",
        "colab": {
          "base_uri": "https://localhost:8080/"
        },
        "outputId": "7da70acc-3bea-4104-9fba-a7509ebedb9a"
      },
      "outputs": [
        {
          "output_type": "stream",
          "name": "stdout",
          "text": [
            "0:\tlearn: 5223.9883731\ttest: 5314.9998310\tbest: 5314.9998310 (0)\ttotal: 17.9ms\tremaining: 17.9s\n",
            "100:\tlearn: 2432.0236742\ttest: 2490.0629998\tbest: 2490.0629998 (100)\ttotal: 1.28s\tremaining: 11.4s\n",
            "200:\tlearn: 2134.6724560\ttest: 2166.4571371\tbest: 2166.4571371 (200)\ttotal: 2.55s\tremaining: 10.1s\n",
            "300:\tlearn: 2030.5825884\ttest: 2055.8407620\tbest: 2055.8407620 (300)\ttotal: 3.75s\tremaining: 8.71s\n",
            "400:\tlearn: 1967.1163254\ttest: 1990.0521760\tbest: 1990.0521760 (400)\ttotal: 5.02s\tremaining: 7.49s\n",
            "500:\tlearn: 1924.5642256\ttest: 1947.1455792\tbest: 1947.1455792 (500)\ttotal: 6.19s\tremaining: 6.17s\n",
            "600:\tlearn: 1890.3901918\ttest: 1913.5833131\tbest: 1913.5833131 (600)\ttotal: 7.41s\tremaining: 4.92s\n",
            "700:\tlearn: 1863.0975597\ttest: 1887.1544174\tbest: 1887.1544174 (700)\ttotal: 9.08s\tremaining: 3.87s\n",
            "800:\tlearn: 1841.6665100\ttest: 1869.6011490\tbest: 1869.6011490 (800)\ttotal: 11.4s\tremaining: 2.82s\n",
            "900:\tlearn: 1821.2509939\ttest: 1852.9105368\tbest: 1852.9105368 (900)\ttotal: 12.6s\tremaining: 1.39s\n",
            "999:\tlearn: 1805.9274254\ttest: 1841.0934513\tbest: 1841.0934513 (999)\ttotal: 13.8s\tremaining: 0us\n",
            "\n",
            "bestTest = 1841.093451\n",
            "bestIteration = 999\n",
            "\n"
          ]
        },
        {
          "output_type": "execute_result",
          "data": {
            "text/plain": [
              "<catboost.core.CatBoostRegressor at 0x7ddc58daf310>"
            ]
          },
          "metadata": {},
          "execution_count": 26
        }
      ],
      "source": [
        "# Попробуем отбросить топ-100 найденных и посмотрим как изменится точность\n",
        "train_pool = Pool(\n",
        "    X_train.reset_index(drop=True).drop(idxs[:100]),\n",
        "    y_train.reset_index(drop=True).drop(idxs[:100]),\n",
        "    cat_features=cat_columns,\n",
        ")\n",
        "\n",
        "model_clean =  CatBoostRegressor(iterations = 1000,\n",
        "                           early_stopping_rounds=100,\n",
        "                           verbose = 100,\n",
        "                           cat_features = cat_columns,\n",
        "                           depth = 3,\n",
        "                              objective  = 'MAE',\n",
        "                           eval_metric= 'MAE',\n",
        "                              random_state = 42\n",
        "                           )\n",
        "\n",
        "model_clean.fit(\n",
        "    train_pool,\n",
        "    eval_set=eval_data_reg,\n",
        "    verbose=100,\n",
        "    use_best_model=True,\n",
        "    plot=False,\n",
        "    early_stopping_rounds=100,\n",
        ")"
      ]
    },
    {
      "cell_type": "code",
      "source": [
        "print(f\"r2 на тренировочной выборке: {calculate_metric(model_clean, train_data_reg, y_train):.4f}\")\n",
        "print(f\"r2 на валидационной выборке: {calculate_metric(model_clean, eval_data_reg, y_val):.4f}\")\n",
        "\n",
        "print(f\"mse на тренировочной выборке: {calculate_metric(model_clean, train_data_reg, y_train, mse):.4f}\")\n",
        "print(f\"mse на валидационной выборке: {calculate_metric(model_clean, eval_data_reg, y_val, mse):.4f}\")"
      ],
      "metadata": {
        "colab": {
          "base_uri": "https://localhost:8080/"
        },
        "id": "U8blWB2nMOgX",
        "outputId": "475f1110-7a66-4f7c-aebb-40f566f9f4c3"
      },
      "execution_count": null,
      "outputs": [
        {
          "output_type": "stream",
          "name": "stdout",
          "text": [
            "r2 на тренировочной выборке: 0.8315\n",
            "r2 на валидационной выборке: 0.8329\n",
            "mse на тренировочной выборке: 10246172.4290\n",
            "mse на валидационной выборке: 10518667.4957\n"
          ]
        }
      ]
    },
    {
      "cell_type": "markdown",
      "source": [
        "## Оптимизация гиперпараметров"
      ],
      "metadata": {
        "id": "9UbS91vHN4cM"
      }
    },
    {
      "cell_type": "markdown",
      "source": [
        "Есть даже внутренняя оптимизация гиперпараметров, которая работает быстрее чем от sklearn (поскольку писалась под конкретный алгоритм обучения авторами)"
      ],
      "metadata": {
        "id": "lQGzeFPcJbCp"
      }
    },
    {
      "cell_type": "code",
      "execution_count": null,
      "metadata": {
        "id": "67PILACdETlt",
        "colab": {
          "base_uri": "https://localhost:8080/"
        },
        "outputId": "7fed7f70-61bc-4b01-d96e-17a4abebbe18"
      },
      "outputs": [
        {
          "output_type": "stream",
          "name": "stdout",
          "text": [
            "0:\tlearn: 11589.5365513\ttest: 11520.2731681\tbest: 11520.2731681 (0)\ttotal: 7.84ms\tremaining: 7.83s\n",
            "500:\tlearn: 3469.0953167\ttest: 3440.8603255\tbest: 3440.8603255 (500)\ttotal: 2.43s\tremaining: 2.42s\n",
            "999:\tlearn: 3319.0495188\ttest: 3335.8214929\tbest: 3335.8158718 (998)\ttotal: 4.75s\tremaining: 0us\n",
            "\n",
            "bestTest = 3335.815872\n",
            "bestIteration = 998\n",
            "\n",
            "0:\tloss: 3335.8158718\tbest: 3335.8158718 (0)\ttotal: 4.81s\tremaining: 43.3s\n",
            "0:\tlearn: 11614.4721657\ttest: 11544.8329321\tbest: 11544.8329321 (0)\ttotal: 4.4ms\tremaining: 4.4s\n",
            "500:\tlearn: 4345.5334270\ttest: 4284.0742547\tbest: 4284.0742547 (500)\ttotal: 1.5s\tremaining: 1.5s\n",
            "999:\tlearn: 4272.3470593\ttest: 4209.6603528\tbest: 4209.6486751 (998)\ttotal: 3.66s\tremaining: 0us\n",
            "\n",
            "bestTest = 4209.648675\n",
            "bestIteration = 998\n",
            "\n",
            "1:\tloss: 4209.6486751\tbest: 3335.8158718 (0)\ttotal: 8.5s\tremaining: 34s\n",
            "0:\tlearn: 11668.1987089\ttest: 11595.5505197\tbest: 11595.5505197 (0)\ttotal: 4.3ms\tremaining: 4.3s\n",
            "500:\tlearn: 7803.9463339\ttest: 7774.0467552\tbest: 7773.7264692 (158)\ttotal: 2.17s\tremaining: 2.16s\n",
            "999:\tlearn: 7803.9463339\ttest: 7774.0467744\tbest: 7773.7264692 (158)\ttotal: 3.17s\tremaining: 0us\n",
            "\n",
            "bestTest = 7773.726469\n",
            "bestIteration = 158\n",
            "\n",
            "2:\tloss: 7773.7264692\tbest: 3335.8158718 (0)\ttotal: 11.7s\tremaining: 27.3s\n",
            "0:\tlearn: 10918.0762891\ttest: 10848.6896957\tbest: 10848.6896957 (0)\ttotal: 10.4ms\tremaining: 10.4s\n",
            "500:\tlearn: 2970.7925240\ttest: 3131.8739058\tbest: 3131.8739058 (500)\ttotal: 3.91s\tremaining: 3.9s\n",
            "999:\tlearn: 2824.5747614\ttest: 3070.7059713\tbest: 3070.7059713 (999)\ttotal: 7.85s\tremaining: 0us\n",
            "\n",
            "bestTest = 3070.705971\n",
            "bestIteration = 999\n",
            "\n",
            "3:\tloss: 3070.7059713\tbest: 3070.7059713 (3)\ttotal: 19.6s\tremaining: 29.4s\n",
            "0:\tlearn: 11614.5867440\ttest: 11544.9453622\tbest: 11544.9453622 (0)\ttotal: 4.16ms\tremaining: 4.16s\n",
            "500:\tlearn: 4347.4222571\ttest: 4287.5273787\tbest: 4287.5273787 (500)\ttotal: 1.9s\tremaining: 1.89s\n",
            "999:\tlearn: 4273.6717964\ttest: 4211.1009676\tbest: 4211.1009676 (999)\ttotal: 4.63s\tremaining: 0us\n",
            "\n",
            "bestTest = 4211.100968\n",
            "bestIteration = 999\n",
            "\n",
            "4:\tloss: 4211.1009676\tbest: 3070.7059713 (3)\ttotal: 24.2s\tremaining: 24.2s\n",
            "0:\tlearn: 10899.0561572\ttest: 10829.5525786\tbest: 10829.5525786 (0)\ttotal: 13.4ms\tremaining: 13.4s\n",
            "500:\tlearn: 2855.1704766\ttest: 3057.5739527\tbest: 3057.4967884 (498)\ttotal: 5.3s\tremaining: 5.28s\n",
            "999:\tlearn: 2679.5531170\ttest: 3000.7115785\tbest: 3000.6525697 (992)\ttotal: 11.9s\tremaining: 0us\n",
            "\n",
            "bestTest = 3000.65257\n",
            "bestIteration = 992\n",
            "\n",
            "5:\tloss: 3000.6525697\tbest: 3000.6525697 (5)\ttotal: 36.2s\tremaining: 24.1s\n",
            "0:\tlearn: 10920.3908692\ttest: 10851.1822848\tbest: 10851.1822848 (0)\ttotal: 20.1ms\tremaining: 20.1s\n",
            "500:\tlearn: 2996.6645932\ttest: 3135.6533470\tbest: 3135.6302193 (498)\ttotal: 4.49s\tremaining: 4.47s\n",
            "999:\tlearn: 2854.7260690\ttest: 3073.5960287\tbest: 3073.5960287 (999)\ttotal: 8.45s\tremaining: 0us\n",
            "\n",
            "bestTest = 3073.596029\n",
            "bestIteration = 999\n",
            "\n",
            "6:\tloss: 3073.5960287\tbest: 3000.6525697 (5)\ttotal: 44.6s\tremaining: 19.1s\n",
            "0:\tlearn: 10946.0866275\ttest: 10885.4306452\tbest: 10885.4306452 (0)\ttotal: 6.93ms\tremaining: 6.92s\n",
            "500:\tlearn: 3244.6045907\ttest: 3289.9708876\tbest: 3289.8496743 (499)\ttotal: 2.46s\tremaining: 2.46s\n",
            "999:\tlearn: 3121.5147474\ttest: 3223.9972520\tbest: 3223.9972520 (999)\ttotal: 6.67s\tremaining: 0us\n",
            "\n",
            "bestTest = 3223.997252\n",
            "bestIteration = 999\n",
            "\n",
            "7:\tloss: 3223.9972520\tbest: 3000.6525697 (5)\ttotal: 51.3s\tremaining: 12.8s\n",
            "0:\tlearn: 9183.8531127\ttest: 9146.3062758\tbest: 9146.3062758 (0)\ttotal: 7.08ms\tremaining: 7.08s\n",
            "500:\tlearn: 3044.3105789\ttest: 3189.5377199\tbest: 3188.4966778 (499)\ttotal: 2.67s\tremaining: 2.67s\n",
            "999:\tlearn: 2930.2772625\ttest: 3131.9836971\tbest: 3131.7175358 (997)\ttotal: 5.36s\tremaining: 0us\n",
            "\n",
            "bestTest = 3131.717536\n",
            "bestIteration = 997\n",
            "\n",
            "8:\tloss: 3131.7175358\tbest: 3000.6525697 (5)\ttotal: 56.7s\tremaining: 6.3s\n",
            "0:\tlearn: 9450.6067688\ttest: 9407.2046848\tbest: 9407.2046848 (0)\ttotal: 4.2ms\tremaining: 4.2s\n",
            "500:\tlearn: 4158.1332466\ttest: 4112.7434463\tbest: 4112.6182802 (497)\ttotal: 1.45s\tremaining: 1.45s\n",
            "999:\tlearn: 4119.4483355\ttest: 4081.9320344\tbest: 4081.9320344 (999)\ttotal: 2.96s\tremaining: 0us\n",
            "\n",
            "bestTest = 4081.932034\n",
            "bestIteration = 999\n",
            "\n",
            "9:\tloss: 4081.9320344\tbest: 3000.6525697 (5)\ttotal: 59.7s\tremaining: 0us\n",
            "Estimating final quality...\n",
            "Training on fold [0/3]\n",
            "0:\tlearn: 10913.6611529\ttest: 10841.1233524\tbest: 10841.1233524 (0)\ttotal: 13.4ms\tremaining: 13.4s\n",
            "500:\tlearn: 2847.0530922\ttest: 3057.2624001\tbest: 3057.2624001 (500)\ttotal: 6.57s\tremaining: 6.54s\n",
            "999:\tlearn: 2695.4964590\ttest: 3017.5481586\tbest: 3017.3480368 (997)\ttotal: 11.8s\tremaining: 0us\n",
            "\n",
            "bestTest = 3017.348037\n",
            "bestIteration = 997\n",
            "\n",
            "Training on fold [1/3]\n",
            "0:\tlearn: 10816.8309354\ttest: 11043.6038233\tbest: 11043.6038233 (0)\ttotal: 13ms\tremaining: 13s\n",
            "500:\tlearn: 2832.7342958\ttest: 3046.7373566\tbest: 3046.7373566 (500)\ttotal: 6.51s\tremaining: 6.49s\n",
            "999:\tlearn: 2644.4140639\ttest: 3006.1594238\tbest: 3006.1594238 (999)\ttotal: 11.8s\tremaining: 0us\n",
            "\n",
            "bestTest = 3006.159424\n",
            "bestIteration = 999\n",
            "\n",
            "Training on fold [2/3]\n",
            "0:\tlearn: 10945.7328815\ttest: 10790.7608528\tbest: 10790.7608528 (0)\ttotal: 13.4ms\tremaining: 13.4s\n",
            "500:\tlearn: 2835.0629450\ttest: 3017.6683909\tbest: 3017.1476970 (484)\ttotal: 5.7s\tremaining: 5.68s\n",
            "999:\tlearn: 2664.9762434\ttest: 2969.8189677\tbest: 2969.8189677 (999)\ttotal: 11.7s\tremaining: 0us\n",
            "\n",
            "bestTest = 2969.818968\n",
            "bestIteration = 999\n",
            "\n"
          ]
        },
        {
          "output_type": "execute_result",
          "data": {
            "text/plain": [
              "{'learn': {'RMSE': 2716.0056409649073}}"
            ]
          },
          "metadata": {},
          "execution_count": 28
        }
      ],
      "source": [
        "from scipy import stats\n",
        "\n",
        "model = CatBoostRegressor(\n",
        "    random_seed=42,\n",
        "    thread_count=-1,\n",
        "    cat_features=cat_columns,\n",
        "    eval_metric=\"RMSE\",\n",
        "    verbose=500,\n",
        ")\n",
        "\n",
        "param_distribution = {\n",
        "    \"one_hot_max_size\": stats.bernoulli(p=0.2, loc=2),\n",
        "    \"learning_rate\": [0.03, 0.1, 0.3],\n",
        "    \"l2_leaf_reg\": [2, 5, 7],\n",
        "    \"depth\": stats.binom(n=10, p=0.2),\n",
        "}\n",
        "randomized_search_result = model.randomized_search(param_distribution, X_train, y_train)\n",
        "model.best_score_"
      ]
    },
    {
      "cell_type": "code",
      "execution_count": null,
      "metadata": {
        "id": "5ReZM6b4ETlt",
        "colab": {
          "base_uri": "https://localhost:8080/"
        },
        "outputId": "a9e349b0-e5a3-4da3-af2c-398f44de2f59"
      },
      "outputs": [
        {
          "output_type": "execute_result",
          "data": {
            "text/plain": [
              "{'depth': 4, 'one_hot_max_size': 2, 'learning_rate': 0.1, 'l2_leaf_reg': 5}"
            ]
          },
          "metadata": {},
          "execution_count": 29
        }
      ],
      "source": [
        "# Лучшие параметры модели из перебора\n",
        "randomized_search_result[\"params\"]"
      ]
    },
    {
      "cell_type": "markdown",
      "source": [
        "В ходе оптимизации метрики модели улучшились - и стали сопоставимыми с градиентным бустингом от sklearn"
      ],
      "metadata": {
        "id": "dTaTmsfONC2v"
      }
    },
    {
      "cell_type": "code",
      "source": [
        "print(f\"r2 на тренировочной выборке: {calculate_metric(model, train_data_reg, y_train):.4f}\")\n",
        "print(f\"r2 на валидационной выборке: {calculate_metric(model, eval_data_reg, y_val):.4f}\")\n",
        "\n",
        "print(f\"mse на тренировочной выборке: {calculate_metric(model, train_data_reg, y_train, mse):.4f}\")\n",
        "print(f\"mse на валидационной выборке: {calculate_metric(model, eval_data_reg, y_val, mse):.4f}\")"
      ],
      "metadata": {
        "colab": {
          "base_uri": "https://localhost:8080/"
        },
        "id": "yVmPtb5kKvXa",
        "outputId": "4e325de6-7189-4c28-829b-48c2c8201889"
      },
      "execution_count": null,
      "outputs": [
        {
          "output_type": "stream",
          "name": "stdout",
          "text": [
            "r2 на тренировочной выборке: 0.8796\n",
            "r2 на валидационной выборке: 0.8626\n",
            "mse на тренировочной выборке: 7320894.1133\n",
            "mse на валидационной выборке: 8648385.2542\n"
          ]
        }
      ]
    },
    {
      "cell_type": "code",
      "source": [
        "PredictionErrorDisplay.from_predictions(\n",
        "    y_val,\n",
        "    model.predict(eval_data_reg),\n",
        "    kind=\"actual_vs_predicted\",\n",
        "    scatter_kwargs={\"alpha\": 0.5},\n",
        "        line_kwargs = {\"color\" : 'white'}\n",
        "\n",
        ");"
      ],
      "metadata": {
        "colab": {
          "base_uri": "https://localhost:8080/",
          "height": 449
        },
        "id": "iywhBMg_aMKw",
        "outputId": "78d2d18e-73d2-4c44-c480-cef70ca6e3d1"
      },
      "execution_count": null,
      "outputs": [
        {
          "output_type": "display_data",
          "data": {
            "text/plain": [
              "<Figure size 640x480 with 1 Axes>"
            ],
            "image/png": "[encoded data removed]"
          },
          "metadata": {}
        }
      ]
    },
    {
      "cell_type": "markdown",
      "source": [
        "# Сохранение / Загрузка"
      ],
      "metadata": {
        "id": "-i5rN4hsZ7hI"
      }
    },
    {
      "cell_type": "code",
      "source": [
        "# сохранение модели\n",
        "model.save_model(\"catboost_model.cbm\", format=\"cbm\")  # есть свой формат данных"
      ],
      "metadata": {
        "id": "SehX82ROZ-FT"
      },
      "execution_count": null,
      "outputs": []
    },
    {
      "cell_type": "code",
      "source": [
        "# Загрузка модели\n",
        "new_model = CatBoostRegressor()\n",
        "new_model.load_model(\"catboost_model.cbm\")"
      ],
      "metadata": {
        "colab": {
          "base_uri": "https://localhost:8080/"
        },
        "id": "RWmi2COoaRM4",
        "outputId": "a70137d8-615f-41cf-b186-816e06a92cdc"
      },
      "execution_count": null,
      "outputs": [
        {
          "output_type": "execute_result",
          "data": {
            "text/plain": [
              "<catboost.core.CatBoostRegressor at 0x7ddc58e04790>"
            ]
          },
          "metadata": {},
          "execution_count": 33
        }
      ]
    },
    {
      "cell_type": "code",
      "source": [
        "print(f\"r2 на тренировочной выборке: {calculate_metric(new_model, train_data_reg, y_train):.4f}\")\n",
        "print(f\"r2 на валидационной выборке: {calculate_metric(new_model, eval_data_reg, y_val):.4f}\")\n",
        "\n",
        "print(f\"mse на тренировочной выборке: {calculate_metric(new_model, train_data_reg, y_train, mse):.4f}\")\n",
        "print(f\"mse на валидационной выборке: {calculate_metric(new_model, eval_data_reg, y_val, mse):.4f}\")"
      ],
      "metadata": {
        "colab": {
          "base_uri": "https://localhost:8080/"
        },
        "id": "KiWl0Xhlaa-A",
        "outputId": "02a41cff-c369-4ec7-a978-e2cbf5ef51bd"
      },
      "execution_count": null,
      "outputs": [
        {
          "output_type": "stream",
          "name": "stdout",
          "text": [
            "r2 на тренировочной выборке: 0.8796\n",
            "r2 на валидационной выборке: 0.8626\n",
            "mse на тренировочной выборке: 7320894.1133\n",
            "mse на валидационной выборке: 8648385.2542\n"
          ]
        }
      ]
    }
  ]
}